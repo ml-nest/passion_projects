{
 "metadata": {
  "language_info": {
   "codemirror_mode": {
    "name": "ipython",
    "version": 3
   },
   "file_extension": ".py",
   "mimetype": "text/x-python",
   "name": "python",
   "nbconvert_exporter": "python",
   "pygments_lexer": "ipython3",
   "version": "3.8.5"
  },
  "orig_nbformat": 2,
  "kernelspec": {
   "name": "python385jvsc74a57bd026bed9b6b40c89070cacf018afe165380a4c4bee4c13988335a6f7e922aa200e",
   "display_name": "Python 3.8.5 32-bit"
  }
 },
 "nbformat": 4,
 "nbformat_minor": 2,
 "cells": [
  {
   "cell_type": "code",
   "execution_count": 1,
   "metadata": {},
   "outputs": [
    {
     "output_type": "stream",
     "name": "stderr",
     "text": [
      "2021-05-17 23:24:32,780 - INFO - Instabot version: 0.117.0 Started\n",
      "2021-05-17 23:24:32,783 - INFO - Not yet logged in starting: PRE-LOGIN FLOW!\n",
      "2021-05-17 23:24:36,138 - INFO - Logged-in successfully as 'irrational__human'!\n",
      "2021-05-17 23:24:36,138 - INFO - LOGIN FLOW! Just logged-in: True\n"
     ]
    },
    {
     "output_type": "execute_result",
     "data": {
      "text/plain": [
       "True"
      ]
     },
     "metadata": {},
     "execution_count": 1
    }
   ],
   "source": [
    "from instabot import Bot\n",
    "from time import sleep\n",
    "\n",
    "bot = Bot(filter_users=True, filter_private_users=True)\n",
    "\n",
    "# bot = Bot(follow_delay = 10, unfollow_delay = 10, max_follows_per_day = 10000, max_unfollows_per_day = 10000);\n",
    "\n",
    "bot.login(username = \"irrational__human\", password = \"01729417185274\")\n"
   ]
  },
  {
   "cell_type": "code",
   "execution_count": 2,
   "metadata": {},
   "outputs": [
    {
     "output_type": "stream",
     "name": "stderr",
     "text": [
      "Getting followings of 35766768950: 100%|█████████▉| 714/715 [00:00<00:00, 891.55it/s]\n"
     ]
    }
   ],
   "source": [
    "my_following = bot.get_user_following('irrational__human')"
   ]
  },
  {
   "cell_type": "code",
   "execution_count": 3,
   "metadata": {},
   "outputs": [
    {
     "output_type": "stream",
     "name": "stderr",
     "text": [
      "Getting followers of 44659126711: 100%|█████████▉| 733/735 [00:06<00:00, 115.06it/s]\n"
     ]
    }
   ],
   "source": [
    "accounts = [];\n",
    "# accounts.append(\"fakeparalta\"); #automate this part!\n",
    "accounts.append(\"darkremedi\")\n",
    "\n",
    "net_follower = []\n",
    "for acc in accounts:\n",
    "    followers = bot.get_user_followers(acc)\n",
    "    net_follower = net_follower + followers"
   ]
  },
  {
   "cell_type": "code",
   "execution_count": 4,
   "metadata": {},
   "outputs": [],
   "source": [
    "def unique(list1):\n",
    " \n",
    "    # intilize a null list\n",
    "    unique_list = []\n",
    "     \n",
    "    # traverse for all elements\n",
    "    for x in list1:\n",
    "        # check if exists in unique_list or not\n",
    "        if x not in unique_list:\n",
    "            unique_list.append(x)\n",
    "    return unique_list"
   ]
  },
  {
   "cell_type": "code",
   "execution_count": 5,
   "metadata": {},
   "outputs": [],
   "source": [
    "net_follower = unique(net_follower)"
   ]
  },
  {
   "cell_type": "code",
   "execution_count": 6,
   "metadata": {},
   "outputs": [],
   "source": [
    "tobe_followed = [x for x in net_follower if x not in my_following]"
   ]
  },
  {
   "cell_type": "code",
   "execution_count": 7,
   "metadata": {},
   "outputs": [
    {
     "output_type": "execute_result",
     "data": {
      "text/plain": [
       "478"
      ]
     },
     "metadata": {},
     "execution_count": 7
    }
   ],
   "source": [
    "len(tobe_followed)"
   ]
  },
  {
   "cell_type": "code",
   "execution_count": 8,
   "metadata": {},
   "outputs": [],
   "source": [
    "from IPython.display import clear_output\n",
    "print(1)\n",
    "clear_output()"
   ]
  },
  {
   "cell_type": "code",
   "execution_count": 9,
   "metadata": {},
   "outputs": [
    {
     "output_type": "stream",
     "name": "stdout",
     "text": [
      "150\n"
     ]
    }
   ],
   "source": [
    "username_list = []\n",
    "for follower in tobe_followed[:150]:\n",
    "    user_name = bot.get_username_from_user_id(follower)\n",
    "    username_list.append(user_name)\n",
    "    clear_output()\n",
    "    print(len(username_list))\n",
    "    \n"
   ]
  },
  {
   "cell_type": "code",
   "execution_count": 10,
   "metadata": {},
   "outputs": [],
   "source": [
    "import pandas as pd\n",
    "df = pd.DataFrame(username_list)\n",
    "df.to_csv('selenium/usernames.csv', index=False)"
   ]
  },
  {
   "cell_type": "code",
   "execution_count": null,
   "metadata": {},
   "outputs": [],
   "source": []
  }
 ]
}