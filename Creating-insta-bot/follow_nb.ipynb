{
 "cells": [
  {
   "cell_type": "code",
   "execution_count": 1,
   "metadata": {},
   "outputs": [],
   "source": [
    "# Importing packages\n",
    "from instabot import Bot\n",
    "from time import sleep\n",
    "import random\n",
    "import time\n",
    "import shutil\n",
    "import pickle\n",
    "\n",
    "from IPython.display import clear_output"
   ]
  },
  {
   "cell_type": "code",
   "execution_count": 2,
   "metadata": {},
   "outputs": [],
   "source": [
    "with open('skip_list.pkl', 'rb') as f:\n",
    "    skip_list = pickle.load(f)"
   ]
  },
  {
   "cell_type": "code",
   "execution_count": 3,
   "metadata": {},
   "outputs": [],
   "source": [
    "shutil.rmtree('config')\n",
    "\n",
    "bot = Bot(follow_delay = 20, filter_users=True, filter_private_users=True)\n",
    "bot.login(username = \"__shehzaadiiii__\", password = \"Bharat9417185274\")\n",
    "clear_output()"
   ]
  },
  {
   "cell_type": "code",
   "execution_count": 4,
   "metadata": {},
   "outputs": [],
   "source": [
    "def unique(list1):\n",
    " \n",
    "    # intilize a null list\n",
    "    unique_list = []\n",
    "     \n",
    "    # traverse for all elements\n",
    "    for x in list1:\n",
    "        # check if exists in unique_list or not\n",
    "        if x not in unique_list:\n",
    "            unique_list.append(x)\n",
    "    return unique_list"
   ]
  },
  {
   "cell_type": "code",
   "execution_count": 5,
   "metadata": {},
   "outputs": [
    {
     "name": "stderr",
     "output_type": "stream",
     "text": [
      "2022-01-31 20:07:18,514 - ERROR - Request returns 400 error!\n",
      "2022-01-31 20:07:18,515 - INFO - Instagram's error message: challenge_required\n",
      "2022-01-31 20:07:18,517 - INFO - Instagram's error message: {}\n",
      "2022-01-31 20:07:19,297 - ERROR - Request returns 400 error!\n",
      "2022-01-31 20:07:19,299 - INFO - Instagram's error message: challenge_required\n",
      "2022-01-31 20:07:19,300 - INFO - Instagram's error message: {}\n",
      "2022-01-31 20:07:19,654 - ERROR - Request returns 400 error!\n",
      "2022-01-31 20:07:19,654 - INFO - Instagram's error message: challenge_required\n",
      "2022-01-31 20:07:19,655 - INFO - Instagram's error message: {}\n",
      "2022-01-31 20:07:20,581 - ERROR - Request returns 400 error!\n",
      "2022-01-31 20:07:20,582 - INFO - Instagram's error message: challenge_required\n",
      "2022-01-31 20:07:20,584 - INFO - Instagram's error message: {}\n",
      "2022-01-31 20:07:20,952 - ERROR - Request returns 400 error!\n",
      "2022-01-31 20:07:20,953 - INFO - Instagram's error message: challenge_required\n",
      "2022-01-31 20:07:20,955 - INFO - Instagram's error message: {}\n",
      "2022-01-31 20:07:21,826 - ERROR - Request returns 400 error!\n",
      "2022-01-31 20:07:21,828 - INFO - Instagram's error message: challenge_required\n",
      "2022-01-31 20:07:21,831 - INFO - Instagram's error message: {}\n"
     ]
    },
    {
     "name": "stdout",
     "output_type": "stream",
     "text": [
      "people to be followed : 0\n"
     ]
    }
   ],
   "source": [
    "my_following = bot.get_user_following('__shehzaadiiii__')\n",
    "my_following = my_following + bot.get_user_followers('__shehzaadiiii__')\n",
    "my_following = my_following + skip_list\n",
    "\n",
    "accounts = []\n",
    "accounts.append(\"sarcasticsimran\")\n",
    "\n",
    "net_follower = []\n",
    "for acc in accounts:\n",
    "    followers = bot.get_user_followers(acc)\n",
    "    net_follower = net_follower + followers\n",
    "\n",
    "net_follower = unique(net_follower)\n",
    "tobe_followed = [x for x in net_follower if x not in my_following]\n",
    "print('people to be followed : '+ str(len(tobe_followed)))\n",
    "\n",
    "old_skipped = 0"
   ]
  },
  {
   "cell_type": "code",
   "execution_count": 9,
   "metadata": {},
   "outputs": [
    {
     "name": "stderr",
     "output_type": "stream",
     "text": [
      "2022-01-31 19:19:39,056 - INFO - Going to follow `user_id` 47807238965.\n",
      "2022-01-31 19:19:41,597 - INFO - Going to follow `user_id` 48496382025.\n"
     ]
    },
    {
     "name": "stdout",
     "output_type": "stream",
     "text": [
      "\n",
      "USER_NAME: single12344321_, FOLLOWER: 561, FOLLOWING: 2982\n",
      "\u001b[31m\n",
      "following_count > bot.max_following_to_follow, skipping!\u001b[0m\n",
      "\u001b[;1m\u001b[32mAdding '47807238965' to `c:\\Users\\Bharat Anand\\Downloads\\projects_repo\\passion_projects\\Creating-insta-bot/config/skipped.txt`.\u001b[0m\u001b[0m\n",
      "New following : 40\n"
     ]
    },
    {
     "name": "stderr",
     "output_type": "stream",
     "text": [
      "2022-01-31 19:19:45,229 - INFO - Going to follow `user_id` 45011972778.\n"
     ]
    },
    {
     "name": "stdout",
     "output_type": "stream",
     "text": [
      "\n",
      "USER_NAME: veeeuji, FOLLOWER: 9, FOLLOWING: 204\n",
      "\u001b[31m\n",
      "info: account is PRIVATE, skipping! \u001b[0m\n",
      "\u001b[;1m\u001b[32mAdding '48496382025' to `c:\\Users\\Bharat Anand\\Downloads\\projects_repo\\passion_projects\\Creating-insta-bot/config/skipped.txt`.\u001b[0m\u001b[0m\n",
      "New following : 40\n",
      "\n",
      "USER_NAME: upadhyay_cloth_house, FOLLOWER: 137, FOLLOWING: 530\n"
     ]
    },
    {
     "name": "stderr",
     "output_type": "stream",
     "text": [
      "2022-01-31 19:19:48,799 - INFO - Followed `user_id` 45011972778.\n",
      "2022-01-31 19:19:48,808 - INFO - Going to follow `user_id` 47862493931.\n"
     ]
    },
    {
     "name": "stdout",
     "output_type": "stream",
     "text": [
      "\u001b[;1m\u001b[32mAdding '45011972778' to `c:\\Users\\Bharat Anand\\Downloads\\projects_repo\\passion_projects\\Creating-insta-bot/config/followed.txt`.\u001b[0m\u001b[0m\n",
      "New following : 41\n"
     ]
    },
    {
     "name": "stderr",
     "output_type": "stream",
     "text": [
      "2022-01-31 19:19:53,460 - INFO - Going to follow `user_id` 48040065189.\n"
     ]
    },
    {
     "name": "stdout",
     "output_type": "stream",
     "text": [
      "\n",
      "USER_NAME: _silent_eyes518, FOLLOWER: 96, FOLLOWING: 185\n",
      "\u001b[31m\n",
      "media_count < bot.min_media_count_to_follow, BOT or INACTIVE, skipping!\u001b[0m\n",
      "\u001b[;1m\u001b[32mAdding '47862493931' to `c:\\Users\\Bharat Anand\\Downloads\\projects_repo\\passion_projects\\Creating-insta-bot/config/skipped.txt`.\u001b[0m\u001b[0m\n",
      "New following : 41\n"
     ]
    },
    {
     "name": "stderr",
     "output_type": "stream",
     "text": [
      "2022-01-31 19:19:56,083 - INFO - Going to follow `user_id` 47320498440.\n"
     ]
    },
    {
     "name": "stdout",
     "output_type": "stream",
     "text": [
      "\n",
      "USER_NAME: sarcastic_ladkaa_111, FOLLOWER: 119, FOLLOWING: 96\n",
      "\u001b[31m\n",
      "media_count < bot.min_media_count_to_follow, BOT or INACTIVE, skipping!\u001b[0m\n",
      "\u001b[;1m\u001b[32mAdding '48040065189' to `c:\\Users\\Bharat Anand\\Downloads\\projects_repo\\passion_projects\\Creating-insta-bot/config/skipped.txt`.\u001b[0m\u001b[0m\n",
      "New following : 41\n"
     ]
    },
    {
     "name": "stderr",
     "output_type": "stream",
     "text": [
      "2022-01-31 19:19:58,580 - INFO - Going to follow `user_id` 46701225670.\n"
     ]
    },
    {
     "name": "stdout",
     "output_type": "stream",
     "text": [
      "\n",
      "USER_NAME: prakrity_______, FOLLOWER: 801, FOLLOWING: 7226\n",
      "\u001b[31m\n",
      "info: account is PRIVATE, skipping! \u001b[0m\n",
      "\u001b[;1m\u001b[32mAdding '47320498440' to `c:\\Users\\Bharat Anand\\Downloads\\projects_repo\\passion_projects\\Creating-insta-bot/config/skipped.txt`.\u001b[0m\u001b[0m\n",
      "New following : 41\n"
     ]
    },
    {
     "name": "stderr",
     "output_type": "stream",
     "text": [
      "2022-01-31 19:20:01,865 - INFO - Going to follow `user_id` 47901651741.\n"
     ]
    },
    {
     "name": "stdout",
     "output_type": "stream",
     "text": [
      "\n",
      "USER_NAME: toxic_.kanya, FOLLOWER: 249, FOLLOWING: 405\n",
      "\u001b[31m\n",
      "media_count < bot.min_media_count_to_follow, BOT or INACTIVE, skipping!\u001b[0m\n",
      "\u001b[;1m\u001b[32mAdding '46701225670' to `c:\\Users\\Bharat Anand\\Downloads\\projects_repo\\passion_projects\\Creating-insta-bot/config/skipped.txt`.\u001b[0m\u001b[0m\n",
      "New following : 41\n"
     ]
    },
    {
     "name": "stderr",
     "output_type": "stream",
     "text": [
      "2022-01-31 19:20:05,231 - INFO - Going to follow `user_id` 23334525252.\n"
     ]
    },
    {
     "name": "stdout",
     "output_type": "stream",
     "text": [
      "\n",
      "USER_NAME: insta._bot_1, FOLLOWER: 1549, FOLLOWING: 884\n",
      "\u001b[31m\n",
      "info: account is PRIVATE, skipping! \u001b[0m\n",
      "\u001b[;1m\u001b[32mAdding '47901651741' to `c:\\Users\\Bharat Anand\\Downloads\\projects_repo\\passion_projects\\Creating-insta-bot/config/skipped.txt`.\u001b[0m\u001b[0m\n",
      "New following : 41\n",
      "\n",
      "USER_NAME: alag_si_baatein, FOLLOWER: 536, FOLLOWING: 1259\n"
     ]
    },
    {
     "name": "stderr",
     "output_type": "stream",
     "text": [
      "2022-01-31 19:20:10,451 - INFO - Followed `user_id` 23334525252.\n",
      "2022-01-31 19:20:10,458 - INFO - Going to follow `user_id` 47494634155.\n"
     ]
    },
    {
     "name": "stdout",
     "output_type": "stream",
     "text": [
      "\u001b[;1m\u001b[32mAdding '23334525252' to `c:\\Users\\Bharat Anand\\Downloads\\projects_repo\\passion_projects\\Creating-insta-bot/config/followed.txt`.\u001b[0m\u001b[0m\n",
      "New following : 42\n"
     ]
    },
    {
     "name": "stderr",
     "output_type": "stream",
     "text": [
      "2022-01-31 19:20:12,566 - INFO - Going to follow `user_id` 48564570156.\n"
     ]
    },
    {
     "name": "stdout",
     "output_type": "stream",
     "text": [
      "\n",
      "USER_NAME: diseasecare, FOLLOWER: 515, FOLLOWING: 2628\n",
      "\u001b[31m\n",
      "following_count > bot.max_following_to_follow, skipping!\u001b[0m\n",
      "\u001b[;1m\u001b[32mAdding '47494634155' to `c:\\Users\\Bharat Anand\\Downloads\\projects_repo\\passion_projects\\Creating-insta-bot/config/skipped.txt`.\u001b[0m\u001b[0m\n",
      "New following : 42\n",
      "\n",
      "USER_NAME: tab.the.trigger, FOLLOWER: 307, FOLLOWING: 849\n"
     ]
    },
    {
     "name": "stderr",
     "output_type": "stream",
     "text": [
      "2022-01-31 19:20:25,532 - INFO - Followed `user_id` 48564570156.\n",
      "2022-01-31 19:20:25,545 - INFO - Going to follow `user_id` 6180920820.\n"
     ]
    },
    {
     "name": "stdout",
     "output_type": "stream",
     "text": [
      "\u001b[;1m\u001b[32mAdding '48564570156' to `c:\\Users\\Bharat Anand\\Downloads\\projects_repo\\passion_projects\\Creating-insta-bot/config/followed.txt`.\u001b[0m\u001b[0m\n",
      "New following : 43\n"
     ]
    },
    {
     "name": "stderr",
     "output_type": "stream",
     "text": [
      "2022-01-31 19:20:28,946 - INFO - Going to follow `user_id` 48175780530.\n"
     ]
    },
    {
     "name": "stdout",
     "output_type": "stream",
     "text": [
      "\n",
      "USER_NAME: sumitkashyap948, FOLLOWER: 56, FOLLOWING: 131\n",
      "\u001b[31m\n",
      "media_count < bot.min_media_count_to_follow, BOT or INACTIVE, skipping!\u001b[0m\n",
      "\u001b[;1m\u001b[32mAdding '6180920820' to `c:\\Users\\Bharat Anand\\Downloads\\projects_repo\\passion_projects\\Creating-insta-bot/config/skipped.txt`.\u001b[0m\u001b[0m\n",
      "New following : 43\n"
     ]
    },
    {
     "name": "stderr",
     "output_type": "stream",
     "text": [
      "2022-01-31 19:20:30,905 - INFO - Going to follow `user_id` 49050042469.\n"
     ]
    },
    {
     "name": "stdout",
     "output_type": "stream",
     "text": [
      "\n",
      "USER_NAME: _.dreamx_x, FOLLOWER: 31, FOLLOWING: 243\n",
      "\u001b[31m\n",
      "media_count < bot.min_media_count_to_follow, BOT or INACTIVE, skipping!\u001b[0m\n",
      "\u001b[;1m\u001b[32mAdding '48175780530' to `c:\\Users\\Bharat Anand\\Downloads\\projects_repo\\passion_projects\\Creating-insta-bot/config/skipped.txt`.\u001b[0m\u001b[0m\n",
      "New following : 43\n",
      "\n",
      "USER_NAME: tharki.ho.kya, FOLLOWER: 196, FOLLOWING: 555\n"
     ]
    },
    {
     "name": "stderr",
     "output_type": "stream",
     "text": [
      "2022-01-31 19:20:39,182 - INFO - Followed `user_id` 49050042469.\n",
      "2022-01-31 19:20:39,184 - INFO - Going to follow `user_id` 14319266786.\n"
     ]
    },
    {
     "name": "stdout",
     "output_type": "stream",
     "text": [
      "\u001b[;1m\u001b[32mAdding '49050042469' to `c:\\Users\\Bharat Anand\\Downloads\\projects_repo\\passion_projects\\Creating-insta-bot/config/followed.txt`.\u001b[0m\u001b[0m\n",
      "New following : 44\n"
     ]
    },
    {
     "name": "stderr",
     "output_type": "stream",
     "text": [
      "2022-01-31 19:20:40,727 - INFO - Going to follow `user_id` 48842980764.\n"
     ]
    },
    {
     "name": "stdout",
     "output_type": "stream",
     "text": [
      "\n",
      "USER_NAME: rydbdllh30, FOLLOWER: 1004, FOLLOWING: 6653\n",
      "\u001b[31m\n",
      "following_count > bot.max_following_to_follow, skipping!\u001b[0m\n",
      "\u001b[;1m\u001b[32mAdding '14319266786' to `c:\\Users\\Bharat Anand\\Downloads\\projects_repo\\passion_projects\\Creating-insta-bot/config/skipped.txt`.\u001b[0m\u001b[0m\n",
      "New following : 44\n"
     ]
    },
    {
     "name": "stderr",
     "output_type": "stream",
     "text": [
      "2022-01-31 19:20:44,102 - INFO - Going to follow `user_id` 41055675037.\n"
     ]
    },
    {
     "name": "stdout",
     "output_type": "stream",
     "text": [
      "\n",
      "USER_NAME: heya.tanu___, FOLLOWER: 557, FOLLOWING: 494\n",
      "\u001b[31m\n",
      "media_count < bot.min_media_count_to_follow, BOT or INACTIVE, skipping!\u001b[0m\n",
      "\u001b[;1m\u001b[32mAdding '48842980764' to `c:\\Users\\Bharat Anand\\Downloads\\projects_repo\\passion_projects\\Creating-insta-bot/config/skipped.txt`.\u001b[0m\u001b[0m\n",
      "New following : 44\n",
      "\n",
      "USER_NAME: cribitup, FOLLOWER: 2103, FOLLOWING: 181\n"
     ]
    },
    {
     "name": "stderr",
     "output_type": "stream",
     "text": [
      "2022-01-31 19:20:53,870 - INFO - Followed `user_id` 41055675037.\n",
      "2022-01-31 19:20:53,872 - INFO - Going to follow `user_id` 48357385851.\n"
     ]
    },
    {
     "name": "stdout",
     "output_type": "stream",
     "text": [
      "\u001b[;1m\u001b[32mAdding '41055675037' to `c:\\Users\\Bharat Anand\\Downloads\\projects_repo\\passion_projects\\Creating-insta-bot/config/followed.txt`.\u001b[0m\u001b[0m\n",
      "New following : 45\n"
     ]
    },
    {
     "name": "stderr",
     "output_type": "stream",
     "text": [
      "2022-01-31 19:20:58,012 - INFO - Going to follow `user_id` 47683055510.\n"
     ]
    },
    {
     "name": "stdout",
     "output_type": "stream",
     "text": [
      "\n",
      "USER_NAME: keshav_wreck, FOLLOWER: 27, FOLLOWING: 125\n",
      "\u001b[31m\n",
      "media_count < bot.min_media_count_to_follow, BOT or INACTIVE, skipping!\u001b[0m\n",
      "\u001b[;1m\u001b[32mAdding '48357385851' to `c:\\Users\\Bharat Anand\\Downloads\\projects_repo\\passion_projects\\Creating-insta-bot/config/skipped.txt`.\u001b[0m\u001b[0m\n",
      "New following : 45\n"
     ]
    },
    {
     "name": "stderr",
     "output_type": "stream",
     "text": [
      "2022-01-31 19:21:00,825 - INFO - Going to follow `user_id` 17531288114.\n"
     ]
    },
    {
     "name": "stdout",
     "output_type": "stream",
     "text": [
      "\n",
      "USER_NAME: your_social_media_helpers, FOLLOWER: 1061, FOLLOWING: 215\n",
      "\u001b[31m\n",
      "media_count < bot.min_media_count_to_follow, BOT or INACTIVE, skipping!\u001b[0m\n",
      "\u001b[;1m\u001b[32mAdding '47683055510' to `c:\\Users\\Bharat Anand\\Downloads\\projects_repo\\passion_projects\\Creating-insta-bot/config/skipped.txt`.\u001b[0m\u001b[0m\n",
      "New following : 45\n"
     ]
    },
    {
     "name": "stderr",
     "output_type": "stream",
     "text": [
      "2022-01-31 19:21:03,301 - INFO - Going to follow `user_id` 40424181134.\n"
     ]
    },
    {
     "name": "stdout",
     "output_type": "stream",
     "text": [
      "\n",
      "USER_NAME: pardhilankesh, FOLLOWER: 636, FOLLOWING: 3519\n",
      "\u001b[31m\n",
      "following_count > bot.max_following_to_follow, skipping!\u001b[0m\n",
      "\u001b[;1m\u001b[32mAdding '17531288114' to `c:\\Users\\Bharat Anand\\Downloads\\projects_repo\\passion_projects\\Creating-insta-bot/config/skipped.txt`.\u001b[0m\u001b[0m\n",
      "New following : 45\n"
     ]
    },
    {
     "name": "stderr",
     "output_type": "stream",
     "text": [
      "2022-01-31 19:21:06,062 - INFO - Going to follow `user_id` 49202322415.\n"
     ]
    },
    {
     "name": "stdout",
     "output_type": "stream",
     "text": [
      "\n",
      "USER_NAME: memekimasti_, FOLLOWER: 8112, FOLLOWING: 727\n",
      "\u001b[31m\n",
      "follower_count > bot.max_followers_to_follow, skipping!\u001b[0m\n",
      "\u001b[;1m\u001b[32mAdding '40424181134' to `c:\\Users\\Bharat Anand\\Downloads\\projects_repo\\passion_projects\\Creating-insta-bot/config/skipped.txt`.\u001b[0m\u001b[0m\n",
      "New following : 45\n"
     ]
    },
    {
     "name": "stderr",
     "output_type": "stream",
     "text": [
      "2022-01-31 19:21:08,469 - INFO - Going to follow `user_id` 9768454750.\n"
     ]
    },
    {
     "name": "stdout",
     "output_type": "stream",
     "text": [
      "\n",
      "USER_NAME: sarcastic__didi, FOLLOWER: 103, FOLLOWING: 116\n",
      "\u001b[31m\n",
      "media_count < bot.min_media_count_to_follow, BOT or INACTIVE, skipping!\u001b[0m\n",
      "\u001b[;1m\u001b[32mAdding '49202322415' to `c:\\Users\\Bharat Anand\\Downloads\\projects_repo\\passion_projects\\Creating-insta-bot/config/skipped.txt`.\u001b[0m\u001b[0m\n",
      "New following : 45\n",
      "\n",
      "USER_NAME: memesbydinchikpooja, FOLLOWER: 1437, FOLLOWING: 1362\n"
     ]
    },
    {
     "name": "stderr",
     "output_type": "stream",
     "text": [
      "2022-01-31 19:21:14,216 - INFO - Followed `user_id` 9768454750.\n",
      "2022-01-31 19:21:14,218 - INFO - Going to follow `user_id` 4054944692.\n"
     ]
    },
    {
     "name": "stdout",
     "output_type": "stream",
     "text": [
      "\u001b[;1m\u001b[32mAdding '9768454750' to `c:\\Users\\Bharat Anand\\Downloads\\projects_repo\\passion_projects\\Creating-insta-bot/config/followed.txt`.\u001b[0m\u001b[0m\n",
      "New following : 46\n",
      "\n",
      "USER_NAME: ankush.jhaa, FOLLOWER: 3311, FOLLOWING: 867\n"
     ]
    },
    {
     "name": "stderr",
     "output_type": "stream",
     "text": [
      "2022-01-31 19:21:36,264 - INFO - Followed `user_id` 4054944692.\n",
      "2022-01-31 19:21:36,266 - INFO - Going to follow `user_id` 44097621830.\n"
     ]
    },
    {
     "name": "stdout",
     "output_type": "stream",
     "text": [
      "\u001b[;1m\u001b[32mAdding '4054944692' to `c:\\Users\\Bharat Anand\\Downloads\\projects_repo\\passion_projects\\Creating-insta-bot/config/followed.txt`.\u001b[0m\u001b[0m\n",
      "New following : 47\n"
     ]
    },
    {
     "name": "stderr",
     "output_type": "stream",
     "text": [
      "2022-01-31 19:21:38,430 - INFO - Going to follow `user_id` 5523155635.\n"
     ]
    },
    {
     "name": "stdout",
     "output_type": "stream",
     "text": [
      "\n",
      "USER_NAME: its_abhinav07_, FOLLOWER: 154, FOLLOWING: 1657\n",
      "\u001b[31m\n",
      "media_count < bot.min_media_count_to_follow, BOT or INACTIVE, skipping!\u001b[0m\n",
      "\u001b[;1m\u001b[32mAdding '44097621830' to `c:\\Users\\Bharat Anand\\Downloads\\projects_repo\\passion_projects\\Creating-insta-bot/config/skipped.txt`.\u001b[0m\u001b[0m\n",
      "New following : 47\n"
     ]
    },
    {
     "name": "stderr",
     "output_type": "stream",
     "text": [
      "2022-01-31 19:21:40,489 - INFO - Going to follow `user_id` 46921321554.\n"
     ]
    },
    {
     "name": "stdout",
     "output_type": "stream",
     "text": [
      "\n",
      "USER_NAME: themysteriousdude, FOLLOWER: 126, FOLLOWING: 358\n",
      "\u001b[31m\n",
      "info: account is PRIVATE, skipping! \u001b[0m\n",
      "\u001b[;1m\u001b[32mAdding '5523155635' to `c:\\Users\\Bharat Anand\\Downloads\\projects_repo\\passion_projects\\Creating-insta-bot/config/skipped.txt`.\u001b[0m\u001b[0m\n",
      "New following : 47\n",
      "\n",
      "USER_NAME: nikky________________________, FOLLOWER: 267, FOLLOWING: 458\n"
     ]
    },
    {
     "name": "stderr",
     "output_type": "stream",
     "text": [
      "2022-01-31 19:21:58,870 - INFO - Followed `user_id` 46921321554.\n",
      "2022-01-31 19:21:58,871 - INFO - Going to follow `user_id` 48150495232.\n"
     ]
    },
    {
     "name": "stdout",
     "output_type": "stream",
     "text": [
      "\u001b[;1m\u001b[32mAdding '46921321554' to `c:\\Users\\Bharat Anand\\Downloads\\projects_repo\\passion_projects\\Creating-insta-bot/config/followed.txt`.\u001b[0m\u001b[0m\n",
      "New following : 48\n"
     ]
    },
    {
     "name": "stderr",
     "output_type": "stream",
     "text": [
      "2022-01-31 19:22:00,972 - INFO - Going to follow `user_id` 47657532013.\n"
     ]
    },
    {
     "name": "stdout",
     "output_type": "stream",
     "text": [
      "\n",
      "USER_NAME: secratejecs_02, FOLLOWER: 95, FOLLOWING: 355\n",
      "\u001b[31m\n",
      "media_count < bot.min_media_count_to_follow, BOT or INACTIVE, skipping!\u001b[0m\n",
      "\u001b[;1m\u001b[32mAdding '48150495232' to `c:\\Users\\Bharat Anand\\Downloads\\projects_repo\\passion_projects\\Creating-insta-bot/config/skipped.txt`.\u001b[0m\u001b[0m\n",
      "New following : 48\n"
     ]
    },
    {
     "name": "stderr",
     "output_type": "stream",
     "text": [
      "2022-01-31 19:22:03,488 - INFO - Going to follow `user_id` 47460889866.\n"
     ]
    },
    {
     "name": "stdout",
     "output_type": "stream",
     "text": [
      "\n",
      "USER_NAME: sarcastic_bnda12, FOLLOWER: 101, FOLLOWING: 81\n",
      "\u001b[31m\n",
      "media_count < bot.min_media_count_to_follow, BOT or INACTIVE, skipping!\u001b[0m\n",
      "\u001b[;1m\u001b[32mAdding '47657532013' to `c:\\Users\\Bharat Anand\\Downloads\\projects_repo\\passion_projects\\Creating-insta-bot/config/skipped.txt`.\u001b[0m\u001b[0m\n",
      "New following : 48\n",
      "\n",
      "USER_NAME: lyricsnal1, FOLLOWER: 359, FOLLOWING: 640\n"
     ]
    },
    {
     "name": "stderr",
     "output_type": "stream",
     "text": [
      "2022-01-31 19:22:21,462 - INFO - Followed `user_id` 47460889866.\n",
      "2022-01-31 19:22:21,464 - INFO - Going to follow `user_id` 43988653326.\n"
     ]
    },
    {
     "name": "stdout",
     "output_type": "stream",
     "text": [
      "\u001b[;1m\u001b[32mAdding '47460889866' to `c:\\Users\\Bharat Anand\\Downloads\\projects_repo\\passion_projects\\Creating-insta-bot/config/followed.txt`.\u001b[0m\u001b[0m\n",
      "New following : 49\n",
      "\n",
      "USER_NAME: darshnation_drz_, FOLLOWER: 921, FOLLOWING: 1252\n"
     ]
    },
    {
     "name": "stderr",
     "output_type": "stream",
     "text": [
      "2022-01-31 19:22:42,237 - INFO - Followed `user_id` 43988653326.\n",
      "2022-01-31 19:22:42,238 - INFO - Going to follow `user_id` 48178435615.\n"
     ]
    },
    {
     "name": "stdout",
     "output_type": "stream",
     "text": [
      "\u001b[;1m\u001b[32mAdding '43988653326' to `c:\\Users\\Bharat Anand\\Downloads\\projects_repo\\passion_projects\\Creating-insta-bot/config/followed.txt`.\u001b[0m\u001b[0m\n",
      "New following : 50\n"
     ]
    },
    {
     "name": "stderr",
     "output_type": "stream",
     "text": [
      "2022-01-31 19:22:45,606 - INFO - Going to follow `user_id` 10665116278.\n"
     ]
    },
    {
     "name": "stdout",
     "output_type": "stream",
     "text": [
      "\n",
      "USER_NAME: taru_n6196, FOLLOWER: 1063, FOLLOWING: 7336\n",
      "\u001b[31m\n",
      "following_count > bot.max_following_to_follow, skipping!\u001b[0m\n",
      "\u001b[;1m\u001b[32mAdding '48178435615' to `c:\\Users\\Bharat Anand\\Downloads\\projects_repo\\passion_projects\\Creating-insta-bot/config/skipped.txt`.\u001b[0m\u001b[0m\n",
      "New following : 50\n"
     ]
    },
    {
     "name": "stderr",
     "output_type": "stream",
     "text": [
      "2022-01-31 19:22:49,112 - INFO - Going to follow `user_id` 21592653920.\n"
     ]
    },
    {
     "name": "stdout",
     "output_type": "stream",
     "text": [
      "\n",
      "USER_NAME: washandshines, FOLLOWER: 681, FOLLOWING: 1123\n",
      "\u001b[31m\n",
      "media_count < bot.min_media_count_to_follow, BOT or INACTIVE, skipping!\u001b[0m\n",
      "\u001b[;1m\u001b[32mAdding '10665116278' to `c:\\Users\\Bharat Anand\\Downloads\\projects_repo\\passion_projects\\Creating-insta-bot/config/skipped.txt`.\u001b[0m\u001b[0m\n",
      "New following : 50\n"
     ]
    },
    {
     "name": "stderr",
     "output_type": "stream",
     "text": [
      "2022-01-31 19:22:53,933 - INFO - Going to follow `user_id` 46650482472.\n"
     ]
    },
    {
     "name": "stdout",
     "output_type": "stream",
     "text": [
      "\n",
      "USER_NAME: _cafe_9033_gkp, FOLLOWER: 74, FOLLOWING: 3027\n",
      "\u001b[31m\n",
      "info: account is PRIVATE, skipping! \u001b[0m\n",
      "\u001b[;1m\u001b[32mAdding '21592653920' to `c:\\Users\\Bharat Anand\\Downloads\\projects_repo\\passion_projects\\Creating-insta-bot/config/skipped.txt`.\u001b[0m\u001b[0m\n",
      "New following : 50\n",
      "\n",
      "USER_NAME: parmeshtiwarit, FOLLOWER: 479, FOLLOWING: 651\n"
     ]
    },
    {
     "name": "stderr",
     "output_type": "stream",
     "text": [
      "2022-01-31 19:22:59,959 - INFO - Followed `user_id` 46650482472.\n",
      "2022-01-31 19:22:59,962 - INFO - Going to follow `user_id` 48130650516.\n"
     ]
    },
    {
     "name": "stdout",
     "output_type": "stream",
     "text": [
      "\u001b[;1m\u001b[32mAdding '46650482472' to `c:\\Users\\Bharat Anand\\Downloads\\projects_repo\\passion_projects\\Creating-insta-bot/config/followed.txt`.\u001b[0m\u001b[0m\n",
      "New following : 51\n",
      "\n",
      "USER_NAME: thegustooo, FOLLOWER: 80, FOLLOWING: 240\n"
     ]
    },
    {
     "name": "stderr",
     "output_type": "stream",
     "text": [
      "2022-01-31 19:23:11,797 - INFO - Followed `user_id` 48130650516.\n",
      "2022-01-31 19:23:11,799 - INFO - Going to follow `user_id` 48368154272.\n"
     ]
    },
    {
     "name": "stdout",
     "output_type": "stream",
     "text": [
      "\u001b[;1m\u001b[32mAdding '48130650516' to `c:\\Users\\Bharat Anand\\Downloads\\projects_repo\\passion_projects\\Creating-insta-bot/config/followed.txt`.\u001b[0m\u001b[0m\n",
      "New following : 52\n",
      "\n",
      "USER_NAME: asheermalik2, FOLLOWER: 125, FOLLOWING: 476\n"
     ]
    },
    {
     "name": "stderr",
     "output_type": "stream",
     "text": [
      "2022-01-31 19:23:29,573 - INFO - Followed `user_id` 48368154272.\n",
      "2022-01-31 19:23:29,580 - INFO - Going to follow `user_id` 47429407104.\n"
     ]
    },
    {
     "name": "stdout",
     "output_type": "stream",
     "text": [
      "\u001b[;1m\u001b[32mAdding '48368154272' to `c:\\Users\\Bharat Anand\\Downloads\\projects_repo\\passion_projects\\Creating-insta-bot/config/followed.txt`.\u001b[0m\u001b[0m\n",
      "New following : 53\n",
      "\n",
      "USER_NAME: iujcfdsadhfjklpjygddd, FOLLOWER: 1124, FOLLOWING: 1223\n"
     ]
    },
    {
     "name": "stderr",
     "output_type": "stream",
     "text": [
      "2022-01-31 19:23:41,854 - INFO - Followed `user_id` 47429407104.\n",
      "2022-01-31 19:23:41,860 - INFO - Going to follow `user_id` 48373039630.\n"
     ]
    },
    {
     "name": "stdout",
     "output_type": "stream",
     "text": [
      "\u001b[;1m\u001b[32mAdding '47429407104' to `c:\\Users\\Bharat Anand\\Downloads\\projects_repo\\passion_projects\\Creating-insta-bot/config/followed.txt`.\u001b[0m\u001b[0m\n",
      "New following : 54\n",
      "\n",
      "USER_NAME: memeszzonee, FOLLOWER: 28, FOLLOWING: 78\n"
     ]
    },
    {
     "name": "stderr",
     "output_type": "stream",
     "text": [
      "2022-01-31 19:23:55,871 - INFO - Followed `user_id` 48373039630.\n",
      "2022-01-31 19:23:55,872 - INFO - Going to follow `user_id` 20654381913.\n"
     ]
    },
    {
     "name": "stdout",
     "output_type": "stream",
     "text": [
      "\u001b[;1m\u001b[32mAdding '48373039630' to `c:\\Users\\Bharat Anand\\Downloads\\projects_repo\\passion_projects\\Creating-insta-bot/config/followed.txt`.\u001b[0m\u001b[0m\n",
      "New following : 55\n"
     ]
    },
    {
     "name": "stderr",
     "output_type": "stream",
     "text": [
      "2022-01-31 19:24:01,256 - INFO - Going to follow `user_id` 47829183758.\n"
     ]
    },
    {
     "name": "stdout",
     "output_type": "stream",
     "text": [
      "\n",
      "USER_NAME: rushstoreofficial27, FOLLOWER: 341, FOLLOWING: 259\n",
      "\u001b[31m\n",
      "media_count < bot.min_media_count_to_follow, BOT or INACTIVE, skipping!\u001b[0m\n",
      "\u001b[;1m\u001b[32mAdding '20654381913' to `c:\\Users\\Bharat Anand\\Downloads\\projects_repo\\passion_projects\\Creating-insta-bot/config/skipped.txt`.\u001b[0m\u001b[0m\n",
      "New following : 55\n",
      "\n",
      "USER_NAME: sarcastic_meme_meme, FOLLOWER: 274, FOLLOWING: 521\n"
     ]
    },
    {
     "name": "stderr",
     "output_type": "stream",
     "text": [
      "2022-01-31 19:24:07,357 - INFO - Followed `user_id` 47829183758.\n",
      "2022-01-31 19:24:07,361 - INFO - Going to follow `user_id` 28472827075.\n"
     ]
    },
    {
     "name": "stdout",
     "output_type": "stream",
     "text": [
      "\u001b[;1m\u001b[32mAdding '47829183758' to `c:\\Users\\Bharat Anand\\Downloads\\projects_repo\\passion_projects\\Creating-insta-bot/config/followed.txt`.\u001b[0m\u001b[0m\n",
      "New following : 56\n",
      "\n",
      "USER_NAME: sabrelatekaro, FOLLOWER: 1736, FOLLOWING: 1381\n"
     ]
    },
    {
     "name": "stderr",
     "output_type": "stream",
     "text": [
      "2022-01-31 19:24:25,573 - INFO - Followed `user_id` 28472827075.\n",
      "2022-01-31 19:24:25,580 - INFO - Going to follow `user_id` 48729786709.\n"
     ]
    },
    {
     "name": "stdout",
     "output_type": "stream",
     "text": [
      "\u001b[;1m\u001b[32mAdding '28472827075' to `c:\\Users\\Bharat Anand\\Downloads\\projects_repo\\passion_projects\\Creating-insta-bot/config/followed.txt`.\u001b[0m\u001b[0m\n",
      "New following : 57\n"
     ]
    },
    {
     "name": "stderr",
     "output_type": "stream",
     "text": [
      "2022-01-31 19:24:29,594 - INFO - Going to follow `user_id` 48664865413.\n"
     ]
    },
    {
     "name": "stdout",
     "output_type": "stream",
     "text": [
      "\n",
      "USER_NAME: _i_know_u_r_nibbi_but_i, FOLLOWER: 5, FOLLOWING: 21\n",
      "\u001b[31m\n",
      "info: account is PRIVATE, skipping! \u001b[0m\n",
      "\u001b[;1m\u001b[32mAdding '48729786709' to `c:\\Users\\Bharat Anand\\Downloads\\projects_repo\\passion_projects\\Creating-insta-bot/config/skipped.txt`.\u001b[0m\u001b[0m\n",
      "New following : 57\n"
     ]
    },
    {
     "name": "stderr",
     "output_type": "stream",
     "text": [
      "2022-01-31 19:24:32,600 - INFO - Going to follow `user_id` 47838162767.\n"
     ]
    },
    {
     "name": "stdout",
     "output_type": "stream",
     "text": [
      "\n",
      "USER_NAME: ayeshabegum_55, FOLLOWER: 90, FOLLOWING: 131\n",
      "\u001b[31m\n",
      "info: account is PRIVATE, skipping! \u001b[0m\n",
      "\u001b[;1m\u001b[32mAdding '48664865413' to `c:\\Users\\Bharat Anand\\Downloads\\projects_repo\\passion_projects\\Creating-insta-bot/config/skipped.txt`.\u001b[0m\u001b[0m\n",
      "New following : 57\n"
     ]
    },
    {
     "name": "stderr",
     "output_type": "stream",
     "text": [
      "2022-01-31 19:24:34,671 - INFO - Going to follow `user_id` 47584483716.\n"
     ]
    },
    {
     "name": "stdout",
     "output_type": "stream",
     "text": [
      "\n",
      "USER_NAME: lolmemeshub, FOLLOWER: 737, FOLLOWING: 2475\n",
      "\u001b[31m\n",
      "following_count > bot.max_following_to_follow, skipping!\u001b[0m\n",
      "\u001b[;1m\u001b[32mAdding '47838162767' to `c:\\Users\\Bharat Anand\\Downloads\\projects_repo\\passion_projects\\Creating-insta-bot/config/skipped.txt`.\u001b[0m\u001b[0m\n",
      "New following : 57\n",
      "\n",
      "USER_NAME: rsh_says, FOLLOWER: 486, FOLLOWING: 902\n"
     ]
    },
    {
     "name": "stderr",
     "output_type": "stream",
     "text": [
      "2022-01-31 19:24:45,442 - INFO - Followed `user_id` 47584483716.\n",
      "2022-01-31 19:24:45,444 - INFO - Going to follow `user_id` 48317759444.\n"
     ]
    },
    {
     "name": "stdout",
     "output_type": "stream",
     "text": [
      "\u001b[;1m\u001b[32mAdding '47584483716' to `c:\\Users\\Bharat Anand\\Downloads\\projects_repo\\passion_projects\\Creating-insta-bot/config/followed.txt`.\u001b[0m\u001b[0m\n",
      "New following : 58\n"
     ]
    },
    {
     "name": "stderr",
     "output_type": "stream",
     "text": [
      "2022-01-31 19:24:47,971 - INFO - Going to follow `user_id` 47722595736.\n"
     ]
    },
    {
     "name": "stdout",
     "output_type": "stream",
     "text": [
      "\n",
      "USER_NAME: _.bts__army__love__edits._, FOLLOWER: 1576, FOLLOWING: 6780\n",
      "\u001b[31m\n",
      "following_count > bot.max_following_to_follow, skipping!\u001b[0m\n",
      "\u001b[;1m\u001b[32mAdding '48317759444' to `c:\\Users\\Bharat Anand\\Downloads\\projects_repo\\passion_projects\\Creating-insta-bot/config/skipped.txt`.\u001b[0m\u001b[0m\n",
      "New following : 58\n",
      "\n",
      "USER_NAME: status__forever.love, FOLLOWER: 138, FOLLOWING: 584\n"
     ]
    },
    {
     "name": "stderr",
     "output_type": "stream",
     "text": [
      "2022-01-31 19:25:01,605 - INFO - Followed `user_id` 47722595736.\n",
      "2022-01-31 19:25:01,609 - INFO - Going to follow `user_id` 48217287358.\n"
     ]
    },
    {
     "name": "stdout",
     "output_type": "stream",
     "text": [
      "\u001b[;1m\u001b[32mAdding '47722595736' to `c:\\Users\\Bharat Anand\\Downloads\\projects_repo\\passion_projects\\Creating-insta-bot/config/followed.txt`.\u001b[0m\u001b[0m\n",
      "New following : 59\n"
     ]
    },
    {
     "name": "stderr",
     "output_type": "stream",
     "text": [
      "2022-01-31 19:25:05,240 - INFO - Going to follow `user_id` 37753251854.\n"
     ]
    },
    {
     "name": "stdout",
     "output_type": "stream",
     "text": [
      "\n",
      "USER_NAME: wtf_prerna, FOLLOWER: 211, FOLLOWING: 231\n",
      "\u001b[31m\n",
      "info: account is PRIVATE, skipping! \u001b[0m\n",
      "\u001b[;1m\u001b[32mAdding '48217287358' to `c:\\Users\\Bharat Anand\\Downloads\\projects_repo\\passion_projects\\Creating-insta-bot/config/skipped.txt`.\u001b[0m\u001b[0m\n",
      "New following : 59\n",
      "\n",
      "USER_NAME: _rude_things, FOLLOWER: 1117, FOLLOWING: 1058\n"
     ]
    },
    {
     "name": "stderr",
     "output_type": "stream",
     "text": [
      "2022-01-31 19:25:16,006 - INFO - Followed `user_id` 37753251854.\n",
      "2022-01-31 19:25:16,008 - INFO - Going to follow `user_id` 46158352216.\n"
     ]
    },
    {
     "name": "stdout",
     "output_type": "stream",
     "text": [
      "\u001b[;1m\u001b[32mAdding '37753251854' to `c:\\Users\\Bharat Anand\\Downloads\\projects_repo\\passion_projects\\Creating-insta-bot/config/followed.txt`.\u001b[0m\u001b[0m\n",
      "New following : 60\n",
      "\n",
      "USER_NAME: sid_saying, FOLLOWER: 140, FOLLOWING: 239\n"
     ]
    },
    {
     "name": "stderr",
     "output_type": "stream",
     "text": [
      "2022-01-31 19:25:34,238 - INFO - Followed `user_id` 46158352216.\n",
      "2022-01-31 19:25:34,244 - INFO - Going to follow `user_id` 44057297682.\n"
     ]
    },
    {
     "name": "stdout",
     "output_type": "stream",
     "text": [
      "\u001b[;1m\u001b[32mAdding '46158352216' to `c:\\Users\\Bharat Anand\\Downloads\\projects_repo\\passion_projects\\Creating-insta-bot/config/followed.txt`.\u001b[0m\u001b[0m\n",
      "New following : 61\n",
      "\n",
      "USER_NAME: dead_for_write_, FOLLOWER: 134, FOLLOWING: 10\n"
     ]
    },
    {
     "name": "stderr",
     "output_type": "stream",
     "text": [
      "2022-01-31 19:25:44,035 - INFO - Followed `user_id` 44057297682.\n",
      "2022-01-31 19:25:44,037 - INFO - Going to follow `user_id` 48350488927.\n"
     ]
    },
    {
     "name": "stdout",
     "output_type": "stream",
     "text": [
      "\u001b[;1m\u001b[32mAdding '44057297682' to `c:\\Users\\Bharat Anand\\Downloads\\projects_repo\\passion_projects\\Creating-insta-bot/config/followed.txt`.\u001b[0m\u001b[0m\n",
      "New following : 62\n",
      "\n",
      "USER_NAME: __lostinnature___, FOLLOWER: 250, FOLLOWING: 713\n"
     ]
    },
    {
     "name": "stderr",
     "output_type": "stream",
     "text": [
      "2022-01-31 19:26:04,939 - INFO - Followed `user_id` 48350488927.\n",
      "2022-01-31 19:26:04,945 - INFO - Going to follow `user_id` 47383858295.\n"
     ]
    },
    {
     "name": "stdout",
     "output_type": "stream",
     "text": [
      "\u001b[;1m\u001b[32mAdding '48350488927' to `c:\\Users\\Bharat Anand\\Downloads\\projects_repo\\passion_projects\\Creating-insta-bot/config/followed.txt`.\u001b[0m\u001b[0m\n",
      "New following : 63\n"
     ]
    },
    {
     "name": "stderr",
     "output_type": "stream",
     "text": [
      "2022-01-31 19:26:07,904 - INFO - Going to follow `user_id` 48298449630.\n"
     ]
    },
    {
     "name": "stdout",
     "output_type": "stream",
     "text": [
      "\n",
      "USER_NAME: words_of_my_feelings2019, FOLLOWER: 258, FOLLOWING: 2516\n",
      "\u001b[31m\n",
      "following_count > bot.max_following_to_follow, skipping!\u001b[0m\n",
      "\u001b[;1m\u001b[32mAdding '47383858295' to `c:\\Users\\Bharat Anand\\Downloads\\projects_repo\\passion_projects\\Creating-insta-bot/config/skipped.txt`.\u001b[0m\u001b[0m\n",
      "New following : 63\n"
     ]
    },
    {
     "name": "stderr",
     "output_type": "stream",
     "text": [
      "2022-01-31 19:26:11,246 - INFO - Going to follow `user_id` 44954048795.\n"
     ]
    },
    {
     "name": "stdout",
     "output_type": "stream",
     "text": [
      "\n",
      "USER_NAME: urbest_couple, FOLLOWER: 2266, FOLLOWING: 1807\n",
      "\u001b[31m\n",
      "`bot.search_stop_words_in_user` found in user, skipping!\u001b[0m\n",
      "\u001b[;1m\u001b[32mAdding '48298449630' to `c:\\Users\\Bharat Anand\\Downloads\\projects_repo\\passion_projects\\Creating-insta-bot/config/skipped.txt`.\u001b[0m\u001b[0m\n",
      "New following : 63\n"
     ]
    },
    {
     "name": "stderr",
     "output_type": "stream",
     "text": [
      "2022-01-31 19:26:13,218 - INFO - Going to follow `user_id` 44277403531.\n"
     ]
    },
    {
     "name": "stdout",
     "output_type": "stream",
     "text": [
      "\n",
      "USER_NAME: shyzing80, FOLLOWER: 10, FOLLOWING: 73\n",
      "\u001b[31m\n",
      "info: account is PRIVATE, skipping! \u001b[0m\n",
      "\u001b[;1m\u001b[32mAdding '44954048795' to `c:\\Users\\Bharat Anand\\Downloads\\projects_repo\\passion_projects\\Creating-insta-bot/config/skipped.txt`.\u001b[0m\u001b[0m\n",
      "New following : 63\n",
      "\n",
      "USER_NAME: abhishekjatav92396, FOLLOWER: 221, FOLLOWING: 1133\n"
     ]
    },
    {
     "name": "stderr",
     "output_type": "stream",
     "text": [
      "2022-01-31 19:26:26,486 - INFO - Followed `user_id` 44277403531.\n",
      "2022-01-31 19:26:26,488 - INFO - Going to follow `user_id` 47903799776.\n"
     ]
    },
    {
     "name": "stdout",
     "output_type": "stream",
     "text": [
      "\u001b[;1m\u001b[32mAdding '44277403531' to `c:\\Users\\Bharat Anand\\Downloads\\projects_repo\\passion_projects\\Creating-insta-bot/config/followed.txt`.\u001b[0m\u001b[0m\n",
      "New following : 64\n",
      "\n",
      "USER_NAME: spunky_shayar, FOLLOWER: 70, FOLLOWING: 63\n"
     ]
    },
    {
     "name": "stderr",
     "output_type": "stream",
     "text": [
      "2022-01-31 19:26:44,094 - INFO - Followed `user_id` 47903799776.\n",
      "2022-01-31 19:26:44,096 - INFO - Going to follow `user_id` 47227771349.\n"
     ]
    },
    {
     "name": "stdout",
     "output_type": "stream",
     "text": [
      "\u001b[;1m\u001b[32mAdding '47903799776' to `c:\\Users\\Bharat Anand\\Downloads\\projects_repo\\passion_projects\\Creating-insta-bot/config/followed.txt`.\u001b[0m\u001b[0m\n",
      "New following : 65\n"
     ]
    },
    {
     "name": "stderr",
     "output_type": "stream",
     "text": [
      "2022-01-31 19:26:48,279 - INFO - Going to follow `user_id` 48845156624.\n"
     ]
    },
    {
     "name": "stdout",
     "output_type": "stream",
     "text": [
      "\n",
      "USER_NAME: __mishra_ji17, FOLLOWER: 6, FOLLOWING: 38\n",
      "\u001b[31m\n",
      "info: account is PRIVATE, skipping! \u001b[0m\n",
      "\u001b[;1m\u001b[32mAdding '47227771349' to `c:\\Users\\Bharat Anand\\Downloads\\projects_repo\\passion_projects\\Creating-insta-bot/config/skipped.txt`.\u001b[0m\u001b[0m\n",
      "New following : 65\n"
     ]
    },
    {
     "name": "stderr",
     "output_type": "stream",
     "text": [
      "2022-01-31 19:26:50,028 - INFO - Going to follow `user_id` 46924436642.\n"
     ]
    },
    {
     "name": "stdout",
     "output_type": "stream",
     "text": [
      "\n",
      "USER_NAME: inayat_singh_rajput_, FOLLOWER: 150, FOLLOWING: 279\n",
      "\u001b[31m\n",
      "info: account is PRIVATE, skipping! \u001b[0m\n",
      "\u001b[;1m\u001b[32mAdding '48845156624' to `c:\\Users\\Bharat Anand\\Downloads\\projects_repo\\passion_projects\\Creating-insta-bot/config/skipped.txt`.\u001b[0m\u001b[0m\n",
      "New following : 65\n"
     ]
    },
    {
     "name": "stderr",
     "output_type": "stream",
     "text": [
      "2022-01-31 19:26:54,630 - INFO - Going to follow `user_id` 24768191836.\n"
     ]
    },
    {
     "name": "stdout",
     "output_type": "stream",
     "text": [
      "\n",
      "USER_NAME: c_toon_box, FOLLOWER: 25, FOLLOWING: 389\n",
      "\u001b[31m\n",
      "following_count / follower_count > bot.max_following_to_followers_ratio, skipping!\u001b[0m\n",
      "\u001b[;1m\u001b[32mAdding '46924436642' to `c:\\Users\\Bharat Anand\\Downloads\\projects_repo\\passion_projects\\Creating-insta-bot/config/skipped.txt`.\u001b[0m\u001b[0m\n",
      "New following : 65\n"
     ]
    },
    {
     "name": "stderr",
     "output_type": "stream",
     "text": [
      "2022-01-31 19:26:57,184 - INFO - Going to follow `user_id` 48354364648.\n"
     ]
    },
    {
     "name": "stdout",
     "output_type": "stream",
     "text": [
      "\n",
      "USER_NAME: feed.hunt, FOLLOWER: 2166, FOLLOWING: 2388\n",
      "\u001b[31m\n",
      "following_count > bot.max_following_to_follow, skipping!\u001b[0m\n",
      "\u001b[;1m\u001b[32mAdding '24768191836' to `c:\\Users\\Bharat Anand\\Downloads\\projects_repo\\passion_projects\\Creating-insta-bot/config/skipped.txt`.\u001b[0m\u001b[0m\n",
      "New following : 65\n"
     ]
    },
    {
     "name": "stderr",
     "output_type": "stream",
     "text": [
      "2022-01-31 19:27:00,270 - INFO - Going to follow `user_id` 29576412762.\n"
     ]
    },
    {
     "name": "stdout",
     "output_type": "stream",
     "text": [
      "\n",
      "USER_NAME: idk_whoo_iem, FOLLOWER: 232, FOLLOWING: 306\n",
      "\u001b[31m\n",
      "media_count < bot.min_media_count_to_follow, BOT or INACTIVE, skipping!\u001b[0m\n",
      "\u001b[;1m\u001b[32mAdding '48354364648' to `c:\\Users\\Bharat Anand\\Downloads\\projects_repo\\passion_projects\\Creating-insta-bot/config/skipped.txt`.\u001b[0m\u001b[0m\n",
      "New following : 65\n"
     ]
    },
    {
     "name": "stderr",
     "output_type": "stream",
     "text": [
      "2022-01-31 19:27:03,474 - INFO - Going to follow `user_id` 47934156631.\n"
     ]
    },
    {
     "name": "stdout",
     "output_type": "stream",
     "text": [
      "\n",
      "USER_NAME: lonelydiary673, FOLLOWER: 334, FOLLOWING: 2686\n",
      "\u001b[31m\n",
      "following_count > bot.max_following_to_follow, skipping!\u001b[0m\n",
      "\u001b[;1m\u001b[32mAdding '29576412762' to `c:\\Users\\Bharat Anand\\Downloads\\projects_repo\\passion_projects\\Creating-insta-bot/config/skipped.txt`.\u001b[0m\u001b[0m\n",
      "New following : 65\n",
      "\n",
      "USER_NAME: dj06_creations, FOLLOWER: 88, FOLLOWING: 306\n"
     ]
    },
    {
     "name": "stderr",
     "output_type": "stream",
     "text": [
      "2022-01-31 19:27:06,776 - INFO - Followed `user_id` 47934156631.\n",
      "2022-01-31 19:27:06,778 - INFO - Going to follow `user_id` 47593169790.\n"
     ]
    },
    {
     "name": "stdout",
     "output_type": "stream",
     "text": [
      "\u001b[;1m\u001b[32mAdding '47934156631' to `c:\\Users\\Bharat Anand\\Downloads\\projects_repo\\passion_projects\\Creating-insta-bot/config/followed.txt`.\u001b[0m\u001b[0m\n",
      "New following : 66\n"
     ]
    },
    {
     "name": "stderr",
     "output_type": "stream",
     "text": [
      "2022-01-31 19:27:09,277 - INFO - Going to follow `user_id` 46002399134.\n"
     ]
    },
    {
     "name": "stdout",
     "output_type": "stream",
     "text": [
      "\n",
      "USER_NAME: remodisu_da, FOLLOWER: 21, FOLLOWING: 261\n",
      "\u001b[31m\n",
      "info: account is PRIVATE, skipping! \u001b[0m\n",
      "\u001b[;1m\u001b[32mAdding '47593169790' to `c:\\Users\\Bharat Anand\\Downloads\\projects_repo\\passion_projects\\Creating-insta-bot/config/skipped.txt`.\u001b[0m\u001b[0m\n",
      "New following : 66\n"
     ]
    },
    {
     "name": "stderr",
     "output_type": "stream",
     "text": [
      "2022-01-31 19:27:12,000 - INFO - Going to follow `user_id` 48341559059.\n"
     ]
    },
    {
     "name": "stdout",
     "output_type": "stream",
     "text": [
      "\n",
      "USER_NAME: vusisizwe_king_of_hearts, FOLLOWER: 973, FOLLOWING: 2846\n",
      "\u001b[31m\n",
      "following_count > bot.max_following_to_follow, skipping!\u001b[0m\n",
      "\u001b[;1m\u001b[32mAdding '46002399134' to `c:\\Users\\Bharat Anand\\Downloads\\projects_repo\\passion_projects\\Creating-insta-bot/config/skipped.txt`.\u001b[0m\u001b[0m\n",
      "New following : 66\n"
     ]
    },
    {
     "name": "stderr",
     "output_type": "stream",
     "text": [
      "2022-01-31 19:27:16,291 - INFO - Going to follow `user_id` 48624370107.\n"
     ]
    },
    {
     "name": "stdout",
     "output_type": "stream",
     "text": [
      "\n",
      "USER_NAME: mens_faishon_07, FOLLOWER: 178, FOLLOWING: 1191\n",
      "\u001b[31m\n",
      "info: account is PRIVATE, skipping! \u001b[0m\n",
      "\u001b[;1m\u001b[32mAdding '48341559059' to `c:\\Users\\Bharat Anand\\Downloads\\projects_repo\\passion_projects\\Creating-insta-bot/config/skipped.txt`.\u001b[0m\u001b[0m\n",
      "New following : 66\n"
     ]
    },
    {
     "name": "stderr",
     "output_type": "stream",
     "text": [
      "2022-01-31 19:27:19,332 - INFO - Going to follow `user_id` 45633167196.\n"
     ]
    },
    {
     "name": "stdout",
     "output_type": "stream",
     "text": [
      "\n",
      "USER_NAME: jysdc, FOLLOWER: 341, FOLLOWING: 4741\n",
      "\u001b[31m\n",
      "following_count > bot.max_following_to_follow, skipping!\u001b[0m\n",
      "\u001b[;1m\u001b[32mAdding '48624370107' to `c:\\Users\\Bharat Anand\\Downloads\\projects_repo\\passion_projects\\Creating-insta-bot/config/skipped.txt`.\u001b[0m\u001b[0m\n",
      "New following : 66\n"
     ]
    },
    {
     "name": "stderr",
     "output_type": "stream",
     "text": [
      "2022-01-31 19:27:24,541 - INFO - Going to follow `user_id` 48407453483.\n"
     ]
    },
    {
     "name": "stdout",
     "output_type": "stream",
     "text": [
      "\n",
      "USER_NAME: _editzbro, FOLLOWER: 410, FOLLOWING: 73\n",
      "\u001b[31m\n",
      "media_count < bot.min_media_count_to_follow, BOT or INACTIVE, skipping!\u001b[0m\n",
      "\u001b[;1m\u001b[32mAdding '45633167196' to `c:\\Users\\Bharat Anand\\Downloads\\projects_repo\\passion_projects\\Creating-insta-bot/config/skipped.txt`.\u001b[0m\u001b[0m\n",
      "New following : 66\n",
      "\n",
      "USER_NAME: sarcastick_says, FOLLOWER: 922, FOLLOWING: 178\n"
     ]
    },
    {
     "name": "stderr",
     "output_type": "stream",
     "text": [
      "2022-01-31 19:27:29,686 - INFO - Followed `user_id` 48407453483.\n",
      "2022-01-31 19:27:29,688 - INFO - Going to follow `user_id` 33744754547.\n"
     ]
    },
    {
     "name": "stdout",
     "output_type": "stream",
     "text": [
      "\u001b[;1m\u001b[32mAdding '48407453483' to `c:\\Users\\Bharat Anand\\Downloads\\projects_repo\\passion_projects\\Creating-insta-bot/config/followed.txt`.\u001b[0m\u001b[0m\n",
      "New following : 67\n",
      "\n",
      "USER_NAME: utkrisht.ladke_, FOLLOWER: 1522, FOLLOWING: 1788\n"
     ]
    },
    {
     "name": "stderr",
     "output_type": "stream",
     "text": [
      "2022-01-31 19:27:49,964 - INFO - Followed `user_id` 33744754547.\n",
      "2022-01-31 19:27:49,965 - INFO - Going to follow `user_id` 48387890911.\n"
     ]
    },
    {
     "name": "stdout",
     "output_type": "stream",
     "text": [
      "\u001b[;1m\u001b[32mAdding '33744754547' to `c:\\Users\\Bharat Anand\\Downloads\\projects_repo\\passion_projects\\Creating-insta-bot/config/followed.txt`.\u001b[0m\u001b[0m\n",
      "New following : 68\n",
      "\n",
      "USER_NAME: miini38, FOLLOWER: 374, FOLLOWING: 680\n"
     ]
    },
    {
     "name": "stderr",
     "output_type": "stream",
     "text": [
      "2022-01-31 19:28:07,862 - INFO - Followed `user_id` 48387890911.\n",
      "2022-01-31 19:28:07,864 - INFO - Going to follow `user_id` 46210328149.\n"
     ]
    },
    {
     "name": "stdout",
     "output_type": "stream",
     "text": [
      "\u001b[;1m\u001b[32mAdding '48387890911' to `c:\\Users\\Bharat Anand\\Downloads\\projects_repo\\passion_projects\\Creating-insta-bot/config/followed.txt`.\u001b[0m\u001b[0m\n",
      "New following : 69\n",
      "\n",
      "USER_NAME: roayl__stag__00, FOLLOWER: 907, FOLLOWING: 1408\n"
     ]
    },
    {
     "name": "stderr",
     "output_type": "stream",
     "text": [
      "2022-01-31 19:28:19,144 - INFO - Followed `user_id` 46210328149.\n",
      "2022-01-31 19:28:19,152 - INFO - Going to follow `user_id` 46909264303.\n"
     ]
    },
    {
     "name": "stdout",
     "output_type": "stream",
     "text": [
      "\u001b[;1m\u001b[32mAdding '46210328149' to `c:\\Users\\Bharat Anand\\Downloads\\projects_repo\\passion_projects\\Creating-insta-bot/config/followed.txt`.\u001b[0m\u001b[0m\n",
      "New following : 70\n",
      "\n",
      "USER_NAME: ifyouare1, FOLLOWER: 256, FOLLOWING: 263\n"
     ]
    },
    {
     "name": "stderr",
     "output_type": "stream",
     "text": [
      "2022-01-31 19:28:31,753 - INFO - Followed `user_id` 46909264303.\n",
      "2022-01-31 19:28:31,755 - INFO - Going to follow `user_id` 47806065576.\n"
     ]
    },
    {
     "name": "stdout",
     "output_type": "stream",
     "text": [
      "\u001b[;1m\u001b[32mAdding '46909264303' to `c:\\Users\\Bharat Anand\\Downloads\\projects_repo\\passion_projects\\Creating-insta-bot/config/followed.txt`.\u001b[0m\u001b[0m\n",
      "New following : 71\n",
      "\n",
      "USER_NAME: shameless.baalika, FOLLOWER: 1042, FOLLOWING: 901\n"
     ]
    },
    {
     "name": "stderr",
     "output_type": "stream",
     "text": [
      "2022-01-31 19:28:53,718 - INFO - Followed `user_id` 47806065576.\n",
      "2022-01-31 19:28:53,720 - INFO - Going to follow `user_id` 44691688814.\n"
     ]
    },
    {
     "name": "stdout",
     "output_type": "stream",
     "text": [
      "\u001b[;1m\u001b[32mAdding '47806065576' to `c:\\Users\\Bharat Anand\\Downloads\\projects_repo\\passion_projects\\Creating-insta-bot/config/followed.txt`.\u001b[0m\u001b[0m\n",
      "New following : 72\n"
     ]
    },
    {
     "name": "stderr",
     "output_type": "stream",
     "text": [
      "2022-01-31 19:28:57,004 - INFO - Going to follow `user_id` 48260731258.\n"
     ]
    },
    {
     "name": "stdout",
     "output_type": "stream",
     "text": [
      "\n",
      "USER_NAME: toxicladka.xo, FOLLOWER: 109, FOLLOWING: 222\n",
      "\u001b[31m\n",
      "media_count < bot.min_media_count_to_follow, BOT or INACTIVE, skipping!\u001b[0m\n",
      "\u001b[;1m\u001b[32mAdding '44691688814' to `c:\\Users\\Bharat Anand\\Downloads\\projects_repo\\passion_projects\\Creating-insta-bot/config/skipped.txt`.\u001b[0m\u001b[0m\n",
      "New following : 72\n"
     ]
    },
    {
     "name": "stderr",
     "output_type": "stream",
     "text": [
      "2022-01-31 19:29:00,182 - INFO - Going to follow `user_id` 35441718474.\n"
     ]
    },
    {
     "name": "stdout",
     "output_type": "stream",
     "text": [
      "\n",
      "USER_NAME: nushrat__singh, FOLLOWER: 37, FOLLOWING: 37\n",
      "\u001b[31m\n",
      "media_count < bot.min_media_count_to_follow, BOT or INACTIVE, skipping!\u001b[0m\n",
      "\u001b[;1m\u001b[32mAdding '48260731258' to `c:\\Users\\Bharat Anand\\Downloads\\projects_repo\\passion_projects\\Creating-insta-bot/config/skipped.txt`.\u001b[0m\u001b[0m\n",
      "New following : 72\n"
     ]
    },
    {
     "name": "stderr",
     "output_type": "stream",
     "text": [
      "2022-01-31 19:29:03,435 - INFO - Going to follow `user_id` 47941699003.\n"
     ]
    },
    {
     "name": "stdout",
     "output_type": "stream",
     "text": [
      "\n",
      "USER_NAME: indiansocialcenter, FOLLOWER: 755, FOLLOWING: 802\n",
      "\u001b[31m\n",
      "info: account is PRIVATE, skipping! \u001b[0m\n",
      "\u001b[;1m\u001b[32mAdding '35441718474' to `c:\\Users\\Bharat Anand\\Downloads\\projects_repo\\passion_projects\\Creating-insta-bot/config/skipped.txt`.\u001b[0m\u001b[0m\n",
      "New following : 72\n",
      "\n",
      "USER_NAME: _oye_thoughts, FOLLOWER: 26, FOLLOWING: 11\n"
     ]
    },
    {
     "name": "stderr",
     "output_type": "stream",
     "text": [
      "2022-01-31 19:29:09,510 - INFO - Followed `user_id` 47941699003.\n",
      "2022-01-31 19:29:09,516 - INFO - Going to follow `user_id` 12367159736.\n"
     ]
    },
    {
     "name": "stdout",
     "output_type": "stream",
     "text": [
      "\u001b[;1m\u001b[32mAdding '47941699003' to `c:\\Users\\Bharat Anand\\Downloads\\projects_repo\\passion_projects\\Creating-insta-bot/config/followed.txt`.\u001b[0m\u001b[0m\n",
      "New following : 73\n"
     ]
    },
    {
     "name": "stderr",
     "output_type": "stream",
     "text": [
      "2022-01-31 19:29:12,695 - INFO - Going to follow `user_id` 47841487021.\n"
     ]
    },
    {
     "name": "stdout",
     "output_type": "stream",
     "text": [
      "\n",
      "USER_NAME: som_de_chuva_para_dormir, FOLLOWER: 12346, FOLLOWING: 3776\n",
      "\u001b[31m\n",
      "follower_count > bot.max_followers_to_follow, skipping!\u001b[0m\n",
      "\u001b[;1m\u001b[32mAdding '12367159736' to `c:\\Users\\Bharat Anand\\Downloads\\projects_repo\\passion_projects\\Creating-insta-bot/config/skipped.txt`.\u001b[0m\u001b[0m\n",
      "New following : 73\n"
     ]
    },
    {
     "name": "stderr",
     "output_type": "stream",
     "text": [
      "2022-01-31 19:29:15,728 - INFO - Going to follow `user_id` 41963689845.\n"
     ]
    },
    {
     "name": "stdout",
     "output_type": "stream",
     "text": [
      "\n",
      "USER_NAME: heyy_kairavi, FOLLOWER: 477, FOLLOWING: 515\n",
      "\u001b[31m\n",
      "media_count < bot.min_media_count_to_follow, BOT or INACTIVE, skipping!\u001b[0m\n",
      "\u001b[;1m\u001b[32mAdding '47841487021' to `c:\\Users\\Bharat Anand\\Downloads\\projects_repo\\passion_projects\\Creating-insta-bot/config/skipped.txt`.\u001b[0m\u001b[0m\n",
      "New following : 73\n",
      "\n",
      "USER_NAME: nasarkt31, FOLLOWER: 82, FOLLOWING: 653\n"
     ]
    },
    {
     "name": "stderr",
     "output_type": "stream",
     "text": [
      "2022-01-31 19:29:31,417 - INFO - Followed `user_id` 41963689845.\n",
      "2022-01-31 19:29:31,420 - INFO - Going to follow `user_id` 47663074876.\n"
     ]
    },
    {
     "name": "stdout",
     "output_type": "stream",
     "text": [
      "\u001b[;1m\u001b[32mAdding '41963689845' to `c:\\Users\\Bharat Anand\\Downloads\\projects_repo\\passion_projects\\Creating-insta-bot/config/followed.txt`.\u001b[0m\u001b[0m\n",
      "New following : 74\n",
      "\n",
      "USER_NAME: smile_duniya00, FOLLOWER: 469, FOLLOWING: 356\n"
     ]
    },
    {
     "name": "stderr",
     "output_type": "stream",
     "text": [
      "2022-01-31 19:29:52,496 - INFO - Followed `user_id` 47663074876.\n",
      "2022-01-31 19:29:52,497 - INFO - Going to follow `user_id` 44793966389.\n"
     ]
    },
    {
     "name": "stdout",
     "output_type": "stream",
     "text": [
      "\u001b[;1m\u001b[32mAdding '47663074876' to `c:\\Users\\Bharat Anand\\Downloads\\projects_repo\\passion_projects\\Creating-insta-bot/config/followed.txt`.\u001b[0m\u001b[0m\n",
      "New following : 75\n"
     ]
    },
    {
     "name": "stderr",
     "output_type": "stream",
     "text": [
      "2022-01-31 19:29:56,875 - INFO - Going to follow `user_id` 47498251756.\n"
     ]
    },
    {
     "name": "stdout",
     "output_type": "stream",
     "text": [
      "\n",
      "USER_NAME: 123smkjla, FOLLOWER: 941, FOLLOWING: 456\n",
      "\u001b[31m\n",
      "media_count < bot.min_media_count_to_follow, BOT or INACTIVE, skipping!\u001b[0m\n",
      "\u001b[;1m\u001b[32mAdding '44793966389' to `c:\\Users\\Bharat Anand\\Downloads\\projects_repo\\passion_projects\\Creating-insta-bot/config/skipped.txt`.\u001b[0m\u001b[0m\n",
      "New following : 75\n",
      "\n",
      "USER_NAME: sarcastic_balak_04, FOLLOWER: 649, FOLLOWING: 1221\n"
     ]
    },
    {
     "name": "stderr",
     "output_type": "stream",
     "text": [
      "2022-01-31 19:30:07,253 - INFO - Followed `user_id` 47498251756.\n",
      "2022-01-31 19:30:07,256 - INFO - Going to follow `user_id` 32103350250.\n"
     ]
    },
    {
     "name": "stdout",
     "output_type": "stream",
     "text": [
      "\u001b[;1m\u001b[32mAdding '47498251756' to `c:\\Users\\Bharat Anand\\Downloads\\projects_repo\\passion_projects\\Creating-insta-bot/config/followed.txt`.\u001b[0m\u001b[0m\n",
      "New following : 76\n",
      "\n",
      "USER_NAME: de.vil_of_the_hell, FOLLOWER: 597, FOLLOWING: 824\n"
     ]
    },
    {
     "name": "stderr",
     "output_type": "stream",
     "text": [
      "2022-01-31 19:30:27,666 - INFO - Followed `user_id` 32103350250.\n",
      "2022-01-31 19:30:27,668 - INFO - Going to follow `user_id` 46967684936.\n"
     ]
    },
    {
     "name": "stdout",
     "output_type": "stream",
     "text": [
      "\u001b[;1m\u001b[32mAdding '32103350250' to `c:\\Users\\Bharat Anand\\Downloads\\projects_repo\\passion_projects\\Creating-insta-bot/config/followed.txt`.\u001b[0m\u001b[0m\n",
      "New following : 77\n",
      "\n",
      "USER_NAME: _wtfkudi, FOLLOWER: 431, FOLLOWING: 467\n"
     ]
    },
    {
     "name": "stderr",
     "output_type": "stream",
     "text": [
      "2022-01-31 19:30:38,285 - INFO - Followed `user_id` 46967684936.\n",
      "2022-01-31 19:30:38,286 - INFO - Going to follow `user_id` 44690153664.\n"
     ]
    },
    {
     "name": "stdout",
     "output_type": "stream",
     "text": [
      "\u001b[;1m\u001b[32mAdding '46967684936' to `c:\\Users\\Bharat Anand\\Downloads\\projects_repo\\passion_projects\\Creating-insta-bot/config/followed.txt`.\u001b[0m\u001b[0m\n",
      "New following : 78\n",
      "\n",
      "USER_NAME: memesbymunna7, FOLLOWER: 512, FOLLOWING: 971\n"
     ]
    },
    {
     "name": "stderr",
     "output_type": "stream",
     "text": [
      "2022-01-31 19:30:51,142 - INFO - Followed `user_id` 44690153664.\n",
      "2022-01-31 19:30:51,144 - INFO - Going to follow `user_id` 47767993611.\n"
     ]
    },
    {
     "name": "stdout",
     "output_type": "stream",
     "text": [
      "\u001b[;1m\u001b[32mAdding '44690153664' to `c:\\Users\\Bharat Anand\\Downloads\\projects_repo\\passion_projects\\Creating-insta-bot/config/followed.txt`.\u001b[0m\u001b[0m\n",
      "New following : 79\n",
      "\n",
      "USER_NAME: thebr0wnguy, FOLLOWER: 875, FOLLOWING: 260\n"
     ]
    },
    {
     "name": "stderr",
     "output_type": "stream",
     "text": [
      "2022-01-31 19:31:02,754 - INFO - Followed `user_id` 47767993611.\n",
      "2022-01-31 19:31:02,761 - INFO - Going to follow `user_id` 47445219309.\n"
     ]
    },
    {
     "name": "stdout",
     "output_type": "stream",
     "text": [
      "\u001b[;1m\u001b[32mAdding '47767993611' to `c:\\Users\\Bharat Anand\\Downloads\\projects_repo\\passion_projects\\Creating-insta-bot/config/followed.txt`.\u001b[0m\u001b[0m\n",
      "New following : 80\n",
      "\n",
      "USER_NAME: just_adult_0, FOLLOWER: 311, FOLLOWING: 267\n"
     ]
    },
    {
     "name": "stderr",
     "output_type": "stream",
     "text": [
      "2022-01-31 19:31:19,052 - INFO - Followed `user_id` 47445219309.\n",
      "2022-01-31 19:31:19,054 - INFO - Going to follow `user_id` 48100844783.\n"
     ]
    },
    {
     "name": "stdout",
     "output_type": "stream",
     "text": [
      "\u001b[;1m\u001b[32mAdding '47445219309' to `c:\\Users\\Bharat Anand\\Downloads\\projects_repo\\passion_projects\\Creating-insta-bot/config/followed.txt`.\u001b[0m\u001b[0m\n",
      "New following : 81\n"
     ]
    },
    {
     "name": "stderr",
     "output_type": "stream",
     "text": [
      "2022-01-31 19:31:23,294 - INFO - Going to follow `user_id` 40738921202.\n"
     ]
    },
    {
     "name": "stdout",
     "output_type": "stream",
     "text": [
      "\n",
      "USER_NAME: farzi__memer_01, FOLLOWER: 32, FOLLOWING: 54\n",
      "\u001b[31m\n",
      "media_count < bot.min_media_count_to_follow, BOT or INACTIVE, skipping!\u001b[0m\n",
      "\u001b[;1m\u001b[32mAdding '48100844783' to `c:\\Users\\Bharat Anand\\Downloads\\projects_repo\\passion_projects\\Creating-insta-bot/config/skipped.txt`.\u001b[0m\u001b[0m\n",
      "New following : 81\n"
     ]
    },
    {
     "name": "stderr",
     "output_type": "stream",
     "text": [
      "2022-01-31 19:31:27,674 - INFO - Going to follow `user_id` 48877332072.\n"
     ]
    },
    {
     "name": "stdout",
     "output_type": "stream",
     "text": [
      "\n",
      "USER_NAME: bad_habits143, FOLLOWER: 3713, FOLLOWING: 3590\n",
      "\u001b[31m\n",
      "following_count > bot.max_following_to_follow, skipping!\u001b[0m\n",
      "\u001b[;1m\u001b[32mAdding '40738921202' to `c:\\Users\\Bharat Anand\\Downloads\\projects_repo\\passion_projects\\Creating-insta-bot/config/skipped.txt`.\u001b[0m\u001b[0m\n",
      "New following : 81\n"
     ]
    },
    {
     "name": "stderr",
     "output_type": "stream",
     "text": [
      "2022-01-31 19:31:32,476 - INFO - Going to follow `user_id` 37601714476.\n"
     ]
    },
    {
     "name": "stdout",
     "output_type": "stream",
     "text": [
      "\n",
      "USER_NAME: kalyugbc, FOLLOWER: 57, FOLLOWING: 82\n",
      "\u001b[31m\n",
      "media_count < bot.min_media_count_to_follow, BOT or INACTIVE, skipping!\u001b[0m\n",
      "\u001b[;1m\u001b[32mAdding '48877332072' to `c:\\Users\\Bharat Anand\\Downloads\\projects_repo\\passion_projects\\Creating-insta-bot/config/skipped.txt`.\u001b[0m\u001b[0m\n",
      "New following : 81\n"
     ]
    },
    {
     "name": "stderr",
     "output_type": "stream",
     "text": [
      "2022-01-31 19:31:34,959 - INFO - Going to follow `user_id` 41950044181.\n"
     ]
    },
    {
     "name": "stdout",
     "output_type": "stream",
     "text": [
      "\n",
      "USER_NAME: they_call_me_renu_, FOLLOWER: 243, FOLLOWING: 440\n",
      "\u001b[31m\n",
      "media_count < bot.min_media_count_to_follow, BOT or INACTIVE, skipping!\u001b[0m\n",
      "\u001b[;1m\u001b[32mAdding '37601714476' to `c:\\Users\\Bharat Anand\\Downloads\\projects_repo\\passion_projects\\Creating-insta-bot/config/skipped.txt`.\u001b[0m\u001b[0m\n",
      "New following : 81\n"
     ]
    },
    {
     "name": "stderr",
     "output_type": "stream",
     "text": [
      "2022-01-31 19:31:37,683 - INFO - Going to follow `user_id` 45263503992.\n"
     ]
    },
    {
     "name": "stdout",
     "output_type": "stream",
     "text": [
      "\n",
      "USER_NAME: talented.world_ig_, FOLLOWER: 52456, FOLLOWING: 5279\n",
      "\u001b[31m\n",
      "follower_count > bot.max_followers_to_follow, skipping!\u001b[0m\n",
      "\u001b[;1m\u001b[32mAdding '41950044181' to `c:\\Users\\Bharat Anand\\Downloads\\projects_repo\\passion_projects\\Creating-insta-bot/config/skipped.txt`.\u001b[0m\u001b[0m\n",
      "New following : 81\n"
     ]
    },
    {
     "name": "stderr",
     "output_type": "stream",
     "text": [
      "2022-01-31 19:31:41,766 - INFO - Going to follow `user_id` 48603844967.\n"
     ]
    },
    {
     "name": "stdout",
     "output_type": "stream",
     "text": [
      "\n",
      "USER_NAME: rajanpaatlaan, FOLLOWER: 826, FOLLOWING: 2362\n",
      "\u001b[31m\n",
      "following_count > bot.max_following_to_follow, skipping!\u001b[0m\n",
      "\u001b[;1m\u001b[32mAdding '45263503992' to `c:\\Users\\Bharat Anand\\Downloads\\projects_repo\\passion_projects\\Creating-insta-bot/config/skipped.txt`.\u001b[0m\u001b[0m\n",
      "New following : 81\n"
     ]
    },
    {
     "name": "stderr",
     "output_type": "stream",
     "text": [
      "2022-01-31 19:31:45,092 - INFO - Going to follow `user_id` 48057251305.\n"
     ]
    },
    {
     "name": "stdout",
     "output_type": "stream",
     "text": [
      "\n",
      "USER_NAME: dorjaytenzin5, FOLLOWER: 19, FOLLOWING: 24\n",
      "\u001b[31m\n",
      "media_count < bot.min_media_count_to_follow, BOT or INACTIVE, skipping!\u001b[0m\n",
      "\u001b[;1m\u001b[32mAdding '48603844967' to `c:\\Users\\Bharat Anand\\Downloads\\projects_repo\\passion_projects\\Creating-insta-bot/config/skipped.txt`.\u001b[0m\u001b[0m\n",
      "New following : 81\n",
      "\n",
      "USER_NAME: heysarcastic_, FOLLOWER: 167, FOLLOWING: 524\n"
     ]
    },
    {
     "name": "stderr",
     "output_type": "stream",
     "text": [
      "2022-01-31 19:31:48,350 - INFO - Followed `user_id` 48057251305.\n",
      "2022-01-31 19:31:48,352 - INFO - Going to follow `user_id` 47491177812.\n"
     ]
    },
    {
     "name": "stdout",
     "output_type": "stream",
     "text": [
      "\u001b[;1m\u001b[32mAdding '48057251305' to `c:\\Users\\Bharat Anand\\Downloads\\projects_repo\\passion_projects\\Creating-insta-bot/config/followed.txt`.\u001b[0m\u001b[0m\n",
      "New following : 82\n",
      "\n",
      "USER_NAME: kaafihilarious, FOLLOWER: 2031, FOLLOWING: 1209\n"
     ]
    },
    {
     "name": "stderr",
     "output_type": "stream",
     "text": [
      "2022-01-31 19:32:09,071 - INFO - Followed `user_id` 47491177812.\n",
      "2022-01-31 19:32:09,072 - INFO - Going to follow `user_id` 12900579618.\n"
     ]
    },
    {
     "name": "stdout",
     "output_type": "stream",
     "text": [
      "\u001b[;1m\u001b[32mAdding '47491177812' to `c:\\Users\\Bharat Anand\\Downloads\\projects_repo\\passion_projects\\Creating-insta-bot/config/followed.txt`.\u001b[0m\u001b[0m\n",
      "New following : 83\n"
     ]
    },
    {
     "name": "stderr",
     "output_type": "stream",
     "text": [
      "2022-01-31 19:32:13,369 - INFO - Going to follow `user_id` 26293750343.\n"
     ]
    },
    {
     "name": "stdout",
     "output_type": "stream",
     "text": [
      "\n",
      "USER_NAME: _stupidthought_, FOLLOWER: 193, FOLLOWING: 2308\n",
      "\u001b[31m\n",
      "following_count > bot.max_following_to_follow, skipping!\u001b[0m\n",
      "\u001b[;1m\u001b[32mAdding '12900579618' to `c:\\Users\\Bharat Anand\\Downloads\\projects_repo\\passion_projects\\Creating-insta-bot/config/skipped.txt`.\u001b[0m\u001b[0m\n",
      "New following : 83\n"
     ]
    },
    {
     "name": "stderr",
     "output_type": "stream",
     "text": [
      "2022-01-31 19:32:16,203 - INFO - Going to follow `user_id` 48427335293.\n"
     ]
    },
    {
     "name": "stdout",
     "output_type": "stream",
     "text": [
      "\n",
      "USER_NAME: systemhaikyaa, FOLLOWER: 1224, FOLLOWING: 3414\n",
      "\u001b[31m\n",
      "following_count > bot.max_following_to_follow, skipping!\u001b[0m\n",
      "\u001b[;1m\u001b[32mAdding '26293750343' to `c:\\Users\\Bharat Anand\\Downloads\\projects_repo\\passion_projects\\Creating-insta-bot/config/skipped.txt`.\u001b[0m\u001b[0m\n",
      "New following : 83\n",
      "\n",
      "USER_NAME: blossom_sayss, FOLLOWER: 2290, FOLLOWING: 1147\n"
     ]
    },
    {
     "name": "stderr",
     "output_type": "stream",
     "text": [
      "2022-01-31 19:32:30,020 - INFO - Followed `user_id` 48427335293.\n",
      "2022-01-31 19:32:30,026 - INFO - Going to follow `user_id` 48613246733.\n"
     ]
    },
    {
     "name": "stdout",
     "output_type": "stream",
     "text": [
      "\u001b[;1m\u001b[32mAdding '48427335293' to `c:\\Users\\Bharat Anand\\Downloads\\projects_repo\\passion_projects\\Creating-insta-bot/config/followed.txt`.\u001b[0m\u001b[0m\n",
      "New following : 84\n",
      "\n",
      "USER_NAME: _____i_____00, FOLLOWER: 578, FOLLOWING: 917\n"
     ]
    },
    {
     "name": "stderr",
     "output_type": "stream",
     "text": [
      "2022-01-31 19:32:53,148 - INFO - Followed `user_id` 48613246733.\n",
      "2022-01-31 19:32:53,150 - INFO - Going to follow `user_id` 22989570334.\n"
     ]
    },
    {
     "name": "stdout",
     "output_type": "stream",
     "text": [
      "\u001b[;1m\u001b[32mAdding '48613246733' to `c:\\Users\\Bharat Anand\\Downloads\\projects_repo\\passion_projects\\Creating-insta-bot/config/followed.txt`.\u001b[0m\u001b[0m\n",
      "New following : 85\n"
     ]
    },
    {
     "name": "stderr",
     "output_type": "stream",
     "text": [
      "2022-01-31 19:32:57,475 - INFO - Going to follow `user_id` 47795215331.\n"
     ]
    },
    {
     "name": "stdout",
     "output_type": "stream",
     "text": [
      "\n",
      "USER_NAME: tanishk_pandit03, FOLLOWER: 7078, FOLLOWING: 1375\n",
      "\u001b[31m\n",
      "follower_count > bot.max_followers_to_follow, skipping!\u001b[0m\n",
      "\u001b[;1m\u001b[32mAdding '22989570334' to `c:\\Users\\Bharat Anand\\Downloads\\projects_repo\\passion_projects\\Creating-insta-bot/config/skipped.txt`.\u001b[0m\u001b[0m\n",
      "New following : 85\n"
     ]
    },
    {
     "name": "stderr",
     "output_type": "stream",
     "text": [
      "2022-01-31 19:32:59,108 - INFO - Going to follow `user_id` 47781823737.\n"
     ]
    },
    {
     "name": "stdout",
     "output_type": "stream",
     "text": [
      "\n",
      "USER_NAME: priyanka_289216, FOLLOWER: 9, FOLLOWING: 7\n",
      "\u001b[31m\n",
      "follower_count < bot.min_followers_to_follow, skipping!\u001b[0m\n",
      "\u001b[;1m\u001b[32mAdding '47795215331' to `c:\\Users\\Bharat Anand\\Downloads\\projects_repo\\passion_projects\\Creating-insta-bot/config/skipped.txt`.\u001b[0m\u001b[0m\n",
      "New following : 85\n",
      "\n",
      "USER_NAME: 2.a.m_thought, FOLLOWER: 793, FOLLOWING: 729\n"
     ]
    },
    {
     "name": "stderr",
     "output_type": "stream",
     "text": [
      "2022-01-31 19:33:13,529 - INFO - Followed `user_id` 47781823737.\n",
      "2022-01-31 19:33:13,533 - INFO - Going to follow `user_id` 5377680001.\n"
     ]
    },
    {
     "name": "stdout",
     "output_type": "stream",
     "text": [
      "\u001b[;1m\u001b[32mAdding '47781823737' to `c:\\Users\\Bharat Anand\\Downloads\\projects_repo\\passion_projects\\Creating-insta-bot/config/followed.txt`.\u001b[0m\u001b[0m\n",
      "New following : 86\n"
     ]
    },
    {
     "name": "stderr",
     "output_type": "stream",
     "text": [
      "2022-01-31 19:33:16,511 - INFO - Going to follow `user_id` 43823337913.\n"
     ]
    },
    {
     "name": "stdout",
     "output_type": "stream",
     "text": [
      "\n",
      "USER_NAME: backchodd_launda, FOLLOWER: 13936, FOLLOWING: 553\n",
      "\u001b[31m\n",
      "follower_count > bot.max_followers_to_follow, skipping!\u001b[0m\n",
      "\u001b[;1m\u001b[32mAdding '5377680001' to `c:\\Users\\Bharat Anand\\Downloads\\projects_repo\\passion_projects\\Creating-insta-bot/config/skipped.txt`.\u001b[0m\u001b[0m\n",
      "New following : 86\n"
     ]
    },
    {
     "name": "stderr",
     "output_type": "stream",
     "text": [
      "2022-01-31 19:33:19,013 - INFO - Going to follow `user_id` 47930854666.\n"
     ]
    },
    {
     "name": "stdout",
     "output_type": "stream",
     "text": [
      "\n",
      "USER_NAME: justmemescasm, FOLLOWER: 1432, FOLLOWING: 2509\n",
      "\u001b[31m\n",
      "following_count > bot.max_following_to_follow, skipping!\u001b[0m\n",
      "\u001b[;1m\u001b[32mAdding '43823337913' to `c:\\Users\\Bharat Anand\\Downloads\\projects_repo\\passion_projects\\Creating-insta-bot/config/skipped.txt`.\u001b[0m\u001b[0m\n",
      "New following : 86\n",
      "\n",
      "USER_NAME: mem_es1904_, FOLLOWER: 308, FOLLOWING: 331\n"
     ]
    },
    {
     "name": "stderr",
     "output_type": "stream",
     "text": [
      "2022-01-31 19:33:24,972 - INFO - Followed `user_id` 47930854666.\n",
      "2022-01-31 19:33:24,975 - INFO - Going to follow `user_id` 47239432417.\n"
     ]
    },
    {
     "name": "stdout",
     "output_type": "stream",
     "text": [
      "\u001b[;1m\u001b[32mAdding '47930854666' to `c:\\Users\\Bharat Anand\\Downloads\\projects_repo\\passion_projects\\Creating-insta-bot/config/followed.txt`.\u001b[0m\u001b[0m\n",
      "New following : 87\n"
     ]
    },
    {
     "name": "stderr",
     "output_type": "stream",
     "text": [
      "2022-01-31 19:33:28,207 - INFO - Going to follow `user_id` 48582974700.\n"
     ]
    },
    {
     "name": "stdout",
     "output_type": "stream",
     "text": [
      "\n",
      "USER_NAME: criclover5423, FOLLOWER: 6, FOLLOWING: 15\n",
      "\u001b[31m\n",
      "follower_count < bot.min_followers_to_follow, skipping!\u001b[0m\n",
      "\u001b[;1m\u001b[32mAdding '47239432417' to `c:\\Users\\Bharat Anand\\Downloads\\projects_repo\\passion_projects\\Creating-insta-bot/config/skipped.txt`.\u001b[0m\u001b[0m\n",
      "New following : 87\n",
      "\n",
      "USER_NAME: hitler.the_german_shepherd, FOLLOWER: 102, FOLLOWING: 747\n"
     ]
    },
    {
     "name": "stderr",
     "output_type": "stream",
     "text": [
      "2022-01-31 19:33:37,322 - INFO - Followed `user_id` 48582974700.\n",
      "2022-01-31 19:33:37,323 - INFO - Going to follow `user_id` 47239063638.\n"
     ]
    },
    {
     "name": "stdout",
     "output_type": "stream",
     "text": [
      "\u001b[;1m\u001b[32mAdding '48582974700' to `c:\\Users\\Bharat Anand\\Downloads\\projects_repo\\passion_projects\\Creating-insta-bot/config/followed.txt`.\u001b[0m\u001b[0m\n",
      "New following : 88\n"
     ]
    },
    {
     "name": "stderr",
     "output_type": "stream",
     "text": [
      "2022-01-31 19:33:39,976 - INFO - Going to follow `user_id` 47698724926.\n"
     ]
    },
    {
     "name": "stdout",
     "output_type": "stream",
     "text": [
      "\n",
      "USER_NAME: vasavavishali1234567892021, FOLLOWER: 289, FOLLOWING: 1440\n",
      "\u001b[31m\n",
      "info: account is PRIVATE, skipping! \u001b[0m\n",
      "\u001b[;1m\u001b[32mAdding '47239063638' to `c:\\Users\\Bharat Anand\\Downloads\\projects_repo\\passion_projects\\Creating-insta-bot/config/skipped.txt`.\u001b[0m\u001b[0m\n",
      "New following : 88\n"
     ]
    },
    {
     "name": "stderr",
     "output_type": "stream",
     "text": [
      "2022-01-31 19:33:42,659 - INFO - Out of follows for today.\n",
      "2022-01-31 19:33:42,664 - INFO - Going to follow `user_id` 46837118693.\n"
     ]
    },
    {
     "name": "stdout",
     "output_type": "stream",
     "text": [
      "\n",
      "USER_NAME: shayar_said, FOLLOWER: 362, FOLLOWING: 366\n",
      "New following : 88\n"
     ]
    },
    {
     "name": "stderr",
     "output_type": "stream",
     "text": [
      "2022-01-31 19:33:44,726 - INFO - Out of follows for today.\n",
      "2022-01-31 19:33:44,727 - INFO - Going to follow `user_id` 44807892578.\n"
     ]
    },
    {
     "name": "stdout",
     "output_type": "stream",
     "text": [
      "\n",
      "USER_NAME: brok.enheart_01, FOLLOWER: 227, FOLLOWING: 224\n",
      "New following : 88\n"
     ]
    },
    {
     "name": "stderr",
     "output_type": "stream",
     "text": [
      "2022-01-31 19:33:48,064 - INFO - Going to follow `user_id` 46660715374.\n"
     ]
    },
    {
     "name": "stdout",
     "output_type": "stream",
     "text": [
      "\n",
      "USER_NAME: backcher_meme, FOLLOWER: 1198, FOLLOWING: 2557\n",
      "\u001b[31m\n",
      "following_count > bot.max_following_to_follow, skipping!\u001b[0m\n",
      "\u001b[;1m\u001b[32mAdding '44807892578' to `c:\\Users\\Bharat Anand\\Downloads\\projects_repo\\passion_projects\\Creating-insta-bot/config/skipped.txt`.\u001b[0m\u001b[0m\n",
      "New following : 88\n"
     ]
    },
    {
     "name": "stderr",
     "output_type": "stream",
     "text": [
      "2022-01-31 19:33:52,076 - INFO - Going to follow `user_id` 48275310428.\n"
     ]
    },
    {
     "name": "stdout",
     "output_type": "stream",
     "text": [
      "\n",
      "USER_NAME: mah_deepwords, FOLLOWER: 1652, FOLLOWING: 2568\n",
      "\u001b[31m\n",
      "following_count > bot.max_following_to_follow, skipping!\u001b[0m\n",
      "\u001b[;1m\u001b[32mAdding '46660715374' to `c:\\Users\\Bharat Anand\\Downloads\\projects_repo\\passion_projects\\Creating-insta-bot/config/skipped.txt`.\u001b[0m\u001b[0m\n",
      "New following : 88\n"
     ]
    },
    {
     "name": "stderr",
     "output_type": "stream",
     "text": [
      "2022-01-31 19:33:54,385 - INFO - Out of follows for today.\n",
      "2022-01-31 19:33:54,388 - INFO - Going to follow `user_id` 47875519917.\n"
     ]
    },
    {
     "name": "stdout",
     "output_type": "stream",
     "text": [
      "\n",
      "USER_NAME: oye_thats_the_fuck, FOLLOWER: 35, FOLLOWING: 37\n",
      "New following : 88\n"
     ]
    },
    {
     "name": "stderr",
     "output_type": "stream",
     "text": [
      "2022-01-31 19:33:57,924 - INFO - Going to follow `user_id` 45069689842.\n"
     ]
    },
    {
     "name": "stdout",
     "output_type": "stream",
     "text": [
      "\n",
      "USER_NAME: joycvelyn_wenzel, FOLLOWER: 2, FOLLOWING: 112\n",
      "\u001b[31m\n",
      "info: account is PRIVATE, skipping! \u001b[0m\n",
      "\u001b[;1m\u001b[32mAdding '47875519917' to `c:\\Users\\Bharat Anand\\Downloads\\projects_repo\\passion_projects\\Creating-insta-bot/config/skipped.txt`.\u001b[0m\u001b[0m\n",
      "New following : 88\n"
     ]
    },
    {
     "name": "stderr",
     "output_type": "stream",
     "text": [
      "2022-01-31 19:34:00,573 - INFO - Out of follows for today.\n",
      "2022-01-31 19:34:00,574 - INFO - Going to follow `user_id` 48035130512.\n"
     ]
    },
    {
     "name": "stdout",
     "output_type": "stream",
     "text": [
      "\n",
      "USER_NAME: ishlokstripathi, FOLLOWER: 845, FOLLOWING: 1435\n",
      "New following : 88\n"
     ]
    },
    {
     "name": "stderr",
     "output_type": "stream",
     "text": [
      "2022-01-31 19:34:02,512 - INFO - Going to follow `user_id` 47918167604.\n"
     ]
    },
    {
     "name": "stdout",
     "output_type": "stream",
     "text": [
      "\n",
      "USER_NAME: broken_heart_8288, FOLLOWER: 662, FOLLOWING: 4745\n",
      "\u001b[31m\n",
      "following_count > bot.max_following_to_follow, skipping!\u001b[0m\n",
      "\u001b[;1m\u001b[32mAdding '48035130512' to `c:\\Users\\Bharat Anand\\Downloads\\projects_repo\\passion_projects\\Creating-insta-bot/config/skipped.txt`.\u001b[0m\u001b[0m\n",
      "New following : 88\n"
     ]
    },
    {
     "name": "stderr",
     "output_type": "stream",
     "text": [
      "2022-01-31 19:34:04,748 - INFO - Going to follow `user_id` 48799824005.\n"
     ]
    },
    {
     "name": "stdout",
     "output_type": "stream",
     "text": [
      "\n",
      "USER_NAME: memenerds21, FOLLOWER: 1202, FOLLOWING: 2528\n",
      "\u001b[31m\n",
      "following_count > bot.max_following_to_follow, skipping!\u001b[0m\n",
      "\u001b[;1m\u001b[32mAdding '47918167604' to `c:\\Users\\Bharat Anand\\Downloads\\projects_repo\\passion_projects\\Creating-insta-bot/config/skipped.txt`.\u001b[0m\u001b[0m\n",
      "New following : 88\n"
     ]
    },
    {
     "name": "stderr",
     "output_type": "stream",
     "text": [
      "2022-01-31 19:34:08,962 - INFO - Going to follow `user_id` 13270008591.\n"
     ]
    },
    {
     "name": "stdout",
     "output_type": "stream",
     "text": [
      "\n",
      "USER_NAME: scary.neha_, FOLLOWER: 102, FOLLOWING: 117\n",
      "\u001b[31m\n",
      "info: account is PRIVATE, skipping! \u001b[0m\n",
      "\u001b[;1m\u001b[32mAdding '48799824005' to `c:\\Users\\Bharat Anand\\Downloads\\projects_repo\\passion_projects\\Creating-insta-bot/config/skipped.txt`.\u001b[0m\u001b[0m\n",
      "New following : 88\n"
     ]
    },
    {
     "name": "stderr",
     "output_type": "stream",
     "text": [
      "2022-01-31 19:34:12,614 - INFO - Out of follows for today.\n",
      "2022-01-31 19:34:12,615 - INFO - Going to follow `user_id` 48810842265.\n"
     ]
    },
    {
     "name": "stdout",
     "output_type": "stream",
     "text": [
      "\n",
      "USER_NAME: gungungupta1356, FOLLOWER: 234, FOLLOWING: 376\n",
      "New following : 88\n"
     ]
    },
    {
     "name": "stderr",
     "output_type": "stream",
     "text": [
      "2022-01-31 19:34:14,667 - INFO - Going to follow `user_id` 42871334509.\n"
     ]
    },
    {
     "name": "stdout",
     "output_type": "stream",
     "text": [
      "\n",
      "USER_NAME: wtf_meme_world2, FOLLOWER: 32, FOLLOWING: 57\n",
      "\u001b[31m\n",
      "media_count < bot.min_media_count_to_follow, BOT or INACTIVE, skipping!\u001b[0m\n",
      "\u001b[;1m\u001b[32mAdding '48810842265' to `c:\\Users\\Bharat Anand\\Downloads\\projects_repo\\passion_projects\\Creating-insta-bot/config/skipped.txt`.\u001b[0m\u001b[0m\n",
      "New following : 88\n"
     ]
    },
    {
     "name": "stderr",
     "output_type": "stream",
     "text": [
      "2022-01-31 19:34:16,778 - INFO - Out of follows for today.\n",
      "2022-01-31 19:34:16,781 - INFO - Going to follow `user_id` 46846785080.\n"
     ]
    },
    {
     "name": "stdout",
     "output_type": "stream",
     "text": [
      "\n",
      "USER_NAME: smiling_stars_._, FOLLOWER: 92, FOLLOWING: 219\n",
      "New following : 88\n"
     ]
    },
    {
     "name": "stderr",
     "output_type": "stream",
     "text": [
      "2022-01-31 19:34:19,376 - INFO - Out of follows for today.\n",
      "2022-01-31 19:34:19,378 - INFO - Going to follow `user_id` 49996895585.\n"
     ]
    },
    {
     "name": "stdout",
     "output_type": "stream",
     "text": [
      "\n",
      "USER_NAME: 69.errors, FOLLOWER: 771, FOLLOWING: 800\n",
      "New following : 88\n"
     ]
    },
    {
     "name": "stderr",
     "output_type": "stream",
     "text": [
      "2022-01-31 19:34:21,684 - INFO - Going to follow `user_id` 48036493846.\n"
     ]
    },
    {
     "name": "stdout",
     "output_type": "stream",
     "text": [
      "\n",
      "USER_NAME: khankakykhan, FOLLOWER: 12, FOLLOWING: 232\n",
      "\u001b[31m\n",
      "following_count / follower_count > bot.max_following_to_followers_ratio, skipping!\u001b[0m\n",
      "\u001b[;1m\u001b[32mAdding '49996895585' to `c:\\Users\\Bharat Anand\\Downloads\\projects_repo\\passion_projects\\Creating-insta-bot/config/skipped.txt`.\u001b[0m\u001b[0m\n",
      "New following : 88\n"
     ]
    },
    {
     "name": "stderr",
     "output_type": "stream",
     "text": [
      "2022-01-31 19:34:25,756 - INFO - Going to follow `user_id` 48669248070.\n"
     ]
    },
    {
     "name": "stdout",
     "output_type": "stream",
     "text": [
      "\n",
      "USER_NAME: its.___true, FOLLOWER: 1137, FOLLOWING: 3555\n",
      "\u001b[31m\n",
      "following_count > bot.max_following_to_follow, skipping!\u001b[0m\n",
      "\u001b[;1m\u001b[32mAdding '48036493846' to `c:\\Users\\Bharat Anand\\Downloads\\projects_repo\\passion_projects\\Creating-insta-bot/config/skipped.txt`.\u001b[0m\u001b[0m\n",
      "New following : 88\n"
     ]
    },
    {
     "name": "stderr",
     "output_type": "stream",
     "text": [
      "2022-01-31 19:34:28,902 - INFO - Out of follows for today.\n",
      "2022-01-31 19:34:28,903 - INFO - Going to follow `user_id` 47970465417.\n"
     ]
    },
    {
     "name": "stdout",
     "output_type": "stream",
     "text": [
      "\n",
      "USER_NAME: maha.dev0138, FOLLOWER: 28, FOLLOWING: 31\n",
      "New following : 88\n"
     ]
    },
    {
     "name": "stderr",
     "output_type": "stream",
     "text": [
      "2022-01-31 19:34:31,641 - INFO - Out of follows for today.\n",
      "2022-01-31 19:34:31,642 - INFO - Going to follow `user_id` 47464980052.\n"
     ]
    },
    {
     "name": "stdout",
     "output_type": "stream",
     "text": [
      "\n",
      "USER_NAME: mt.sarcasm, FOLLOWER: 258, FOLLOWING: 687\n",
      "New following : 88\n"
     ]
    },
    {
     "name": "stderr",
     "output_type": "stream",
     "text": [
      "2022-01-31 19:34:35,654 - INFO - Out of follows for today.\n",
      "2022-01-31 19:34:35,658 - INFO - Going to follow `user_id` 6743566943.\n"
     ]
    },
    {
     "name": "stdout",
     "output_type": "stream",
     "text": [
      "\n",
      "USER_NAME: girls_items56, FOLLOWER: 359, FOLLOWING: 862\n",
      "New following : 88\n"
     ]
    },
    {
     "name": "stderr",
     "output_type": "stream",
     "text": [
      "2022-01-31 19:34:37,308 - INFO - Out of follows for today.\n",
      "2022-01-31 19:34:37,308 - INFO - Going to follow `user_id` 43245287441.\n"
     ]
    },
    {
     "name": "stdout",
     "output_type": "stream",
     "text": [
      "\n",
      "USER_NAME: bewakoofx, FOLLOWER: 895, FOLLOWING: 246\n",
      "New following : 88\n"
     ]
    },
    {
     "name": "stderr",
     "output_type": "stream",
     "text": [
      "2022-01-31 19:34:40,390 - INFO - Going to follow `user_id` 35587663579.\n"
     ]
    },
    {
     "name": "stdout",
     "output_type": "stream",
     "text": [
      "\n",
      "USER_NAME: earnwithjd, FOLLOWER: 1220, FOLLOWING: 2343\n",
      "\u001b[31m\n",
      "following_count > bot.max_following_to_follow, skipping!\u001b[0m\n",
      "\u001b[;1m\u001b[32mAdding '43245287441' to `c:\\Users\\Bharat Anand\\Downloads\\projects_repo\\passion_projects\\Creating-insta-bot/config/skipped.txt`.\u001b[0m\u001b[0m\n",
      "New following : 88\n"
     ]
    },
    {
     "name": "stderr",
     "output_type": "stream",
     "text": [
      "2022-01-31 19:34:43,522 - INFO - Going to follow `user_id` 32643908381.\n"
     ]
    },
    {
     "name": "stdout",
     "output_type": "stream",
     "text": [
      "\n",
      "USER_NAME: walkinclo.set, FOLLOWER: 990, FOLLOWING: 5691\n",
      "\u001b[31m\n",
      "following_count > bot.max_following_to_follow, skipping!\u001b[0m\n",
      "\u001b[;1m\u001b[32mAdding '35587663579' to `c:\\Users\\Bharat Anand\\Downloads\\projects_repo\\passion_projects\\Creating-insta-bot/config/skipped.txt`.\u001b[0m\u001b[0m\n",
      "New following : 88\n"
     ]
    },
    {
     "name": "stderr",
     "output_type": "stream",
     "text": [
      "2022-01-31 19:34:45,450 - INFO - Out of follows for today.\n",
      "2022-01-31 19:34:45,451 - INFO - Going to follow `user_id` 47821358734.\n"
     ]
    },
    {
     "name": "stdout",
     "output_type": "stream",
     "text": [
      "\n",
      "USER_NAME: sarcastic_chhichhora, FOLLOWER: 614, FOLLOWING: 89\n",
      "New following : 88\n"
     ]
    },
    {
     "name": "stderr",
     "output_type": "stream",
     "text": [
      "2022-01-31 19:34:47,733 - INFO - Out of follows for today.\n",
      "2022-01-31 19:34:47,734 - INFO - Going to follow `user_id` 47586737146.\n"
     ]
    },
    {
     "name": "stdout",
     "output_type": "stream",
     "text": [
      "\n",
      "USER_NAME: _filmy_josh, FOLLOWER: 64, FOLLOWING: 76\n",
      "New following : 88\n"
     ]
    },
    {
     "name": "stderr",
     "output_type": "stream",
     "text": [
      "2022-01-31 19:34:52,023 - INFO - Out of follows for today.\n",
      "2022-01-31 19:34:52,024 - INFO - Going to follow `user_id` 45430088265.\n"
     ]
    },
    {
     "name": "stdout",
     "output_type": "stream",
     "text": [
      "\n",
      "USER_NAME: jokes_media90, FOLLOWER: 569, FOLLOWING: 727\n",
      "New following : 88\n"
     ]
    },
    {
     "name": "stderr",
     "output_type": "stream",
     "text": [
      "2022-01-31 19:34:55,236 - INFO - Going to follow `user_id` 47653363719.\n"
     ]
    },
    {
     "name": "stdout",
     "output_type": "stream",
     "text": [
      "\n",
      "USER_NAME: liftoff.beats, FOLLOWER: 6606, FOLLOWING: 1571\n",
      "\u001b[31m\n",
      "follower_count > bot.max_followers_to_follow, skipping!\u001b[0m\n",
      "\u001b[;1m\u001b[32mAdding '45430088265' to `c:\\Users\\Bharat Anand\\Downloads\\projects_repo\\passion_projects\\Creating-insta-bot/config/skipped.txt`.\u001b[0m\u001b[0m\n",
      "New following : 88\n"
     ]
    },
    {
     "name": "stderr",
     "output_type": "stream",
     "text": [
      "2022-01-31 19:34:58,846 - INFO - Out of follows for today.\n",
      "2022-01-31 19:34:58,850 - INFO - Going to follow `user_id` 48000929191.\n"
     ]
    },
    {
     "name": "stdout",
     "output_type": "stream",
     "text": [
      "\n",
      "USER_NAME: sanjesays, FOLLOWER: 1084, FOLLOWING: 937\n",
      "New following : 88\n"
     ]
    },
    {
     "name": "stderr",
     "output_type": "stream",
     "text": [
      "2022-01-31 19:35:02,543 - INFO - Going to follow `user_id` 46660697048.\n"
     ]
    },
    {
     "name": "stdout",
     "output_type": "stream",
     "text": [
      "\n",
      "USER_NAME: 3.59_ediitts, FOLLOWER: 961, FOLLOWING: 326\n",
      "\u001b[31m\n",
      "media_count < bot.min_media_count_to_follow, BOT or INACTIVE, skipping!\u001b[0m\n",
      "\u001b[;1m\u001b[32mAdding '48000929191' to `c:\\Users\\Bharat Anand\\Downloads\\projects_repo\\passion_projects\\Creating-insta-bot/config/skipped.txt`.\u001b[0m\u001b[0m\n",
      "New following : 88\n"
     ]
    },
    {
     "name": "stderr",
     "output_type": "stream",
     "text": [
      "2022-01-31 19:35:05,061 - INFO - Going to follow `user_id` 46740857640.\n"
     ]
    },
    {
     "name": "stdout",
     "output_type": "stream",
     "text": [
      "\n",
      "USER_NAME: anjan_das___1, FOLLOWER: 227, FOLLOWING: 674\n",
      "\u001b[31m\n",
      "info: account is PRIVATE, skipping! \u001b[0m\n",
      "\u001b[;1m\u001b[32mAdding '46660697048' to `c:\\Users\\Bharat Anand\\Downloads\\projects_repo\\passion_projects\\Creating-insta-bot/config/skipped.txt`.\u001b[0m\u001b[0m\n",
      "New following : 88\n"
     ]
    },
    {
     "name": "stderr",
     "output_type": "stream",
     "text": [
      "2022-01-31 19:35:08,133 - INFO - Going to follow `user_id` 47687898002.\n"
     ]
    },
    {
     "name": "stdout",
     "output_type": "stream",
     "text": [
      "\n",
      "USER_NAME: memer_god31, FOLLOWER: 11, FOLLOWING: 19\n",
      "\u001b[31m\n",
      "media_count < bot.min_media_count_to_follow, BOT or INACTIVE, skipping!\u001b[0m\n",
      "\u001b[;1m\u001b[32mAdding '46740857640' to `c:\\Users\\Bharat Anand\\Downloads\\projects_repo\\passion_projects\\Creating-insta-bot/config/skipped.txt`.\u001b[0m\u001b[0m\n",
      "New following : 88\n"
     ]
    },
    {
     "name": "stderr",
     "output_type": "stream",
     "text": [
      "2022-01-31 19:35:10,336 - INFO - Out of follows for today.\n",
      "2022-01-31 19:35:10,337 - INFO - Going to follow `user_id` 48606656019.\n"
     ]
    },
    {
     "name": "stdout",
     "output_type": "stream",
     "text": [
      "\n",
      "USER_NAME: memer_hu_bro_420, FOLLOWER: 575, FOLLOWING: 917\n",
      "New following : 88\n"
     ]
    },
    {
     "name": "stderr",
     "output_type": "stream",
     "text": [
      "2022-01-31 19:35:11,946 - INFO - Out of follows for today.\n",
      "2022-01-31 19:35:11,949 - INFO - Going to follow `user_id` 47950461291.\n"
     ]
    },
    {
     "name": "stdout",
     "output_type": "stream",
     "text": [
      "\n",
      "USER_NAME: bittertruth06, FOLLOWER: 358, FOLLOWING: 67\n",
      "New following : 88\n"
     ]
    },
    {
     "name": "stderr",
     "output_type": "stream",
     "text": [
      "2022-01-31 19:35:13,755 - INFO - Going to follow `user_id` 48185390864.\n"
     ]
    },
    {
     "name": "stdout",
     "output_type": "stream",
     "text": [
      "\n",
      "USER_NAME: naman_chaudhary2277, FOLLOWER: 38, FOLLOWING: 58\n",
      "\u001b[31m\n",
      "info: account is PRIVATE, skipping! \u001b[0m\n",
      "\u001b[;1m\u001b[32mAdding '47950461291' to `c:\\Users\\Bharat Anand\\Downloads\\projects_repo\\passion_projects\\Creating-insta-bot/config/skipped.txt`.\u001b[0m\u001b[0m\n",
      "New following : 88\n"
     ]
    },
    {
     "name": "stderr",
     "output_type": "stream",
     "text": [
      "2022-01-31 19:35:17,430 - INFO - Out of follows for today.\n",
      "2022-01-31 19:35:17,431 - INFO - Going to follow `user_id` 7025087223.\n"
     ]
    },
    {
     "name": "stdout",
     "output_type": "stream",
     "text": [
      "\n",
      "USER_NAME: memer_op__789, FOLLOWER: 72, FOLLOWING: 158\n",
      "New following : 88\n"
     ]
    },
    {
     "name": "stderr",
     "output_type": "stream",
     "text": [
      "2022-01-31 19:35:21,277 - INFO - Going to follow `user_id` 40090454732.\n"
     ]
    },
    {
     "name": "stdout",
     "output_type": "stream",
     "text": [
      "\n",
      "USER_NAME: feeldilse, FOLLOWER: 1984, FOLLOWING: 2906\n",
      "\u001b[31m\n",
      "following_count > bot.max_following_to_follow, skipping!\u001b[0m\n",
      "\u001b[;1m\u001b[32mAdding '7025087223' to `c:\\Users\\Bharat Anand\\Downloads\\projects_repo\\passion_projects\\Creating-insta-bot/config/skipped.txt`.\u001b[0m\u001b[0m\n",
      "New following : 88\n"
     ]
    },
    {
     "name": "stderr",
     "output_type": "stream",
     "text": [
      "2022-01-31 19:35:23,044 - INFO - Going to follow `user_id` 45301378854.\n"
     ]
    },
    {
     "name": "stdout",
     "output_type": "stream",
     "text": [
      "\n",
      "USER_NAME: wtff_adi, FOLLOWER: 1853, FOLLOWING: 1791\n",
      "\u001b[31m\n",
      "`bot.search_stop_words_in_user` found in user, skipping!\u001b[0m\n",
      "\u001b[;1m\u001b[32mAdding '40090454732' to `c:\\Users\\Bharat Anand\\Downloads\\projects_repo\\passion_projects\\Creating-insta-bot/config/skipped.txt`.\u001b[0m\u001b[0m\n",
      "New following : 88\n"
     ]
    },
    {
     "name": "stderr",
     "output_type": "stream",
     "text": [
      "2022-01-31 19:35:24,909 - INFO - Going to follow `user_id` 47936277709.\n"
     ]
    },
    {
     "name": "stdout",
     "output_type": "stream",
     "text": [
      "\n",
      "USER_NAME: naughty._reels, FOLLOWER: 1542, FOLLOWING: 2244\n",
      "\u001b[31m\n",
      "following_count > bot.max_following_to_follow, skipping!\u001b[0m\n",
      "\u001b[;1m\u001b[32mAdding '45301378854' to `c:\\Users\\Bharat Anand\\Downloads\\projects_repo\\passion_projects\\Creating-insta-bot/config/skipped.txt`.\u001b[0m\u001b[0m\n",
      "New following : 88\n"
     ]
    },
    {
     "name": "stderr",
     "output_type": "stream",
     "text": [
      "2022-01-31 19:35:28,757 - INFO - Out of follows for today.\n",
      "2022-01-31 19:35:28,758 - INFO - Going to follow `user_id` 41077090778.\n"
     ]
    },
    {
     "name": "stdout",
     "output_type": "stream",
     "text": [
      "\n",
      "USER_NAME: _freaky_fuzz, FOLLOWER: 32, FOLLOWING: 38\n",
      "New following : 88\n"
     ]
    },
    {
     "name": "stderr",
     "output_type": "stream",
     "text": [
      "2022-01-31 19:35:32,333 - INFO - Going to follow `user_id` 48751805000.\n"
     ]
    },
    {
     "name": "stdout",
     "output_type": "stream",
     "text": [
      "\n",
      "USER_NAME: mighty._.786, FOLLOWER: 6735, FOLLOWING: 2032\n",
      "\u001b[31m\n",
      "follower_count > bot.max_followers_to_follow, skipping!\u001b[0m\n",
      "\u001b[;1m\u001b[32mAdding '41077090778' to `c:\\Users\\Bharat Anand\\Downloads\\projects_repo\\passion_projects\\Creating-insta-bot/config/skipped.txt`.\u001b[0m\u001b[0m\n",
      "New following : 88\n"
     ]
    },
    {
     "name": "stderr",
     "output_type": "stream",
     "text": [
      "2022-01-31 19:35:34,563 - INFO - Out of follows for today.\n",
      "2022-01-31 19:35:34,564 - INFO - Going to follow `user_id` 47250375386.\n"
     ]
    },
    {
     "name": "stdout",
     "output_type": "stream",
     "text": [
      "\n",
      "USER_NAME: _.sassytalksss, FOLLOWER: 729, FOLLOWING: 279\n",
      "New following : 88\n"
     ]
    },
    {
     "name": "stderr",
     "output_type": "stream",
     "text": [
      "2022-01-31 19:35:37,681 - INFO - Out of follows for today.\n",
      "2022-01-31 19:35:37,683 - INFO - Going to follow `user_id` 44965196610.\n"
     ]
    },
    {
     "name": "stdout",
     "output_type": "stream",
     "text": [
      "\n",
      "USER_NAME: toxicmemer___, FOLLOWER: 644, FOLLOWING: 1965\n",
      "New following : 88\n"
     ]
    },
    {
     "name": "stderr",
     "output_type": "stream",
     "text": [
      "2022-01-31 19:35:40,717 - INFO - Out of follows for today.\n",
      "2022-01-31 19:35:40,718 - INFO - Going to follow `user_id` 39292244756.\n"
     ]
    },
    {
     "name": "stdout",
     "output_type": "stream",
     "text": [
      "\n",
      "USER_NAME: _aww_feelingz__, FOLLOWER: 1009, FOLLOWING: 733\n",
      "New following : 88\n"
     ]
    },
    {
     "name": "stderr",
     "output_type": "stream",
     "text": [
      "2022-01-31 19:35:44,180 - INFO - Going to follow `user_id` 48141586478.\n"
     ]
    },
    {
     "name": "stdout",
     "output_type": "stream",
     "text": [
      "\n",
      "USER_NAME: sacarstic_memer1, FOLLOWER: 460, FOLLOWING: 757\n",
      "\u001b[31m\n",
      "info: account is PRIVATE, skipping! \u001b[0m\n",
      "\u001b[;1m\u001b[32mAdding '39292244756' to `c:\\Users\\Bharat Anand\\Downloads\\projects_repo\\passion_projects\\Creating-insta-bot/config/skipped.txt`.\u001b[0m\u001b[0m\n",
      "New following : 88\n"
     ]
    },
    {
     "name": "stderr",
     "output_type": "stream",
     "text": [
      "2022-01-31 19:35:48,449 - INFO - Out of follows for today.\n",
      "2022-01-31 19:35:48,452 - INFO - Going to follow `user_id` 47551395631.\n"
     ]
    },
    {
     "name": "stdout",
     "output_type": "stream",
     "text": [
      "\n",
      "USER_NAME: mant.u9578, FOLLOWER: 120, FOLLOWING: 816\n",
      "New following : 88\n"
     ]
    },
    {
     "name": "stderr",
     "output_type": "stream",
     "text": [
      "2022-01-31 19:35:51,990 - INFO - Out of follows for today.\n",
      "2022-01-31 19:35:51,991 - INFO - Going to follow `user_id` 48757584395.\n"
     ]
    },
    {
     "name": "stdout",
     "output_type": "stream",
     "text": [
      "\n",
      "USER_NAME: nxbiin, FOLLOWER: 441, FOLLOWING: 407\n",
      "New following : 88\n"
     ]
    },
    {
     "name": "stderr",
     "output_type": "stream",
     "text": [
      "2022-01-31 19:35:54,294 - INFO - Out of follows for today.\n",
      "2022-01-31 19:35:54,295 - INFO - Going to follow `user_id` 47345652813.\n"
     ]
    },
    {
     "name": "stdout",
     "output_type": "stream",
     "text": [
      "\n",
      "USER_NAME: star_boy_satish_666, FOLLOWER: 1284, FOLLOWING: 1518\n",
      "New following : 88\n"
     ]
    },
    {
     "name": "stderr",
     "output_type": "stream",
     "text": [
      "2022-01-31 19:35:58,989 - INFO - Going to follow `user_id` 6855676793.\n"
     ]
    },
    {
     "name": "stdout",
     "output_type": "stream",
     "text": [
      "\n",
      "USER_NAME: memesbyamyy, FOLLOWER: 60, FOLLOWING: 77\n",
      "\u001b[31m\n",
      "info: account is PRIVATE, skipping! \u001b[0m\n",
      "\u001b[;1m\u001b[32mAdding '47345652813' to `c:\\Users\\Bharat Anand\\Downloads\\projects_repo\\passion_projects\\Creating-insta-bot/config/skipped.txt`.\u001b[0m\u001b[0m\n",
      "New following : 88\n"
     ]
    },
    {
     "name": "stderr",
     "output_type": "stream",
     "text": [
      "2022-01-31 19:36:03,293 - INFO - Out of follows for today.\n",
      "2022-01-31 19:36:03,294 - INFO - Going to follow `user_id` 46055080472.\n"
     ]
    },
    {
     "name": "stdout",
     "output_type": "stream",
     "text": [
      "\n",
      "USER_NAME: lil.thengsss__, FOLLOWER: 2476, FOLLOWING: 357\n",
      "New following : 88\n"
     ]
    },
    {
     "name": "stderr",
     "output_type": "stream",
     "text": [
      "2022-01-31 19:36:07,274 - INFO - Out of follows for today.\n",
      "2022-01-31 19:36:07,275 - INFO - Going to follow `user_id` 47846241367.\n"
     ]
    },
    {
     "name": "stdout",
     "output_type": "stream",
     "text": [
      "\n",
      "USER_NAME: _itzz__dk, FOLLOWER: 999, FOLLOWING: 1810\n",
      "New following : 88\n"
     ]
    },
    {
     "name": "stderr",
     "output_type": "stream",
     "text": [
      "2022-01-31 19:36:10,700 - INFO - Out of follows for today.\n",
      "2022-01-31 19:36:10,701 - INFO - Going to follow `user_id` 48252678943.\n"
     ]
    },
    {
     "name": "stdout",
     "output_type": "stream",
     "text": [
      "\n",
      "USER_NAME: deep_vibes17, FOLLOWER: 955, FOLLOWING: 840\n",
      "New following : 88\n"
     ]
    },
    {
     "name": "stderr",
     "output_type": "stream",
     "text": [
      "2022-01-31 19:36:12,908 - INFO - Going to follow `user_id` 48406327653.\n"
     ]
    },
    {
     "name": "stdout",
     "output_type": "stream",
     "text": [
      "\n",
      "USER_NAME: affiliate_manvith_, FOLLOWER: 1831, FOLLOWING: 3343\n",
      "\u001b[31m\n",
      "following_count > bot.max_following_to_follow, skipping!\u001b[0m\n",
      "\u001b[;1m\u001b[32mAdding '48252678943' to `c:\\Users\\Bharat Anand\\Downloads\\projects_repo\\passion_projects\\Creating-insta-bot/config/skipped.txt`.\u001b[0m\u001b[0m\n",
      "New following : 88\n"
     ]
    },
    {
     "name": "stderr",
     "output_type": "stream",
     "text": [
      "2022-01-31 19:36:16,040 - INFO - Out of follows for today.\n",
      "2022-01-31 19:36:16,041 - INFO - Going to follow `user_id` 48268717877.\n"
     ]
    },
    {
     "name": "stdout",
     "output_type": "stream",
     "text": [
      "\n",
      "USER_NAME: bawasear, FOLLOWER: 663, FOLLOWING: 1544\n",
      "New following : 88\n"
     ]
    },
    {
     "name": "stderr",
     "output_type": "stream",
     "text": [
      "2022-01-31 19:36:19,947 - INFO - Out of follows for today.\n",
      "2022-01-31 19:36:19,948 - INFO - Going to follow `user_id` 27778615810.\n"
     ]
    },
    {
     "name": "stdout",
     "output_type": "stream",
     "text": [
      "\n",
      "USER_NAME: __life.of.bacbenchers__, FOLLOWER: 976, FOLLOWING: 1656\n",
      "New following : 88\n"
     ]
    },
    {
     "name": "stderr",
     "output_type": "stream",
     "text": [
      "2022-01-31 19:36:22,743 - INFO - Out of follows for today.\n",
      "2022-01-31 19:36:22,744 - INFO - Going to follow `user_id` 48267529744.\n"
     ]
    },
    {
     "name": "stdout",
     "output_type": "stream",
     "text": [
      "\n",
      "USER_NAME: _thepositivewordss, FOLLOWER: 1159, FOLLOWING: 426\n",
      "New following : 88\n"
     ]
    },
    {
     "name": "stderr",
     "output_type": "stream",
     "text": [
      "2022-01-31 19:36:26,267 - INFO - Out of follows for today.\n",
      "2022-01-31 19:36:26,268 - INFO - Going to follow `user_id` 9627600687.\n"
     ]
    },
    {
     "name": "stdout",
     "output_type": "stream",
     "text": [
      "\n",
      "USER_NAME: __laugh_and_cry_, FOLLOWER: 38, FOLLOWING: 59\n",
      "New following : 88\n"
     ]
    },
    {
     "name": "stderr",
     "output_type": "stream",
     "text": [
      "2022-01-31 19:36:30,413 - INFO - Out of follows for today.\n",
      "2022-01-31 19:36:30,414 - INFO - Going to follow `user_id` 48513848623.\n"
     ]
    },
    {
     "name": "stdout",
     "output_type": "stream",
     "text": [
      "\n",
      "USER_NAME: vaibhusayz, FOLLOWER: 2084, FOLLOWING: 739\n",
      "New following : 88\n"
     ]
    },
    {
     "name": "stderr",
     "output_type": "stream",
     "text": [
      "2022-01-31 19:36:34,855 - INFO - Going to follow `user_id` 39736996653.\n"
     ]
    },
    {
     "name": "stdout",
     "output_type": "stream",
     "text": [
      "\n",
      "USER_NAME: bruno_op132, FOLLOWER: 0, FOLLOWING: 26\n",
      "\u001b[31m\n",
      "info: account is PRIVATE, skipping! \u001b[0m\n",
      "\u001b[;1m\u001b[32mAdding '48513848623' to `c:\\Users\\Bharat Anand\\Downloads\\projects_repo\\passion_projects\\Creating-insta-bot/config/skipped.txt`.\u001b[0m\u001b[0m\n",
      "New following : 88\n"
     ]
    },
    {
     "name": "stderr",
     "output_type": "stream",
     "text": [
      "2022-01-31 19:36:36,429 - INFO - Going to follow `user_id` 47870851815.\n"
     ]
    },
    {
     "name": "stdout",
     "output_type": "stream",
     "text": [
      "\n",
      "USER_NAME: its___sameerrr, FOLLOWER: 1044, FOLLOWING: 2333\n",
      "\u001b[31m\n",
      "following_count > bot.max_following_to_follow, skipping!\u001b[0m\n",
      "\u001b[;1m\u001b[32mAdding '39736996653' to `c:\\Users\\Bharat Anand\\Downloads\\projects_repo\\passion_projects\\Creating-insta-bot/config/skipped.txt`.\u001b[0m\u001b[0m\n",
      "New following : 88\n"
     ]
    },
    {
     "name": "stderr",
     "output_type": "stream",
     "text": [
      "2022-01-31 19:36:40,015 - INFO - Going to follow `user_id` 48847071138.\n"
     ]
    },
    {
     "name": "stdout",
     "output_type": "stream",
     "text": [
      "\n",
      "USER_NAME: priyathakure123, FOLLOWER: 382, FOLLOWING: 244\n",
      "\u001b[31m\n",
      "info: account is PRIVATE, skipping! \u001b[0m\n",
      "\u001b[;1m\u001b[32mAdding '47870851815' to `c:\\Users\\Bharat Anand\\Downloads\\projects_repo\\passion_projects\\Creating-insta-bot/config/skipped.txt`.\u001b[0m\u001b[0m\n",
      "New following : 88\n"
     ]
    },
    {
     "name": "stderr",
     "output_type": "stream",
     "text": [
      "2022-01-31 19:36:41,893 - INFO - Out of follows for today.\n",
      "2022-01-31 19:36:41,894 - INFO - Going to follow `user_id` 48262089757.\n"
     ]
    },
    {
     "name": "stdout",
     "output_type": "stream",
     "text": [
      "\n",
      "USER_NAME: its.me_dk09, FOLLOWER: 33, FOLLOWING: 109\n",
      "New following : 88\n"
     ]
    },
    {
     "name": "stderr",
     "output_type": "stream",
     "text": [
      "2022-01-31 19:36:45,249 - INFO - Going to follow `user_id` 47865418653.\n"
     ]
    },
    {
     "name": "stdout",
     "output_type": "stream",
     "text": [
      "\n",
      "USER_NAME: ek.biharan, FOLLOWER: 126, FOLLOWING: 170\n",
      "\u001b[31m\n",
      "media_count < bot.min_media_count_to_follow, BOT or INACTIVE, skipping!\u001b[0m\n",
      "\u001b[;1m\u001b[32mAdding '48262089757' to `c:\\Users\\Bharat Anand\\Downloads\\projects_repo\\passion_projects\\Creating-insta-bot/config/skipped.txt`.\u001b[0m\u001b[0m\n",
      "New following : 88\n"
     ]
    },
    {
     "name": "stderr",
     "output_type": "stream",
     "text": [
      "2022-01-31 19:36:47,638 - INFO - Out of follows for today.\n",
      "2022-01-31 19:36:47,639 - INFO - Going to follow `user_id` 48843236351.\n"
     ]
    },
    {
     "name": "stdout",
     "output_type": "stream",
     "text": [
      "\n",
      "USER_NAME: luvmahakal, FOLLOWER: 235, FOLLOWING: 153\n",
      "New following : 88\n"
     ]
    },
    {
     "name": "stderr",
     "output_type": "stream",
     "text": [
      "2022-01-31 19:36:51,735 - INFO - Out of follows for today.\n",
      "2022-01-31 19:36:51,736 - INFO - Going to follow `user_id` 47522470272.\n"
     ]
    },
    {
     "name": "stdout",
     "output_type": "stream",
     "text": [
      "\n",
      "USER_NAME: meme_world_001_, FOLLOWER: 341, FOLLOWING: 685\n",
      "New following : 88\n"
     ]
    },
    {
     "name": "stderr",
     "output_type": "stream",
     "text": [
      "2022-01-31 19:36:55,872 - INFO - Out of follows for today.\n",
      "2022-01-31 19:36:55,873 - INFO - Going to follow `user_id` 48025449902.\n"
     ]
    },
    {
     "name": "stdout",
     "output_type": "stream",
     "text": [
      "\n",
      "USER_NAME: wtf__hitzzzz, FOLLOWER: 1080, FOLLOWING: 780\n",
      "New following : 88\n"
     ]
    },
    {
     "name": "stderr",
     "output_type": "stream",
     "text": [
      "2022-01-31 19:36:59,792 - INFO - Out of follows for today.\n",
      "2022-01-31 19:36:59,793 - INFO - Going to follow `user_id` 47483179984.\n"
     ]
    },
    {
     "name": "stdout",
     "output_type": "stream",
     "text": [
      "\n",
      "USER_NAME: feel.the.line, FOLLOWER: 106, FOLLOWING: 123\n",
      "New following : 88\n"
     ]
    },
    {
     "name": "stderr",
     "output_type": "stream",
     "text": [
      "2022-01-31 19:37:04,004 - INFO - Going to follow `user_id` 27070151511.\n"
     ]
    },
    {
     "name": "stdout",
     "output_type": "stream",
     "text": [
      "\n",
      "USER_NAME: memes_with_lutfur, FOLLOWER: 1115, FOLLOWING: 2014\n",
      "\u001b[31m\n",
      "following_count > bot.max_following_to_follow, skipping!\u001b[0m\n",
      "\u001b[;1m\u001b[32mAdding '47483179984' to `c:\\Users\\Bharat Anand\\Downloads\\projects_repo\\passion_projects\\Creating-insta-bot/config/skipped.txt`.\u001b[0m\u001b[0m\n",
      "New following : 88\n"
     ]
    },
    {
     "name": "stderr",
     "output_type": "stream",
     "text": [
      "2022-01-31 19:37:07,798 - INFO - Out of follows for today.\n",
      "2022-01-31 19:37:07,799 - INFO - Going to follow `user_id` 10495062465.\n"
     ]
    },
    {
     "name": "stdout",
     "output_type": "stream",
     "text": [
      "\n",
      "USER_NAME: _iamyerdad, FOLLOWER: 800, FOLLOWING: 576\n",
      "New following : 88\n"
     ]
    },
    {
     "name": "stderr",
     "output_type": "stream",
     "text": [
      "2022-01-31 19:37:09,921 - INFO - Out of follows for today.\n",
      "2022-01-31 19:37:09,922 - INFO - Going to follow `user_id` 48528601608.\n"
     ]
    },
    {
     "name": "stdout",
     "output_type": "stream",
     "text": [
      "\n",
      "USER_NAME: memedoze07, FOLLOWER: 1381, FOLLOWING: 212\n",
      "New following : 88\n"
     ]
    },
    {
     "name": "stderr",
     "output_type": "stream",
     "text": [
      "2022-01-31 19:37:12,869 - INFO - Going to follow `user_id` 37859846838.\n"
     ]
    },
    {
     "name": "stdout",
     "output_type": "stream",
     "text": [
      "\n",
      "USER_NAME: memes.masti99, FOLLOWER: 2575, FOLLOWING: 2685\n",
      "\u001b[31m\n",
      "following_count > bot.max_following_to_follow, skipping!\u001b[0m\n",
      "\u001b[;1m\u001b[32mAdding '48528601608' to `c:\\Users\\Bharat Anand\\Downloads\\projects_repo\\passion_projects\\Creating-insta-bot/config/skipped.txt`.\u001b[0m\u001b[0m\n",
      "New following : 88\n"
     ]
    },
    {
     "name": "stderr",
     "output_type": "stream",
     "text": [
      "2022-01-31 19:37:16,338 - INFO - Out of follows for today.\n",
      "2022-01-31 19:37:16,339 - INFO - Going to follow `user_id` 34260365541.\n"
     ]
    },
    {
     "name": "stdout",
     "output_type": "stream",
     "text": [
      "\n",
      "USER_NAME: piyush_says___, FOLLOWER: 1426, FOLLOWING: 914\n",
      "New following : 88\n"
     ]
    },
    {
     "name": "stderr",
     "output_type": "stream",
     "text": [
      "2022-01-31 19:37:19,798 - INFO - Going to follow `user_id` 7925793474.\n"
     ]
    },
    {
     "name": "stdout",
     "output_type": "stream",
     "text": [
      "\n",
      "USER_NAME: memelogy96, FOLLOWER: 5477, FOLLOWING: 883\n",
      "\u001b[31m\n",
      "follower_count > bot.max_followers_to_follow, skipping!\u001b[0m\n",
      "\u001b[;1m\u001b[32mAdding '34260365541' to `c:\\Users\\Bharat Anand\\Downloads\\projects_repo\\passion_projects\\Creating-insta-bot/config/skipped.txt`.\u001b[0m\u001b[0m\n",
      "New following : 88\n"
     ]
    },
    {
     "name": "stderr",
     "output_type": "stream",
     "text": [
      "2022-01-31 19:37:23,786 - INFO - Going to follow `user_id` 47714297756.\n"
     ]
    },
    {
     "name": "stdout",
     "output_type": "stream",
     "text": [
      "\n",
      "USER_NAME: _silent0_0eyes_, FOLLOWER: 1104, FOLLOWING: 1247\n",
      "\u001b[31m\n",
      "info: account is PRIVATE, skipping! \u001b[0m\n",
      "\u001b[;1m\u001b[32mAdding '7925793474' to `c:\\Users\\Bharat Anand\\Downloads\\projects_repo\\passion_projects\\Creating-insta-bot/config/skipped.txt`.\u001b[0m\u001b[0m\n",
      "New following : 88\n"
     ]
    },
    {
     "name": "stderr",
     "output_type": "stream",
     "text": [
      "2022-01-31 19:37:26,845 - INFO - Going to follow `user_id` 48403830693.\n"
     ]
    },
    {
     "name": "stdout",
     "output_type": "stream",
     "text": [
      "\n",
      "USER_NAME: memomaniaaa, FOLLOWER: 3048, FOLLOWING: 7095\n",
      "\u001b[31m\n",
      "following_count > bot.max_following_to_follow, skipping!\u001b[0m\n",
      "\u001b[;1m\u001b[32mAdding '47714297756' to `c:\\Users\\Bharat Anand\\Downloads\\projects_repo\\passion_projects\\Creating-insta-bot/config/skipped.txt`.\u001b[0m\u001b[0m\n",
      "New following : 88\n"
     ]
    },
    {
     "name": "stderr",
     "output_type": "stream",
     "text": [
      "2022-01-31 19:37:29,049 - INFO - Going to follow `user_id` 6883472394.\n"
     ]
    },
    {
     "name": "stdout",
     "output_type": "stream",
     "text": [
      "\n",
      "USER_NAME: amazingeditx, FOLLOWER: 318, FOLLOWING: 181\n",
      "\u001b[31m\n",
      "media_count < bot.min_media_count_to_follow, BOT or INACTIVE, skipping!\u001b[0m\n",
      "\u001b[;1m\u001b[32mAdding '48403830693' to `c:\\Users\\Bharat Anand\\Downloads\\projects_repo\\passion_projects\\Creating-insta-bot/config/skipped.txt`.\u001b[0m\u001b[0m\n",
      "New following : 88\n"
     ]
    },
    {
     "name": "stderr",
     "output_type": "stream",
     "text": [
      "2022-01-31 19:37:33,448 - INFO - Going to follow `user_id` 48301181235.\n"
     ]
    },
    {
     "name": "stdout",
     "output_type": "stream",
     "text": [
      "\n",
      "USER_NAME: fameshout13, FOLLOWER: 7580, FOLLOWING: 3474\n",
      "\u001b[31m\n",
      "follower_count > bot.max_followers_to_follow, skipping!\u001b[0m\n",
      "\u001b[;1m\u001b[32mAdding '6883472394' to `c:\\Users\\Bharat Anand\\Downloads\\projects_repo\\passion_projects\\Creating-insta-bot/config/skipped.txt`.\u001b[0m\u001b[0m\n",
      "New following : 88\n"
     ]
    },
    {
     "name": "stderr",
     "output_type": "stream",
     "text": [
      "2022-01-31 19:37:37,325 - INFO - Going to follow `user_id` 45002114893.\n"
     ]
    },
    {
     "name": "stdout",
     "output_type": "stream",
     "text": [
      "\n",
      "USER_NAME: ishani_8_, FOLLOWER: 56, FOLLOWING: 215\n",
      "\u001b[31m\n",
      "info: account is PRIVATE, skipping! \u001b[0m\n",
      "\u001b[;1m\u001b[32mAdding '48301181235' to `c:\\Users\\Bharat Anand\\Downloads\\projects_repo\\passion_projects\\Creating-insta-bot/config/skipped.txt`.\u001b[0m\u001b[0m\n",
      "New following : 88\n"
     ]
    },
    {
     "name": "stderr",
     "output_type": "stream",
     "text": [
      "2022-01-31 19:37:39,961 - INFO - Going to follow `user_id` 48264355326.\n"
     ]
    },
    {
     "name": "stdout",
     "output_type": "stream",
     "text": [
      "\n",
      "USER_NAME: zazz_.134, FOLLOWER: 1004, FOLLOWING: 3107\n",
      "\u001b[31m\n",
      "following_count > bot.max_following_to_follow, skipping!\u001b[0m\n",
      "\u001b[;1m\u001b[32mAdding '45002114893' to `c:\\Users\\Bharat Anand\\Downloads\\projects_repo\\passion_projects\\Creating-insta-bot/config/skipped.txt`.\u001b[0m\u001b[0m\n",
      "New following : 88\n"
     ]
    },
    {
     "name": "stderr",
     "output_type": "stream",
     "text": [
      "2022-01-31 19:37:42,941 - INFO - Out of follows for today.\n",
      "2022-01-31 19:37:42,943 - INFO - Going to follow `user_id` 46193297139.\n"
     ]
    },
    {
     "name": "stdout",
     "output_type": "stream",
     "text": [
      "\n",
      "USER_NAME: motivationsuccess42, FOLLOWER: 139, FOLLOWING: 248\n",
      "New following : 88\n"
     ]
    },
    {
     "name": "stderr",
     "output_type": "stream",
     "text": [
      "2022-01-31 19:37:44,544 - INFO - Out of follows for today.\n",
      "2022-01-31 19:37:44,545 - INFO - Going to follow `user_id` 47947731106.\n"
     ]
    },
    {
     "name": "stdout",
     "output_type": "stream",
     "text": [
      "\n",
      "USER_NAME: m.a.s.t.e.r.ji, FOLLOWER: 526, FOLLOWING: 1378\n",
      "New following : 88\n"
     ]
    },
    {
     "name": "stderr",
     "output_type": "stream",
     "text": [
      "2022-01-31 19:37:47,768 - INFO - Out of follows for today.\n",
      "2022-01-31 19:37:47,769 - INFO - Going to follow `user_id` 48760938158.\n"
     ]
    },
    {
     "name": "stdout",
     "output_type": "stream",
     "text": [
      "\n",
      "USER_NAME: naughty__guruji9, FOLLOWER: 531, FOLLOWING: 341\n",
      "New following : 88\n"
     ]
    },
    {
     "name": "stderr",
     "output_type": "stream",
     "text": [
      "2022-01-31 19:37:49,447 - INFO - Out of follows for today.\n",
      "2022-01-31 19:37:49,449 - INFO - Going to follow `user_id` 48426716834.\n"
     ]
    },
    {
     "name": "stdout",
     "output_type": "stream",
     "text": [
      "\n",
      "USER_NAME: carry_minity_fans, FOLLOWER: 61, FOLLOWING: 107\n",
      "New following : 88\n"
     ]
    },
    {
     "name": "stderr",
     "output_type": "stream",
     "text": [
      "2022-01-31 19:37:52,292 - INFO - Out of follows for today.\n",
      "2022-01-31 19:37:52,293 - INFO - Going to follow `user_id` 45551775923.\n"
     ]
    },
    {
     "name": "stdout",
     "output_type": "stream",
     "text": [
      "\n",
      "USER_NAME: _wtf_.dude, FOLLOWER: 677, FOLLOWING: 622\n",
      "New following : 88\n"
     ]
    },
    {
     "name": "stderr",
     "output_type": "stream",
     "text": [
      "2022-01-31 19:37:53,762 - INFO - Out of follows for today.\n",
      "2022-01-31 19:37:53,763 - INFO - Going to follow `user_id` 48773798264.\n"
     ]
    },
    {
     "name": "stdout",
     "output_type": "stream",
     "text": [
      "\n",
      "USER_NAME: apni_community, FOLLOWER: 961, FOLLOWING: 246\n",
      "New following : 88\n"
     ]
    },
    {
     "name": "stderr",
     "output_type": "stream",
     "text": [
      "2022-01-31 19:37:55,448 - INFO - Out of follows for today.\n",
      "2022-01-31 19:37:55,449 - INFO - Going to follow `user_id` 47151063107.\n"
     ]
    },
    {
     "name": "stdout",
     "output_type": "stream",
     "text": [
      "\n",
      "USER_NAME: __nks_naval_2004__, FOLLOWER: 374, FOLLOWING: 771\n",
      "New following : 88\n"
     ]
    },
    {
     "name": "stderr",
     "output_type": "stream",
     "text": [
      "2022-01-31 19:37:59,742 - INFO - Out of follows for today.\n",
      "2022-01-31 19:37:59,745 - INFO - Going to follow `user_id` 45288335273.\n"
     ]
    },
    {
     "name": "stdout",
     "output_type": "stream",
     "text": [
      "\n",
      "USER_NAME: society._.feelings._, FOLLOWER: 82, FOLLOWING: 49\n",
      "New following : 88\n"
     ]
    },
    {
     "name": "stderr",
     "output_type": "stream",
     "text": [
      "2022-01-31 19:38:01,478 - INFO - Going to follow `user_id` 41656952137.\n"
     ]
    },
    {
     "name": "stdout",
     "output_type": "stream",
     "text": [
      "\n",
      "USER_NAME: _houseofsongs_, FOLLOWER: 3893, FOLLOWING: 3781\n",
      "\u001b[31m\n",
      "following_count > bot.max_following_to_follow, skipping!\u001b[0m\n",
      "\u001b[;1m\u001b[32mAdding '45288335273' to `c:\\Users\\Bharat Anand\\Downloads\\projects_repo\\passion_projects\\Creating-insta-bot/config/skipped.txt`.\u001b[0m\u001b[0m\n",
      "New following : 88\n"
     ]
    },
    {
     "name": "stderr",
     "output_type": "stream",
     "text": [
      "2022-01-31 19:38:03,132 - INFO - Going to follow `user_id` 43607418569.\n"
     ]
    },
    {
     "name": "stdout",
     "output_type": "stream",
     "text": [
      "\n",
      "USER_NAME: icnmad, FOLLOWER: 670, FOLLOWING: 3842\n",
      "\u001b[31m\n",
      "following_count > bot.max_following_to_follow, skipping!\u001b[0m\n",
      "\u001b[;1m\u001b[32mAdding '41656952137' to `c:\\Users\\Bharat Anand\\Downloads\\projects_repo\\passion_projects\\Creating-insta-bot/config/skipped.txt`.\u001b[0m\u001b[0m\n",
      "New following : 88\n"
     ]
    },
    {
     "name": "stderr",
     "output_type": "stream",
     "text": [
      "2022-01-31 19:38:07,239 - INFO - Out of follows for today.\n",
      "2022-01-31 19:38:07,243 - INFO - Going to follow `user_id` 47956892432.\n"
     ]
    },
    {
     "name": "stdout",
     "output_type": "stream",
     "text": [
      "\n",
      "USER_NAME: __lyrical__world, FOLLOWER: 242, FOLLOWING: 441\n",
      "New following : 88\n"
     ]
    },
    {
     "name": "stderr",
     "output_type": "stream",
     "text": [
      "2022-01-31 19:38:08,907 - INFO - Out of follows for today.\n",
      "2022-01-31 19:38:08,909 - INFO - Going to follow `user_id` 47190144717.\n"
     ]
    },
    {
     "name": "stdout",
     "output_type": "stream",
     "text": [
      "\n",
      "USER_NAME: yashica0811, FOLLOWER: 79, FOLLOWING: 205\n",
      "New following : 88\n"
     ]
    },
    {
     "name": "stderr",
     "output_type": "stream",
     "text": [
      "2022-01-31 19:38:11,035 - INFO - Going to follow `user_id` 46272746234.\n"
     ]
    },
    {
     "name": "stdout",
     "output_type": "stream",
     "text": [
      "\n",
      "USER_NAME: memerhu__17, FOLLOWER: 2050, FOLLOWING: 2553\n",
      "\u001b[31m\n",
      "following_count > bot.max_following_to_follow, skipping!\u001b[0m\n",
      "\u001b[;1m\u001b[32mAdding '47190144717' to `c:\\Users\\Bharat Anand\\Downloads\\projects_repo\\passion_projects\\Creating-insta-bot/config/skipped.txt`.\u001b[0m\u001b[0m\n",
      "New following : 88\n"
     ]
    },
    {
     "name": "stderr",
     "output_type": "stream",
     "text": [
      "2022-01-31 19:38:14,557 - INFO - Going to follow `user_id` 48383724748.\n"
     ]
    },
    {
     "name": "stdout",
     "output_type": "stream",
     "text": [
      "\n",
      "USER_NAME: miss_aakrutee_fan, FOLLOWER: 469, FOLLOWING: 487\n",
      "\u001b[31m\n",
      "media_count < bot.min_media_count_to_follow, BOT or INACTIVE, skipping!\u001b[0m\n",
      "\u001b[;1m\u001b[32mAdding '46272746234' to `c:\\Users\\Bharat Anand\\Downloads\\projects_repo\\passion_projects\\Creating-insta-bot/config/skipped.txt`.\u001b[0m\u001b[0m\n",
      "New following : 88\n"
     ]
    },
    {
     "name": "stderr",
     "output_type": "stream",
     "text": [
      "2022-01-31 19:38:17,989 - INFO - Going to follow `user_id` 28800601491.\n"
     ]
    },
    {
     "name": "stdout",
     "output_type": "stream",
     "text": [
      "\n",
      "USER_NAME: unkno_wnbeast87, FOLLOWER: 0, FOLLOWING: 23\n",
      "\u001b[31m\n",
      "info: account is PRIVATE, skipping! \u001b[0m\n",
      "\u001b[;1m\u001b[32mAdding '48383724748' to `c:\\Users\\Bharat Anand\\Downloads\\projects_repo\\passion_projects\\Creating-insta-bot/config/skipped.txt`.\u001b[0m\u001b[0m\n",
      "New following : 88\n"
     ]
    },
    {
     "name": "stderr",
     "output_type": "stream",
     "text": [
      "2022-01-31 19:38:20,361 - INFO - Going to follow `user_id` 47795568406.\n"
     ]
    },
    {
     "name": "stdout",
     "output_type": "stream",
     "text": [
      "\n",
      "USER_NAME: _rajib_gaming_, FOLLOWER: 29059, FOLLOWING: 558\n",
      "\u001b[31m\n",
      "follower_count > bot.max_followers_to_follow, skipping!\u001b[0m\n",
      "\u001b[;1m\u001b[32mAdding '28800601491' to `c:\\Users\\Bharat Anand\\Downloads\\projects_repo\\passion_projects\\Creating-insta-bot/config/skipped.txt`.\u001b[0m\u001b[0m\n",
      "New following : 88\n"
     ]
    },
    {
     "name": "stderr",
     "output_type": "stream",
     "text": [
      "2022-01-31 19:38:24,472 - INFO - Going to follow `user_id` 44993537725.\n"
     ]
    },
    {
     "name": "stdout",
     "output_type": "stream",
     "text": [
      "\n",
      "USER_NAME: the_back_benchers_______, FOLLOWER: 8858, FOLLOWING: 4830\n",
      "\u001b[31m\n",
      "follower_count > bot.max_followers_to_follow, skipping!\u001b[0m\n",
      "\u001b[;1m\u001b[32mAdding '47795568406' to `c:\\Users\\Bharat Anand\\Downloads\\projects_repo\\passion_projects\\Creating-insta-bot/config/skipped.txt`.\u001b[0m\u001b[0m\n",
      "New following : 88\n"
     ]
    },
    {
     "name": "stderr",
     "output_type": "stream",
     "text": [
      "2022-01-31 19:38:26,620 - INFO - Out of follows for today.\n",
      "2022-01-31 19:38:26,621 - INFO - Going to follow `user_id` 47678803294.\n"
     ]
    },
    {
     "name": "stdout",
     "output_type": "stream",
     "text": [
      "\n",
      "USER_NAME: mr.flirting_king29, FOLLOWER: 86, FOLLOWING: 159\n",
      "New following : 88\n"
     ]
    },
    {
     "name": "stderr",
     "output_type": "stream",
     "text": [
      "2022-01-31 19:38:28,822 - INFO - Going to follow `user_id` 28168649253.\n"
     ]
    },
    {
     "name": "stdout",
     "output_type": "stream",
     "text": [
      "\n",
      "USER_NAME: meme.store0_0, FOLLOWER: 6892, FOLLOWING: 962\n",
      "\u001b[31m\n",
      "follower_count > bot.max_followers_to_follow, skipping!\u001b[0m\n",
      "\u001b[;1m\u001b[32mAdding '47678803294' to `c:\\Users\\Bharat Anand\\Downloads\\projects_repo\\passion_projects\\Creating-insta-bot/config/skipped.txt`.\u001b[0m\u001b[0m\n",
      "New following : 88\n"
     ]
    },
    {
     "name": "stderr",
     "output_type": "stream",
     "text": [
      "2022-01-31 19:38:30,338 - INFO - Going to follow `user_id` 4479282730.\n"
     ]
    },
    {
     "name": "stdout",
     "output_type": "stream",
     "text": [
      "\n",
      "USER_NAME: mr.satiree, FOLLOWER: 1274, FOLLOWING: 2710\n",
      "\u001b[31m\n",
      "following_count > bot.max_following_to_follow, skipping!\u001b[0m\n",
      "\u001b[;1m\u001b[32mAdding '28168649253' to `c:\\Users\\Bharat Anand\\Downloads\\projects_repo\\passion_projects\\Creating-insta-bot/config/skipped.txt`.\u001b[0m\u001b[0m\n",
      "New following : 88\n"
     ]
    },
    {
     "name": "stderr",
     "output_type": "stream",
     "text": [
      "2022-01-31 19:38:32,553 - INFO - Out of follows for today.\n",
      "2022-01-31 19:38:32,554 - INFO - Going to follow `user_id` 48066213825.\n"
     ]
    },
    {
     "name": "stdout",
     "output_type": "stream",
     "text": [
      "\n",
      "USER_NAME: _.shayarx_kehl0._, FOLLOWER: 1810, FOLLOWING: 1044\n",
      "New following : 88\n"
     ]
    },
    {
     "name": "stderr",
     "output_type": "stream",
     "text": [
      "2022-01-31 19:38:35,375 - INFO - Going to follow `user_id` 36412052526.\n"
     ]
    },
    {
     "name": "stdout",
     "output_type": "stream",
     "text": [
      "\n",
      "USER_NAME: _sourcastic_, FOLLOWER: 1025, FOLLOWING: 2186\n",
      "\u001b[31m\n",
      "following_count > bot.max_following_to_follow, skipping!\u001b[0m\n",
      "\u001b[;1m\u001b[32mAdding '48066213825' to `c:\\Users\\Bharat Anand\\Downloads\\projects_repo\\passion_projects\\Creating-insta-bot/config/skipped.txt`.\u001b[0m\u001b[0m\n",
      "New following : 88\n"
     ]
    },
    {
     "name": "stderr",
     "output_type": "stream",
     "text": [
      "2022-01-31 19:38:38,162 - INFO - Out of follows for today.\n",
      "2022-01-31 19:38:38,164 - INFO - Going to follow `user_id` 48807719098.\n"
     ]
    },
    {
     "name": "stdout",
     "output_type": "stream",
     "text": [
      "\n",
      "USER_NAME: moms_khana, FOLLOWER: 4651, FOLLOWING: 1658\n",
      "New following : 88\n"
     ]
    },
    {
     "name": "stderr",
     "output_type": "stream",
     "text": [
      "2022-01-31 19:38:40,989 - INFO - Out of follows for today.\n",
      "2022-01-31 19:38:40,990 - INFO - Going to follow `user_id` 29942182131.\n"
     ]
    },
    {
     "name": "stdout",
     "output_type": "stream",
     "text": [
      "\n",
      "USER_NAME: thewriterworks, FOLLOWER: 52, FOLLOWING: 92\n",
      "New following : 88\n"
     ]
    },
    {
     "name": "stderr",
     "output_type": "stream",
     "text": [
      "2022-01-31 19:38:45,255 - INFO - Going to follow `user_id` 42136871889.\n"
     ]
    },
    {
     "name": "stdout",
     "output_type": "stream",
     "text": [
      "\n",
      "USER_NAME: dhaba99cafekitchen, FOLLOWER: 1987, FOLLOWING: 5768\n",
      "\u001b[31m\n",
      "following_count > bot.max_following_to_follow, skipping!\u001b[0m\n",
      "\u001b[;1m\u001b[32mAdding '29942182131' to `c:\\Users\\Bharat Anand\\Downloads\\projects_repo\\passion_projects\\Creating-insta-bot/config/skipped.txt`.\u001b[0m\u001b[0m\n",
      "New following : 88\n"
     ]
    },
    {
     "name": "stderr",
     "output_type": "stream",
     "text": [
      "2022-01-31 19:38:49,611 - INFO - Out of follows for today.\n",
      "2022-01-31 19:38:49,612 - INFO - Going to follow `user_id` 44410569330.\n"
     ]
    },
    {
     "name": "stdout",
     "output_type": "stream",
     "text": [
      "\n",
      "USER_NAME: just_reelaxz, FOLLOWER: 1149, FOLLOWING: 922\n",
      "New following : 88\n"
     ]
    },
    {
     "name": "stderr",
     "output_type": "stream",
     "text": [
      "2022-01-31 19:38:52,989 - INFO - Going to follow `user_id` 46671892267.\n"
     ]
    },
    {
     "name": "stdout",
     "output_type": "stream",
     "text": [
      "\n",
      "USER_NAME: umairtweets, FOLLOWER: 5113, FOLLOWING: 289\n",
      "\u001b[31m\n",
      "follower_count > bot.max_followers_to_follow, skipping!\u001b[0m\n",
      "\u001b[;1m\u001b[32mAdding '44410569330' to `c:\\Users\\Bharat Anand\\Downloads\\projects_repo\\passion_projects\\Creating-insta-bot/config/skipped.txt`.\u001b[0m\u001b[0m\n",
      "New following : 88\n"
     ]
    },
    {
     "name": "stderr",
     "output_type": "stream",
     "text": [
      "2022-01-31 19:38:54,821 - INFO - Out of follows for today.\n",
      "2022-01-31 19:38:54,823 - INFO - Going to follow `user_id` 46584670784.\n"
     ]
    },
    {
     "name": "stdout",
     "output_type": "stream",
     "text": [
      "\n",
      "USER_NAME: meme_page_0098, FOLLOWER: 527, FOLLOWING: 714\n",
      "New following : 88\n"
     ]
    },
    {
     "name": "stderr",
     "output_type": "stream",
     "text": [
      "2022-01-31 19:38:56,664 - INFO - Out of follows for today.\n",
      "2022-01-31 19:38:56,667 - INFO - Going to follow `user_id` 44096753666.\n"
     ]
    },
    {
     "name": "stdout",
     "output_type": "stream",
     "text": [
      "\n",
      "USER_NAME: thedarkbackup, FOLLOWER: 1229, FOLLOWING: 1947\n",
      "New following : 88\n"
     ]
    },
    {
     "name": "stderr",
     "output_type": "stream",
     "text": [
      "2022-01-31 19:39:01,049 - INFO - Out of follows for today.\n",
      "2022-01-31 19:39:01,050 - INFO - Going to follow `user_id` 38510564194.\n"
     ]
    },
    {
     "name": "stdout",
     "output_type": "stream",
     "text": [
      "\n",
      "USER_NAME: utt_jamaii07, FOLLOWER: 707, FOLLOWING: 562\n",
      "New following : 88\n"
     ]
    },
    {
     "name": "stderr",
     "output_type": "stream",
     "text": [
      "2022-01-31 19:39:05,390 - INFO - Out of follows for today.\n",
      "2022-01-31 19:39:05,391 - INFO - Going to follow `user_id` 7487913141.\n"
     ]
    },
    {
     "name": "stdout",
     "output_type": "stream",
     "text": [
      "\n",
      "USER_NAME: the_insight_craze, FOLLOWER: 441, FOLLOWING: 388\n",
      "New following : 88\n"
     ]
    },
    {
     "name": "stderr",
     "output_type": "stream",
     "text": [
      "2022-01-31 19:39:08,512 - INFO - Going to follow `user_id` 48026321427.\n"
     ]
    },
    {
     "name": "stdout",
     "output_type": "stream",
     "text": [
      "\n",
      "USER_NAME: morniing_star666, FOLLOWER: 829, FOLLOWING: 2749\n",
      "\u001b[31m\n",
      "following_count > bot.max_following_to_follow, skipping!\u001b[0m\n",
      "\u001b[;1m\u001b[32mAdding '7487913141' to `c:\\Users\\Bharat Anand\\Downloads\\projects_repo\\passion_projects\\Creating-insta-bot/config/skipped.txt`.\u001b[0m\u001b[0m\n",
      "New following : 88\n"
     ]
    },
    {
     "name": "stderr",
     "output_type": "stream",
     "text": [
      "2022-01-31 19:39:12,500 - INFO - Out of follows for today.\n",
      "2022-01-31 19:39:12,502 - INFO - Going to follow `user_id` 46658888871.\n"
     ]
    },
    {
     "name": "stdout",
     "output_type": "stream",
     "text": [
      "\n",
      "USER_NAME: meme_wrld._, FOLLOWER: 413, FOLLOWING: 299\n",
      "New following : 88\n"
     ]
    },
    {
     "name": "stderr",
     "output_type": "stream",
     "text": [
      "2022-01-31 19:39:17,029 - INFO - Going to follow `user_id` 41300949856.\n"
     ]
    },
    {
     "name": "stdout",
     "output_type": "stream",
     "text": [
      "\n",
      "USER_NAME: itssentix, FOLLOWER: 382, FOLLOWING: 4659\n",
      "\u001b[31m\n",
      "info: account is PRIVATE, skipping! \u001b[0m\n",
      "\u001b[;1m\u001b[32mAdding '46658888871' to `c:\\Users\\Bharat Anand\\Downloads\\projects_repo\\passion_projects\\Creating-insta-bot/config/skipped.txt`.\u001b[0m\u001b[0m\n",
      "New following : 88\n"
     ]
    },
    {
     "name": "stderr",
     "output_type": "stream",
     "text": [
      "2022-01-31 19:39:20,093 - INFO - Out of follows for today.\n",
      "2022-01-31 19:39:20,094 - INFO - Going to follow `user_id` 48783416145.\n"
     ]
    },
    {
     "name": "stdout",
     "output_type": "stream",
     "text": [
      "\n",
      "USER_NAME: indiafrontierrailways, FOLLOWER: 1769, FOLLOWING: 1627\n",
      "New following : 88\n"
     ]
    },
    {
     "name": "stderr",
     "output_type": "stream",
     "text": [
      "2022-01-31 19:39:24,147 - INFO - Out of follows for today.\n",
      "2022-01-31 19:39:24,151 - INFO - Going to follow `user_id` 45759194227.\n"
     ]
    },
    {
     "name": "stdout",
     "output_type": "stream",
     "text": [
      "\n",
      "USER_NAME: r_b_1999, FOLLOWER: 81, FOLLOWING: 196\n",
      "New following : 88\n"
     ]
    },
    {
     "name": "stderr",
     "output_type": "stream",
     "text": [
      "2022-01-31 19:39:28,473 - INFO - Out of follows for today.\n",
      "2022-01-31 19:39:28,475 - INFO - Going to follow `user_id` 44027235631.\n"
     ]
    },
    {
     "name": "stdout",
     "output_type": "stream",
     "text": [
      "\n",
      "USER_NAME: zust.tweets, FOLLOWER: 558, FOLLOWING: 88\n",
      "New following : 88\n"
     ]
    },
    {
     "name": "stderr",
     "output_type": "stream",
     "text": [
      "2022-01-31 19:39:30,955 - INFO - Out of follows for today.\n",
      "2022-01-31 19:39:30,956 - INFO - Going to follow `user_id` 48170712141.\n"
     ]
    },
    {
     "name": "stdout",
     "output_type": "stream",
     "text": [
      "\n",
      "USER_NAME: minnie_mummsiii, FOLLOWER: 468, FOLLOWING: 748\n",
      "New following : 88\n"
     ]
    },
    {
     "name": "stderr",
     "output_type": "stream",
     "text": [
      "2022-01-31 19:39:32,957 - INFO - Out of follows for today.\n",
      "2022-01-31 19:39:32,960 - INFO - Going to follow `user_id` 47680328687.\n"
     ]
    },
    {
     "name": "stdout",
     "output_type": "stream",
     "text": [
      "\n",
      "USER_NAME: __.sarcasm.__.club.__, FOLLOWER: 1112, FOLLOWING: 1030\n",
      "New following : 88\n"
     ]
    },
    {
     "name": "stderr",
     "output_type": "stream",
     "text": [
      "2022-01-31 19:39:35,012 - INFO - Going to follow `user_id` 43715401707.\n"
     ]
    },
    {
     "name": "stdout",
     "output_type": "stream",
     "text": [
      "\n",
      "USER_NAME: nikhil_maurya_ji, FOLLOWER: 251, FOLLOWING: 538\n",
      "\u001b[31m\n",
      "media_count < bot.min_media_count_to_follow, BOT or INACTIVE, skipping!\u001b[0m\n",
      "\u001b[;1m\u001b[32mAdding '47680328687' to `c:\\Users\\Bharat Anand\\Downloads\\projects_repo\\passion_projects\\Creating-insta-bot/config/skipped.txt`.\u001b[0m\u001b[0m\n",
      "New following : 88\n"
     ]
    },
    {
     "name": "stderr",
     "output_type": "stream",
     "text": [
      "2022-01-31 19:39:39,300 - INFO - Going to follow `user_id` 38817406202.\n"
     ]
    },
    {
     "name": "stdout",
     "output_type": "stream",
     "text": [
      "\n",
      "USER_NAME: yuvraj_digia_official, FOLLOWER: 2673, FOLLOWING: 2864\n",
      "\u001b[31m\n",
      "following_count > bot.max_following_to_follow, skipping!\u001b[0m\n",
      "\u001b[;1m\u001b[32mAdding '43715401707' to `c:\\Users\\Bharat Anand\\Downloads\\projects_repo\\passion_projects\\Creating-insta-bot/config/skipped.txt`.\u001b[0m\u001b[0m\n",
      "New following : 88\n"
     ]
    },
    {
     "name": "stderr",
     "output_type": "stream",
     "text": [
      "2022-01-31 19:39:41,259 - INFO - Out of follows for today.\n",
      "2022-01-31 19:39:41,260 - INFO - Going to follow `user_id` 48998628244.\n"
     ]
    },
    {
     "name": "stdout",
     "output_type": "stream",
     "text": [
      "\n",
      "USER_NAME: indiansarcasticpeople, FOLLOWER: 1466, FOLLOWING: 1389\n",
      "New following : 88\n"
     ]
    },
    {
     "name": "stderr",
     "output_type": "stream",
     "text": [
      "2022-01-31 19:39:44,818 - INFO - Going to follow `user_id` 48961568478.\n"
     ]
    },
    {
     "name": "stdout",
     "output_type": "stream",
     "text": [
      "\n",
      "USER_NAME: palak.x.baby, FOLLOWER: 61, FOLLOWING: 144\n",
      "\u001b[31m\n",
      "info: account is PRIVATE, skipping! \u001b[0m\n",
      "\u001b[;1m\u001b[32mAdding '48998628244' to `c:\\Users\\Bharat Anand\\Downloads\\projects_repo\\passion_projects\\Creating-insta-bot/config/skipped.txt`.\u001b[0m\u001b[0m\n",
      "New following : 88\n"
     ]
    },
    {
     "name": "stderr",
     "output_type": "stream",
     "text": [
      "2022-01-31 19:39:46,803 - INFO - Going to follow `user_id` 7184353180.\n"
     ]
    },
    {
     "name": "stdout",
     "output_type": "stream",
     "text": [
      "\n",
      "USER_NAME: __aesthetic.__soul_, FOLLOWER: 84, FOLLOWING: 65\n",
      "\u001b[31m\n",
      "info: account is PRIVATE, skipping! \u001b[0m\n",
      "\u001b[;1m\u001b[32mAdding '48961568478' to `c:\\Users\\Bharat Anand\\Downloads\\projects_repo\\passion_projects\\Creating-insta-bot/config/skipped.txt`.\u001b[0m\u001b[0m\n",
      "New following : 88\n"
     ]
    },
    {
     "name": "stderr",
     "output_type": "stream",
     "text": [
      "2022-01-31 19:39:50,379 - INFO - Going to follow `user_id` 48334721864.\n"
     ]
    },
    {
     "name": "stdout",
     "output_type": "stream",
     "text": [
      "\n",
      "USER_NAME: gopalrchavhan, FOLLOWER: 223, FOLLOWING: 529\n",
      "\u001b[31m\n",
      "info: account is PRIVATE, skipping! \u001b[0m\n",
      "\u001b[;1m\u001b[32mAdding '7184353180' to `c:\\Users\\Bharat Anand\\Downloads\\projects_repo\\passion_projects\\Creating-insta-bot/config/skipped.txt`.\u001b[0m\u001b[0m\n",
      "New following : 88\n"
     ]
    },
    {
     "name": "stderr",
     "output_type": "stream",
     "text": [
      "2022-01-31 19:39:54,650 - INFO - Going to follow `user_id` 48335110255.\n"
     ]
    },
    {
     "name": "stdout",
     "output_type": "stream",
     "text": [
      "\n",
      "USER_NAME: khatta_mitha_memes, FOLLOWER: 675, FOLLOWING: 2207\n",
      "\u001b[31m\n",
      "following_count > bot.max_following_to_follow, skipping!\u001b[0m\n",
      "\u001b[;1m\u001b[32mAdding '48334721864' to `c:\\Users\\Bharat Anand\\Downloads\\projects_repo\\passion_projects\\Creating-insta-bot/config/skipped.txt`.\u001b[0m\u001b[0m\n",
      "New following : 88\n"
     ]
    },
    {
     "name": "stderr",
     "output_type": "stream",
     "text": [
      "2022-01-31 19:39:57,222 - INFO - Out of follows for today.\n",
      "2022-01-31 19:39:57,223 - INFO - Going to follow `user_id` 35316041617.\n"
     ]
    },
    {
     "name": "stdout",
     "output_type": "stream",
     "text": [
      "\n",
      "USER_NAME: tumharianjali, FOLLOWER: 779, FOLLOWING: 602\n",
      "New following : 88\n"
     ]
    },
    {
     "name": "stderr",
     "output_type": "stream",
     "text": [
      "2022-01-31 19:39:59,550 - INFO - Going to follow `user_id` 40984043815.\n"
     ]
    },
    {
     "name": "stdout",
     "output_type": "stream",
     "text": [
      "\n",
      "USER_NAME: abbas_zafer1234, FOLLOWER: 31, FOLLOWING: 591\n",
      "\u001b[31m\n",
      "info: account is PRIVATE, skipping! \u001b[0m\n",
      "\u001b[;1m\u001b[32mAdding '35316041617' to `c:\\Users\\Bharat Anand\\Downloads\\projects_repo\\passion_projects\\Creating-insta-bot/config/skipped.txt`.\u001b[0m\u001b[0m\n",
      "New following : 88\n"
     ]
    },
    {
     "name": "stderr",
     "output_type": "stream",
     "text": [
      "2022-01-31 19:40:02,031 - INFO - Going to follow `user_id` 48050898270.\n"
     ]
    },
    {
     "name": "stdout",
     "output_type": "stream",
     "text": [
      "\n",
      "USER_NAME: pagal_hai_kya_be, FOLLOWER: 5777, FOLLOWING: 6560\n",
      "\u001b[31m\n",
      "follower_count > bot.max_followers_to_follow, skipping!\u001b[0m\n",
      "\u001b[;1m\u001b[32mAdding '40984043815' to `c:\\Users\\Bharat Anand\\Downloads\\projects_repo\\passion_projects\\Creating-insta-bot/config/skipped.txt`.\u001b[0m\u001b[0m\n",
      "New following : 88\n"
     ]
    },
    {
     "name": "stderr",
     "output_type": "stream",
     "text": [
      "2022-01-31 19:40:05,265 - INFO - Going to follow `user_id` 49799682659.\n"
     ]
    },
    {
     "name": "stdout",
     "output_type": "stream",
     "text": [
      "\n",
      "USER_NAME: inderhantra, FOLLOWER: 4, FOLLOWING: 18\n",
      "\u001b[31m\n",
      "follower_count < bot.min_followers_to_follow, skipping!\u001b[0m\n",
      "\u001b[;1m\u001b[32mAdding '48050898270' to `c:\\Users\\Bharat Anand\\Downloads\\projects_repo\\passion_projects\\Creating-insta-bot/config/skipped.txt`.\u001b[0m\u001b[0m\n",
      "New following : 88\n"
     ]
    },
    {
     "name": "stderr",
     "output_type": "stream",
     "text": [
      "2022-01-31 19:40:08,457 - INFO - Out of follows for today.\n",
      "2022-01-31 19:40:08,459 - INFO - Going to follow `user_id` 47103358720.\n"
     ]
    },
    {
     "name": "stdout",
     "output_type": "stream",
     "text": [
      "\n",
      "USER_NAME: ja.nvi6474, FOLLOWER: 20, FOLLOWING: 123\n",
      "New following : 88\n"
     ]
    },
    {
     "name": "stderr",
     "output_type": "stream",
     "text": [
      "2022-01-31 19:40:10,973 - INFO - Going to follow `user_id` 27294930193.\n"
     ]
    },
    {
     "name": "stdout",
     "output_type": "stream",
     "text": [
      "\n",
      "USER_NAME: dr.thought_, FOLLOWER: 1277, FOLLOWING: 2769\n",
      "\u001b[31m\n",
      "following_count > bot.max_following_to_follow, skipping!\u001b[0m\n",
      "\u001b[;1m\u001b[32mAdding '47103358720' to `c:\\Users\\Bharat Anand\\Downloads\\projects_repo\\passion_projects\\Creating-insta-bot/config/skipped.txt`.\u001b[0m\u001b[0m\n",
      "New following : 88\n"
     ]
    },
    {
     "name": "stderr",
     "output_type": "stream",
     "text": [
      "2022-01-31 19:40:13,390 - INFO - Going to follow `user_id` 47231614674.\n"
     ]
    },
    {
     "name": "stdout",
     "output_type": "stream",
     "text": [
      "\n",
      "USER_NAME: roomtales__, FOLLOWER: 1158, FOLLOWING: 2473\n",
      "\u001b[31m\n",
      "following_count > bot.max_following_to_follow, skipping!\u001b[0m\n",
      "\u001b[;1m\u001b[32mAdding '27294930193' to `c:\\Users\\Bharat Anand\\Downloads\\projects_repo\\passion_projects\\Creating-insta-bot/config/skipped.txt`.\u001b[0m\u001b[0m\n",
      "New following : 88\n"
     ]
    },
    {
     "name": "stderr",
     "output_type": "stream",
     "text": [
      "2022-01-31 19:40:15,183 - INFO - Out of follows for today.\n",
      "2022-01-31 19:40:15,184 - INFO - Going to follow `user_id` 47718019674.\n"
     ]
    },
    {
     "name": "stdout",
     "output_type": "stream",
     "text": [
      "\n",
      "USER_NAME: rushikesh_jadhav4389, FOLLOWER: 86, FOLLOWING: 154\n",
      "New following : 88\n"
     ]
    },
    {
     "name": "stderr",
     "output_type": "stream",
     "text": [
      "2022-01-31 19:40:18,929 - INFO - Out of follows for today.\n",
      "2022-01-31 19:40:18,930 - INFO - Going to follow `user_id` 44924847584.\n"
     ]
    },
    {
     "name": "stdout",
     "output_type": "stream",
     "text": [
      "\n",
      "USER_NAME: p.g_writings, FOLLOWER: 108, FOLLOWING: 124\n",
      "New following : 88\n"
     ]
    },
    {
     "name": "stderr",
     "output_type": "stream",
     "text": [
      "2022-01-31 19:40:23,046 - INFO - Going to follow `user_id` 31582561209.\n"
     ]
    },
    {
     "name": "stdout",
     "output_type": "stream",
     "text": [
      "\n",
      "USER_NAME: khadooshsaala, FOLLOWER: 1298, FOLLOWING: 2426\n",
      "\u001b[31m\n",
      "following_count > bot.max_following_to_follow, skipping!\u001b[0m\n",
      "\u001b[;1m\u001b[32mAdding '44924847584' to `c:\\Users\\Bharat Anand\\Downloads\\projects_repo\\passion_projects\\Creating-insta-bot/config/skipped.txt`.\u001b[0m\u001b[0m\n",
      "New following : 88\n"
     ]
    },
    {
     "name": "stderr",
     "output_type": "stream",
     "text": [
      "2022-01-31 19:40:25,968 - INFO - Going to follow `user_id` 48307172535.\n"
     ]
    },
    {
     "name": "stdout",
     "output_type": "stream",
     "text": [
      "\n",
      "USER_NAME: giri.ganesh.906, FOLLOWER: 1197, FOLLOWING: 7215\n",
      "\u001b[31m\n",
      "following_count > bot.max_following_to_follow, skipping!\u001b[0m\n",
      "\u001b[;1m\u001b[32mAdding '31582561209' to `c:\\Users\\Bharat Anand\\Downloads\\projects_repo\\passion_projects\\Creating-insta-bot/config/skipped.txt`.\u001b[0m\u001b[0m\n",
      "New following : 88\n"
     ]
    },
    {
     "name": "stderr",
     "output_type": "stream",
     "text": [
      "2022-01-31 19:40:28,993 - INFO - Out of follows for today.\n",
      "2022-01-31 19:40:28,994 - INFO - Going to follow `user_id` 47382997611.\n"
     ]
    },
    {
     "name": "stdout",
     "output_type": "stream",
     "text": [
      "\n",
      "USER_NAME: divyaa_writes, FOLLOWER: 517, FOLLOWING: 105\n",
      "New following : 88\n"
     ]
    },
    {
     "name": "stderr",
     "output_type": "stream",
     "text": [
      "2022-01-31 19:40:32,226 - INFO - Out of follows for today.\n",
      "2022-01-31 19:40:32,227 - INFO - Going to follow `user_id` 47843889856.\n"
     ]
    },
    {
     "name": "stdout",
     "output_type": "stream",
     "text": [
      "\n",
      "USER_NAME: sarcasticbanda9, FOLLOWER: 244, FOLLOWING: 813\n",
      "New following : 88\n"
     ]
    },
    {
     "name": "stderr",
     "output_type": "stream",
     "text": [
      "2022-01-31 19:40:36,325 - INFO - Going to follow `user_id` 10944411075.\n"
     ]
    },
    {
     "name": "stdout",
     "output_type": "stream",
     "text": [
      "\n",
      "USER_NAME: healthydietreceipe, FOLLOWER: 1113, FOLLOWING: 2057\n",
      "\u001b[31m\n",
      "following_count > bot.max_following_to_follow, skipping!\u001b[0m\n",
      "\u001b[;1m\u001b[32mAdding '47843889856' to `c:\\Users\\Bharat Anand\\Downloads\\projects_repo\\passion_projects\\Creating-insta-bot/config/skipped.txt`.\u001b[0m\u001b[0m\n",
      "New following : 88\n"
     ]
    },
    {
     "name": "stderr",
     "output_type": "stream",
     "text": [
      "2022-01-31 19:40:39,967 - INFO - Going to follow `user_id` 31957479022.\n"
     ]
    },
    {
     "name": "stdout",
     "output_type": "stream",
     "text": [
      "\n",
      "USER_NAME: ix_zayn, FOLLOWER: 177, FOLLOWING: 1299\n",
      "\u001b[31m\n",
      "media_count < bot.min_media_count_to_follow, BOT or INACTIVE, skipping!\u001b[0m\n",
      "\u001b[;1m\u001b[32mAdding '10944411075' to `c:\\Users\\Bharat Anand\\Downloads\\projects_repo\\passion_projects\\Creating-insta-bot/config/skipped.txt`.\u001b[0m\u001b[0m\n",
      "New following : 88\n"
     ]
    },
    {
     "name": "stderr",
     "output_type": "stream",
     "text": [
      "2022-01-31 19:40:43,070 - INFO - Out of follows for today.\n",
      "2022-01-31 19:40:43,074 - INFO - Going to follow `user_id` 49003770885.\n"
     ]
    },
    {
     "name": "stdout",
     "output_type": "stream",
     "text": [
      "\n",
      "USER_NAME: aashish_00.7, FOLLOWER: 4152, FOLLOWING: 873\n",
      "New following : 88\n"
     ]
    },
    {
     "name": "stderr",
     "output_type": "stream",
     "text": [
      "2022-01-31 19:40:44,657 - INFO - Going to follow `user_id` 35179553728.\n"
     ]
    },
    {
     "name": "stdout",
     "output_type": "stream",
     "text": [
      "\n",
      "USER_NAME: rishucaster_, FOLLOWER: 215, FOLLOWING: 144\n",
      "\u001b[31m\n",
      "media_count < bot.min_media_count_to_follow, BOT or INACTIVE, skipping!\u001b[0m\n",
      "\u001b[;1m\u001b[32mAdding '49003770885' to `c:\\Users\\Bharat Anand\\Downloads\\projects_repo\\passion_projects\\Creating-insta-bot/config/skipped.txt`.\u001b[0m\u001b[0m\n",
      "New following : 88\n"
     ]
    },
    {
     "name": "stderr",
     "output_type": "stream",
     "text": [
      "2022-01-31 19:40:49,347 - INFO - Out of follows for today.\n",
      "2022-01-31 19:40:49,349 - INFO - Going to follow `user_id` 48012293037.\n"
     ]
    },
    {
     "name": "stdout",
     "output_type": "stream",
     "text": [
      "\n",
      "USER_NAME: entertainment_pitaara, FOLLOWER: 280, FOLLOWING: 470\n",
      "New following : 88\n"
     ]
    },
    {
     "name": "stderr",
     "output_type": "stream",
     "text": [
      "2022-01-31 19:40:53,644 - INFO - Out of follows for today.\n",
      "2022-01-31 19:40:53,648 - INFO - Going to follow `user_id` 48769541586.\n"
     ]
    },
    {
     "name": "stdout",
     "output_type": "stream",
     "text": [
      "\n",
      "USER_NAME: hamara.swag_, FOLLOWER: 884, FOLLOWING: 774\n",
      "New following : 88\n"
     ]
    },
    {
     "name": "stderr",
     "output_type": "stream",
     "text": [
      "2022-01-31 19:40:55,157 - INFO - Out of follows for today.\n",
      "2022-01-31 19:40:55,158 - INFO - Going to follow `user_id` 42795613987.\n"
     ]
    },
    {
     "name": "stdout",
     "output_type": "stream",
     "text": [
      "\n",
      "USER_NAME: splendid_soulz, FOLLOWER: 206, FOLLOWING: 342\n",
      "New following : 88\n"
     ]
    },
    {
     "name": "stderr",
     "output_type": "stream",
     "text": [
      "2022-01-31 19:40:58,175 - INFO - Going to follow `user_id` 44255788008.\n"
     ]
    },
    {
     "name": "stdout",
     "output_type": "stream",
     "text": [
      "\n",
      "USER_NAME: bunkersclub_, FOLLOWER: 3023, FOLLOWING: 3413\n",
      "\u001b[31m\n",
      "following_count > bot.max_following_to_follow, skipping!\u001b[0m\n",
      "\u001b[;1m\u001b[32mAdding '42795613987' to `c:\\Users\\Bharat Anand\\Downloads\\projects_repo\\passion_projects\\Creating-insta-bot/config/skipped.txt`.\u001b[0m\u001b[0m\n",
      "New following : 88\n"
     ]
    },
    {
     "name": "stderr",
     "output_type": "stream",
     "text": [
      "2022-01-31 19:41:02,455 - INFO - Going to follow `user_id` 48678861099.\n"
     ]
    },
    {
     "name": "stdout",
     "output_type": "stream",
     "text": [
      "\n",
      "USER_NAME: memeoography, FOLLOWER: 1634, FOLLOWING: 4126\n",
      "\u001b[31m\n",
      "following_count > bot.max_following_to_follow, skipping!\u001b[0m\n",
      "\u001b[;1m\u001b[32mAdding '44255788008' to `c:\\Users\\Bharat Anand\\Downloads\\projects_repo\\passion_projects\\Creating-insta-bot/config/skipped.txt`.\u001b[0m\u001b[0m\n",
      "New following : 88\n"
     ]
    },
    {
     "name": "stderr",
     "output_type": "stream",
     "text": [
      "2022-01-31 19:41:04,938 - INFO - Going to follow `user_id` 48057429664.\n"
     ]
    },
    {
     "name": "stdout",
     "output_type": "stream",
     "text": [
      "\n",
      "USER_NAME: xxvan.shxx, FOLLOWER: 23, FOLLOWING: 30\n",
      "\u001b[31m\n",
      "info: account is PRIVATE, skipping! \u001b[0m\n",
      "\u001b[;1m\u001b[32mAdding '48678861099' to `c:\\Users\\Bharat Anand\\Downloads\\projects_repo\\passion_projects\\Creating-insta-bot/config/skipped.txt`.\u001b[0m\u001b[0m\n",
      "New following : 88\n"
     ]
    },
    {
     "name": "stderr",
     "output_type": "stream",
     "text": [
      "2022-01-31 19:41:07,811 - INFO - Going to follow `user_id` 47466800427.\n"
     ]
    },
    {
     "name": "stdout",
     "output_type": "stream",
     "text": [
      "\n",
      "USER_NAME: preeti_desaiii42, FOLLOWER: 67, FOLLOWING: 41\n",
      "\u001b[31m\n",
      "info: account is PRIVATE, skipping! \u001b[0m\n",
      "\u001b[;1m\u001b[32mAdding '48057429664' to `c:\\Users\\Bharat Anand\\Downloads\\projects_repo\\passion_projects\\Creating-insta-bot/config/skipped.txt`.\u001b[0m\u001b[0m\n",
      "New following : 88\n"
     ]
    },
    {
     "name": "stderr",
     "output_type": "stream",
     "text": [
      "2022-01-31 19:41:10,331 - INFO - Out of follows for today.\n",
      "2022-01-31 19:41:10,335 - INFO - Going to follow `user_id` 48414316729.\n"
     ]
    },
    {
     "name": "stdout",
     "output_type": "stream",
     "text": [
      "\n",
      "USER_NAME: zuhaib_30, FOLLOWER: 25, FOLLOWING: 88\n",
      "New following : 88\n"
     ]
    },
    {
     "name": "stderr",
     "output_type": "stream",
     "text": [
      "2022-01-31 19:41:13,530 - INFO - Out of follows for today.\n",
      "2022-01-31 19:41:13,531 - INFO - Going to follow `user_id` 37856178380.\n"
     ]
    },
    {
     "name": "stdout",
     "output_type": "stream",
     "text": [
      "\n",
      "USER_NAME: __nisa_123, FOLLOWER: 637, FOLLOWING: 485\n",
      "New following : 88\n"
     ]
    },
    {
     "name": "stderr",
     "output_type": "stream",
     "text": [
      "2022-01-31 19:41:15,675 - INFO - Going to follow `user_id` 46721425576.\n"
     ]
    },
    {
     "name": "stdout",
     "output_type": "stream",
     "text": [
      "\n",
      "USER_NAME: tweety.indian_, FOLLOWER: 1264, FOLLOWING: 1109\n",
      "\u001b[31m\n",
      "info: account is PRIVATE, skipping! \u001b[0m\n",
      "\u001b[;1m\u001b[32mAdding '37856178380' to `c:\\Users\\Bharat Anand\\Downloads\\projects_repo\\passion_projects\\Creating-insta-bot/config/skipped.txt`.\u001b[0m\u001b[0m\n",
      "New following : 88\n"
     ]
    },
    {
     "name": "stderr",
     "output_type": "stream",
     "text": [
      "2022-01-31 19:41:18,425 - INFO - Out of follows for today.\n",
      "2022-01-31 19:41:18,428 - INFO - Going to follow `user_id` 48721594686.\n"
     ]
    },
    {
     "name": "stdout",
     "output_type": "stream",
     "text": [
      "\n",
      "USER_NAME: cartoon_memes_world, FOLLOWER: 1007, FOLLOWING: 507\n",
      "New following : 88\n"
     ]
    },
    {
     "name": "stderr",
     "output_type": "stream",
     "text": [
      "2022-01-31 19:41:22,721 - INFO - Going to follow `user_id` 46141287238.\n"
     ]
    },
    {
     "name": "stdout",
     "output_type": "stream",
     "text": [
      "\n",
      "USER_NAME: jame_ssmith73310, FOLLOWER: 607, FOLLOWING: 7498\n",
      "\u001b[31m\n",
      "info: account is PRIVATE, skipping! \u001b[0m\n",
      "\u001b[;1m\u001b[32mAdding '48721594686' to `c:\\Users\\Bharat Anand\\Downloads\\projects_repo\\passion_projects\\Creating-insta-bot/config/skipped.txt`.\u001b[0m\u001b[0m\n",
      "New following : 88\n"
     ]
    },
    {
     "name": "stderr",
     "output_type": "stream",
     "text": [
      "2022-01-31 19:41:26,906 - INFO - Going to follow `user_id` 3997575249.\n"
     ]
    },
    {
     "name": "stdout",
     "output_type": "stream",
     "text": [
      "\n",
      "USER_NAME: belykbcube, FOLLOWER: 983, FOLLOWING: 2678\n",
      "\u001b[31m\n",
      "following_count > bot.max_following_to_follow, skipping!\u001b[0m\n",
      "\u001b[;1m\u001b[32mAdding '46141287238' to `c:\\Users\\Bharat Anand\\Downloads\\projects_repo\\passion_projects\\Creating-insta-bot/config/skipped.txt`.\u001b[0m\u001b[0m\n",
      "New following : 88\n"
     ]
    },
    {
     "name": "stderr",
     "output_type": "stream",
     "text": [
      "2022-01-31 19:41:29,490 - INFO - Out of follows for today.\n",
      "2022-01-31 19:41:29,492 - INFO - Going to follow `user_id` 48378492022.\n"
     ]
    },
    {
     "name": "stdout",
     "output_type": "stream",
     "text": [
      "\n",
      "USER_NAME: rishi_tweets_, FOLLOWER: 1250, FOLLOWING: 739\n",
      "New following : 88\n"
     ]
    },
    {
     "name": "stderr",
     "output_type": "stream",
     "text": [
      "2022-01-31 19:41:32,097 - INFO - Out of follows for today.\n",
      "2022-01-31 19:41:32,101 - INFO - Going to follow `user_id` 13543395782.\n"
     ]
    },
    {
     "name": "stdout",
     "output_type": "stream",
     "text": [
      "\n",
      "USER_NAME: tanimaniac_20, FOLLOWER: 98, FOLLOWING: 80\n",
      "New following : 88\n"
     ]
    },
    {
     "name": "stderr",
     "output_type": "stream",
     "text": [
      "2022-01-31 19:41:35,338 - INFO - Out of follows for today.\n",
      "2022-01-31 19:41:35,339 - INFO - Going to follow `user_id` 48085512448.\n"
     ]
    },
    {
     "name": "stdout",
     "output_type": "stream",
     "text": [
      "\n",
      "USER_NAME: jeames_kershrealz, FOLLOWER: 994, FOLLOWING: 1099\n",
      "New following : 88\n"
     ]
    },
    {
     "name": "stderr",
     "output_type": "stream",
     "text": [
      "2022-01-31 19:41:37,918 - INFO - Out of follows for today.\n",
      "2022-01-31 19:41:37,920 - INFO - Going to follow `user_id` 48100221260.\n"
     ]
    },
    {
     "name": "stdout",
     "output_type": "stream",
     "text": [
      "\n",
      "USER_NAME: be_foodie_with_mg, FOLLOWER: 386, FOLLOWING: 677\n",
      "New following : 88\n"
     ]
    },
    {
     "name": "stderr",
     "output_type": "stream",
     "text": [
      "2022-01-31 19:41:42,482 - INFO - Going to follow `user_id` 47914218532.\n"
     ]
    },
    {
     "name": "stdout",
     "output_type": "stream",
     "text": [
      "\n",
      "USER_NAME: ks4854280, FOLLOWER: 46, FOLLOWING: 202\n",
      "\u001b[31m\n",
      "info: account is PRIVATE, skipping! \u001b[0m\n",
      "\u001b[;1m\u001b[32mAdding '48100221260' to `c:\\Users\\Bharat Anand\\Downloads\\projects_repo\\passion_projects\\Creating-insta-bot/config/skipped.txt`.\u001b[0m\u001b[0m\n",
      "New following : 88\n"
     ]
    },
    {
     "name": "stderr",
     "output_type": "stream",
     "text": [
      "2022-01-31 19:41:43,913 - INFO - Out of follows for today.\n",
      "2022-01-31 19:41:43,914 - INFO - Going to follow `user_id` 44616762239.\n"
     ]
    },
    {
     "name": "stdout",
     "output_type": "stream",
     "text": [
      "\n",
      "USER_NAME: izzy.tweets, FOLLOWER: 660, FOLLOWING: 785\n",
      "New following : 88\n"
     ]
    },
    {
     "name": "stderr",
     "output_type": "stream",
     "text": [
      "2022-01-31 19:41:47,585 - INFO - Going to follow `user_id` 45430923015.\n"
     ]
    },
    {
     "name": "stdout",
     "output_type": "stream",
     "text": [
      "\n",
      "USER_NAME: quotes.for.youuuuuuuu, FOLLOWER: 4655, FOLLOWING: 5091\n",
      "\u001b[31m\n",
      "following_count > bot.max_following_to_follow, skipping!\u001b[0m\n",
      "\u001b[;1m\u001b[32mAdding '44616762239' to `c:\\Users\\Bharat Anand\\Downloads\\projects_repo\\passion_projects\\Creating-insta-bot/config/skipped.txt`.\u001b[0m\u001b[0m\n",
      "New following : 88\n"
     ]
    },
    {
     "name": "stderr",
     "output_type": "stream",
     "text": [
      "2022-01-31 19:41:50,974 - INFO - Going to follow `user_id` 46397382393.\n"
     ]
    },
    {
     "name": "stdout",
     "output_type": "stream",
     "text": [
      "\n",
      "USER_NAME: memes_fromdesi, FOLLOWER: 1238, FOLLOWING: 3440\n",
      "\u001b[31m\n",
      "following_count > bot.max_following_to_follow, skipping!\u001b[0m\n",
      "\u001b[;1m\u001b[32mAdding '45430923015' to `c:\\Users\\Bharat Anand\\Downloads\\projects_repo\\passion_projects\\Creating-insta-bot/config/skipped.txt`.\u001b[0m\u001b[0m\n",
      "New following : 88\n"
     ]
    },
    {
     "name": "stderr",
     "output_type": "stream",
     "text": [
      "2022-01-31 19:41:53,874 - INFO - Going to follow `user_id` 47017152350.\n"
     ]
    },
    {
     "name": "stdout",
     "output_type": "stream",
     "text": [
      "\n",
      "USER_NAME: shoryasharma119, FOLLOWER: 85, FOLLOWING: 934\n",
      "\u001b[31m\n",
      "info: account is PRIVATE, skipping! \u001b[0m\n",
      "\u001b[;1m\u001b[32mAdding '46397382393' to `c:\\Users\\Bharat Anand\\Downloads\\projects_repo\\passion_projects\\Creating-insta-bot/config/skipped.txt`.\u001b[0m\u001b[0m\n",
      "New following : 88\n"
     ]
    },
    {
     "name": "stderr",
     "output_type": "stream",
     "text": [
      "2022-01-31 19:41:56,809 - INFO - Out of follows for today.\n",
      "2022-01-31 19:41:56,810 - INFO - Going to follow `user_id` 46096500551.\n"
     ]
    },
    {
     "name": "stdout",
     "output_type": "stream",
     "text": [
      "\n",
      "USER_NAME: thevellapeople, FOLLOWER: 1578, FOLLOWING: 1252\n",
      "New following : 88\n"
     ]
    },
    {
     "name": "stderr",
     "output_type": "stream",
     "text": [
      "2022-01-31 19:41:59,555 - INFO - Going to follow `user_id` 47351734323.\n"
     ]
    },
    {
     "name": "stdout",
     "output_type": "stream",
     "text": [
      "\n",
      "USER_NAME: sanskaricasm, FOLLOWER: 9961, FOLLOWING: 850\n",
      "\u001b[31m\n",
      "follower_count > bot.max_followers_to_follow, skipping!\u001b[0m\n",
      "\u001b[;1m\u001b[32mAdding '46096500551' to `c:\\Users\\Bharat Anand\\Downloads\\projects_repo\\passion_projects\\Creating-insta-bot/config/skipped.txt`.\u001b[0m\u001b[0m\n",
      "New following : 88\n"
     ]
    },
    {
     "name": "stderr",
     "output_type": "stream",
     "text": [
      "2022-01-31 19:42:02,985 - INFO - Out of follows for today.\n",
      "2022-01-31 19:42:02,990 - INFO - Going to follow `user_id` 8612121513.\n"
     ]
    },
    {
     "name": "stdout",
     "output_type": "stream",
     "text": [
      "\n",
      "USER_NAME: ksuraj72428, FOLLOWER: 433, FOLLOWING: 949\n",
      "New following : 88\n"
     ]
    },
    {
     "name": "stderr",
     "output_type": "stream",
     "text": [
      "2022-01-31 19:42:06,066 - INFO - Going to follow `user_id` 32883789163.\n"
     ]
    },
    {
     "name": "stdout",
     "output_type": "stream",
     "text": [
      "\n",
      "USER_NAME: _a_n_k.u_s_h_, FOLLOWER: 625, FOLLOWING: 946\n",
      "\u001b[31m\n",
      "info: account is PRIVATE, skipping! \u001b[0m\n",
      "\u001b[;1m\u001b[32mAdding '8612121513' to `c:\\Users\\Bharat Anand\\Downloads\\projects_repo\\passion_projects\\Creating-insta-bot/config/skipped.txt`.\u001b[0m\u001b[0m\n",
      "New following : 88\n"
     ]
    },
    {
     "name": "stderr",
     "output_type": "stream",
     "text": [
      "2022-01-31 19:42:09,914 - INFO - Out of follows for today.\n",
      "2022-01-31 19:42:09,915 - INFO - Going to follow `user_id` 48242516627.\n"
     ]
    },
    {
     "name": "stdout",
     "output_type": "stream",
     "text": [
      "\n",
      "USER_NAME: undefined__stories, FOLLOWER: 1063, FOLLOWING: 556\n",
      "New following : 88\n"
     ]
    },
    {
     "name": "stderr",
     "output_type": "stream",
     "text": [
      "2022-01-31 19:42:13,202 - INFO - Out of follows for today.\n",
      "2022-01-31 19:42:13,203 - INFO - Going to follow `user_id` 11796841666.\n"
     ]
    },
    {
     "name": "stdout",
     "output_type": "stream",
     "text": [
      "\n",
      "USER_NAME: memebachchan23, FOLLOWER: 555, FOLLOWING: 552\n",
      "New following : 88\n"
     ]
    },
    {
     "name": "stderr",
     "output_type": "stream",
     "text": [
      "2022-01-31 19:42:15,893 - INFO - Going to follow `user_id` 16506256391.\n"
     ]
    },
    {
     "name": "stdout",
     "output_type": "stream",
     "text": [
      "\n",
      "USER_NAME: its_jannat__x, FOLLOWER: 4001, FOLLOWING: 890\n",
      "\u001b[31m\n",
      "info: account is PRIVATE, skipping! \u001b[0m\n",
      "\u001b[;1m\u001b[32mAdding '11796841666' to `c:\\Users\\Bharat Anand\\Downloads\\projects_repo\\passion_projects\\Creating-insta-bot/config/skipped.txt`.\u001b[0m\u001b[0m\n",
      "New following : 88\n"
     ]
    },
    {
     "name": "stderr",
     "output_type": "stream",
     "text": [
      "2022-01-31 19:42:17,274 - INFO - Going to follow `user_id` 47697349389.\n"
     ]
    },
    {
     "name": "stdout",
     "output_type": "stream",
     "text": [
      "\n",
      "USER_NAME: drskimoyt, FOLLOWER: 21035, FOLLOWING: 2672\n",
      "\u001b[31m\n",
      "info: account is PRIVATE, skipping! \u001b[0m\n",
      "\u001b[;1m\u001b[32mAdding '16506256391' to `c:\\Users\\Bharat Anand\\Downloads\\projects_repo\\passion_projects\\Creating-insta-bot/config/skipped.txt`.\u001b[0m\u001b[0m\n",
      "New following : 88\n"
     ]
    },
    {
     "name": "stderr",
     "output_type": "stream",
     "text": [
      "2022-01-31 19:42:20,776 - INFO - Going to follow `user_id` 48528178321.\n"
     ]
    },
    {
     "name": "stdout",
     "output_type": "stream",
     "text": [
      "\n",
      "USER_NAME: rahat.ke.alfaaj, FOLLOWER: 1196, FOLLOWING: 3727\n",
      "\u001b[31m\n",
      "following_count > bot.max_following_to_follow, skipping!\u001b[0m\n",
      "\u001b[;1m\u001b[32mAdding '47697349389' to `c:\\Users\\Bharat Anand\\Downloads\\projects_repo\\passion_projects\\Creating-insta-bot/config/skipped.txt`.\u001b[0m\u001b[0m\n",
      "New following : 88\n"
     ]
    },
    {
     "name": "stderr",
     "output_type": "stream",
     "text": [
      "2022-01-31 19:42:24,270 - INFO - Going to follow `user_id` 47923835496.\n"
     ]
    },
    {
     "name": "stdout",
     "output_type": "stream",
     "text": [
      "\n",
      "USER_NAME: 8.7.6.3.5.4, FOLLOWER: 1215, FOLLOWING: 2154\n",
      "\u001b[31m\n",
      "following_count > bot.max_following_to_follow, skipping!\u001b[0m\n",
      "\u001b[;1m\u001b[32mAdding '48528178321' to `c:\\Users\\Bharat Anand\\Downloads\\projects_repo\\passion_projects\\Creating-insta-bot/config/skipped.txt`.\u001b[0m\u001b[0m\n",
      "New following : 88\n"
     ]
    },
    {
     "name": "stderr",
     "output_type": "stream",
     "text": [
      "2022-01-31 19:42:29,061 - INFO - Out of follows for today.\n",
      "2022-01-31 19:42:29,062 - INFO - Going to follow `user_id` 44222402315.\n"
     ]
    },
    {
     "name": "stdout",
     "output_type": "stream",
     "text": [
      "\n",
      "USER_NAME: carry.minati_015, FOLLOWER: 48, FOLLOWING: 44\n",
      "New following : 88\n"
     ]
    },
    {
     "name": "stderr",
     "output_type": "stream",
     "text": [
      "2022-01-31 19:42:33,090 - INFO - Going to follow `user_id` 46683795423.\n"
     ]
    },
    {
     "name": "stdout",
     "output_type": "stream",
     "text": [
      "\n",
      "USER_NAME: troll_networks, FOLLOWER: 1705, FOLLOWING: 3988\n",
      "\u001b[31m\n",
      "following_count > bot.max_following_to_follow, skipping!\u001b[0m\n",
      "\u001b[;1m\u001b[32mAdding '44222402315' to `c:\\Users\\Bharat Anand\\Downloads\\projects_repo\\passion_projects\\Creating-insta-bot/config/skipped.txt`.\u001b[0m\u001b[0m\n",
      "New following : 88\n"
     ]
    },
    {
     "name": "stderr",
     "output_type": "stream",
     "text": [
      "2022-01-31 19:42:34,695 - INFO - Out of follows for today.\n",
      "2022-01-31 19:42:34,697 - INFO - Going to follow `user_id` 40024396641.\n"
     ]
    },
    {
     "name": "stdout",
     "output_type": "stream",
     "text": [
      "\n",
      "USER_NAME: __black_red_heart__, FOLLOWER: 1443, FOLLOWING: 1759\n",
      "New following : 88\n"
     ]
    },
    {
     "name": "stderr",
     "output_type": "stream",
     "text": [
      "2022-01-31 19:42:38,637 - INFO - Out of follows for today.\n",
      "2022-01-31 19:42:38,640 - INFO - Going to follow `user_id` 45510331082.\n"
     ]
    },
    {
     "name": "stdout",
     "output_type": "stream",
     "text": [
      "\n",
      "USER_NAME: street_meme1, FOLLOWER: 1932, FOLLOWING: 1524\n",
      "New following : 88\n"
     ]
    },
    {
     "name": "stderr",
     "output_type": "stream",
     "text": [
      "2022-01-31 19:42:43,054 - INFO - Going to follow `user_id` 45699116046.\n"
     ]
    },
    {
     "name": "stdout",
     "output_type": "stream",
     "text": [
      "\n",
      "USER_NAME: stannnnnyyyyy, FOLLOWER: 652, FOLLOWING: 3101\n",
      "\u001b[31m\n",
      "following_count > bot.max_following_to_follow, skipping!\u001b[0m\n",
      "\u001b[;1m\u001b[32mAdding '45510331082' to `c:\\Users\\Bharat Anand\\Downloads\\projects_repo\\passion_projects\\Creating-insta-bot/config/skipped.txt`.\u001b[0m\u001b[0m\n",
      "New following : 88\n"
     ]
    },
    {
     "name": "stderr",
     "output_type": "stream",
     "text": [
      "2022-01-31 19:42:44,689 - INFO - Going to follow `user_id` 46698705053.\n"
     ]
    },
    {
     "name": "stdout",
     "output_type": "stream",
     "text": [
      "\n",
      "USER_NAME: its_angel_girl2, FOLLOWER: 2042, FOLLOWING: 2676\n",
      "\u001b[31m\n",
      "following_count > bot.max_following_to_follow, skipping!\u001b[0m\n",
      "\u001b[;1m\u001b[32mAdding '45699116046' to `c:\\Users\\Bharat Anand\\Downloads\\projects_repo\\passion_projects\\Creating-insta-bot/config/skipped.txt`.\u001b[0m\u001b[0m\n",
      "New following : 88\n"
     ]
    },
    {
     "name": "stderr",
     "output_type": "stream",
     "text": [
      "2022-01-31 19:42:47,487 - INFO - Out of follows for today.\n",
      "2022-01-31 19:42:47,490 - INFO - Going to follow `user_id` 46769600887.\n"
     ]
    },
    {
     "name": "stdout",
     "output_type": "stream",
     "text": [
      "\n",
      "USER_NAME: love_blackish, FOLLOWER: 74, FOLLOWING: 283\n",
      "New following : 88\n"
     ]
    },
    {
     "name": "stderr",
     "output_type": "stream",
     "text": [
      "2022-01-31 19:42:49,766 - INFO - Going to follow `user_id` 48491838151.\n"
     ]
    },
    {
     "name": "stdout",
     "output_type": "stream",
     "text": [
      "\n",
      "USER_NAME: main_bhi_meme3, FOLLOWER: 1437, FOLLOWING: 2674\n",
      "\u001b[31m\n",
      "following_count > bot.max_following_to_follow, skipping!\u001b[0m\n",
      "\u001b[;1m\u001b[32mAdding '46769600887' to `c:\\Users\\Bharat Anand\\Downloads\\projects_repo\\passion_projects\\Creating-insta-bot/config/skipped.txt`.\u001b[0m\u001b[0m\n",
      "New following : 88\n"
     ]
    },
    {
     "name": "stderr",
     "output_type": "stream",
     "text": [
      "2022-01-31 19:42:52,510 - INFO - Going to follow `user_id` 46491767769.\n"
     ]
    },
    {
     "name": "stdout",
     "output_type": "stream",
     "text": [
      "\n",
      "USER_NAME: memesfinder59, FOLLOWER: 1556, FOLLOWING: 2640\n",
      "\u001b[31m\n",
      "following_count > bot.max_following_to_follow, skipping!\u001b[0m\n",
      "\u001b[;1m\u001b[32mAdding '48491838151' to `c:\\Users\\Bharat Anand\\Downloads\\projects_repo\\passion_projects\\Creating-insta-bot/config/skipped.txt`.\u001b[0m\u001b[0m\n",
      "New following : 88\n"
     ]
    },
    {
     "name": "stderr",
     "output_type": "stream",
     "text": [
      "2022-01-31 19:42:56,643 - INFO - Out of follows for today.\n",
      "2022-01-31 19:42:56,647 - INFO - Going to follow `user_id` 46404482540.\n"
     ]
    },
    {
     "name": "stdout",
     "output_type": "stream",
     "text": [
      "\n",
      "USER_NAME: chutiya_zindgi_, FOLLOWER: 866, FOLLOWING: 317\n",
      "New following : 88\n"
     ]
    },
    {
     "name": "stderr",
     "output_type": "stream",
     "text": [
      "2022-01-31 19:43:00,019 - INFO - Out of follows for today.\n",
      "2022-01-31 19:43:00,020 - INFO - Going to follow `user_id` 48440591411.\n"
     ]
    },
    {
     "name": "stdout",
     "output_type": "stream",
     "text": [
      "\n",
      "USER_NAME: reality_junction_, FOLLOWER: 277, FOLLOWING: 330\n",
      "New following : 88\n"
     ]
    },
    {
     "name": "stderr",
     "output_type": "stream",
     "text": [
      "2022-01-31 19:43:01,816 - INFO - Out of follows for today.\n",
      "2022-01-31 19:43:01,818 - INFO - Going to follow `user_id` 47661784413.\n"
     ]
    },
    {
     "name": "stdout",
     "output_type": "stream",
     "text": [
      "\n",
      "USER_NAME: upboxingacademy, FOLLOWER: 250, FOLLOWING: 640\n",
      "New following : 88\n"
     ]
    },
    {
     "name": "stderr",
     "output_type": "stream",
     "text": [
      "2022-01-31 19:43:03,662 - INFO - Going to follow `user_id` 44641019229.\n"
     ]
    },
    {
     "name": "stdout",
     "output_type": "stream",
     "text": [
      "\n",
      "USER_NAME: rameshjaat133, FOLLOWER: 1116, FOLLOWING: 6595\n",
      "\u001b[31m\n",
      "following_count > bot.max_following_to_follow, skipping!\u001b[0m\n",
      "\u001b[;1m\u001b[32mAdding '47661784413' to `c:\\Users\\Bharat Anand\\Downloads\\projects_repo\\passion_projects\\Creating-insta-bot/config/skipped.txt`.\u001b[0m\u001b[0m\n",
      "New following : 88\n"
     ]
    },
    {
     "name": "stderr",
     "output_type": "stream",
     "text": [
      "2022-01-31 19:43:07,658 - INFO - Going to follow `user_id` 9482873505.\n"
     ]
    },
    {
     "name": "stdout",
     "output_type": "stream",
     "text": [
      "\n",
      "USER_NAME: theslayy.meme, FOLLOWER: 1939, FOLLOWING: 6649\n",
      "\u001b[31m\n",
      "following_count > bot.max_following_to_follow, skipping!\u001b[0m\n",
      "\u001b[;1m\u001b[32mAdding '44641019229' to `c:\\Users\\Bharat Anand\\Downloads\\projects_repo\\passion_projects\\Creating-insta-bot/config/skipped.txt`.\u001b[0m\u001b[0m\n",
      "New following : 88\n"
     ]
    },
    {
     "name": "stderr",
     "output_type": "stream",
     "text": [
      "2022-01-31 19:43:09,441 - INFO - Out of follows for today.\n",
      "2022-01-31 19:43:09,442 - INFO - Going to follow `user_id` 46009956885.\n"
     ]
    },
    {
     "name": "stdout",
     "output_type": "stream",
     "text": [
      "\n",
      "USER_NAME: _aman.writes_, FOLLOWER: 1395, FOLLOWING: 697\n",
      "New following : 88\n"
     ]
    },
    {
     "name": "stderr",
     "output_type": "stream",
     "text": [
      "2022-01-31 19:43:11,542 - INFO - Going to follow `user_id` 32230630658.\n"
     ]
    },
    {
     "name": "stdout",
     "output_type": "stream",
     "text": [
      "\n",
      "USER_NAME: mr_bakchod_jee, FOLLOWER: 1500, FOLLOWING: 4220\n",
      "\u001b[31m\n",
      "following_count > bot.max_following_to_follow, skipping!\u001b[0m\n",
      "\u001b[;1m\u001b[32mAdding '46009956885' to `c:\\Users\\Bharat Anand\\Downloads\\projects_repo\\passion_projects\\Creating-insta-bot/config/skipped.txt`.\u001b[0m\u001b[0m\n",
      "New following : 88\n"
     ]
    },
    {
     "name": "stderr",
     "output_type": "stream",
     "text": [
      "2022-01-31 19:43:14,837 - INFO - Going to follow `user_id` 34438144670.\n"
     ]
    },
    {
     "name": "stdout",
     "output_type": "stream",
     "text": [
      "\n",
      "USER_NAME: aur__bc, FOLLOWER: 2215, FOLLOWING: 2304\n",
      "\u001b[31m\n",
      "following_count > bot.max_following_to_follow, skipping!\u001b[0m\n",
      "\u001b[;1m\u001b[32mAdding '32230630658' to `c:\\Users\\Bharat Anand\\Downloads\\projects_repo\\passion_projects\\Creating-insta-bot/config/skipped.txt`.\u001b[0m\u001b[0m\n",
      "New following : 88\n"
     ]
    },
    {
     "name": "stderr",
     "output_type": "stream",
     "text": [
      "2022-01-31 19:43:17,565 - INFO - Going to follow `user_id` 48373358383.\n"
     ]
    },
    {
     "name": "stdout",
     "output_type": "stream",
     "text": [
      "\n",
      "USER_NAME: yessakku, FOLLOWER: 6241, FOLLOWING: 412\n",
      "\u001b[31m\n",
      "follower_count > bot.max_followers_to_follow, skipping!\u001b[0m\n",
      "\u001b[;1m\u001b[32mAdding '34438144670' to `c:\\Users\\Bharat Anand\\Downloads\\projects_repo\\passion_projects\\Creating-insta-bot/config/skipped.txt`.\u001b[0m\u001b[0m\n",
      "New following : 88\n"
     ]
    },
    {
     "name": "stderr",
     "output_type": "stream",
     "text": [
      "2022-01-31 19:43:20,565 - INFO - Out of follows for today.\n",
      "2022-01-31 19:43:20,566 - INFO - Going to follow `user_id` 46388125261.\n"
     ]
    },
    {
     "name": "stdout",
     "output_type": "stream",
     "text": [
      "\n",
      "USER_NAME: tharkimemerofficial, FOLLOWER: 3749, FOLLOWING: 1285\n",
      "New following : 88\n"
     ]
    },
    {
     "name": "stderr",
     "output_type": "stream",
     "text": [
      "2022-01-31 19:43:22,432 - INFO - Out of follows for today.\n",
      "2022-01-31 19:43:22,433 - INFO - Going to follow `user_id` 4526117646.\n"
     ]
    },
    {
     "name": "stdout",
     "output_type": "stream",
     "text": [
      "\n",
      "USER_NAME: deep_thought_02, FOLLOWER: 577, FOLLOWING: 378\n",
      "New following : 88\n"
     ]
    },
    {
     "name": "stderr",
     "output_type": "stream",
     "text": [
      "2022-01-31 19:43:24,625 - INFO - Going to follow `user_id` 47856487807.\n"
     ]
    },
    {
     "name": "stdout",
     "output_type": "stream",
     "text": [
      "\n",
      "USER_NAME: _____.little, FOLLOWER: 15076, FOLLOWING: 7015\n",
      "\u001b[31m\n",
      "follower_count > bot.max_followers_to_follow, skipping!\u001b[0m\n",
      "\u001b[;1m\u001b[32mAdding '4526117646' to `c:\\Users\\Bharat Anand\\Downloads\\projects_repo\\passion_projects\\Creating-insta-bot/config/skipped.txt`.\u001b[0m\u001b[0m\n",
      "New following : 88\n"
     ]
    },
    {
     "name": "stderr",
     "output_type": "stream",
     "text": [
      "2022-01-31 19:43:28,421 - INFO - Out of follows for today.\n",
      "2022-01-31 19:43:28,424 - INFO - Going to follow `user_id` 47648428943.\n"
     ]
    },
    {
     "name": "stdout",
     "output_type": "stream",
     "text": [
      "\n",
      "USER_NAME: gangnam_buoy, FOLLOWER: 2632, FOLLOWING: 495\n",
      "New following : 88\n"
     ]
    },
    {
     "name": "stderr",
     "output_type": "stream",
     "text": [
      "2022-01-31 19:43:32,433 - INFO - Out of follows for today.\n",
      "2022-01-31 19:43:32,435 - INFO - Going to follow `user_id` 48870279946.\n"
     ]
    },
    {
     "name": "stdout",
     "output_type": "stream",
     "text": [
      "\n",
      "USER_NAME: alisha_ansari90, FOLLOWER: 293, FOLLOWING: 130\n",
      "New following : 88\n"
     ]
    },
    {
     "name": "stderr",
     "output_type": "stream",
     "text": [
      "2022-01-31 19:43:34,836 - INFO - Going to follow `user_id` 44706222547.\n"
     ]
    },
    {
     "name": "stdout",
     "output_type": "stream",
     "text": [
      "\n",
      "USER_NAME: artb.ydream, FOLLOWER: 97, FOLLOWING: 505\n",
      "\u001b[31m\n",
      "media_count < bot.min_media_count_to_follow, BOT or INACTIVE, skipping!\u001b[0m\n",
      "\u001b[;1m\u001b[32mAdding '48870279946' to `c:\\Users\\Bharat Anand\\Downloads\\projects_repo\\passion_projects\\Creating-insta-bot/config/skipped.txt`.\u001b[0m\u001b[0m\n",
      "New following : 88\n"
     ]
    },
    {
     "name": "stderr",
     "output_type": "stream",
     "text": [
      "2022-01-31 19:43:36,700 - INFO - Out of follows for today.\n",
      "2022-01-31 19:43:36,701 - INFO - Going to follow `user_id` 47849114630.\n"
     ]
    },
    {
     "name": "stdout",
     "output_type": "stream",
     "text": [
      "\n",
      "USER_NAME: yaxhuuu, FOLLOWER: 1623, FOLLOWING: 485\n",
      "New following : 88\n"
     ]
    },
    {
     "name": "stderr",
     "output_type": "stream",
     "text": [
      "2022-01-31 19:43:38,514 - INFO - Going to follow `user_id` 47148508977.\n"
     ]
    },
    {
     "name": "stdout",
     "output_type": "stream",
     "text": [
      "\n",
      "USER_NAME: x__mohtarma__x, FOLLOWER: 2125, FOLLOWING: 5165\n",
      "\u001b[31m\n",
      "following_count > bot.max_following_to_follow, skipping!\u001b[0m\n",
      "\u001b[;1m\u001b[32mAdding '47849114630' to `c:\\Users\\Bharat Anand\\Downloads\\projects_repo\\passion_projects\\Creating-insta-bot/config/skipped.txt`.\u001b[0m\u001b[0m\n",
      "New following : 88\n"
     ]
    },
    {
     "name": "stderr",
     "output_type": "stream",
     "text": [
      "2022-01-31 19:43:41,586 - INFO - Out of follows for today.\n",
      "2022-01-31 19:43:41,589 - INFO - Going to follow `user_id` 21409082720.\n"
     ]
    },
    {
     "name": "stdout",
     "output_type": "stream",
     "text": [
      "\n",
      "USER_NAME: itsophisticated_, FOLLOWER: 761, FOLLOWING: 793\n",
      "New following : 88\n"
     ]
    },
    {
     "name": "stderr",
     "output_type": "stream",
     "text": [
      "2022-01-31 19:43:44,679 - INFO - Out of follows for today.\n",
      "2022-01-31 19:43:44,680 - INFO - Going to follow `user_id` 47655686827.\n"
     ]
    },
    {
     "name": "stdout",
     "output_type": "stream",
     "text": [
      "\n",
      "USER_NAME: dubstaro, FOLLOWER: 1216, FOLLOWING: 833\n",
      "New following : 88\n"
     ]
    },
    {
     "name": "stderr",
     "output_type": "stream",
     "text": [
      "2022-01-31 19:43:46,897 - INFO - Going to follow `user_id` 45049902015.\n"
     ]
    },
    {
     "name": "stdout",
     "output_type": "stream",
     "text": [
      "\n",
      "USER_NAME: naina080895, FOLLOWER: 173, FOLLOWING: 204\n",
      "\u001b[31m\n",
      "info: account is PRIVATE, skipping! \u001b[0m\n",
      "\u001b[;1m\u001b[32mAdding '47655686827' to `c:\\Users\\Bharat Anand\\Downloads\\projects_repo\\passion_projects\\Creating-insta-bot/config/skipped.txt`.\u001b[0m\u001b[0m\n",
      "New following : 88\n"
     ]
    },
    {
     "name": "stderr",
     "output_type": "stream",
     "text": [
      "2022-01-31 19:43:48,831 - INFO - Out of follows for today.\n",
      "2022-01-31 19:43:48,832 - INFO - Going to follow `user_id` 47687993040.\n"
     ]
    },
    {
     "name": "stdout",
     "output_type": "stream",
     "text": [
      "\n",
      "USER_NAME: memercastic__, FOLLOWER: 598, FOLLOWING: 475\n",
      "New following : 88\n"
     ]
    },
    {
     "name": "stderr",
     "output_type": "stream",
     "text": [
      "2022-01-31 19:43:52,058 - INFO - Going to follow `user_id` 45190934719.\n"
     ]
    },
    {
     "name": "stdout",
     "output_type": "stream",
     "text": [
      "\n",
      "USER_NAME: sarcastic__aatma_, FOLLOWER: 3562, FOLLOWING: 7333\n",
      "\u001b[31m\n",
      "following_count > bot.max_following_to_follow, skipping!\u001b[0m\n",
      "\u001b[;1m\u001b[32mAdding '47687993040' to `c:\\Users\\Bharat Anand\\Downloads\\projects_repo\\passion_projects\\Creating-insta-bot/config/skipped.txt`.\u001b[0m\u001b[0m\n",
      "New following : 88\n"
     ]
    },
    {
     "name": "stderr",
     "output_type": "stream",
     "text": [
      "2022-01-31 19:43:55,216 - INFO - Going to follow `user_id` 31581365725.\n"
     ]
    },
    {
     "name": "stdout",
     "output_type": "stream",
     "text": [
      "\n",
      "USER_NAME: mr_.azhar__02, FOLLOWER: 270, FOLLOWING: 2724\n",
      "\u001b[31m\n",
      "following_count > bot.max_following_to_follow, skipping!\u001b[0m\n",
      "\u001b[;1m\u001b[32mAdding '45190934719' to `c:\\Users\\Bharat Anand\\Downloads\\projects_repo\\passion_projects\\Creating-insta-bot/config/skipped.txt`.\u001b[0m\u001b[0m\n",
      "New following : 88\n"
     ]
    },
    {
     "name": "stderr",
     "output_type": "stream",
     "text": [
      "2022-01-31 19:43:56,752 - INFO - Out of follows for today.\n",
      "2022-01-31 19:43:56,753 - INFO - Going to follow `user_id` 45241451605.\n"
     ]
    },
    {
     "name": "stdout",
     "output_type": "stream",
     "text": [
      "\n",
      "USER_NAME: funchhor.aman, FOLLOWER: 2490, FOLLOWING: 1955\n",
      "New following : 88\n"
     ]
    },
    {
     "name": "stderr",
     "output_type": "stream",
     "text": [
      "2022-01-31 19:43:59,859 - INFO - Out of follows for today.\n",
      "2022-01-31 19:43:59,860 - INFO - Going to follow `user_id` 47191429007.\n"
     ]
    },
    {
     "name": "stdout",
     "output_type": "stream",
     "text": [
      "\n",
      "USER_NAME: royal_status.hub_, FOLLOWER: 684, FOLLOWING: 248\n",
      "New following : 88\n"
     ]
    },
    {
     "name": "stderr",
     "output_type": "stream",
     "text": [
      "2022-01-31 19:44:02,018 - INFO - Out of follows for today.\n",
      "2022-01-31 19:44:02,019 - INFO - Going to follow `user_id` 45515830554.\n"
     ]
    },
    {
     "name": "stdout",
     "output_type": "stream",
     "text": [
      "\n",
      "USER_NAME: sarcastic_ladka_014, FOLLOWER: 255, FOLLOWING: 225\n",
      "New following : 88\n"
     ]
    },
    {
     "name": "stderr",
     "output_type": "stream",
     "text": [
      "2022-01-31 19:44:05,516 - INFO - Out of follows for today.\n",
      "2022-01-31 19:44:05,520 - INFO - Going to follow `user_id` 47815110379.\n"
     ]
    },
    {
     "name": "stdout",
     "output_type": "stream",
     "text": [
      "\n",
      "USER_NAME: frustratedmonkhere, FOLLOWER: 756, FOLLOWING: 684\n",
      "New following : 88\n"
     ]
    },
    {
     "name": "stderr",
     "output_type": "stream",
     "text": [
      "2022-01-31 19:44:07,367 - INFO - Going to follow `user_id` 41488391960.\n"
     ]
    },
    {
     "name": "stdout",
     "output_type": "stream",
     "text": [
      "\n",
      "USER_NAME: desi_guide, FOLLOWER: 1954, FOLLOWING: 2907\n",
      "\u001b[31m\n",
      "following_count > bot.max_following_to_follow, skipping!\u001b[0m\n",
      "\u001b[;1m\u001b[32mAdding '47815110379' to `c:\\Users\\Bharat Anand\\Downloads\\projects_repo\\passion_projects\\Creating-insta-bot/config/skipped.txt`.\u001b[0m\u001b[0m\n",
      "New following : 88\n"
     ]
    },
    {
     "name": "stderr",
     "output_type": "stream",
     "text": [
      "2022-01-31 19:44:09,241 - INFO - Going to follow `user_id` 38737264622.\n"
     ]
    },
    {
     "name": "stdout",
     "output_type": "stream",
     "text": [
      "\n",
      "USER_NAME: jerry__ig, FOLLOWER: 11255, FOLLOWING: 1242\n",
      "\u001b[31m\n",
      "follower_count > bot.max_followers_to_follow, skipping!\u001b[0m\n",
      "\u001b[;1m\u001b[32mAdding '41488391960' to `c:\\Users\\Bharat Anand\\Downloads\\projects_repo\\passion_projects\\Creating-insta-bot/config/skipped.txt`.\u001b[0m\u001b[0m\n",
      "New following : 88\n"
     ]
    },
    {
     "name": "stderr",
     "output_type": "stream",
     "text": [
      "2022-01-31 19:44:11,237 - INFO - Going to follow `user_id` 46327362164.\n"
     ]
    },
    {
     "name": "stdout",
     "output_type": "stream",
     "text": [
      "\n",
      "USER_NAME: indianfunnypost, FOLLOWER: 3146, FOLLOWING: 7153\n",
      "\u001b[31m\n",
      "following_count > bot.max_following_to_follow, skipping!\u001b[0m\n",
      "\u001b[;1m\u001b[32mAdding '38737264622' to `c:\\Users\\Bharat Anand\\Downloads\\projects_repo\\passion_projects\\Creating-insta-bot/config/skipped.txt`.\u001b[0m\u001b[0m\n",
      "New following : 88\n"
     ]
    },
    {
     "name": "stderr",
     "output_type": "stream",
     "text": [
      "2022-01-31 19:44:14,214 - INFO - Going to follow `user_id` 32254733256.\n"
     ]
    },
    {
     "name": "stdout",
     "output_type": "stream",
     "text": [
      "\n",
      "USER_NAME: jethiyaababuchak, FOLLOWER: 543, FOLLOWING: 2491\n",
      "\u001b[31m\n",
      "following_count > bot.max_following_to_follow, skipping!\u001b[0m\n",
      "\u001b[;1m\u001b[32mAdding '46327362164' to `c:\\Users\\Bharat Anand\\Downloads\\projects_repo\\passion_projects\\Creating-insta-bot/config/skipped.txt`.\u001b[0m\u001b[0m\n",
      "New following : 88\n"
     ]
    },
    {
     "name": "stderr",
     "output_type": "stream",
     "text": [
      "2022-01-31 19:44:15,838 - INFO - Out of follows for today.\n",
      "2022-01-31 19:44:15,839 - INFO - Going to follow `user_id` 9928238886.\n"
     ]
    },
    {
     "name": "stdout",
     "output_type": "stream",
     "text": [
      "\n",
      "USER_NAME: meme_drugist, FOLLOWER: 1440, FOLLOWING: 922\n",
      "New following : 88\n"
     ]
    },
    {
     "name": "stderr",
     "output_type": "stream",
     "text": [
      "2022-01-31 19:44:18,857 - INFO - Out of follows for today.\n",
      "2022-01-31 19:44:18,861 - INFO - Going to follow `user_id` 44770573995.\n"
     ]
    },
    {
     "name": "stdout",
     "output_type": "stream",
     "text": [
      "\n",
      "USER_NAME: vellahuyar, FOLLOWER: 1692, FOLLOWING: 476\n",
      "New following : 88\n"
     ]
    },
    {
     "name": "stderr",
     "output_type": "stream",
     "text": [
      "2022-01-31 19:44:21,293 - INFO - Going to follow `user_id` 46436792677.\n"
     ]
    },
    {
     "name": "stdout",
     "output_type": "stream",
     "text": [
      "\n",
      "USER_NAME: mr__bakchodiyan, FOLLOWER: 634, FOLLOWING: 3401\n",
      "\u001b[31m\n",
      "following_count > bot.max_following_to_follow, skipping!\u001b[0m\n",
      "\u001b[;1m\u001b[32mAdding '44770573995' to `c:\\Users\\Bharat Anand\\Downloads\\projects_repo\\passion_projects\\Creating-insta-bot/config/skipped.txt`.\u001b[0m\u001b[0m\n",
      "New following : 88\n"
     ]
    },
    {
     "name": "stderr",
     "output_type": "stream",
     "text": [
      "2022-01-31 19:44:22,646 - INFO - Out of follows for today.\n",
      "2022-01-31 19:44:22,650 - INFO - Going to follow `user_id` 48918068420.\n"
     ]
    },
    {
     "name": "stdout",
     "output_type": "stream",
     "text": [
      "\n",
      "USER_NAME: ba.riya169, FOLLOWER: 231, FOLLOWING: 920\n",
      "New following : 88\n"
     ]
    },
    {
     "name": "stderr",
     "output_type": "stream",
     "text": [
      "2022-01-31 19:44:25,534 - INFO - Out of follows for today.\n",
      "2022-01-31 19:44:25,534 - INFO - Going to follow `user_id` 47613032163.\n"
     ]
    },
    {
     "name": "stdout",
     "output_type": "stream",
     "text": [
      "\n",
      "USER_NAME: amardeepgurjar3, FOLLOWER: 1382, FOLLOWING: 294\n",
      "New following : 88\n"
     ]
    },
    {
     "name": "stderr",
     "output_type": "stream",
     "text": [
      "2022-01-31 19:44:27,975 - INFO - Going to follow `user_id` 33479334504.\n"
     ]
    },
    {
     "name": "stdout",
     "output_type": "stream",
     "text": [
      "\n",
      "USER_NAME: mymuffinmate, FOLLOWER: 1945, FOLLOWING: 3770\n",
      "\u001b[31m\n",
      "following_count > bot.max_following_to_follow, skipping!\u001b[0m\n",
      "\u001b[;1m\u001b[32mAdding '47613032163' to `c:\\Users\\Bharat Anand\\Downloads\\projects_repo\\passion_projects\\Creating-insta-bot/config/skipped.txt`.\u001b[0m\u001b[0m\n",
      "New following : 88\n"
     ]
    },
    {
     "name": "stderr",
     "output_type": "stream",
     "text": [
      "2022-01-31 19:44:31,410 - INFO - Out of follows for today.\n",
      "2022-01-31 19:44:31,411 - INFO - Going to follow `user_id` 46536116569.\n"
     ]
    },
    {
     "name": "stdout",
     "output_type": "stream",
     "text": [
      "\n",
      "USER_NAME: darkroomstories__, FOLLOWER: 922, FOLLOWING: 1332\n",
      "New following : 88\n"
     ]
    },
    {
     "name": "stderr",
     "output_type": "stream",
     "text": [
      "2022-01-31 19:44:33,214 - INFO - Out of follows for today.\n",
      "2022-01-31 19:44:33,216 - INFO - Going to follow `user_id` 48043730996.\n"
     ]
    },
    {
     "name": "stdout",
     "output_type": "stream",
     "text": [
      "\n",
      "USER_NAME: samm_wantsyou, FOLLOWER: 1293, FOLLOWING: 449\n",
      "New following : 88\n"
     ]
    },
    {
     "name": "stderr",
     "output_type": "stream",
     "text": [
      "2022-01-31 19:44:37,100 - INFO - Out of follows for today.\n",
      "2022-01-31 19:44:37,102 - INFO - Going to follow `user_id` 46683234175.\n"
     ]
    },
    {
     "name": "stdout",
     "output_type": "stream",
     "text": [
      "\n",
      "USER_NAME: quotesoftheday_555_, FOLLOWER: 1400, FOLLOWING: 1679\n",
      "New following : 88\n"
     ]
    },
    {
     "name": "stderr",
     "output_type": "stream",
     "text": [
      "2022-01-31 19:44:40,569 - INFO - Going to follow `user_id` 39240701027.\n"
     ]
    },
    {
     "name": "stdout",
     "output_type": "stream",
     "text": [
      "\n",
      "USER_NAME: chutiyaa_mat_bol, FOLLOWER: 1465, FOLLOWING: 6972\n",
      "\u001b[31m\n",
      "following_count > bot.max_following_to_follow, skipping!\u001b[0m\n",
      "\u001b[;1m\u001b[32mAdding '46683234175' to `c:\\Users\\Bharat Anand\\Downloads\\projects_repo\\passion_projects\\Creating-insta-bot/config/skipped.txt`.\u001b[0m\u001b[0m\n",
      "New following : 88\n"
     ]
    },
    {
     "name": "stderr",
     "output_type": "stream",
     "text": [
      "2022-01-31 19:44:43,470 - INFO - Out of follows for today.\n",
      "2022-01-31 19:44:43,471 - INFO - Going to follow `user_id` 7041782492.\n"
     ]
    },
    {
     "name": "stdout",
     "output_type": "stream",
     "text": [
      "\n",
      "USER_NAME: millionairesplan, FOLLOWER: 1838, FOLLOWING: 1844\n",
      "New following : 88\n"
     ]
    },
    {
     "name": "stderr",
     "output_type": "stream",
     "text": [
      "2022-01-31 19:44:46,269 - INFO - Going to follow `user_id` 47345918358.\n"
     ]
    },
    {
     "name": "stdout",
     "output_type": "stream",
     "text": [
      "\n",
      "USER_NAME: tonnyshark_, FOLLOWER: 343, FOLLOWING: 2284\n",
      "\u001b[31m\n",
      "following_count > bot.max_following_to_follow, skipping!\u001b[0m\n",
      "\u001b[;1m\u001b[32mAdding '7041782492' to `c:\\Users\\Bharat Anand\\Downloads\\projects_repo\\passion_projects\\Creating-insta-bot/config/skipped.txt`.\u001b[0m\u001b[0m\n",
      "New following : 88\n"
     ]
    },
    {
     "name": "stderr",
     "output_type": "stream",
     "text": [
      "2022-01-31 19:44:48,651 - INFO - Out of follows for today.\n",
      "2022-01-31 19:44:48,652 - INFO - Going to follow `user_id` 6138383771.\n"
     ]
    },
    {
     "name": "stdout",
     "output_type": "stream",
     "text": [
      "\n",
      "USER_NAME: impunjabn, FOLLOWER: 1143, FOLLOWING: 243\n",
      "New following : 88\n"
     ]
    },
    {
     "name": "stderr",
     "output_type": "stream",
     "text": [
      "2022-01-31 19:44:50,785 - INFO - Going to follow `user_id` 28859004711.\n"
     ]
    },
    {
     "name": "stdout",
     "output_type": "stream",
     "text": [
      "\n",
      "USER_NAME: _oye__rahul, FOLLOWER: 62352, FOLLOWING: 258\n",
      "\u001b[31m\n",
      "follower_count > bot.max_followers_to_follow, skipping!\u001b[0m\n",
      "\u001b[;1m\u001b[32mAdding '6138383771' to `c:\\Users\\Bharat Anand\\Downloads\\projects_repo\\passion_projects\\Creating-insta-bot/config/skipped.txt`.\u001b[0m\u001b[0m\n",
      "New following : 88\n"
     ]
    },
    {
     "name": "stderr",
     "output_type": "stream",
     "text": [
      "2022-01-31 19:44:55,190 - INFO - Going to follow `user_id` 41360528831.\n"
     ]
    },
    {
     "name": "stdout",
     "output_type": "stream",
     "text": [
      "\n",
      "USER_NAME: ashok_r_chauhan, FOLLOWER: 1569, FOLLOWING: 190\n",
      "\u001b[31m\n",
      "info: account is PRIVATE, skipping! \u001b[0m\n",
      "\u001b[;1m\u001b[32mAdding '28859004711' to `c:\\Users\\Bharat Anand\\Downloads\\projects_repo\\passion_projects\\Creating-insta-bot/config/skipped.txt`.\u001b[0m\u001b[0m\n",
      "New following : 88\n"
     ]
    },
    {
     "name": "stderr",
     "output_type": "stream",
     "text": [
      "2022-01-31 19:44:57,704 - INFO - Going to follow `user_id` 47788301330.\n"
     ]
    },
    {
     "name": "stdout",
     "output_type": "stream",
     "text": [
      "\n",
      "USER_NAME: mk4070628, FOLLOWER: 53, FOLLOWING: 97\n",
      "\u001b[31m\n",
      "media_count < bot.min_media_count_to_follow, BOT or INACTIVE, skipping!\u001b[0m\n",
      "\u001b[;1m\u001b[32mAdding '41360528831' to `c:\\Users\\Bharat Anand\\Downloads\\projects_repo\\passion_projects\\Creating-insta-bot/config/skipped.txt`.\u001b[0m\u001b[0m\n",
      "New following : 88\n"
     ]
    },
    {
     "name": "stderr",
     "output_type": "stream",
     "text": [
      "2022-01-31 19:45:01,859 - INFO - Out of follows for today.\n",
      "2022-01-31 19:45:01,860 - INFO - Going to follow `user_id` 48088890478.\n"
     ]
    },
    {
     "name": "stdout",
     "output_type": "stream",
     "text": [
      "\n",
      "USER_NAME: poeticvibz, FOLLOWER: 589, FOLLOWING: 501\n",
      "New following : 88\n"
     ]
    },
    {
     "name": "stderr",
     "output_type": "stream",
     "text": [
      "2022-01-31 19:45:05,486 - INFO - Out of follows for today.\n",
      "2022-01-31 19:45:05,487 - INFO - Going to follow `user_id` 11575254863.\n"
     ]
    },
    {
     "name": "stdout",
     "output_type": "stream",
     "text": [
      "\n",
      "USER_NAME: legendaryfacts9, FOLLOWER: 310, FOLLOWING: 911\n",
      "New following : 88\n"
     ]
    },
    {
     "name": "stderr",
     "output_type": "stream",
     "text": [
      "2022-01-31 19:45:07,236 - INFO - Going to follow `user_id` 48163480274.\n"
     ]
    },
    {
     "name": "stdout",
     "output_type": "stream",
     "text": [
      "\n",
      "USER_NAME: sarcastic__ayan, FOLLOWER: 1832, FOLLOWING: 1284\n",
      "\u001b[31m\n",
      "media_count < bot.min_media_count_to_follow, BOT or INACTIVE, skipping!\u001b[0m\n",
      "\u001b[;1m\u001b[32mAdding '11575254863' to `c:\\Users\\Bharat Anand\\Downloads\\projects_repo\\passion_projects\\Creating-insta-bot/config/skipped.txt`.\u001b[0m\u001b[0m\n",
      "New following : 88\n"
     ]
    },
    {
     "name": "stderr",
     "output_type": "stream",
     "text": [
      "2022-01-31 19:45:10,569 - INFO - Out of follows for today.\n",
      "2022-01-31 19:45:10,573 - INFO - Going to follow `user_id` 47652621352.\n"
     ]
    },
    {
     "name": "stdout",
     "output_type": "stream",
     "text": [
      "\n",
      "USER_NAME: sarcasmlover.25, FOLLOWER: 1272, FOLLOWING: 1717\n",
      "New following : 88\n"
     ]
    },
    {
     "name": "stderr",
     "output_type": "stream",
     "text": [
      "2022-01-31 19:45:12,591 - INFO - Going to follow `user_id` 47091002869.\n"
     ]
    },
    {
     "name": "stdout",
     "output_type": "stream",
     "text": [
      "\n",
      "USER_NAME: memer_middleklass, FOLLOWER: 1732, FOLLOWING: 2819\n",
      "\u001b[31m\n",
      "following_count > bot.max_following_to_follow, skipping!\u001b[0m\n",
      "\u001b[;1m\u001b[32mAdding '47652621352' to `c:\\Users\\Bharat Anand\\Downloads\\projects_repo\\passion_projects\\Creating-insta-bot/config/skipped.txt`.\u001b[0m\u001b[0m\n",
      "New following : 88\n"
     ]
    },
    {
     "name": "stderr",
     "output_type": "stream",
     "text": [
      "2022-01-31 19:45:16,487 - INFO - Going to follow `user_id` 46644090222.\n"
     ]
    },
    {
     "name": "stdout",
     "output_type": "stream",
     "text": [
      "\n",
      "USER_NAME: love_nation__143, FOLLOWER: 856, FOLLOWING: 4959\n",
      "\u001b[31m\n",
      "following_count > bot.max_following_to_follow, skipping!\u001b[0m\n",
      "\u001b[;1m\u001b[32mAdding '47091002869' to `c:\\Users\\Bharat Anand\\Downloads\\projects_repo\\passion_projects\\Creating-insta-bot/config/skipped.txt`.\u001b[0m\u001b[0m\n",
      "New following : 88\n"
     ]
    },
    {
     "name": "stderr",
     "output_type": "stream",
     "text": [
      "2022-01-31 19:45:18,236 - INFO - Out of follows for today.\n",
      "2022-01-31 19:45:18,237 - INFO - Going to follow `user_id` 46815510536.\n"
     ]
    },
    {
     "name": "stdout",
     "output_type": "stream",
     "text": [
      "\n",
      "USER_NAME: abaddon._x, FOLLOWER: 843, FOLLOWING: 935\n",
      "New following : 88\n"
     ]
    },
    {
     "name": "stderr",
     "output_type": "stream",
     "text": [
      "2022-01-31 19:45:21,339 - INFO - Going to follow `user_id` 47486674268.\n"
     ]
    },
    {
     "name": "stdout",
     "output_type": "stream",
     "text": [
      "\n",
      "USER_NAME: back_bencher_memes_02, FOLLOWER: 2007, FOLLOWING: 3435\n",
      "\u001b[31m\n",
      "following_count > bot.max_following_to_follow, skipping!\u001b[0m\n",
      "\u001b[;1m\u001b[32mAdding '46815510536' to `c:\\Users\\Bharat Anand\\Downloads\\projects_repo\\passion_projects\\Creating-insta-bot/config/skipped.txt`.\u001b[0m\u001b[0m\n",
      "New following : 88\n"
     ]
    },
    {
     "name": "stderr",
     "output_type": "stream",
     "text": [
      "2022-01-31 19:45:23,671 - INFO - Out of follows for today.\n",
      "2022-01-31 19:45:23,673 - INFO - Going to follow `user_id` 48082392812.\n"
     ]
    },
    {
     "name": "stdout",
     "output_type": "stream",
     "text": [
      "\n",
      "USER_NAME: bros1543, FOLLOWER: 63, FOLLOWING: 78\n",
      "New following : 88\n"
     ]
    },
    {
     "name": "stderr",
     "output_type": "stream",
     "text": [
      "2022-01-31 19:45:26,796 - INFO - Out of follows for today.\n",
      "2022-01-31 19:45:26,797 - INFO - Going to follow `user_id` 7371740649.\n"
     ]
    },
    {
     "name": "stdout",
     "output_type": "stream",
     "text": [
      "\n",
      "USER_NAME: __hey.femme, FOLLOWER: 3873, FOLLOWING: 347\n",
      "New following : 88\n"
     ]
    },
    {
     "name": "stderr",
     "output_type": "stream",
     "text": [
      "2022-01-31 19:45:30,533 - INFO - Going to follow `user_id` 33392823653.\n"
     ]
    },
    {
     "name": "stdout",
     "output_type": "stream",
     "text": [
      "\n",
      "USER_NAME: akela_.parinda, FOLLOWER: 10161, FOLLOWING: 454\n",
      "\u001b[31m\n",
      "follower_count > bot.max_followers_to_follow, skipping!\u001b[0m\n",
      "\u001b[;1m\u001b[32mAdding '7371740649' to `c:\\Users\\Bharat Anand\\Downloads\\projects_repo\\passion_projects\\Creating-insta-bot/config/skipped.txt`.\u001b[0m\u001b[0m\n",
      "New following : 88\n"
     ]
    },
    {
     "name": "stderr",
     "output_type": "stream",
     "text": [
      "2022-01-31 19:45:35,109 - INFO - Going to follow `user_id` 31596927997.\n"
     ]
    },
    {
     "name": "stdout",
     "output_type": "stream",
     "text": [
      "\n",
      "USER_NAME: memeduniya_101, FOLLOWER: 5371, FOLLOWING: 5363\n",
      "\u001b[31m\n",
      "follower_count > bot.max_followers_to_follow, skipping!\u001b[0m\n",
      "\u001b[;1m\u001b[32mAdding '33392823653' to `c:\\Users\\Bharat Anand\\Downloads\\projects_repo\\passion_projects\\Creating-insta-bot/config/skipped.txt`.\u001b[0m\u001b[0m\n",
      "New following : 88\n"
     ]
    },
    {
     "name": "stderr",
     "output_type": "stream",
     "text": [
      "2022-01-31 19:45:36,994 - INFO - Going to follow `user_id` 34861884613.\n"
     ]
    },
    {
     "name": "stdout",
     "output_type": "stream",
     "text": [
      "\n",
      "USER_NAME: shoiab.ansari353, FOLLOWER: 4733, FOLLOWING: 3633\n",
      "\u001b[31m\n",
      "following_count > bot.max_following_to_follow, skipping!\u001b[0m\n",
      "\u001b[;1m\u001b[32mAdding '31596927997' to `c:\\Users\\Bharat Anand\\Downloads\\projects_repo\\passion_projects\\Creating-insta-bot/config/skipped.txt`.\u001b[0m\u001b[0m\n",
      "New following : 88\n"
     ]
    },
    {
     "name": "stderr",
     "output_type": "stream",
     "text": [
      "2022-01-31 19:45:39,988 - INFO - Going to follow `user_id` 29435845518.\n"
     ]
    },
    {
     "name": "stdout",
     "output_type": "stream",
     "text": [
      "\n",
      "USER_NAME: mp._.37, FOLLOWER: 2512, FOLLOWING: 6769\n",
      "\u001b[31m\n",
      "following_count > bot.max_following_to_follow, skipping!\u001b[0m\n",
      "\u001b[;1m\u001b[32mAdding '34861884613' to `c:\\Users\\Bharat Anand\\Downloads\\projects_repo\\passion_projects\\Creating-insta-bot/config/skipped.txt`.\u001b[0m\u001b[0m\n",
      "New following : 88\n"
     ]
    },
    {
     "name": "stderr",
     "output_type": "stream",
     "text": [
      "2022-01-31 19:45:43,786 - INFO - Out of follows for today.\n",
      "2022-01-31 19:45:43,790 - INFO - Going to follow `user_id` 29839453191.\n"
     ]
    },
    {
     "name": "stdout",
     "output_type": "stream",
     "text": [
      "\n",
      "USER_NAME: itz_me_sidrajput71, FOLLOWER: 188, FOLLOWING: 89\n",
      "New following : 88\n"
     ]
    },
    {
     "name": "stderr",
     "output_type": "stream",
     "text": [
      "2022-01-31 19:45:45,687 - INFO - Going to follow `user_id` 45728405213.\n"
     ]
    },
    {
     "name": "stdout",
     "output_type": "stream",
     "text": [
      "\n",
      "USER_NAME: halfstudent, FOLLOWER: 2467, FOLLOWING: 5119\n",
      "\u001b[31m\n",
      "info: account is PRIVATE, skipping! \u001b[0m\n",
      "\u001b[;1m\u001b[32mAdding '29839453191' to `c:\\Users\\Bharat Anand\\Downloads\\projects_repo\\passion_projects\\Creating-insta-bot/config/skipped.txt`.\u001b[0m\u001b[0m\n",
      "New following : 88\n"
     ]
    },
    {
     "name": "stderr",
     "output_type": "stream",
     "text": [
      "2022-01-31 19:45:47,869 - INFO - Going to follow `user_id` 44103045560.\n"
     ]
    },
    {
     "name": "stdout",
     "output_type": "stream",
     "text": [
      "\n",
      "USER_NAME: irfan_ansari.04, FOLLOWER: 2363, FOLLOWING: 2984\n",
      "\u001b[31m\n",
      "following_count > bot.max_following_to_follow, skipping!\u001b[0m\n",
      "\u001b[;1m\u001b[32mAdding '45728405213' to `c:\\Users\\Bharat Anand\\Downloads\\projects_repo\\passion_projects\\Creating-insta-bot/config/skipped.txt`.\u001b[0m\u001b[0m\n",
      "New following : 88\n"
     ]
    },
    {
     "name": "stderr",
     "output_type": "stream",
     "text": [
      "2022-01-31 19:45:51,054 - INFO - Out of follows for today.\n",
      "2022-01-31 19:45:51,055 - INFO - Going to follow `user_id` 45621090894.\n"
     ]
    },
    {
     "name": "stdout",
     "output_type": "stream",
     "text": [
      "\n",
      "USER_NAME: _sanskari__kanya_s, FOLLOWER: 1223, FOLLOWING: 282\n",
      "New following : 88\n"
     ]
    },
    {
     "name": "stderr",
     "output_type": "stream",
     "text": [
      "2022-01-31 19:45:54,619 - INFO - Out of follows for today.\n",
      "2022-01-31 19:45:54,623 - INFO - Going to follow `user_id` 14171242397.\n"
     ]
    },
    {
     "name": "stdout",
     "output_type": "stream",
     "text": [
      "\n",
      "USER_NAME: wtf_rishhhh, FOLLOWER: 753, FOLLOWING: 838\n",
      "New following : 88\n"
     ]
    },
    {
     "name": "stderr",
     "output_type": "stream",
     "text": [
      "2022-01-31 19:45:58,208 - INFO - Out of follows for today.\n",
      "2022-01-31 19:45:58,209 - INFO - Going to follow `user_id` 12991197674.\n"
     ]
    },
    {
     "name": "stdout",
     "output_type": "stream",
     "text": [
      "\n",
      "USER_NAME: being_berojgar, FOLLOWER: 3923, FOLLOWING: 1659\n",
      "New following : 88\n"
     ]
    },
    {
     "name": "stderr",
     "output_type": "stream",
     "text": [
      "2022-01-31 19:46:02,433 - INFO - Going to follow `user_id` 48098797971.\n"
     ]
    },
    {
     "name": "stdout",
     "output_type": "stream",
     "text": [
      "\n",
      "USER_NAME: oye_troller, FOLLOWER: 2602, FOLLOWING: 107\n",
      "\u001b[31m\n",
      "follower_count / following_count > bot.max_followers_to_following_ratio, skipping!\u001b[0m\n",
      "\u001b[;1m\u001b[32mAdding '12991197674' to `c:\\Users\\Bharat Anand\\Downloads\\projects_repo\\passion_projects\\Creating-insta-bot/config/skipped.txt`.\u001b[0m\u001b[0m\n",
      "New following : 88\n"
     ]
    },
    {
     "name": "stderr",
     "output_type": "stream",
     "text": [
      "2022-01-31 19:46:04,696 - INFO - Going to follow `user_id` 48507420776.\n"
     ]
    },
    {
     "name": "stdout",
     "output_type": "stream",
     "text": [
      "\n",
      "USER_NAME: aanc.hal762, FOLLOWER: 6, FOLLOWING: 34\n",
      "\u001b[31m\n",
      "info: account is PRIVATE, skipping! \u001b[0m\n",
      "\u001b[;1m\u001b[32mAdding '48098797971' to `c:\\Users\\Bharat Anand\\Downloads\\projects_repo\\passion_projects\\Creating-insta-bot/config/skipped.txt`.\u001b[0m\u001b[0m\n",
      "New following : 88\n"
     ]
    },
    {
     "name": "stderr",
     "output_type": "stream",
     "text": [
      "2022-01-31 19:46:09,075 - INFO - Going to follow `user_id` 48003390644.\n"
     ]
    },
    {
     "name": "stdout",
     "output_type": "stream",
     "text": [
      "\n",
      "USER_NAME: memergirll_45, FOLLOWER: 1851, FOLLOWING: 2604\n",
      "\u001b[31m\n",
      "following_count > bot.max_following_to_follow, skipping!\u001b[0m\n",
      "\u001b[;1m\u001b[32mAdding '48507420776' to `c:\\Users\\Bharat Anand\\Downloads\\projects_repo\\passion_projects\\Creating-insta-bot/config/skipped.txt`.\u001b[0m\u001b[0m\n",
      "New following : 88\n"
     ]
    },
    {
     "name": "stderr",
     "output_type": "stream",
     "text": [
      "2022-01-31 19:46:12,757 - INFO - Out of follows for today.\n",
      "2022-01-31 19:46:12,758 - INFO - Going to follow `user_id` 28142074655.\n"
     ]
    },
    {
     "name": "stdout",
     "output_type": "stream",
     "text": [
      "\n",
      "USER_NAME: to.be.engineers, FOLLOWER: 3013, FOLLOWING: 620\n",
      "New following : 88\n"
     ]
    },
    {
     "name": "stderr",
     "output_type": "stream",
     "text": [
      "2022-01-31 19:46:14,643 - INFO - Out of follows for today.\n",
      "2022-01-31 19:46:14,645 - INFO - Going to follow `user_id` 36182988250.\n"
     ]
    },
    {
     "name": "stdout",
     "output_type": "stream",
     "text": [
      "\n",
      "USER_NAME: mithbolre, FOLLOWER: 1738, FOLLOWING: 1661\n",
      "New following : 88\n"
     ]
    },
    {
     "name": "stderr",
     "output_type": "stream",
     "text": [
      "2022-01-31 19:46:18,703 - INFO - Out of follows for today.\n",
      "2022-01-31 19:46:18,705 - INFO - Going to follow `user_id` 28816344604.\n"
     ]
    },
    {
     "name": "stdout",
     "output_type": "stream",
     "text": [
      "\n",
      "USER_NAME: hasley_.zara, FOLLOWER: 1613, FOLLOWING: 960\n",
      "New following : 88\n"
     ]
    },
    {
     "name": "stderr",
     "output_type": "stream",
     "text": [
      "2022-01-31 19:46:22,613 - INFO - Out of follows for today.\n",
      "2022-01-31 19:46:22,614 - INFO - Going to follow `user_id` 47806349664.\n"
     ]
    },
    {
     "name": "stdout",
     "output_type": "stream",
     "text": [
      "\n",
      "USER_NAME: fckit_dude, FOLLOWER: 605, FOLLOWING: 317\n",
      "New following : 88\n"
     ]
    },
    {
     "name": "stderr",
     "output_type": "stream",
     "text": [
      "2022-01-31 19:46:26,450 - INFO - Going to follow `user_id` 22927810386.\n"
     ]
    },
    {
     "name": "stdout",
     "output_type": "stream",
     "text": [
      "\n",
      "USER_NAME: pradi_pbarui, FOLLOWER: 156, FOLLOWING: 223\n",
      "\u001b[31m\n",
      "media_count < bot.min_media_count_to_follow, BOT or INACTIVE, skipping!\u001b[0m\n",
      "\u001b[;1m\u001b[32mAdding '47806349664' to `c:\\Users\\Bharat Anand\\Downloads\\projects_repo\\passion_projects\\Creating-insta-bot/config/skipped.txt`.\u001b[0m\u001b[0m\n",
      "New following : 88\n"
     ]
    },
    {
     "name": "stderr",
     "output_type": "stream",
     "text": [
      "2022-01-31 19:46:28,922 - INFO - Out of follows for today.\n",
      "2022-01-31 19:46:28,924 - INFO - Going to follow `user_id` 47945146587.\n"
     ]
    },
    {
     "name": "stdout",
     "output_type": "stream",
     "text": [
      "\n",
      "USER_NAME: dcc.75, FOLLOWER: 1229, FOLLOWING: 1350\n",
      "New following : 88\n"
     ]
    },
    {
     "name": "stderr",
     "output_type": "stream",
     "text": [
      "2022-01-31 19:46:33,597 - INFO - Going to follow `user_id` 21199694948.\n"
     ]
    },
    {
     "name": "stdout",
     "output_type": "stream",
     "text": [
      "\n",
      "USER_NAME: canwetalk808, FOLLOWER: 0, FOLLOWING: 15\n",
      "\u001b[31m\n",
      "info: account is PRIVATE, skipping! \u001b[0m\n",
      "\u001b[;1m\u001b[32mAdding '47945146587' to `c:\\Users\\Bharat Anand\\Downloads\\projects_repo\\passion_projects\\Creating-insta-bot/config/skipped.txt`.\u001b[0m\u001b[0m\n",
      "New following : 88\n"
     ]
    },
    {
     "name": "stderr",
     "output_type": "stream",
     "text": [
      "2022-01-31 19:46:35,537 - INFO - Out of follows for today.\n",
      "2022-01-31 19:46:35,539 - INFO - Going to follow `user_id` 45425881991.\n"
     ]
    },
    {
     "name": "stdout",
     "output_type": "stream",
     "text": [
      "\n",
      "USER_NAME: imemeswallah, FOLLOWER: 764, FOLLOWING: 921\n",
      "New following : 88\n"
     ]
    },
    {
     "name": "stderr",
     "output_type": "stream",
     "text": [
      "2022-01-31 19:46:39,430 - INFO - Out of follows for today.\n",
      "2022-01-31 19:46:39,433 - INFO - Going to follow `user_id` 44060028737.\n"
     ]
    },
    {
     "name": "stdout",
     "output_type": "stream",
     "text": [
      "\n",
      "USER_NAME: vinay_kashyap_76, FOLLOWER: 90, FOLLOWING: 73\n",
      "New following : 88\n"
     ]
    },
    {
     "name": "stderr",
     "output_type": "stream",
     "text": [
      "2022-01-31 19:46:42,549 - INFO - Going to follow `user_id` 47199636866.\n"
     ]
    },
    {
     "name": "stdout",
     "output_type": "stream",
     "text": [
      "\n",
      "USER_NAME: sarcasticbhaiya.ji, FOLLOWER: 46999, FOLLOWING: 2683\n",
      "\u001b[31m\n",
      "follower_count > bot.max_followers_to_follow, skipping!\u001b[0m\n",
      "\u001b[;1m\u001b[32mAdding '44060028737' to `c:\\Users\\Bharat Anand\\Downloads\\projects_repo\\passion_projects\\Creating-insta-bot/config/skipped.txt`.\u001b[0m\u001b[0m\n",
      "New following : 88\n"
     ]
    },
    {
     "name": "stderr",
     "output_type": "stream",
     "text": [
      "2022-01-31 19:46:46,182 - INFO - Out of follows for today.\n",
      "2022-01-31 19:46:46,182 - INFO - Going to follow `user_id` 46775145062.\n"
     ]
    },
    {
     "name": "stdout",
     "output_type": "stream",
     "text": [
      "\n",
      "USER_NAME: stylish_story_world, FOLLOWER: 1126, FOLLOWING: 1073\n",
      "New following : 88\n"
     ]
    },
    {
     "name": "stderr",
     "output_type": "stream",
     "text": [
      "2022-01-31 19:46:49,668 - INFO - Out of follows for today.\n",
      "2022-01-31 19:46:49,669 - INFO - Going to follow `user_id` 47169642389.\n"
     ]
    },
    {
     "name": "stdout",
     "output_type": "stream",
     "text": [
      "\n",
      "USER_NAME: memesbysanky, FOLLOWER: 1599, FOLLOWING: 474\n",
      "New following : 88\n"
     ]
    },
    {
     "name": "stderr",
     "output_type": "stream",
     "text": [
      "2022-01-31 19:46:52,884 - INFO - Out of follows for today.\n",
      "2022-01-31 19:46:52,885 - INFO - Going to follow `user_id` 36612115808.\n"
     ]
    },
    {
     "name": "stdout",
     "output_type": "stream",
     "text": [
      "\n",
      "USER_NAME: toxic__trait, FOLLOWER: 945, FOLLOWING: 147\n",
      "New following : 88\n"
     ]
    },
    {
     "name": "stderr",
     "output_type": "stream",
     "text": [
      "2022-01-31 19:46:56,301 - INFO - Out of follows for today.\n",
      "2022-01-31 19:46:56,304 - INFO - Going to follow `user_id` 48067552637.\n"
     ]
    },
    {
     "name": "stdout",
     "output_type": "stream",
     "text": [
      "\n",
      "USER_NAME: thescriptedthought, FOLLOWER: 332, FOLLOWING: 117\n",
      "New following : 88\n"
     ]
    },
    {
     "name": "stderr",
     "output_type": "stream",
     "text": [
      "2022-01-31 19:46:58,357 - INFO - Going to follow `user_id` 47535162245.\n"
     ]
    },
    {
     "name": "stdout",
     "output_type": "stream",
     "text": [
      "\n",
      "USER_NAME: hustle.like.coop, FOLLOWER: 4646, FOLLOWING: 6416\n",
      "\u001b[31m\n",
      "following_count > bot.max_following_to_follow, skipping!\u001b[0m\n",
      "\u001b[;1m\u001b[32mAdding '48067552637' to `c:\\Users\\Bharat Anand\\Downloads\\projects_repo\\passion_projects\\Creating-insta-bot/config/skipped.txt`.\u001b[0m\u001b[0m\n",
      "New following : 88\n"
     ]
    },
    {
     "name": "stderr",
     "output_type": "stream",
     "text": [
      "2022-01-31 19:47:01,275 - INFO - Out of follows for today.\n",
      "2022-01-31 19:47:01,278 - INFO - Going to follow `user_id` 44079143606.\n"
     ]
    },
    {
     "name": "stdout",
     "output_type": "stream",
     "text": [
      "\n",
      "USER_NAME: gyanibaba403, FOLLOWER: 2346, FOLLOWING: 1123\n",
      "New following : 88\n"
     ]
    },
    {
     "name": "stderr",
     "output_type": "stream",
     "text": [
      "2022-01-31 19:47:05,589 - INFO - Out of follows for today.\n",
      "2022-01-31 19:47:05,590 - INFO - Going to follow `user_id` 51057553738.\n"
     ]
    },
    {
     "name": "stdout",
     "output_type": "stream",
     "text": [
      "\n",
      "USER_NAME: sarcastamaan, FOLLOWER: 593, FOLLOWING: 121\n",
      "New following : 88\n"
     ]
    },
    {
     "name": "stderr",
     "output_type": "stream",
     "text": [
      "2022-01-31 19:47:08,705 - INFO - Out of follows for today.\n",
      "2022-01-31 19:47:08,706 - INFO - Going to follow `user_id` 45637764570.\n"
     ]
    },
    {
     "name": "stdout",
     "output_type": "stream",
     "text": [
      "\n",
      "USER_NAME: sanskari_sarcastic_balika, FOLLOWER: 44, FOLLOWING: 173\n",
      "New following : 88\n"
     ]
    },
    {
     "name": "stderr",
     "output_type": "stream",
     "text": [
      "2022-01-31 19:47:12,841 - INFO - Out of follows for today.\n",
      "2022-01-31 19:47:12,845 - INFO - Going to follow `user_id` 49651337055.\n"
     ]
    },
    {
     "name": "stdout",
     "output_type": "stream",
     "text": [
      "\n",
      "USER_NAME: memesofbestie, FOLLOWER: 1191, FOLLOWING: 1010\n",
      "New following : 88\n"
     ]
    },
    {
     "name": "stderr",
     "output_type": "stream",
     "text": [
      "2022-01-31 19:47:14,509 - INFO - Going to follow `user_id` 2263008804.\n"
     ]
    },
    {
     "name": "stdout",
     "output_type": "stream",
     "text": [
      "\n",
      "USER_NAME: go_46060, FOLLOWER: 336, FOLLOWING: 7497\n",
      "\u001b[31m\n",
      "following_count > bot.max_following_to_follow, skipping!\u001b[0m\n",
      "\u001b[;1m\u001b[32mAdding '49651337055' to `c:\\Users\\Bharat Anand\\Downloads\\projects_repo\\passion_projects\\Creating-insta-bot/config/skipped.txt`.\u001b[0m\u001b[0m\n",
      "New following : 88\n"
     ]
    },
    {
     "name": "stderr",
     "output_type": "stream",
     "text": [
      "2022-01-31 19:47:18,401 - INFO - Out of follows for today.\n",
      "2022-01-31 19:47:18,404 - INFO - Going to follow `user_id` 48135197364.\n"
     ]
    },
    {
     "name": "stdout",
     "output_type": "stream",
     "text": [
      "\n",
      "USER_NAME: speedoterayaar, FOLLOWER: 4664, FOLLOWING: 787\n",
      "New following : 88\n"
     ]
    },
    {
     "name": "stderr",
     "output_type": "stream",
     "text": [
      "2022-01-31 19:47:21,959 - INFO - Going to follow `user_id` 37344603544.\n"
     ]
    },
    {
     "name": "stdout",
     "output_type": "stream",
     "text": [
      "\n",
      "USER_NAME: back.banchr, FOLLOWER: 1054, FOLLOWING: 4170\n",
      "\u001b[31m\n",
      "following_count > bot.max_following_to_follow, skipping!\u001b[0m\n",
      "\u001b[;1m\u001b[32mAdding '48135197364' to `c:\\Users\\Bharat Anand\\Downloads\\projects_repo\\passion_projects\\Creating-insta-bot/config/skipped.txt`.\u001b[0m\u001b[0m\n",
      "New following : 88\n"
     ]
    },
    {
     "name": "stderr",
     "output_type": "stream",
     "text": [
      "2022-01-31 19:47:24,108 - INFO - Out of follows for today.\n",
      "2022-01-31 19:47:24,109 - INFO - Going to follow `user_id` 47811852623.\n"
     ]
    },
    {
     "name": "stdout",
     "output_type": "stream",
     "text": [
      "\n",
      "USER_NAME: maybe__priya, FOLLOWER: 1957, FOLLOWING: 961\n",
      "New following : 88\n"
     ]
    },
    {
     "name": "stderr",
     "output_type": "stream",
     "text": [
      "2022-01-31 19:47:28,456 - INFO - Going to follow `user_id` 48998353077.\n"
     ]
    },
    {
     "name": "stdout",
     "output_type": "stream",
     "text": [
      "\n",
      "USER_NAME: bapofmemes, FOLLOWER: 9273, FOLLOWING: 72\n",
      "\u001b[31m\n",
      "follower_count > bot.max_followers_to_follow, skipping!\u001b[0m\n",
      "\u001b[;1m\u001b[32mAdding '47811852623' to `c:\\Users\\Bharat Anand\\Downloads\\projects_repo\\passion_projects\\Creating-insta-bot/config/skipped.txt`.\u001b[0m\u001b[0m\n",
      "New following : 88\n"
     ]
    },
    {
     "name": "stderr",
     "output_type": "stream",
     "text": [
      "2022-01-31 19:47:31,833 - INFO - Out of follows for today.\n",
      "2022-01-31 19:47:31,837 - INFO - Going to follow `user_id` 11815502483.\n"
     ]
    },
    {
     "name": "stdout",
     "output_type": "stream",
     "text": [
      "\n",
      "USER_NAME: dream_sayss, FOLLOWER: 52, FOLLOWING: 85\n",
      "New following : 88\n"
     ]
    },
    {
     "name": "stderr",
     "output_type": "stream",
     "text": [
      "2022-01-31 19:47:34,608 - INFO - Out of follows for today.\n",
      "2022-01-31 19:47:34,610 - INFO - Going to follow `user_id` 13859824548.\n"
     ]
    },
    {
     "name": "stdout",
     "output_type": "stream",
     "text": [
      "\n",
      "USER_NAME: idiotic_way, FOLLOWER: 1849, FOLLOWING: 1330\n",
      "New following : 88\n"
     ]
    },
    {
     "name": "stderr",
     "output_type": "stream",
     "text": [
      "2022-01-31 19:47:39,165 - INFO - Going to follow `user_id` 48872011256.\n"
     ]
    },
    {
     "name": "stdout",
     "output_type": "stream",
     "text": [
      "\n",
      "USER_NAME: _iam_venom_18, FOLLOWER: 961, FOLLOWING: 1765\n",
      "\u001b[31m\n",
      "info: account is PRIVATE, skipping! \u001b[0m\n",
      "\u001b[;1m\u001b[32mAdding '13859824548' to `c:\\Users\\Bharat Anand\\Downloads\\projects_repo\\passion_projects\\Creating-insta-bot/config/skipped.txt`.\u001b[0m\u001b[0m\n",
      "New following : 88\n"
     ]
    },
    {
     "name": "stderr",
     "output_type": "stream",
     "text": [
      "2022-01-31 19:47:42,636 - INFO - Out of follows for today.\n",
      "2022-01-31 19:47:42,637 - INFO - Going to follow `user_id` 45553724055.\n"
     ]
    },
    {
     "name": "stdout",
     "output_type": "stream",
     "text": [
      "\n",
      "USER_NAME: meme_of_moneyheist, FOLLOWER: 819, FOLLOWING: 1099\n",
      "New following : 88\n"
     ]
    },
    {
     "name": "stderr",
     "output_type": "stream",
     "text": [
      "2022-01-31 19:47:46,938 - INFO - Out of follows for today.\n",
      "2022-01-31 19:47:46,939 - INFO - Going to follow `user_id` 41710822313.\n"
     ]
    },
    {
     "name": "stdout",
     "output_type": "stream",
     "text": [
      "\n",
      "USER_NAME: fadubabamemes, FOLLOWER: 1773, FOLLOWING: 1788\n",
      "New following : 88\n"
     ]
    },
    {
     "name": "stderr",
     "output_type": "stream",
     "text": [
      "2022-01-31 19:47:50,826 - INFO - Out of follows for today.\n",
      "2022-01-31 19:47:50,827 - INFO - Going to follow `user_id` 48770132831.\n"
     ]
    },
    {
     "name": "stdout",
     "output_type": "stream",
     "text": [
      "\n",
      "USER_NAME: thesarcastic_yash, FOLLOWER: 2306, FOLLOWING: 1891\n",
      "New following : 88\n"
     ]
    },
    {
     "name": "stderr",
     "output_type": "stream",
     "text": [
      "2022-01-31 19:47:53,090 - INFO - Out of follows for today.\n",
      "2022-01-31 19:47:53,093 - INFO - Going to follow `user_id` 9511020150.\n"
     ]
    },
    {
     "name": "stdout",
     "output_type": "stream",
     "text": [
      "\n",
      "USER_NAME: psychoaryan_1, FOLLOWER: 1800, FOLLOWING: 273\n",
      "New following : 88\n"
     ]
    },
    {
     "name": "stderr",
     "output_type": "stream",
     "text": [
      "2022-01-31 19:47:56,187 - INFO - Going to follow `user_id` 45035697687.\n"
     ]
    },
    {
     "name": "stdout",
     "output_type": "stream",
     "text": [
      "\n",
      "USER_NAME: innervoice____, FOLLOWER: 3522, FOLLOWING: 7281\n",
      "\u001b[31m\n",
      "following_count > bot.max_following_to_follow, skipping!\u001b[0m\n",
      "\u001b[;1m\u001b[32mAdding '9511020150' to `c:\\Users\\Bharat Anand\\Downloads\\projects_repo\\passion_projects\\Creating-insta-bot/config/skipped.txt`.\u001b[0m\u001b[0m\n",
      "New following : 88\n"
     ]
    },
    {
     "name": "stderr",
     "output_type": "stream",
     "text": [
      "2022-01-31 19:47:58,398 - INFO - Out of follows for today.\n",
      "2022-01-31 19:47:58,402 - INFO - Going to follow `user_id` 47715489160.\n"
     ]
    },
    {
     "name": "stdout",
     "output_type": "stream",
     "text": [
      "\n",
      "USER_NAME: waqar.edit, FOLLOWER: 969, FOLLOWING: 169\n",
      "New following : 88\n"
     ]
    },
    {
     "name": "stderr",
     "output_type": "stream",
     "text": [
      "2022-01-31 19:48:02,668 - INFO - Going to follow `user_id` 40323766318.\n"
     ]
    },
    {
     "name": "stdout",
     "output_type": "stream",
     "text": [
      "\n",
      "USER_NAME: freemind_unruled, FOLLOWER: 742, FOLLOWING: 1252\n",
      "\u001b[31m\n",
      "media_count < bot.min_media_count_to_follow, BOT or INACTIVE, skipping!\u001b[0m\n",
      "\u001b[;1m\u001b[32mAdding '47715489160' to `c:\\Users\\Bharat Anand\\Downloads\\projects_repo\\passion_projects\\Creating-insta-bot/config/skipped.txt`.\u001b[0m\u001b[0m\n",
      "New following : 88\n"
     ]
    },
    {
     "name": "stderr",
     "output_type": "stream",
     "text": [
      "2022-01-31 19:48:04,138 - INFO - Out of follows for today.\n",
      "2022-01-31 19:48:04,141 - INFO - Going to follow `user_id` 50135251830.\n"
     ]
    },
    {
     "name": "stdout",
     "output_type": "stream",
     "text": [
      "\n",
      "USER_NAME: tx.edits__, FOLLOWER: 3561, FOLLOWING: 1649\n",
      "New following : 88\n"
     ]
    },
    {
     "name": "stderr",
     "output_type": "stream",
     "text": [
      "2022-01-31 19:48:08,206 - INFO - Out of follows for today.\n",
      "2022-01-31 19:48:08,207 - INFO - Going to follow `user_id` 13043709441.\n"
     ]
    },
    {
     "name": "stdout",
     "output_type": "stream",
     "text": [
      "\n",
      "USER_NAME: vansh_sayz_, FOLLOWER: 582, FOLLOWING: 1489\n",
      "New following : 88\n"
     ]
    },
    {
     "name": "stderr",
     "output_type": "stream",
     "text": [
      "2022-01-31 19:48:10,912 - INFO - Out of follows for today.\n",
      "2022-01-31 19:48:10,913 - INFO - Going to follow `user_id` 47225295692.\n"
     ]
    },
    {
     "name": "stdout",
     "output_type": "stream",
     "text": [
      "\n",
      "USER_NAME: meymey_boy, FOLLOWER: 1974, FOLLOWING: 1721\n",
      "New following : 88\n"
     ]
    },
    {
     "name": "stderr",
     "output_type": "stream",
     "text": [
      "2022-01-31 19:48:13,723 - INFO - Out of follows for today.\n",
      "2022-01-31 19:48:13,724 - INFO - Going to follow `user_id` 17303624296.\n"
     ]
    },
    {
     "name": "stdout",
     "output_type": "stream",
     "text": [
      "\n",
      "USER_NAME: tharkiiladki, FOLLOWER: 2059, FOLLOWING: 1394\n",
      "New following : 88\n"
     ]
    },
    {
     "name": "stderr",
     "output_type": "stream",
     "text": [
      "2022-01-31 19:48:16,973 - INFO - Going to follow `user_id` 8498748848.\n"
     ]
    },
    {
     "name": "stdout",
     "output_type": "stream",
     "text": [
      "\n",
      "USER_NAME: sarcastic_monu, FOLLOWER: 737, FOLLOWING: 2192\n",
      "\u001b[31m\n",
      "following_count > bot.max_following_to_follow, skipping!\u001b[0m\n",
      "\u001b[;1m\u001b[32mAdding '17303624296' to `c:\\Users\\Bharat Anand\\Downloads\\projects_repo\\passion_projects\\Creating-insta-bot/config/skipped.txt`.\u001b[0m\u001b[0m\n",
      "New following : 88\n"
     ]
    },
    {
     "name": "stderr",
     "output_type": "stream",
     "text": [
      "2022-01-31 19:48:20,843 - INFO - Going to follow `user_id` 48541489073.\n"
     ]
    },
    {
     "name": "stdout",
     "output_type": "stream",
     "text": [
      "\n",
      "USER_NAME: sanju_038, FOLLOWER: 2011, FOLLOWING: 201\n",
      "\u001b[31m\n",
      "info: account is PRIVATE, skipping! \u001b[0m\n",
      "\u001b[;1m\u001b[32mAdding '8498748848' to `c:\\Users\\Bharat Anand\\Downloads\\projects_repo\\passion_projects\\Creating-insta-bot/config/skipped.txt`.\u001b[0m\u001b[0m\n",
      "New following : 88\n"
     ]
    },
    {
     "name": "stderr",
     "output_type": "stream",
     "text": [
      "2022-01-31 19:48:23,880 - INFO - Going to follow `user_id` 47791997944.\n"
     ]
    },
    {
     "name": "stdout",
     "output_type": "stream",
     "text": [
      "\n",
      "USER_NAME: memes_only_999, FOLLOWER: 1689, FOLLOWING: 2634\n",
      "\u001b[31m\n",
      "following_count > bot.max_following_to_follow, skipping!\u001b[0m\n",
      "\u001b[;1m\u001b[32mAdding '48541489073' to `c:\\Users\\Bharat Anand\\Downloads\\projects_repo\\passion_projects\\Creating-insta-bot/config/skipped.txt`.\u001b[0m\u001b[0m\n",
      "New following : 88\n"
     ]
    },
    {
     "name": "stderr",
     "output_type": "stream",
     "text": [
      "2022-01-31 19:48:27,350 - INFO - Out of follows for today.\n",
      "2022-01-31 19:48:27,352 - INFO - Going to follow `user_id` 46202218933.\n"
     ]
    },
    {
     "name": "stdout",
     "output_type": "stream",
     "text": [
      "\n",
      "USER_NAME: sarcasernikki, FOLLOWER: 2726, FOLLOWING: 1065\n",
      "New following : 88\n"
     ]
    },
    {
     "name": "stderr",
     "output_type": "stream",
     "text": [
      "2022-01-31 19:48:31,436 - INFO - Going to follow `user_id` 11525765717.\n"
     ]
    },
    {
     "name": "stdout",
     "output_type": "stream",
     "text": [
      "\n",
      "USER_NAME: prince.arnav001, FOLLOWER: 4184, FOLLOWING: 93\n",
      "\u001b[31m\n",
      "follower_count / following_count > bot.max_followers_to_following_ratio, skipping!\u001b[0m\n",
      "\u001b[;1m\u001b[32mAdding '46202218933' to `c:\\Users\\Bharat Anand\\Downloads\\projects_repo\\passion_projects\\Creating-insta-bot/config/skipped.txt`.\u001b[0m\u001b[0m\n",
      "New following : 88\n"
     ]
    },
    {
     "name": "stderr",
     "output_type": "stream",
     "text": [
      "2022-01-31 19:48:34,916 - INFO - Going to follow `user_id` 47926277135.\n"
     ]
    },
    {
     "name": "stdout",
     "output_type": "stream",
     "text": [
      "\n",
      "USER_NAME: aleeza_2334, FOLLOWER: 0, FOLLOWING: 14\n",
      "\u001b[31m\n",
      "info: account is PRIVATE, skipping! \u001b[0m\n",
      "\u001b[;1m\u001b[32mAdding '11525765717' to `c:\\Users\\Bharat Anand\\Downloads\\projects_repo\\passion_projects\\Creating-insta-bot/config/skipped.txt`.\u001b[0m\u001b[0m\n",
      "New following : 88\n"
     ]
    },
    {
     "name": "stderr",
     "output_type": "stream",
     "text": [
      "2022-01-31 19:48:38,215 - INFO - Out of follows for today.\n",
      "2022-01-31 19:48:38,217 - INFO - Going to follow `user_id` 7246783097.\n"
     ]
    },
    {
     "name": "stdout",
     "output_type": "stream",
     "text": [
      "\n",
      "USER_NAME: trendy_vibes0, FOLLOWER: 2614, FOLLOWING: 1339\n",
      "New following : 88\n"
     ]
    },
    {
     "name": "stderr",
     "output_type": "stream",
     "text": [
      "2022-01-31 19:48:40,726 - INFO - Out of follows for today.\n",
      "2022-01-31 19:48:40,729 - INFO - Going to follow `user_id` 8402517679.\n"
     ]
    },
    {
     "name": "stdout",
     "output_type": "stream",
     "text": [
      "\n",
      "USER_NAME: the_entertainment_video, FOLLOWER: 500, FOLLOWING: 1167\n",
      "New following : 88\n"
     ]
    },
    {
     "name": "stderr",
     "output_type": "stream",
     "text": [
      "2022-01-31 19:48:45,171 - INFO - Going to follow `user_id` 47603629037.\n"
     ]
    },
    {
     "name": "stdout",
     "output_type": "stream",
     "text": [
      "\n",
      "USER_NAME: baddyhubs, FOLLOWER: 7007, FOLLOWING: 3589\n",
      "\u001b[31m\n",
      "follower_count > bot.max_followers_to_follow, skipping!\u001b[0m\n",
      "\u001b[;1m\u001b[32mAdding '8402517679' to `c:\\Users\\Bharat Anand\\Downloads\\projects_repo\\passion_projects\\Creating-insta-bot/config/skipped.txt`.\u001b[0m\u001b[0m\n",
      "New following : 88\n"
     ]
    },
    {
     "name": "stderr",
     "output_type": "stream",
     "text": [
      "2022-01-31 19:48:47,313 - INFO - Going to follow `user_id` 6777722283.\n"
     ]
    },
    {
     "name": "stdout",
     "output_type": "stream",
     "text": [
      "\n",
      "USER_NAME: bhanu__x0, FOLLOWER: 990, FOLLOWING: 3451\n",
      "\u001b[31m\n",
      "following_count > bot.max_following_to_follow, skipping!\u001b[0m\n",
      "\u001b[;1m\u001b[32mAdding '47603629037' to `c:\\Users\\Bharat Anand\\Downloads\\projects_repo\\passion_projects\\Creating-insta-bot/config/skipped.txt`.\u001b[0m\u001b[0m\n",
      "New following : 88\n"
     ]
    },
    {
     "name": "stderr",
     "output_type": "stream",
     "text": [
      "2022-01-31 19:48:50,676 - INFO - Going to follow `user_id` 45047590527.\n"
     ]
    },
    {
     "name": "stdout",
     "output_type": "stream",
     "text": [
      "\n",
      "USER_NAME: bru.tf, FOLLOWER: 1192, FOLLOWING: 251\n",
      "\u001b[31m\n",
      "info: account is PRIVATE, skipping! \u001b[0m\n",
      "\u001b[;1m\u001b[32mAdding '6777722283' to `c:\\Users\\Bharat Anand\\Downloads\\projects_repo\\passion_projects\\Creating-insta-bot/config/skipped.txt`.\u001b[0m\u001b[0m\n",
      "New following : 88\n"
     ]
    },
    {
     "name": "stderr",
     "output_type": "stream",
     "text": [
      "2022-01-31 19:48:54,978 - INFO - Out of follows for today.\n",
      "2022-01-31 19:48:54,978 - INFO - Going to follow `user_id` 48131293139.\n"
     ]
    },
    {
     "name": "stdout",
     "output_type": "stream",
     "text": [
      "\n",
      "USER_NAME: the_sarcastic_tales_, FOLLOWER: 210, FOLLOWING: 160\n",
      "New following : 88\n"
     ]
    },
    {
     "name": "stderr",
     "output_type": "stream",
     "text": [
      "2022-01-31 19:48:59,255 - INFO - Going to follow `user_id` 40228363054.\n"
     ]
    },
    {
     "name": "stdout",
     "output_type": "stream",
     "text": [
      "\n",
      "USER_NAME: sarcastic_ladka_4321, FOLLOWER: 167, FOLLOWING: 334\n",
      "\u001b[31m\n",
      "info: account is PRIVATE, skipping! \u001b[0m\n",
      "\u001b[;1m\u001b[32mAdding '48131293139' to `c:\\Users\\Bharat Anand\\Downloads\\projects_repo\\passion_projects\\Creating-insta-bot/config/skipped.txt`.\u001b[0m\u001b[0m\n",
      "New following : 88\n"
     ]
    },
    {
     "name": "stderr",
     "output_type": "stream",
     "text": [
      "2022-01-31 19:49:03,517 - INFO - Out of follows for today.\n",
      "2022-01-31 19:49:03,521 - INFO - Going to follow `user_id` 1724139473.\n"
     ]
    },
    {
     "name": "stdout",
     "output_type": "stream",
     "text": [
      "\n",
      "USER_NAME: tmc_tales, FOLLOWER: 1309, FOLLOWING: 725\n",
      "New following : 88\n"
     ]
    },
    {
     "name": "stderr",
     "output_type": "stream",
     "text": [
      "2022-01-31 19:49:05,807 - INFO - Going to follow `user_id` 48274667050.\n"
     ]
    },
    {
     "name": "stdout",
     "output_type": "stream",
     "text": [
      "\n",
      "USER_NAME: memestaan_worldofmemes, FOLLOWER: 2124, FOLLOWING: 3981\n",
      "\u001b[31m\n",
      "following_count > bot.max_following_to_follow, skipping!\u001b[0m\n",
      "\u001b[;1m\u001b[32mAdding '1724139473' to `c:\\Users\\Bharat Anand\\Downloads\\projects_repo\\passion_projects\\Creating-insta-bot/config/skipped.txt`.\u001b[0m\u001b[0m\n",
      "New following : 88\n"
     ]
    },
    {
     "name": "stderr",
     "output_type": "stream",
     "text": [
      "2022-01-31 19:49:08,921 - INFO - Out of follows for today.\n",
      "2022-01-31 19:49:08,925 - INFO - Going to follow `user_id` 47737025683.\n"
     ]
    },
    {
     "name": "stdout",
     "output_type": "stream",
     "text": [
      "\n",
      "USER_NAME: cuteas_panda, FOLLOWER: 446, FOLLOWING: 383\n",
      "New following : 88\n"
     ]
    },
    {
     "name": "stderr",
     "output_type": "stream",
     "text": [
      "2022-01-31 19:49:12,221 - INFO - Going to follow `user_id` 24071876619.\n"
     ]
    },
    {
     "name": "stdout",
     "output_type": "stream",
     "text": [
      "\n",
      "USER_NAME: memecity_insta, FOLLOWER: 2485, FOLLOWING: 2184\n",
      "\u001b[31m\n",
      "following_count > bot.max_following_to_follow, skipping!\u001b[0m\n",
      "\u001b[;1m\u001b[32mAdding '47737025683' to `c:\\Users\\Bharat Anand\\Downloads\\projects_repo\\passion_projects\\Creating-insta-bot/config/skipped.txt`.\u001b[0m\u001b[0m\n",
      "New following : 88\n"
     ]
    },
    {
     "name": "stderr",
     "output_type": "stream",
     "text": [
      "2022-01-31 19:49:13,951 - INFO - Going to follow `user_id` 48761074881.\n"
     ]
    },
    {
     "name": "stdout",
     "output_type": "stream",
     "text": [
      "\n",
      "USER_NAME: _sarcastic.buddy_, FOLLOWER: 7216, FOLLOWING: 316\n",
      "\u001b[31m\n",
      "follower_count > bot.max_followers_to_follow, skipping!\u001b[0m\n",
      "\u001b[;1m\u001b[32mAdding '24071876619' to `c:\\Users\\Bharat Anand\\Downloads\\projects_repo\\passion_projects\\Creating-insta-bot/config/skipped.txt`.\u001b[0m\u001b[0m\n",
      "New following : 88\n"
     ]
    },
    {
     "name": "stderr",
     "output_type": "stream",
     "text": [
      "2022-01-31 19:49:18,020 - INFO - Going to follow `user_id` 43644237528.\n"
     ]
    },
    {
     "name": "stdout",
     "output_type": "stream",
     "text": [
      "\n",
      "USER_NAME: winnersmindsetmotivation, FOLLOWER: 2226, FOLLOWING: 3664\n",
      "\u001b[31m\n",
      "following_count > bot.max_following_to_follow, skipping!\u001b[0m\n",
      "\u001b[;1m\u001b[32mAdding '48761074881' to `c:\\Users\\Bharat Anand\\Downloads\\projects_repo\\passion_projects\\Creating-insta-bot/config/skipped.txt`.\u001b[0m\u001b[0m\n",
      "New following : 88\n"
     ]
    },
    {
     "name": "stderr",
     "output_type": "stream",
     "text": [
      "2022-01-31 19:49:19,827 - INFO - Going to follow `user_id` 9293777533.\n"
     ]
    },
    {
     "name": "stdout",
     "output_type": "stream",
     "text": [
      "\n",
      "USER_NAME: ayush_rozra, FOLLOWER: 120, FOLLOWING: 744\n",
      "\u001b[31m\n",
      "info: account is PRIVATE, skipping! \u001b[0m\n",
      "\u001b[;1m\u001b[32mAdding '43644237528' to `c:\\Users\\Bharat Anand\\Downloads\\projects_repo\\passion_projects\\Creating-insta-bot/config/skipped.txt`.\u001b[0m\u001b[0m\n",
      "New following : 88\n"
     ]
    },
    {
     "name": "stderr",
     "output_type": "stream",
     "text": [
      "2022-01-31 19:49:22,442 - INFO - Out of follows for today.\n",
      "2022-01-31 19:49:22,446 - INFO - Going to follow `user_id` 46343752308.\n"
     ]
    },
    {
     "name": "stdout",
     "output_type": "stream",
     "text": [
      "\n",
      "USER_NAME: rahul.11.21, FOLLOWER: 311, FOLLOWING: 29\n",
      "New following : 88\n"
     ]
    },
    {
     "name": "stderr",
     "output_type": "stream",
     "text": [
      "2022-01-31 19:49:24,803 - INFO - Out of follows for today.\n",
      "2022-01-31 19:49:24,805 - INFO - Going to follow `user_id` 11344524774.\n"
     ]
    },
    {
     "name": "stdout",
     "output_type": "stream",
     "text": [
      "\n",
      "USER_NAME: 1am.broken, FOLLOWER: 4762, FOLLOWING: 440\n",
      "New following : 88\n"
     ]
    },
    {
     "name": "stderr",
     "output_type": "stream",
     "text": [
      "2022-01-31 19:49:29,070 - INFO - Out of follows for today.\n",
      "2022-01-31 19:49:29,071 - INFO - Going to follow `user_id` 41720332042.\n"
     ]
    },
    {
     "name": "stdout",
     "output_type": "stream",
     "text": [
      "\n",
      "USER_NAME: nowlaugh23, FOLLOWER: 703, FOLLOWING: 288\n",
      "New following : 88\n"
     ]
    },
    {
     "name": "stderr",
     "output_type": "stream",
     "text": [
      "2022-01-31 19:49:33,762 - INFO - Out of follows for today.\n",
      "2022-01-31 19:49:33,763 - INFO - Going to follow `user_id` 26280864311.\n"
     ]
    },
    {
     "name": "stdout",
     "output_type": "stream",
     "text": [
      "\n",
      "USER_NAME: unfunny.fella, FOLLOWER: 851, FOLLOWING: 627\n",
      "New following : 88\n"
     ]
    },
    {
     "name": "stderr",
     "output_type": "stream",
     "text": [
      "2022-01-31 19:49:36,327 - INFO - Going to follow `user_id` 44100728124.\n"
     ]
    },
    {
     "name": "stdout",
     "output_type": "stream",
     "text": [
      "\n",
      "USER_NAME: engineering.students.life, FOLLOWER: 13230, FOLLOWING: 3515\n",
      "\u001b[31m\n",
      "follower_count > bot.max_followers_to_follow, skipping!\u001b[0m\n",
      "\u001b[;1m\u001b[32mAdding '26280864311' to `c:\\Users\\Bharat Anand\\Downloads\\projects_repo\\passion_projects\\Creating-insta-bot/config/skipped.txt`.\u001b[0m\u001b[0m\n",
      "New following : 88\n"
     ]
    },
    {
     "name": "stderr",
     "output_type": "stream",
     "text": [
      "2022-01-31 19:49:38,582 - INFO - Out of follows for today.\n",
      "2022-01-31 19:49:38,584 - INFO - Going to follow `user_id` 45717758063.\n"
     ]
    },
    {
     "name": "stdout",
     "output_type": "stream",
     "text": [
      "\n",
      "USER_NAME: anket.nath.7, FOLLOWER: 989, FOLLOWING: 938\n",
      "New following : 88\n"
     ]
    },
    {
     "name": "stderr",
     "output_type": "stream",
     "text": [
      "2022-01-31 19:49:43,338 - INFO - Going to follow `user_id` 35214687631.\n"
     ]
    },
    {
     "name": "stdout",
     "output_type": "stream",
     "text": [
      "\n",
      "USER_NAME: mr_zalim363, FOLLOWER: 718, FOLLOWING: 5680\n",
      "\u001b[31m\n",
      "following_count > bot.max_following_to_follow, skipping!\u001b[0m\n",
      "\u001b[;1m\u001b[32mAdding '45717758063' to `c:\\Users\\Bharat Anand\\Downloads\\projects_repo\\passion_projects\\Creating-insta-bot/config/skipped.txt`.\u001b[0m\u001b[0m\n",
      "New following : 88\n"
     ]
    },
    {
     "name": "stderr",
     "output_type": "stream",
     "text": [
      "2022-01-31 19:49:46,610 - INFO - Out of follows for today.\n",
      "2022-01-31 19:49:46,611 - INFO - Going to follow `user_id` 47682943172.\n"
     ]
    },
    {
     "name": "stdout",
     "output_type": "stream",
     "text": [
      "\n",
      "USER_NAME: moonwritex_, FOLLOWER: 3140, FOLLOWING: 286\n",
      "New following : 88\n"
     ]
    },
    {
     "name": "stderr",
     "output_type": "stream",
     "text": [
      "2022-01-31 19:49:49,650 - INFO - Out of follows for today.\n",
      "2022-01-31 19:49:49,651 - INFO - Going to follow `user_id` 43698299057.\n"
     ]
    },
    {
     "name": "stdout",
     "output_type": "stream",
     "text": [
      "\n",
      "USER_NAME: viteli_raaton, FOLLOWER: 583, FOLLOWING: 1636\n",
      "New following : 88\n"
     ]
    },
    {
     "name": "stderr",
     "output_type": "stream",
     "text": [
      "2022-01-31 19:49:52,533 - INFO - Out of follows for today.\n",
      "2022-01-31 19:49:52,535 - INFO - Going to follow `user_id` 47958636603.\n"
     ]
    },
    {
     "name": "stdout",
     "output_type": "stream",
     "text": [
      "\n",
      "USER_NAME: _memes_waali_ladki, FOLLOWER: 942, FOLLOWING: 504\n",
      "New following : 88\n"
     ]
    },
    {
     "name": "stderr",
     "output_type": "stream",
     "text": [
      "2022-01-31 19:49:54,309 - INFO - Going to follow `user_id` 38263363004.\n"
     ]
    },
    {
     "name": "stdout",
     "output_type": "stream",
     "text": [
      "\n",
      "USER_NAME: pudina_2kg, FOLLOWER: 51, FOLLOWING: 67\n",
      "\u001b[31m\n",
      "info: account is PRIVATE, skipping! \u001b[0m\n",
      "\u001b[;1m\u001b[32mAdding '47958636603' to `c:\\Users\\Bharat Anand\\Downloads\\projects_repo\\passion_projects\\Creating-insta-bot/config/skipped.txt`.\u001b[0m\u001b[0m\n",
      "New following : 88\n"
     ]
    },
    {
     "name": "stderr",
     "output_type": "stream",
     "text": [
      "2022-01-31 19:49:58,258 - INFO - Going to follow `user_id` 24908653248.\n"
     ]
    },
    {
     "name": "stdout",
     "output_type": "stream",
     "text": [
      "\n",
      "USER_NAME: error69o, FOLLOWER: 9885, FOLLOWING: 4052\n",
      "\u001b[31m\n",
      "follower_count > bot.max_followers_to_follow, skipping!\u001b[0m\n",
      "\u001b[;1m\u001b[32mAdding '38263363004' to `c:\\Users\\Bharat Anand\\Downloads\\projects_repo\\passion_projects\\Creating-insta-bot/config/skipped.txt`.\u001b[0m\u001b[0m\n",
      "New following : 88\n"
     ]
    },
    {
     "name": "stderr",
     "output_type": "stream",
     "text": [
      "2022-01-31 19:50:00,393 - INFO - Out of follows for today.\n",
      "2022-01-31 19:50:00,394 - INFO - Going to follow `user_id` 48326198313.\n"
     ]
    },
    {
     "name": "stdout",
     "output_type": "stream",
     "text": [
      "\n",
      "USER_NAME: foody_buddy__, FOLLOWER: 3622, FOLLOWING: 1270\n",
      "New following : 88\n"
     ]
    },
    {
     "name": "stderr",
     "output_type": "stream",
     "text": [
      "2022-01-31 19:50:02,720 - INFO - Going to follow `user_id` 47919412222.\n"
     ]
    },
    {
     "name": "stdout",
     "output_type": "stream",
     "text": [
      "\n",
      "USER_NAME: memesdhko, FOLLOWER: 1844, FOLLOWING: 2714\n",
      "\u001b[31m\n",
      "following_count > bot.max_following_to_follow, skipping!\u001b[0m\n",
      "\u001b[;1m\u001b[32mAdding '48326198313' to `c:\\Users\\Bharat Anand\\Downloads\\projects_repo\\passion_projects\\Creating-insta-bot/config/skipped.txt`.\u001b[0m\u001b[0m\n",
      "New following : 88\n"
     ]
    },
    {
     "name": "stderr",
     "output_type": "stream",
     "text": [
      "2022-01-31 19:50:05,473 - INFO - Going to follow `user_id` 44765160264.\n"
     ]
    },
    {
     "name": "stdout",
     "output_type": "stream",
     "text": [
      "\n",
      "USER_NAME: sanketjoshi317, FOLLOWER: 324, FOLLOWING: 6191\n",
      "\u001b[31m\n",
      "following_count > bot.max_following_to_follow, skipping!\u001b[0m\n",
      "\u001b[;1m\u001b[32mAdding '47919412222' to `c:\\Users\\Bharat Anand\\Downloads\\projects_repo\\passion_projects\\Creating-insta-bot/config/skipped.txt`.\u001b[0m\u001b[0m\n",
      "New following : 88\n"
     ]
    },
    {
     "name": "stderr",
     "output_type": "stream",
     "text": [
      "2022-01-31 19:50:08,735 - INFO - Going to follow `user_id` 40220702618.\n"
     ]
    },
    {
     "name": "stdout",
     "output_type": "stream",
     "text": [
      "\n",
      "USER_NAME: saeenmemes, FOLLOWER: 3270, FOLLOWING: 3812\n",
      "\u001b[31m\n",
      "following_count > bot.max_following_to_follow, skipping!\u001b[0m\n",
      "\u001b[;1m\u001b[32mAdding '44765160264' to `c:\\Users\\Bharat Anand\\Downloads\\projects_repo\\passion_projects\\Creating-insta-bot/config/skipped.txt`.\u001b[0m\u001b[0m\n",
      "New following : 88\n"
     ]
    },
    {
     "name": "stderr",
     "output_type": "stream",
     "text": [
      "2022-01-31 19:50:12,448 - INFO - Out of follows for today.\n",
      "2022-01-31 19:50:12,449 - INFO - Going to follow `user_id` 48070707596.\n"
     ]
    },
    {
     "name": "stdout",
     "output_type": "stream",
     "text": [
      "\n",
      "USER_NAME: vaikunth1838, FOLLOWER: 4640, FOLLOWING: 688\n",
      "New following : 88\n"
     ]
    },
    {
     "name": "stderr",
     "output_type": "stream",
     "text": [
      "2022-01-31 19:50:15,873 - INFO - Out of follows for today.\n",
      "2022-01-31 19:50:15,876 - INFO - Going to follow `user_id` 48062778233.\n"
     ]
    },
    {
     "name": "stdout",
     "output_type": "stream",
     "text": [
      "\n",
      "USER_NAME: priya_patel_4747, FOLLOWER: 157, FOLLOWING: 73\n",
      "New following : 88\n"
     ]
    },
    {
     "name": "stderr",
     "output_type": "stream",
     "text": [
      "2022-01-31 19:50:18,819 - INFO - Out of follows for today.\n",
      "2022-01-31 19:50:18,823 - INFO - Going to follow `user_id` 39070961165.\n"
     ]
    },
    {
     "name": "stdout",
     "output_type": "stream",
     "text": [
      "\n",
      "USER_NAME: thornyworld, FOLLOWER: 672, FOLLOWING: 1199\n",
      "New following : 88\n"
     ]
    },
    {
     "name": "stderr",
     "output_type": "stream",
     "text": [
      "2022-01-31 19:50:21,834 - INFO - Out of follows for today.\n",
      "2022-01-31 19:50:21,837 - INFO - Going to follow `user_id` 34176138350.\n"
     ]
    },
    {
     "name": "stdout",
     "output_type": "stream",
     "text": [
      "\n",
      "USER_NAME: creation__queen9, FOLLOWER: 358, FOLLOWING: 756\n",
      "New following : 88\n"
     ]
    },
    {
     "name": "stderr",
     "output_type": "stream",
     "text": [
      "2022-01-31 19:50:24,586 - INFO - Going to follow `user_id` 47790044060.\n"
     ]
    },
    {
     "name": "stdout",
     "output_type": "stream",
     "text": [
      "\n",
      "USER_NAME: liferelated_post, FOLLOWER: 389, FOLLOWING: 7461\n",
      "\u001b[31m\n",
      "info: account is PRIVATE, skipping! \u001b[0m\n",
      "\u001b[;1m\u001b[32mAdding '34176138350' to `c:\\Users\\Bharat Anand\\Downloads\\projects_repo\\passion_projects\\Creating-insta-bot/config/skipped.txt`.\u001b[0m\u001b[0m\n",
      "New following : 88\n"
     ]
    },
    {
     "name": "stderr",
     "output_type": "stream",
     "text": [
      "2022-01-31 19:50:26,874 - INFO - Going to follow `user_id` 26790946337.\n"
     ]
    },
    {
     "name": "stdout",
     "output_type": "stream",
     "text": [
      "\n",
      "USER_NAME: memesduniya__17, FOLLOWER: 2092, FOLLOWING: 2492\n",
      "\u001b[31m\n",
      "following_count > bot.max_following_to_follow, skipping!\u001b[0m\n",
      "\u001b[;1m\u001b[32mAdding '47790044060' to `c:\\Users\\Bharat Anand\\Downloads\\projects_repo\\passion_projects\\Creating-insta-bot/config/skipped.txt`.\u001b[0m\u001b[0m\n",
      "New following : 88\n"
     ]
    },
    {
     "name": "stderr",
     "output_type": "stream",
     "text": [
      "2022-01-31 19:50:30,726 - INFO - Out of follows for today.\n",
      "2022-01-31 19:50:30,729 - INFO - Going to follow `user_id` 8474364176.\n"
     ]
    },
    {
     "name": "stdout",
     "output_type": "stream",
     "text": [
      "\n",
      "USER_NAME: memer_baba605, FOLLOWER: 2275, FOLLOWING: 570\n",
      "New following : 88\n"
     ]
    },
    {
     "name": "stderr",
     "output_type": "stream",
     "text": [
      "2022-01-31 19:50:34,107 - INFO - Going to follow `user_id` 47709444604.\n"
     ]
    },
    {
     "name": "stdout",
     "output_type": "stream",
     "text": [
      "\n",
      "USER_NAME: love_ek_dokha_, FOLLOWER: 4303, FOLLOWING: 2032\n",
      "\u001b[31m\n",
      "following_count > bot.max_following_to_follow, skipping!\u001b[0m\n",
      "\u001b[;1m\u001b[32mAdding '8474364176' to `c:\\Users\\Bharat Anand\\Downloads\\projects_repo\\passion_projects\\Creating-insta-bot/config/skipped.txt`.\u001b[0m\u001b[0m\n",
      "New following : 88\n"
     ]
    },
    {
     "name": "stderr",
     "output_type": "stream",
     "text": [
      "2022-01-31 19:50:37,668 - INFO - Going to follow `user_id` 45019599229.\n"
     ]
    },
    {
     "name": "stdout",
     "output_type": "stream",
     "text": [
      "\n",
      "USER_NAME: amannagar111, FOLLOWER: 1448, FOLLOWING: 2614\n",
      "\u001b[31m\n",
      "following_count > bot.max_following_to_follow, skipping!\u001b[0m\n",
      "\u001b[;1m\u001b[32mAdding '47709444604' to `c:\\Users\\Bharat Anand\\Downloads\\projects_repo\\passion_projects\\Creating-insta-bot/config/skipped.txt`.\u001b[0m\u001b[0m\n",
      "New following : 88\n"
     ]
    },
    {
     "name": "stderr",
     "output_type": "stream",
     "text": [
      "2022-01-31 19:50:41,898 - INFO - Out of follows for today.\n",
      "2022-01-31 19:50:41,900 - INFO - Going to follow `user_id` 47475704819.\n"
     ]
    },
    {
     "name": "stdout",
     "output_type": "stream",
     "text": [
      "\n",
      "USER_NAME: the_aryan_tales, FOLLOWER: 1290, FOLLOWING: 949\n",
      "New following : 88\n"
     ]
    },
    {
     "name": "stderr",
     "output_type": "stream",
     "text": [
      "2022-01-31 19:50:45,973 - INFO - Out of follows for today.\n",
      "2022-01-31 19:50:45,974 - INFO - Going to follow `user_id` 47877575853.\n"
     ]
    },
    {
     "name": "stdout",
     "output_type": "stream",
     "text": [
      "\n",
      "USER_NAME: tani_said_what, FOLLOWER: 2792, FOLLOWING: 868\n",
      "New following : 88\n"
     ]
    },
    {
     "name": "stderr",
     "output_type": "stream",
     "text": [
      "2022-01-31 19:50:47,474 - INFO - Out of follows for today.\n",
      "2022-01-31 19:50:47,475 - INFO - Going to follow `user_id` 8749144486.\n"
     ]
    },
    {
     "name": "stdout",
     "output_type": "stream",
     "text": [
      "\n",
      "USER_NAME: rohit_kapoor_rock, FOLLOWER: 119, FOLLOWING: 286\n",
      "New following : 88\n"
     ]
    },
    {
     "name": "stderr",
     "output_type": "stream",
     "text": [
      "2022-01-31 19:50:51,119 - INFO - Going to follow `user_id` 47680431564.\n"
     ]
    },
    {
     "name": "stdout",
     "output_type": "stream",
     "text": [
      "\n",
      "USER_NAME: heyam_arko, FOLLOWER: 2078, FOLLOWING: 2373\n",
      "\u001b[31m\n",
      "following_count > bot.max_following_to_follow, skipping!\u001b[0m\n",
      "\u001b[;1m\u001b[32mAdding '8749144486' to `c:\\Users\\Bharat Anand\\Downloads\\projects_repo\\passion_projects\\Creating-insta-bot/config/skipped.txt`.\u001b[0m\u001b[0m\n",
      "New following : 88\n"
     ]
    },
    {
     "name": "stderr",
     "output_type": "stream",
     "text": [
      "2022-01-31 19:50:52,747 - INFO - Going to follow `user_id` 40084442209.\n"
     ]
    },
    {
     "name": "stdout",
     "output_type": "stream",
     "text": [
      "\n",
      "USER_NAME: this_guide_support, FOLLOWER: 942, FOLLOWING: 4330\n",
      "\u001b[31m\n",
      "following_count > bot.max_following_to_follow, skipping!\u001b[0m\n",
      "\u001b[;1m\u001b[32mAdding '47680431564' to `c:\\Users\\Bharat Anand\\Downloads\\projects_repo\\passion_projects\\Creating-insta-bot/config/skipped.txt`.\u001b[0m\u001b[0m\n",
      "New following : 88\n"
     ]
    },
    {
     "name": "stderr",
     "output_type": "stream",
     "text": [
      "2022-01-31 19:50:55,248 - INFO - Out of follows for today.\n",
      "2022-01-31 19:50:55,250 - INFO - Going to follow `user_id` 1929127523.\n"
     ]
    },
    {
     "name": "stdout",
     "output_type": "stream",
     "text": [
      "\n",
      "USER_NAME: control_majnu_troll, FOLLOWER: 1410, FOLLOWING: 1230\n",
      "New following : 88\n"
     ]
    },
    {
     "name": "stderr",
     "output_type": "stream",
     "text": [
      "2022-01-31 19:50:57,101 - INFO - Out of follows for today.\n",
      "2022-01-31 19:50:57,102 - INFO - Going to follow `user_id` 47060345232.\n"
     ]
    },
    {
     "name": "stdout",
     "output_type": "stream",
     "text": [
      "\n",
      "USER_NAME: vip_munda_amy_blaze, FOLLOWER: 1920, FOLLOWING: 1791\n",
      "New following : 88\n"
     ]
    },
    {
     "name": "stderr",
     "output_type": "stream",
     "text": [
      "2022-01-31 19:51:00,320 - INFO - Going to follow `user_id` 48026016429.\n"
     ]
    },
    {
     "name": "stdout",
     "output_type": "stream",
     "text": [
      "\n",
      "USER_NAME: thedarkcasm, FOLLOWER: 13316, FOLLOWING: 704\n",
      "\u001b[31m\n",
      "follower_count > bot.max_followers_to_follow, skipping!\u001b[0m\n",
      "\u001b[;1m\u001b[32mAdding '47060345232' to `c:\\Users\\Bharat Anand\\Downloads\\projects_repo\\passion_projects\\Creating-insta-bot/config/skipped.txt`.\u001b[0m\u001b[0m\n",
      "New following : 88\n"
     ]
    },
    {
     "name": "stderr",
     "output_type": "stream",
     "text": [
      "2022-01-31 19:51:02,790 - INFO - Out of follows for today.\n",
      "2022-01-31 19:51:02,791 - INFO - Going to follow `user_id` 45864307714.\n"
     ]
    },
    {
     "name": "stdout",
     "output_type": "stream",
     "text": [
      "\n",
      "USER_NAME: _gunnu_22_, FOLLOWER: 1941, FOLLOWING: 1528\n",
      "New following : 88\n"
     ]
    },
    {
     "name": "stderr",
     "output_type": "stream",
     "text": [
      "2022-01-31 19:51:05,911 - INFO - Out of follows for today.\n",
      "2022-01-31 19:51:05,916 - INFO - Going to follow `user_id` 47926576737.\n"
     ]
    },
    {
     "name": "stdout",
     "output_type": "stream",
     "text": [
      "\n",
      "USER_NAME: sarcastic__sam__, FOLLOWER: 689, FOLLOWING: 96\n",
      "New following : 88\n"
     ]
    },
    {
     "name": "stderr",
     "output_type": "stream",
     "text": [
      "2022-01-31 19:51:08,655 - INFO - Out of follows for today.\n",
      "2022-01-31 19:51:08,659 - INFO - Going to follow `user_id` 44891401906.\n"
     ]
    },
    {
     "name": "stdout",
     "output_type": "stream",
     "text": [
      "\n",
      "USER_NAME: broken_aashiq_life, FOLLOWER: 472, FOLLOWING: 609\n",
      "New following : 88\n"
     ]
    },
    {
     "name": "stderr",
     "output_type": "stream",
     "text": [
      "2022-01-31 19:51:11,070 - INFO - Going to follow `user_id` 48346111560.\n"
     ]
    },
    {
     "name": "stdout",
     "output_type": "stream",
     "text": [
      "\n",
      "USER_NAME: reelsmakers_, FOLLOWER: 1085, FOLLOWING: 917\n",
      "\u001b[31m\n",
      "media_count < bot.min_media_count_to_follow, BOT or INACTIVE, skipping!\u001b[0m\n",
      "\u001b[;1m\u001b[32mAdding '44891401906' to `c:\\Users\\Bharat Anand\\Downloads\\projects_repo\\passion_projects\\Creating-insta-bot/config/skipped.txt`.\u001b[0m\u001b[0m\n",
      "New following : 88\n"
     ]
    },
    {
     "name": "stderr",
     "output_type": "stream",
     "text": [
      "2022-01-31 19:51:13,051 - INFO - Going to follow `user_id` 47760010497.\n"
     ]
    },
    {
     "name": "stdout",
     "output_type": "stream",
     "text": [
      "\n",
      "USER_NAME: sabmoh_maaya_hai, FOLLOWER: 798, FOLLOWING: 3389\n",
      "\u001b[31m\n",
      "following_count > bot.max_following_to_follow, skipping!\u001b[0m\n",
      "\u001b[;1m\u001b[32mAdding '48346111560' to `c:\\Users\\Bharat Anand\\Downloads\\projects_repo\\passion_projects\\Creating-insta-bot/config/skipped.txt`.\u001b[0m\u001b[0m\n",
      "New following : 88\n"
     ]
    },
    {
     "name": "stderr",
     "output_type": "stream",
     "text": [
      "2022-01-31 19:51:15,837 - INFO - Out of follows for today.\n",
      "2022-01-31 19:51:15,838 - INFO - Going to follow `user_id` 25578927655.\n"
     ]
    },
    {
     "name": "stdout",
     "output_type": "stream",
     "text": [
      "\n",
      "USER_NAME: _unstable_ladka, FOLLOWER: 1294, FOLLOWING: 445\n",
      "New following : 88\n"
     ]
    },
    {
     "name": "stderr",
     "output_type": "stream",
     "text": [
      "2022-01-31 19:51:17,399 - INFO - Going to follow `user_id` 28357517424.\n"
     ]
    },
    {
     "name": "stdout",
     "output_type": "stream",
     "text": [
      "\n",
      "USER_NAME: harmonium_chacha_1, FOLLOWER: 4242, FOLLOWING: 6134\n",
      "\u001b[31m\n",
      "following_count > bot.max_following_to_follow, skipping!\u001b[0m\n",
      "\u001b[;1m\u001b[32mAdding '25578927655' to `c:\\Users\\Bharat Anand\\Downloads\\projects_repo\\passion_projects\\Creating-insta-bot/config/skipped.txt`.\u001b[0m\u001b[0m\n",
      "New following : 88\n"
     ]
    },
    {
     "name": "stderr",
     "output_type": "stream",
     "text": [
      "2022-01-31 19:51:18,991 - INFO - Out of follows for today.\n",
      "2022-01-31 19:51:18,992 - INFO - Going to follow `user_id` 46929059581.\n"
     ]
    },
    {
     "name": "stdout",
     "output_type": "stream",
     "text": [
      "\n",
      "USER_NAME: _oyo_meme_, FOLLOWER: 1172, FOLLOWING: 804\n",
      "New following : 88\n"
     ]
    },
    {
     "name": "stderr",
     "output_type": "stream",
     "text": [
      "2022-01-31 19:51:20,709 - INFO - Out of follows for today.\n",
      "2022-01-31 19:51:20,710 - INFO - Going to follow `user_id` 43866682592.\n"
     ]
    },
    {
     "name": "stdout",
     "output_type": "stream",
     "text": [
      "\n",
      "USER_NAME: memes_wali_ldki, FOLLOWER: 2877, FOLLOWING: 1477\n",
      "New following : 88\n"
     ]
    },
    {
     "name": "stderr",
     "output_type": "stream",
     "text": [
      "2022-01-31 19:51:22,433 - INFO - Going to follow `user_id` 48076308833.\n"
     ]
    },
    {
     "name": "stdout",
     "output_type": "stream",
     "text": [
      "\n",
      "USER_NAME: life_is_memes__, FOLLOWER: 3482, FOLLOWING: 2559\n",
      "\u001b[31m\n",
      "following_count > bot.max_following_to_follow, skipping!\u001b[0m\n",
      "\u001b[;1m\u001b[32mAdding '43866682592' to `c:\\Users\\Bharat Anand\\Downloads\\projects_repo\\passion_projects\\Creating-insta-bot/config/skipped.txt`.\u001b[0m\u001b[0m\n",
      "New following : 88\n"
     ]
    },
    {
     "name": "stderr",
     "output_type": "stream",
     "text": [
      "2022-01-31 19:51:26,033 - INFO - Out of follows for today.\n",
      "2022-01-31 19:51:26,036 - INFO - Going to follow `user_id` 6693797976.\n"
     ]
    },
    {
     "name": "stdout",
     "output_type": "stream",
     "text": [
      "\n",
      "USER_NAME: wtf_miichan, FOLLOWER: 1016, FOLLOWING: 435\n",
      "New following : 88\n"
     ]
    },
    {
     "name": "stderr",
     "output_type": "stream",
     "text": [
      "2022-01-31 19:51:27,680 - INFO - Going to follow `user_id` 46666987768.\n"
     ]
    },
    {
     "name": "stdout",
     "output_type": "stream",
     "text": [
      "\n",
      "USER_NAME: itz_luvish, FOLLOWER: 16440, FOLLOWING: 2285\n",
      "\u001b[31m\n",
      "follower_count > bot.max_followers_to_follow, skipping!\u001b[0m\n",
      "\u001b[;1m\u001b[32mAdding '6693797976' to `c:\\Users\\Bharat Anand\\Downloads\\projects_repo\\passion_projects\\Creating-insta-bot/config/skipped.txt`.\u001b[0m\u001b[0m\n",
      "New following : 88\n"
     ]
    },
    {
     "name": "stderr",
     "output_type": "stream",
     "text": [
      "2022-01-31 19:51:31,061 - INFO - Going to follow `user_id` 47790671462.\n"
     ]
    },
    {
     "name": "stdout",
     "output_type": "stream",
     "text": [
      "\n",
      "USER_NAME: bhukkad_xd, FOLLOWER: 392, FOLLOWING: 3434\n",
      "\u001b[31m\n",
      "following_count > bot.max_following_to_follow, skipping!\u001b[0m\n",
      "\u001b[;1m\u001b[32mAdding '46666987768' to `c:\\Users\\Bharat Anand\\Downloads\\projects_repo\\passion_projects\\Creating-insta-bot/config/skipped.txt`.\u001b[0m\u001b[0m\n",
      "New following : 88\n"
     ]
    },
    {
     "name": "stderr",
     "output_type": "stream",
     "text": [
      "2022-01-31 19:51:32,430 - INFO - Out of follows for today.\n",
      "2022-01-31 19:51:32,431 - INFO - Going to follow `user_id` 48073517619.\n"
     ]
    },
    {
     "name": "stdout",
     "output_type": "stream",
     "text": [
      "\n",
      "USER_NAME: ___relatable_quotes_, FOLLOWER: 401, FOLLOWING: 1035\n",
      "New following : 88\n"
     ]
    },
    {
     "name": "stderr",
     "output_type": "stream",
     "text": [
      "2022-01-31 19:51:36,844 - INFO - Out of follows for today.\n",
      "2022-01-31 19:51:36,845 - INFO - Going to follow `user_id` 39768523126.\n"
     ]
    },
    {
     "name": "stdout",
     "output_type": "stream",
     "text": [
      "\n",
      "USER_NAME: ishq_dairies___, FOLLOWER: 494, FOLLOWING: 1379\n",
      "New following : 88\n"
     ]
    },
    {
     "name": "stderr",
     "output_type": "stream",
     "text": [
      "2022-01-31 19:51:40,809 - INFO - Going to follow `user_id` 46949804051.\n"
     ]
    },
    {
     "name": "stdout",
     "output_type": "stream",
     "text": [
      "\n",
      "USER_NAME: theartsparadise, FOLLOWER: 1003, FOLLOWING: 2354\n",
      "\u001b[31m\n",
      "following_count > bot.max_following_to_follow, skipping!\u001b[0m\n",
      "\u001b[;1m\u001b[32mAdding '39768523126' to `c:\\Users\\Bharat Anand\\Downloads\\projects_repo\\passion_projects\\Creating-insta-bot/config/skipped.txt`.\u001b[0m\u001b[0m\n",
      "New following : 88\n"
     ]
    },
    {
     "name": "stderr",
     "output_type": "stream",
     "text": [
      "2022-01-31 19:51:45,381 - INFO - Out of follows for today.\n",
      "2022-01-31 19:51:45,384 - INFO - Going to follow `user_id` 49017299030.\n"
     ]
    },
    {
     "name": "stdout",
     "output_type": "stream",
     "text": [
      "\n",
      "USER_NAME: should_be_positive, FOLLOWER: 2346, FOLLOWING: 319\n",
      "New following : 88\n"
     ]
    },
    {
     "name": "stderr",
     "output_type": "stream",
     "text": [
      "2022-01-31 19:51:46,985 - INFO - Going to follow `user_id` 25541534763.\n"
     ]
    },
    {
     "name": "stdout",
     "output_type": "stream",
     "text": [
      "\n",
      "USER_NAME: instamemes.1, FOLLOWER: 1110, FOLLOWING: 3524\n",
      "\u001b[31m\n",
      "following_count > bot.max_following_to_follow, skipping!\u001b[0m\n",
      "\u001b[;1m\u001b[32mAdding '49017299030' to `c:\\Users\\Bharat Anand\\Downloads\\projects_repo\\passion_projects\\Creating-insta-bot/config/skipped.txt`.\u001b[0m\u001b[0m\n",
      "New following : 88\n"
     ]
    },
    {
     "name": "stderr",
     "output_type": "stream",
     "text": [
      "2022-01-31 19:51:49,397 - INFO - Going to follow `user_id` 41169838889.\n"
     ]
    },
    {
     "name": "stdout",
     "output_type": "stream",
     "text": [
      "\n",
      "USER_NAME: ig_k_memes, FOLLOWER: 2231, FOLLOWING: 2171\n",
      "\u001b[31m\n",
      "following_count > bot.max_following_to_follow, skipping!\u001b[0m\n",
      "\u001b[;1m\u001b[32mAdding '25541534763' to `c:\\Users\\Bharat Anand\\Downloads\\projects_repo\\passion_projects\\Creating-insta-bot/config/skipped.txt`.\u001b[0m\u001b[0m\n",
      "New following : 88\n"
     ]
    },
    {
     "name": "stderr",
     "output_type": "stream",
     "text": [
      "2022-01-31 19:51:52,700 - INFO - Out of follows for today.\n",
      "2022-01-31 19:51:52,701 - INFO - Going to follow `user_id` 48339287691.\n"
     ]
    },
    {
     "name": "stdout",
     "output_type": "stream",
     "text": [
      "\n",
      "USER_NAME: gyaani__panda, FOLLOWER: 916, FOLLOWING: 473\n",
      "New following : 88\n"
     ]
    },
    {
     "name": "stderr",
     "output_type": "stream",
     "text": [
      "2022-01-31 19:51:54,626 - INFO - Out of follows for today.\n",
      "2022-01-31 19:51:54,628 - INFO - Going to follow `user_id` 4212268182.\n"
     ]
    },
    {
     "name": "stdout",
     "output_type": "stream",
     "text": [
      "\n",
      "USER_NAME: status_king2888, FOLLOWER: 351, FOLLOWING: 469\n",
      "New following : 88\n"
     ]
    },
    {
     "name": "stderr",
     "output_type": "stream",
     "text": [
      "2022-01-31 19:51:56,559 - INFO - Out of follows for today.\n",
      "2022-01-31 19:51:56,562 - INFO - Going to follow `user_id` 48830968177.\n"
     ]
    },
    {
     "name": "stdout",
     "output_type": "stream",
     "text": [
      "\n",
      "USER_NAME: dp_thakker_47, FOLLOWER: 750, FOLLOWING: 368\n",
      "New following : 88\n"
     ]
    },
    {
     "name": "stderr",
     "output_type": "stream",
     "text": [
      "2022-01-31 19:52:00,749 - INFO - Out of follows for today.\n",
      "2022-01-31 19:52:00,753 - INFO - Going to follow `user_id` 39261054339.\n"
     ]
    },
    {
     "name": "stdout",
     "output_type": "stream",
     "text": [
      "\n",
      "USER_NAME: dust_word, FOLLOWER: 875, FOLLOWING: 870\n",
      "New following : 88\n"
     ]
    },
    {
     "name": "stderr",
     "output_type": "stream",
     "text": [
      "2022-01-31 19:52:02,676 - INFO - Out of follows for today.\n",
      "2022-01-31 19:52:02,678 - INFO - Going to follow `user_id` 50009860537.\n"
     ]
    },
    {
     "name": "stdout",
     "output_type": "stream",
     "text": [
      "\n",
      "USER_NAME: tera_bhai_memer._, FOLLOWER: 50, FOLLOWING: 145\n",
      "New following : 88\n"
     ]
    },
    {
     "name": "stderr",
     "output_type": "stream",
     "text": [
      "2022-01-31 19:52:04,749 - INFO - Going to follow `user_id` 30039215177.\n"
     ]
    },
    {
     "name": "stdout",
     "output_type": "stream",
     "text": [
      "\n",
      "USER_NAME: 7neutral, FOLLOWER: 57, FOLLOWING: 120\n",
      "\u001b[31m\n",
      "media_count < bot.min_media_count_to_follow, BOT or INACTIVE, skipping!\u001b[0m\n",
      "\u001b[;1m\u001b[32mAdding '50009860537' to `c:\\Users\\Bharat Anand\\Downloads\\projects_repo\\passion_projects\\Creating-insta-bot/config/skipped.txt`.\u001b[0m\u001b[0m\n",
      "New following : 88\n"
     ]
    },
    {
     "name": "stderr",
     "output_type": "stream",
     "text": [
      "2022-01-31 19:52:06,808 - INFO - Out of follows for today.\n",
      "2022-01-31 19:52:06,810 - INFO - Going to follow `user_id` 51120954080.\n"
     ]
    },
    {
     "name": "stdout",
     "output_type": "stream",
     "text": [
      "\n",
      "USER_NAME: aditya_astic, FOLLOWER: 4533, FOLLOWING: 926\n",
      "New following : 88\n"
     ]
    },
    {
     "name": "stderr",
     "output_type": "stream",
     "text": [
      "2022-01-31 19:52:09,094 - INFO - Going to follow `user_id` 34592022925.\n"
     ]
    },
    {
     "name": "stdout",
     "output_type": "stream",
     "text": [
      "\n",
      "USER_NAME: pradeep_73101, FOLLOWER: 18, FOLLOWING: 40\n",
      "\u001b[31m\n",
      "media_count < bot.min_media_count_to_follow, BOT or INACTIVE, skipping!\u001b[0m\n",
      "\u001b[;1m\u001b[32mAdding '51120954080' to `c:\\Users\\Bharat Anand\\Downloads\\projects_repo\\passion_projects\\Creating-insta-bot/config/skipped.txt`.\u001b[0m\u001b[0m\n",
      "New following : 88\n"
     ]
    },
    {
     "name": "stderr",
     "output_type": "stream",
     "text": [
      "2022-01-31 19:52:10,840 - INFO - Out of follows for today.\n",
      "2022-01-31 19:52:10,844 - INFO - Going to follow `user_id` 48008292085.\n"
     ]
    },
    {
     "name": "stdout",
     "output_type": "stream",
     "text": [
      "\n",
      "USER_NAME: urvashi_says_, FOLLOWER: 3109, FOLLOWING: 905\n",
      "New following : 88\n"
     ]
    },
    {
     "name": "stderr",
     "output_type": "stream",
     "text": [
      "2022-01-31 19:52:13,476 - INFO - Going to follow `user_id` 8715055112.\n"
     ]
    },
    {
     "name": "stdout",
     "output_type": "stream",
     "text": [
      "\n",
      "USER_NAME: punch_liner.in, FOLLOWER: 3927, FOLLOWING: 2891\n",
      "\u001b[31m\n",
      "following_count > bot.max_following_to_follow, skipping!\u001b[0m\n",
      "\u001b[;1m\u001b[32mAdding '48008292085' to `c:\\Users\\Bharat Anand\\Downloads\\projects_repo\\passion_projects\\Creating-insta-bot/config/skipped.txt`.\u001b[0m\u001b[0m\n",
      "New following : 88\n"
     ]
    },
    {
     "name": "stderr",
     "output_type": "stream",
     "text": [
      "2022-01-31 19:52:17,912 - INFO - Going to follow `user_id` 48545253304.\n"
     ]
    },
    {
     "name": "stdout",
     "output_type": "stream",
     "text": [
      "\n",
      "USER_NAME: rinky_negi_0215, FOLLOWER: 1111, FOLLOWING: 137\n",
      "\u001b[31m\n",
      "info: account is PRIVATE, skipping! \u001b[0m\n",
      "\u001b[;1m\u001b[32mAdding '8715055112' to `c:\\Users\\Bharat Anand\\Downloads\\projects_repo\\passion_projects\\Creating-insta-bot/config/skipped.txt`.\u001b[0m\u001b[0m\n",
      "New following : 88\n"
     ]
    },
    {
     "name": "stderr",
     "output_type": "stream",
     "text": [
      "2022-01-31 19:52:21,553 - INFO - Out of follows for today.\n",
      "2022-01-31 19:52:21,554 - INFO - Going to follow `user_id` 47902228208.\n"
     ]
    },
    {
     "name": "stdout",
     "output_type": "stream",
     "text": [
      "\n",
      "USER_NAME: eww_lifeee, FOLLOWER: 1114, FOLLOWING: 186\n",
      "New following : 88\n"
     ]
    },
    {
     "name": "stderr",
     "output_type": "stream",
     "text": [
      "2022-01-31 19:52:25,055 - INFO - Out of follows for today.\n",
      "2022-01-31 19:52:25,057 - INFO - Going to follow `user_id` 33496218375.\n"
     ]
    },
    {
     "name": "stdout",
     "output_type": "stream",
     "text": [
      "\n",
      "USER_NAME: travelling_episode, FOLLOWER: 265, FOLLOWING: 714\n",
      "New following : 88\n"
     ]
    },
    {
     "name": "stderr",
     "output_type": "stream",
     "text": [
      "2022-01-31 19:52:27,494 - INFO - Going to follow `user_id` 48250960916.\n"
     ]
    },
    {
     "name": "stdout",
     "output_type": "stream",
     "text": [
      "\n",
      "USER_NAME: lovers__of__heart, FOLLOWER: 7593, FOLLOWING: 5663\n",
      "\u001b[31m\n",
      "follower_count > bot.max_followers_to_follow, skipping!\u001b[0m\n",
      "\u001b[;1m\u001b[32mAdding '33496218375' to `c:\\Users\\Bharat Anand\\Downloads\\projects_repo\\passion_projects\\Creating-insta-bot/config/skipped.txt`.\u001b[0m\u001b[0m\n",
      "New following : 88\n"
     ]
    },
    {
     "name": "stderr",
     "output_type": "stream",
     "text": [
      "2022-01-31 19:52:30,971 - INFO - Going to follow `user_id` 7889398699.\n"
     ]
    },
    {
     "name": "stdout",
     "output_type": "stream",
     "text": [
      "\n",
      "USER_NAME: _copules_goals_, FOLLOWER: 1593, FOLLOWING: 2994\n",
      "\u001b[31m\n",
      "following_count > bot.max_following_to_follow, skipping!\u001b[0m\n",
      "\u001b[;1m\u001b[32mAdding '48250960916' to `c:\\Users\\Bharat Anand\\Downloads\\projects_repo\\passion_projects\\Creating-insta-bot/config/skipped.txt`.\u001b[0m\u001b[0m\n",
      "New following : 88\n"
     ]
    },
    {
     "name": "stderr",
     "output_type": "stream",
     "text": [
      "2022-01-31 19:52:33,608 - INFO - Going to follow `user_id` 47448602525.\n"
     ]
    },
    {
     "name": "stdout",
     "output_type": "stream",
     "text": [
      "\n",
      "USER_NAME: nonu.______, FOLLOWER: 244, FOLLOWING: 80\n",
      "\u001b[31m\n",
      "info: account is PRIVATE, skipping! \u001b[0m\n",
      "\u001b[;1m\u001b[32mAdding '7889398699' to `c:\\Users\\Bharat Anand\\Downloads\\projects_repo\\passion_projects\\Creating-insta-bot/config/skipped.txt`.\u001b[0m\u001b[0m\n",
      "New following : 88\n"
     ]
    },
    {
     "name": "stderr",
     "output_type": "stream",
     "text": [
      "2022-01-31 19:52:37,378 - INFO - Out of follows for today.\n",
      "2022-01-31 19:52:37,379 - INFO - Going to follow `user_id` 34445608430.\n"
     ]
    },
    {
     "name": "stdout",
     "output_type": "stream",
     "text": [
      "\n",
      "USER_NAME: hass_le_thoda, FOLLOWER: 386, FOLLOWING: 1474\n",
      "New following : 88\n"
     ]
    },
    {
     "name": "stderr",
     "output_type": "stream",
     "text": [
      "2022-01-31 19:52:40,075 - INFO - Out of follows for today.\n",
      "2022-01-31 19:52:40,077 - INFO - Going to follow `user_id` 3478331856.\n"
     ]
    },
    {
     "name": "stdout",
     "output_type": "stream",
     "text": [
      "\n",
      "USER_NAME: rinkupandat_0052, FOLLOWER: 1075, FOLLOWING: 286\n",
      "New following : 88\n"
     ]
    },
    {
     "name": "stderr",
     "output_type": "stream",
     "text": [
      "2022-01-31 19:52:42,892 - INFO - Going to follow `user_id` 46018996992.\n"
     ]
    },
    {
     "name": "stdout",
     "output_type": "stream",
     "text": [
      "\n",
      "USER_NAME: quddus_rsa, FOLLOWER: 3055, FOLLOWING: 4464\n",
      "\u001b[31m\n",
      "info: account is PRIVATE, skipping! \u001b[0m\n",
      "\u001b[;1m\u001b[32mAdding '3478331856' to `c:\\Users\\Bharat Anand\\Downloads\\projects_repo\\passion_projects\\Creating-insta-bot/config/skipped.txt`.\u001b[0m\u001b[0m\n",
      "New following : 88\n"
     ]
    },
    {
     "name": "stderr",
     "output_type": "stream",
     "text": [
      "2022-01-31 19:52:45,938 - INFO - Going to follow `user_id` 42440276425.\n"
     ]
    },
    {
     "name": "stdout",
     "output_type": "stream",
     "text": [
      "\n",
      "USER_NAME: sarcasthetics, FOLLOWER: 11452, FOLLOWING: 1718\n",
      "\u001b[31m\n",
      "follower_count > bot.max_followers_to_follow, skipping!\u001b[0m\n",
      "\u001b[;1m\u001b[32mAdding '46018996992' to `c:\\Users\\Bharat Anand\\Downloads\\projects_repo\\passion_projects\\Creating-insta-bot/config/skipped.txt`.\u001b[0m\u001b[0m\n",
      "New following : 88\n"
     ]
    },
    {
     "name": "stderr",
     "output_type": "stream",
     "text": [
      "2022-01-31 19:52:50,013 - INFO - Out of follows for today.\n",
      "2022-01-31 19:52:50,014 - INFO - Going to follow `user_id` 48757728700.\n"
     ]
    },
    {
     "name": "stdout",
     "output_type": "stream",
     "text": [
      "\n",
      "USER_NAME: sarcastic.kidda, FOLLOWER: 936, FOLLOWING: 640\n",
      "New following : 88\n"
     ]
    },
    {
     "name": "stderr",
     "output_type": "stream",
     "text": [
      "2022-01-31 19:52:53,975 - INFO - Going to follow `user_id` 23116482611.\n"
     ]
    },
    {
     "name": "stdout",
     "output_type": "stream",
     "text": [
      "\n",
      "USER_NAME: rahishkhan_k, FOLLOWER: 1820, FOLLOWING: 2888\n",
      "\u001b[31m\n",
      "following_count > bot.max_following_to_follow, skipping!\u001b[0m\n",
      "\u001b[;1m\u001b[32mAdding '48757728700' to `c:\\Users\\Bharat Anand\\Downloads\\projects_repo\\passion_projects\\Creating-insta-bot/config/skipped.txt`.\u001b[0m\u001b[0m\n",
      "New following : 88\n"
     ]
    },
    {
     "name": "stderr",
     "output_type": "stream",
     "text": [
      "2022-01-31 19:52:56,768 - INFO - Going to follow `user_id` 45201322958.\n"
     ]
    },
    {
     "name": "stdout",
     "output_type": "stream",
     "text": [
      "\n",
      "USER_NAME: pooja_malik06, FOLLOWER: 111, FOLLOWING: 157\n",
      "\u001b[31m\n",
      "info: account is PRIVATE, skipping! \u001b[0m\n",
      "\u001b[;1m\u001b[32mAdding '23116482611' to `c:\\Users\\Bharat Anand\\Downloads\\projects_repo\\passion_projects\\Creating-insta-bot/config/skipped.txt`.\u001b[0m\u001b[0m\n",
      "New following : 88\n"
     ]
    },
    {
     "name": "stderr",
     "output_type": "stream",
     "text": [
      "2022-01-31 19:53:00,266 - INFO - Out of follows for today.\n",
      "2022-01-31 19:53:00,269 - INFO - Going to follow `user_id` 26792198692.\n"
     ]
    },
    {
     "name": "stdout",
     "output_type": "stream",
     "text": [
      "\n",
      "USER_NAME: positive_excotic10, FOLLOWER: 3466, FOLLOWING: 1631\n",
      "New following : 88\n"
     ]
    },
    {
     "name": "stderr",
     "output_type": "stream",
     "text": [
      "2022-01-31 19:53:04,534 - INFO - Going to follow `user_id` 31822769887.\n"
     ]
    },
    {
     "name": "stdout",
     "output_type": "stream",
     "text": [
      "\n",
      "USER_NAME: its__nishaa_, FOLLOWER: 1827, FOLLOWING: 1917\n",
      "\u001b[31m\n",
      "info: account is PRIVATE, skipping! \u001b[0m\n",
      "\u001b[;1m\u001b[32mAdding '26792198692' to `c:\\Users\\Bharat Anand\\Downloads\\projects_repo\\passion_projects\\Creating-insta-bot/config/skipped.txt`.\u001b[0m\u001b[0m\n",
      "New following : 88\n"
     ]
    },
    {
     "name": "stderr",
     "output_type": "stream",
     "text": [
      "2022-01-31 19:53:09,131 - INFO - Going to follow `user_id` 47659627114.\n"
     ]
    },
    {
     "name": "stdout",
     "output_type": "stream",
     "text": [
      "\n",
      "USER_NAME: funny_meme4you, FOLLOWER: 5255, FOLLOWING: 5651\n",
      "\u001b[31m\n",
      "follower_count > bot.max_followers_to_follow, skipping!\u001b[0m\n",
      "\u001b[;1m\u001b[32mAdding '31822769887' to `c:\\Users\\Bharat Anand\\Downloads\\projects_repo\\passion_projects\\Creating-insta-bot/config/skipped.txt`.\u001b[0m\u001b[0m\n",
      "New following : 88\n"
     ]
    },
    {
     "name": "stderr",
     "output_type": "stream",
     "text": [
      "2022-01-31 19:53:12,359 - INFO - Out of follows for today.\n",
      "2022-01-31 19:53:12,360 - INFO - Going to follow `user_id` 45029900655.\n"
     ]
    },
    {
     "name": "stdout",
     "output_type": "stream",
     "text": [
      "\n",
      "USER_NAME: msdiansm, FOLLOWER: 485, FOLLOWING: 434\n",
      "New following : 88\n"
     ]
    },
    {
     "name": "stderr",
     "output_type": "stream",
     "text": [
      "2022-01-31 19:53:15,708 - INFO - Out of follows for today.\n",
      "2022-01-31 19:53:15,709 - INFO - Going to follow `user_id` 3953973591.\n"
     ]
    },
    {
     "name": "stdout",
     "output_type": "stream",
     "text": [
      "\n",
      "USER_NAME: tf_yashh, FOLLOWER: 618, FOLLOWING: 349\n",
      "New following : 88\n"
     ]
    },
    {
     "name": "stderr",
     "output_type": "stream",
     "text": [
      "2022-01-31 19:53:18,732 - INFO - Going to follow `user_id` 46962417835.\n"
     ]
    },
    {
     "name": "stdout",
     "output_type": "stream",
     "text": [
      "\n",
      "USER_NAME: arpit_verma_0202, FOLLOWER: 288, FOLLOWING: 1000\n",
      "\u001b[31m\n",
      "info: account is PRIVATE, skipping! \u001b[0m\n",
      "\u001b[;1m\u001b[32mAdding '3953973591' to `c:\\Users\\Bharat Anand\\Downloads\\projects_repo\\passion_projects\\Creating-insta-bot/config/skipped.txt`.\u001b[0m\u001b[0m\n",
      "New following : 88\n"
     ]
    },
    {
     "name": "stderr",
     "output_type": "stream",
     "text": [
      "2022-01-31 19:53:21,747 - INFO - Going to follow `user_id` 47704385766.\n"
     ]
    },
    {
     "name": "stdout",
     "output_type": "stream",
     "text": [
      "\n",
      "USER_NAME: me.nd.whoo, FOLLOWER: 6, FOLLOWING: 59\n",
      "\u001b[31m\n",
      "info: account is PRIVATE, skipping! \u001b[0m\n",
      "\u001b[;1m\u001b[32mAdding '46962417835' to `c:\\Users\\Bharat Anand\\Downloads\\projects_repo\\passion_projects\\Creating-insta-bot/config/skipped.txt`.\u001b[0m\u001b[0m\n",
      "New following : 88\n"
     ]
    },
    {
     "name": "stderr",
     "output_type": "stream",
     "text": [
      "2022-01-31 19:53:25,982 - INFO - Out of follows for today.\n",
      "2022-01-31 19:53:25,983 - INFO - Going to follow `user_id` 46204614835.\n"
     ]
    },
    {
     "name": "stdout",
     "output_type": "stream",
     "text": [
      "\n",
      "USER_NAME: ghantacompany007, FOLLOWER: 505, FOLLOWING: 491\n",
      "New following : 88\n"
     ]
    },
    {
     "name": "stderr",
     "output_type": "stream",
     "text": [
      "2022-01-31 19:53:27,805 - INFO - Out of follows for today.\n",
      "2022-01-31 19:53:27,806 - INFO - Going to follow `user_id` 25267982364.\n"
     ]
    },
    {
     "name": "stdout",
     "output_type": "stream",
     "text": [
      "\n",
      "USER_NAME: memess_dose, FOLLOWER: 2179, FOLLOWING: 1790\n",
      "New following : 88\n"
     ]
    },
    {
     "name": "stderr",
     "output_type": "stream",
     "text": [
      "2022-01-31 19:53:31,217 - INFO - Out of follows for today.\n",
      "2022-01-31 19:53:31,218 - INFO - Going to follow `user_id` 47625606866.\n"
     ]
    },
    {
     "name": "stdout",
     "output_type": "stream",
     "text": [
      "\n",
      "USER_NAME: abhilekh.1, FOLLOWER: 181, FOLLOWING: 168\n",
      "New following : 88\n"
     ]
    },
    {
     "name": "stderr",
     "output_type": "stream",
     "text": [
      "2022-01-31 19:53:33,236 - INFO - Out of follows for today.\n",
      "2022-01-31 19:53:33,237 - INFO - Going to follow `user_id` 48400973478.\n"
     ]
    },
    {
     "name": "stdout",
     "output_type": "stream",
     "text": [
      "\n",
      "USER_NAME: sarcasterrr_, FOLLOWER: 274, FOLLOWING: 205\n",
      "New following : 88\n"
     ]
    },
    {
     "name": "stderr",
     "output_type": "stream",
     "text": [
      "2022-01-31 19:53:35,888 - INFO - Out of follows for today.\n",
      "2022-01-31 19:53:35,889 - INFO - Going to follow `user_id` 43010888867.\n"
     ]
    },
    {
     "name": "stdout",
     "output_type": "stream",
     "text": [
      "\n",
      "USER_NAME: mein_hun_yar_, FOLLOWER: 699, FOLLOWING: 1217\n",
      "New following : 88\n"
     ]
    },
    {
     "name": "stderr",
     "output_type": "stream",
     "text": [
      "2022-01-31 19:53:38,209 - INFO - Out of follows for today.\n",
      "2022-01-31 19:53:38,213 - INFO - Going to follow `user_id` 40823222813.\n"
     ]
    },
    {
     "name": "stdout",
     "output_type": "stream",
     "text": [
      "\n",
      "USER_NAME: roygulshan256, FOLLOWER: 554, FOLLOWING: 1424\n",
      "New following : 88\n"
     ]
    },
    {
     "name": "stderr",
     "output_type": "stream",
     "text": [
      "2022-01-31 19:53:42,547 - INFO - Going to follow `user_id` 2518280924.\n"
     ]
    },
    {
     "name": "stdout",
     "output_type": "stream",
     "text": [
      "\n",
      "USER_NAME: its__aftab__official__, FOLLOWER: 995, FOLLOWING: 2049\n",
      "\u001b[31m\n",
      "following_count > bot.max_following_to_follow, skipping!\u001b[0m\n",
      "\u001b[;1m\u001b[32mAdding '40823222813' to `c:\\Users\\Bharat Anand\\Downloads\\projects_repo\\passion_projects\\Creating-insta-bot/config/skipped.txt`.\u001b[0m\u001b[0m\n",
      "New following : 88\n"
     ]
    },
    {
     "name": "stderr",
     "output_type": "stream",
     "text": [
      "2022-01-31 19:53:46,612 - INFO - Out of follows for today.\n",
      "2022-01-31 19:53:46,614 - INFO - Going to follow `user_id` 46535783754.\n"
     ]
    },
    {
     "name": "stdout",
     "output_type": "stream",
     "text": [
      "\n",
      "USER_NAME: baileypeerman, FOLLOWER: 2736, FOLLOWING: 1757\n",
      "New following : 88\n"
     ]
    },
    {
     "name": "stderr",
     "output_type": "stream",
     "text": [
      "2022-01-31 19:53:48,903 - INFO - Out of follows for today.\n",
      "2022-01-31 19:53:48,904 - INFO - Going to follow `user_id` 7426388713.\n"
     ]
    },
    {
     "name": "stdout",
     "output_type": "stream",
     "text": [
      "\n",
      "USER_NAME: areeyarr__, FOLLOWER: 1140, FOLLOWING: 1321\n",
      "New following : 88\n"
     ]
    },
    {
     "name": "stderr",
     "output_type": "stream",
     "text": [
      "2022-01-31 19:53:50,469 - INFO - Out of follows for today.\n",
      "2022-01-31 19:53:50,471 - INFO - Going to follow `user_id` 44555149448.\n"
     ]
    },
    {
     "name": "stdout",
     "output_type": "stream",
     "text": [
      "\n",
      "USER_NAME: adhure._.khwaab, FOLLOWER: 2818, FOLLOWING: 925\n",
      "New following : 88\n"
     ]
    },
    {
     "name": "stderr",
     "output_type": "stream",
     "text": [
      "2022-01-31 19:53:53,550 - INFO - Going to follow `user_id` 44339270793.\n"
     ]
    },
    {
     "name": "stdout",
     "output_type": "stream",
     "text": [
      "\n",
      "USER_NAME: nil._sin, FOLLOWER: 2876, FOLLOWING: 3651\n",
      "\u001b[31m\n",
      "following_count > bot.max_following_to_follow, skipping!\u001b[0m\n",
      "\u001b[;1m\u001b[32mAdding '44555149448' to `c:\\Users\\Bharat Anand\\Downloads\\projects_repo\\passion_projects\\Creating-insta-bot/config/skipped.txt`.\u001b[0m\u001b[0m\n",
      "New following : 88\n"
     ]
    },
    {
     "name": "stderr",
     "output_type": "stream",
     "text": [
      "2022-01-31 19:53:57,429 - INFO - Out of follows for today.\n",
      "2022-01-31 19:53:57,432 - INFO - Going to follow `user_id` 28678552284.\n"
     ]
    },
    {
     "name": "stdout",
     "output_type": "stream",
     "text": [
      "\n",
      "USER_NAME: mr_abhinav_says, FOLLOWER: 4021, FOLLOWING: 1468\n",
      "New following : 88\n"
     ]
    },
    {
     "name": "stderr",
     "output_type": "stream",
     "text": [
      "2022-01-31 19:54:01,376 - INFO - Going to follow `user_id` 8297337134.\n"
     ]
    },
    {
     "name": "stdout",
     "output_type": "stream",
     "text": [
      "\n",
      "USER_NAME: gravity.says, FOLLOWER: 17099, FOLLOWING: 2492\n",
      "\u001b[31m\n",
      "follower_count > bot.max_followers_to_follow, skipping!\u001b[0m\n",
      "\u001b[;1m\u001b[32mAdding '28678552284' to `c:\\Users\\Bharat Anand\\Downloads\\projects_repo\\passion_projects\\Creating-insta-bot/config/skipped.txt`.\u001b[0m\u001b[0m\n",
      "New following : 88\n"
     ]
    },
    {
     "name": "stderr",
     "output_type": "stream",
     "text": [
      "2022-01-31 19:54:03,223 - INFO - Out of follows for today.\n",
      "2022-01-31 19:54:03,224 - INFO - Going to follow `user_id` 7451229034.\n"
     ]
    },
    {
     "name": "stdout",
     "output_type": "stream",
     "text": [
      "\n",
      "USER_NAME: _being.adult, FOLLOWER: 3093, FOLLOWING: 547\n",
      "New following : 88\n"
     ]
    },
    {
     "name": "stderr",
     "output_type": "stream",
     "text": [
      "2022-01-31 19:54:06,817 - INFO - Going to follow `user_id` 47818765442.\n"
     ]
    },
    {
     "name": "stdout",
     "output_type": "stream",
     "text": [
      "\n",
      "USER_NAME: kattar_kaichi_, FOLLOWER: 1040, FOLLOWING: 2700\n",
      "\u001b[31m\n",
      "following_count > bot.max_following_to_follow, skipping!\u001b[0m\n",
      "\u001b[;1m\u001b[32mAdding '7451229034' to `c:\\Users\\Bharat Anand\\Downloads\\projects_repo\\passion_projects\\Creating-insta-bot/config/skipped.txt`.\u001b[0m\u001b[0m\n",
      "New following : 88\n"
     ]
    },
    {
     "name": "stderr",
     "output_type": "stream",
     "text": [
      "2022-01-31 19:54:08,901 - INFO - Out of follows for today.\n",
      "2022-01-31 19:54:08,904 - INFO - Going to follow `user_id` 45399536740.\n"
     ]
    },
    {
     "name": "stdout",
     "output_type": "stream",
     "text": [
      "\n",
      "USER_NAME: looser_house, FOLLOWER: 805, FOLLOWING: 1193\n",
      "New following : 88\n"
     ]
    },
    {
     "name": "stderr",
     "output_type": "stream",
     "text": [
      "2022-01-31 19:54:13,019 - INFO - Going to follow `user_id` 45612586114.\n"
     ]
    },
    {
     "name": "stdout",
     "output_type": "stream",
     "text": [
      "\n",
      "USER_NAME: _memesahab_desi, FOLLOWER: 1633, FOLLOWING: 2241\n",
      "\u001b[31m\n",
      "following_count > bot.max_following_to_follow, skipping!\u001b[0m\n",
      "\u001b[;1m\u001b[32mAdding '45399536740' to `c:\\Users\\Bharat Anand\\Downloads\\projects_repo\\passion_projects\\Creating-insta-bot/config/skipped.txt`.\u001b[0m\u001b[0m\n",
      "New following : 88\n"
     ]
    },
    {
     "name": "stderr",
     "output_type": "stream",
     "text": [
      "2022-01-31 19:54:16,753 - INFO - Out of follows for today.\n",
      "2022-01-31 19:54:16,756 - INFO - Going to follow `user_id` 48451200237.\n"
     ]
    },
    {
     "name": "stdout",
     "output_type": "stream",
     "text": [
      "\n",
      "USER_NAME: furkan_says14, FOLLOWER: 620, FOLLOWING: 159\n",
      "New following : 88\n"
     ]
    },
    {
     "name": "stderr",
     "output_type": "stream",
     "text": [
      "2022-01-31 19:54:19,772 - INFO - Going to follow `user_id` 48487455610.\n"
     ]
    },
    {
     "name": "stdout",
     "output_type": "stream",
     "text": [
      "\n",
      "USER_NAME: ganheseguidoresagora05, FOLLOWER: 882, FOLLOWING: 3289\n",
      "\u001b[31m\n",
      "info: account is PRIVATE, skipping! \u001b[0m\n",
      "\u001b[;1m\u001b[32mAdding '48451200237' to `c:\\Users\\Bharat Anand\\Downloads\\projects_repo\\passion_projects\\Creating-insta-bot/config/skipped.txt`.\u001b[0m\u001b[0m\n",
      "New following : 88\n"
     ]
    },
    {
     "name": "stderr",
     "output_type": "stream",
     "text": [
      "2022-01-31 19:54:24,030 - INFO - Going to follow `user_id` 27972690032.\n"
     ]
    },
    {
     "name": "stdout",
     "output_type": "stream",
     "text": [
      "\n",
      "USER_NAME: sarcasambacha, FOLLOWER: 1671, FOLLOWING: 2499\n",
      "\u001b[31m\n",
      "following_count > bot.max_following_to_follow, skipping!\u001b[0m\n",
      "\u001b[;1m\u001b[32mAdding '48487455610' to `c:\\Users\\Bharat Anand\\Downloads\\projects_repo\\passion_projects\\Creating-insta-bot/config/skipped.txt`.\u001b[0m\u001b[0m\n",
      "New following : 88\n"
     ]
    },
    {
     "name": "stderr",
     "output_type": "stream",
     "text": [
      "2022-01-31 19:54:27,721 - INFO - Out of follows for today.\n",
      "2022-01-31 19:54:27,722 - INFO - Going to follow `user_id` 37359054834.\n"
     ]
    },
    {
     "name": "stdout",
     "output_type": "stream",
     "text": [
      "\n",
      "USER_NAME: adultculture69, FOLLOWER: 2901, FOLLOWING: 1174\n",
      "New following : 88\n"
     ]
    },
    {
     "name": "stderr",
     "output_type": "stream",
     "text": [
      "2022-01-31 19:54:30,259 - INFO - Going to follow `user_id` 48097905995.\n"
     ]
    },
    {
     "name": "stdout",
     "output_type": "stream",
     "text": [
      "\n",
      "USER_NAME: fuckrey_meme, FOLLOWER: 5587, FOLLOWING: 6209\n",
      "\u001b[31m\n",
      "follower_count > bot.max_followers_to_follow, skipping!\u001b[0m\n",
      "\u001b[;1m\u001b[32mAdding '37359054834' to `c:\\Users\\Bharat Anand\\Downloads\\projects_repo\\passion_projects\\Creating-insta-bot/config/skipped.txt`.\u001b[0m\u001b[0m\n",
      "New following : 88\n"
     ]
    },
    {
     "name": "stderr",
     "output_type": "stream",
     "text": [
      "2022-01-31 19:54:31,755 - INFO - Out of follows for today.\n",
      "2022-01-31 19:54:31,756 - INFO - Going to follow `user_id` 33182822665.\n"
     ]
    },
    {
     "name": "stdout",
     "output_type": "stream",
     "text": [
      "\n",
      "USER_NAME: sarcasmicladki_, FOLLOWER: 2576, FOLLOWING: 748\n",
      "New following : 88\n"
     ]
    },
    {
     "name": "stderr",
     "output_type": "stream",
     "text": [
      "2022-01-31 19:54:35,502 - INFO - Out of follows for today.\n",
      "2022-01-31 19:54:35,503 - INFO - Going to follow `user_id` 6729270614.\n"
     ]
    },
    {
     "name": "stdout",
     "output_type": "stream",
     "text": [
      "\n",
      "USER_NAME: bymistake_memes, FOLLOWER: 3698, FOLLOWING: 814\n",
      "New following : 88\n"
     ]
    },
    {
     "name": "stderr",
     "output_type": "stream",
     "text": [
      "2022-01-31 19:54:39,486 - INFO - Going to follow `user_id` 8909821132.\n"
     ]
    },
    {
     "name": "stdout",
     "output_type": "stream",
     "text": [
      "\n",
      "USER_NAME: zaidsays_, FOLLOWER: 10476, FOLLOWING: 279\n",
      "\u001b[31m\n",
      "follower_count > bot.max_followers_to_follow, skipping!\u001b[0m\n",
      "\u001b[;1m\u001b[32mAdding '6729270614' to `c:\\Users\\Bharat Anand\\Downloads\\projects_repo\\passion_projects\\Creating-insta-bot/config/skipped.txt`.\u001b[0m\u001b[0m\n",
      "New following : 88\n"
     ]
    },
    {
     "name": "stderr",
     "output_type": "stream",
     "text": [
      "2022-01-31 19:54:41,848 - INFO - Out of follows for today.\n",
      "2022-01-31 19:54:41,849 - INFO - Going to follow `user_id` 48168354800.\n"
     ]
    },
    {
     "name": "stdout",
     "output_type": "stream",
     "text": [
      "\n",
      "USER_NAME: desperates_soul, FOLLOWER: 980, FOLLOWING: 180\n",
      "New following : 88\n"
     ]
    },
    {
     "name": "stderr",
     "output_type": "stream",
     "text": [
      "2022-01-31 19:54:44,626 - INFO - Going to follow `user_id` 41532324788.\n"
     ]
    },
    {
     "name": "stdout",
     "output_type": "stream",
     "text": [
      "\n",
      "USER_NAME: fun_wit.h_memes69, FOLLOWER: 1660, FOLLOWING: 4529\n",
      "\u001b[31m\n",
      "following_count > bot.max_following_to_follow, skipping!\u001b[0m\n",
      "\u001b[;1m\u001b[32mAdding '48168354800' to `c:\\Users\\Bharat Anand\\Downloads\\projects_repo\\passion_projects\\Creating-insta-bot/config/skipped.txt`.\u001b[0m\u001b[0m\n",
      "New following : 88\n"
     ]
    },
    {
     "name": "stderr",
     "output_type": "stream",
     "text": [
      "2022-01-31 19:54:48,282 - INFO - Out of follows for today.\n",
      "2022-01-31 19:54:48,285 - INFO - Going to follow `user_id` 39954603921.\n"
     ]
    },
    {
     "name": "stdout",
     "output_type": "stream",
     "text": [
      "\n",
      "USER_NAME: pinky_kethoughts, FOLLOWER: 515, FOLLOWING: 650\n",
      "New following : 88\n"
     ]
    },
    {
     "name": "stderr",
     "output_type": "stream",
     "text": [
      "2022-01-31 19:54:52,060 - INFO - Out of follows for today.\n",
      "2022-01-31 19:54:52,061 - INFO - Going to follow `user_id` 33637893713.\n"
     ]
    },
    {
     "name": "stdout",
     "output_type": "stream",
     "text": [
      "\n",
      "USER_NAME: sutiyapaa___, FOLLOWER: 961, FOLLOWING: 1081\n",
      "New following : 88\n"
     ]
    },
    {
     "name": "stderr",
     "output_type": "stream",
     "text": [
      "2022-01-31 19:54:56,017 - INFO - Out of follows for today.\n",
      "2022-01-31 19:54:56,019 - INFO - Going to follow `user_id` 47970220691.\n"
     ]
    },
    {
     "name": "stdout",
     "output_type": "stream",
     "text": [
      "\n",
      "USER_NAME: memes.adda007, FOLLOWER: 1358, FOLLOWING: 1209\n",
      "New following : 88\n"
     ]
    },
    {
     "name": "stderr",
     "output_type": "stream",
     "text": [
      "2022-01-31 19:55:00,032 - INFO - Out of follows for today.\n",
      "2022-01-31 19:55:00,033 - INFO - Going to follow `user_id` 17448468998.\n"
     ]
    },
    {
     "name": "stdout",
     "output_type": "stream",
     "text": [
      "\n",
      "USER_NAME: maturedtales, FOLLOWER: 349, FOLLOWING: 457\n",
      "New following : 88\n"
     ]
    },
    {
     "name": "stderr",
     "output_type": "stream",
     "text": [
      "2022-01-31 19:55:01,926 - INFO - Going to follow `user_id` 8748042163.\n"
     ]
    },
    {
     "name": "stdout",
     "output_type": "stream",
     "text": [
      "\n",
      "USER_NAME: _69_memestagram, FOLLOWER: 1368, FOLLOWING: 5639\n",
      "\u001b[31m\n",
      "following_count > bot.max_following_to_follow, skipping!\u001b[0m\n",
      "\u001b[;1m\u001b[32mAdding '17448468998' to `c:\\Users\\Bharat Anand\\Downloads\\projects_repo\\passion_projects\\Creating-insta-bot/config/skipped.txt`.\u001b[0m\u001b[0m\n",
      "New following : 88\n"
     ]
    },
    {
     "name": "stderr",
     "output_type": "stream",
     "text": [
      "2022-01-31 19:55:04,747 - INFO - Out of follows for today.\n",
      "2022-01-31 19:55:04,748 - INFO - Going to follow `user_id` 8397760989.\n"
     ]
    },
    {
     "name": "stdout",
     "output_type": "stream",
     "text": [
      "\n",
      "USER_NAME: rishiiraj_harsh, FOLLOWER: 760, FOLLOWING: 337\n",
      "New following : 88\n"
     ]
    },
    {
     "name": "stderr",
     "output_type": "stream",
     "text": [
      "2022-01-31 19:55:08,908 - INFO - Going to follow `user_id` 46813060107.\n"
     ]
    },
    {
     "name": "stdout",
     "output_type": "stream",
     "text": [
      "\n",
      "USER_NAME: areeyaar_cvay, FOLLOWER: 5212, FOLLOWING: 3113\n",
      "\u001b[31m\n",
      "follower_count > bot.max_followers_to_follow, skipping!\u001b[0m\n",
      "\u001b[;1m\u001b[32mAdding '8397760989' to `c:\\Users\\Bharat Anand\\Downloads\\projects_repo\\passion_projects\\Creating-insta-bot/config/skipped.txt`.\u001b[0m\u001b[0m\n",
      "New following : 88\n"
     ]
    },
    {
     "name": "stderr",
     "output_type": "stream",
     "text": [
      "2022-01-31 19:55:12,575 - INFO - Out of follows for today.\n",
      "2022-01-31 19:55:12,579 - INFO - Going to follow `user_id` 39448426261.\n"
     ]
    },
    {
     "name": "stdout",
     "output_type": "stream",
     "text": [
      "\n",
      "USER_NAME: jhand_engineering_, FOLLOWER: 982, FOLLOWING: 1661\n",
      "New following : 88\n"
     ]
    },
    {
     "name": "stderr",
     "output_type": "stream",
     "text": [
      "2022-01-31 19:55:14,738 - INFO - Out of follows for today.\n",
      "2022-01-31 19:55:14,739 - INFO - Going to follow `user_id` 47915535615.\n"
     ]
    },
    {
     "name": "stdout",
     "output_type": "stream",
     "text": [
      "\n",
      "USER_NAME: _itx_.hero, FOLLOWER: 530, FOLLOWING: 267\n",
      "New following : 88\n"
     ]
    },
    {
     "name": "stderr",
     "output_type": "stream",
     "text": [
      "2022-01-31 19:55:18,814 - INFO - Out of follows for today.\n",
      "2022-01-31 19:55:18,815 - INFO - Going to follow `user_id` 42254382348.\n"
     ]
    },
    {
     "name": "stdout",
     "output_type": "stream",
     "text": [
      "\n",
      "USER_NAME: memes_ka_diwana2, FOLLOWER: 71, FOLLOWING: 151\n",
      "New following : 88\n"
     ]
    },
    {
     "name": "stderr",
     "output_type": "stream",
     "text": [
      "2022-01-31 19:55:20,891 - INFO - Out of follows for today.\n",
      "2022-01-31 19:55:20,893 - INFO - Going to follow `user_id` 35462209138.\n"
     ]
    },
    {
     "name": "stdout",
     "output_type": "stream",
     "text": [
      "\n",
      "USER_NAME: maurya_ji_s, FOLLOWER: 1341, FOLLOWING: 143\n",
      "New following : 88\n"
     ]
    },
    {
     "name": "stderr",
     "output_type": "stream",
     "text": [
      "2022-01-31 19:55:24,969 - INFO - Out of follows for today.\n",
      "2022-01-31 19:55:24,973 - INFO - Going to follow `user_id` 45258179401.\n"
     ]
    },
    {
     "name": "stdout",
     "output_type": "stream",
     "text": [
      "\n",
      "USER_NAME: _yolo_here, FOLLOWER: 877, FOLLOWING: 841\n",
      "New following : 88\n"
     ]
    },
    {
     "name": "stderr",
     "output_type": "stream",
     "text": [
      "2022-01-31 19:55:27,656 - INFO - Going to follow `user_id` 26588421972.\n"
     ]
    },
    {
     "name": "stdout",
     "output_type": "stream",
     "text": [
      "\n",
      "USER_NAME: asou0008, FOLLOWER: 2205, FOLLOWING: 3503\n",
      "\u001b[31m\n",
      "info: account is PRIVATE, skipping! \u001b[0m\n",
      "\u001b[;1m\u001b[32mAdding '45258179401' to `c:\\Users\\Bharat Anand\\Downloads\\projects_repo\\passion_projects\\Creating-insta-bot/config/skipped.txt`.\u001b[0m\u001b[0m\n",
      "New following : 88\n"
     ]
    },
    {
     "name": "stderr",
     "output_type": "stream",
     "text": [
      "2022-01-31 19:55:30,382 - INFO - Going to follow `user_id` 47935565784.\n"
     ]
    },
    {
     "name": "stdout",
     "output_type": "stream",
     "text": [
      "\n",
      "USER_NAME: sharmaji_memeswale, FOLLOWER: 13339, FOLLOWING: 7035\n",
      "\u001b[31m\n",
      "follower_count > bot.max_followers_to_follow, skipping!\u001b[0m\n",
      "\u001b[;1m\u001b[32mAdding '26588421972' to `c:\\Users\\Bharat Anand\\Downloads\\projects_repo\\passion_projects\\Creating-insta-bot/config/skipped.txt`.\u001b[0m\u001b[0m\n",
      "New following : 88\n"
     ]
    },
    {
     "name": "stderr",
     "output_type": "stream",
     "text": [
      "2022-01-31 19:55:33,504 - INFO - Out of follows for today.\n",
      "2022-01-31 19:55:33,504 - INFO - Going to follow `user_id` 48055626025.\n"
     ]
    },
    {
     "name": "stdout",
     "output_type": "stream",
     "text": [
      "\n",
      "USER_NAME: wtf_aaditya, FOLLOWER: 579, FOLLOWING: 508\n",
      "New following : 88\n"
     ]
    },
    {
     "name": "stderr",
     "output_type": "stream",
     "text": [
      "2022-01-31 19:55:37,756 - INFO - Going to follow `user_id` 40506616738.\n"
     ]
    },
    {
     "name": "stdout",
     "output_type": "stream",
     "text": [
      "\n",
      "USER_NAME: 7billionthings, FOLLOWER: 4851, FOLLOWING: 3098\n",
      "\u001b[31m\n",
      "following_count > bot.max_following_to_follow, skipping!\u001b[0m\n",
      "\u001b[;1m\u001b[32mAdding '48055626025' to `c:\\Users\\Bharat Anand\\Downloads\\projects_repo\\passion_projects\\Creating-insta-bot/config/skipped.txt`.\u001b[0m\u001b[0m\n",
      "New following : 88\n"
     ]
    },
    {
     "name": "stderr",
     "output_type": "stream",
     "text": [
      "2022-01-31 19:55:41,425 - INFO - Out of follows for today.\n",
      "2022-01-31 19:55:41,426 - INFO - Going to follow `user_id` 48298913895.\n"
     ]
    },
    {
     "name": "stdout",
     "output_type": "stream",
     "text": [
      "\n",
      "USER_NAME: kandi_balak, FOLLOWER: 1961, FOLLOWING: 1427\n",
      "New following : 88\n"
     ]
    },
    {
     "name": "stderr",
     "output_type": "stream",
     "text": [
      "2022-01-31 19:55:44,124 - INFO - Out of follows for today.\n",
      "2022-01-31 19:55:44,125 - INFO - Going to follow `user_id` 15138266800.\n"
     ]
    },
    {
     "name": "stdout",
     "output_type": "stream",
     "text": [
      "\n",
      "USER_NAME: suhani______tomar, FOLLOWER: 2632, FOLLOWING: 1683\n",
      "New following : 88\n"
     ]
    },
    {
     "name": "stderr",
     "output_type": "stream",
     "text": [
      "2022-01-31 19:55:48,284 - INFO - Going to follow `user_id` 2063415217.\n"
     ]
    },
    {
     "name": "stdout",
     "output_type": "stream",
     "text": [
      "\n",
      "USER_NAME: bharrattttt, FOLLOWER: 5089, FOLLOWING: 3559\n",
      "\u001b[31m\n",
      "follower_count > bot.max_followers_to_follow, skipping!\u001b[0m\n",
      "\u001b[;1m\u001b[32mAdding '15138266800' to `c:\\Users\\Bharat Anand\\Downloads\\projects_repo\\passion_projects\\Creating-insta-bot/config/skipped.txt`.\u001b[0m\u001b[0m\n",
      "New following : 88\n"
     ]
    },
    {
     "name": "stderr",
     "output_type": "stream",
     "text": [
      "2022-01-31 19:55:51,052 - INFO - Out of follows for today.\n",
      "2022-01-31 19:55:51,054 - INFO - Going to follow `user_id` 42837498755.\n"
     ]
    },
    {
     "name": "stdout",
     "output_type": "stream",
     "text": [
      "\n",
      "USER_NAME: y_ganesh, FOLLOWER: 810, FOLLOWING: 89\n",
      "New following : 88\n"
     ]
    },
    {
     "name": "stderr",
     "output_type": "stream",
     "text": [
      "2022-01-31 19:55:54,261 - INFO - Out of follows for today.\n",
      "2022-01-31 19:55:54,265 - INFO - Going to follow `user_id` 39288427610.\n"
     ]
    },
    {
     "name": "stdout",
     "output_type": "stream",
     "text": [
      "\n",
      "USER_NAME: luzifertweets, FOLLOWER: 1047, FOLLOWING: 660\n",
      "New following : 88\n"
     ]
    },
    {
     "name": "stderr",
     "output_type": "stream",
     "text": [
      "2022-01-31 19:55:57,208 - INFO - Going to follow `user_id` 48038569278.\n"
     ]
    },
    {
     "name": "stdout",
     "output_type": "stream",
     "text": [
      "\n",
      "USER_NAME: jijajee19, FOLLOWER: 4201, FOLLOWING: 3356\n",
      "\u001b[31m\n",
      "following_count > bot.max_following_to_follow, skipping!\u001b[0m\n",
      "\u001b[;1m\u001b[32mAdding '39288427610' to `c:\\Users\\Bharat Anand\\Downloads\\projects_repo\\passion_projects\\Creating-insta-bot/config/skipped.txt`.\u001b[0m\u001b[0m\n",
      "New following : 88\n"
     ]
    },
    {
     "name": "stderr",
     "output_type": "stream",
     "text": [
      "2022-01-31 19:55:59,928 - INFO - Going to follow `user_id` 16247950156.\n"
     ]
    },
    {
     "name": "stdout",
     "output_type": "stream",
     "text": [
      "\n",
      "USER_NAME: thoughtsof_love333, FOLLOWER: 79, FOLLOWING: 314\n",
      "\u001b[31m\n",
      "info: account is PRIVATE, skipping! \u001b[0m\n",
      "\u001b[;1m\u001b[32mAdding '48038569278' to `c:\\Users\\Bharat Anand\\Downloads\\projects_repo\\passion_projects\\Creating-insta-bot/config/skipped.txt`.\u001b[0m\u001b[0m\n",
      "New following : 88\n"
     ]
    },
    {
     "name": "stderr",
     "output_type": "stream",
     "text": [
      "2022-01-31 19:56:02,022 - INFO - Going to follow `user_id` 44227258316.\n"
     ]
    },
    {
     "name": "stdout",
     "output_type": "stream",
     "text": [
      "\n",
      "USER_NAME: jisu_says, FOLLOWER: 7084, FOLLOWING: 4252\n",
      "\u001b[31m\n",
      "follower_count > bot.max_followers_to_follow, skipping!\u001b[0m\n",
      "\u001b[;1m\u001b[32mAdding '16247950156' to `c:\\Users\\Bharat Anand\\Downloads\\projects_repo\\passion_projects\\Creating-insta-bot/config/skipped.txt`.\u001b[0m\u001b[0m\n",
      "New following : 88\n"
     ]
    },
    {
     "name": "stderr",
     "output_type": "stream",
     "text": [
      "2022-01-31 19:56:05,875 - INFO - Out of follows for today.\n",
      "2022-01-31 19:56:05,876 - INFO - Going to follow `user_id` 14069614904.\n"
     ]
    },
    {
     "name": "stdout",
     "output_type": "stream",
     "text": [
      "\n",
      "USER_NAME: the_tharki.roaster, FOLLOWER: 855, FOLLOWING: 565\n",
      "New following : 88\n"
     ]
    },
    {
     "name": "stderr",
     "output_type": "stream",
     "text": [
      "2022-01-31 19:56:07,992 - INFO - Going to follow `user_id` 46423841265.\n"
     ]
    },
    {
     "name": "stdout",
     "output_type": "stream",
     "text": [
      "\n",
      "USER_NAME: coolsinghaman90gmail.com_, FOLLOWER: 1027, FOLLOWING: 2810\n",
      "\u001b[31m\n",
      "following_count > bot.max_following_to_follow, skipping!\u001b[0m\n",
      "\u001b[;1m\u001b[32mAdding '14069614904' to `c:\\Users\\Bharat Anand\\Downloads\\projects_repo\\passion_projects\\Creating-insta-bot/config/skipped.txt`.\u001b[0m\u001b[0m\n",
      "New following : 88\n"
     ]
    },
    {
     "name": "stderr",
     "output_type": "stream",
     "text": [
      "2022-01-31 19:56:10,127 - INFO - Going to follow `user_id` 47227714910.\n"
     ]
    },
    {
     "name": "stdout",
     "output_type": "stream",
     "text": [
      "\n",
      "USER_NAME: 2words_apke_lie, FOLLOWER: 3757, FOLLOWING: 6658\n",
      "\u001b[31m\n",
      "following_count > bot.max_following_to_follow, skipping!\u001b[0m\n",
      "\u001b[;1m\u001b[32mAdding '46423841265' to `c:\\Users\\Bharat Anand\\Downloads\\projects_repo\\passion_projects\\Creating-insta-bot/config/skipped.txt`.\u001b[0m\u001b[0m\n",
      "New following : 88\n"
     ]
    },
    {
     "name": "stderr",
     "output_type": "stream",
     "text": [
      "2022-01-31 19:56:14,495 - INFO - Going to follow `user_id` 43937139815.\n"
     ]
    },
    {
     "name": "stdout",
     "output_type": "stream",
     "text": [
      "\n",
      "USER_NAME: thehclubs, FOLLOWER: 3961, FOLLOWING: 5794\n",
      "\u001b[31m\n",
      "following_count > bot.max_following_to_follow, skipping!\u001b[0m\n",
      "\u001b[;1m\u001b[32mAdding '47227714910' to `c:\\Users\\Bharat Anand\\Downloads\\projects_repo\\passion_projects\\Creating-insta-bot/config/skipped.txt`.\u001b[0m\u001b[0m\n",
      "New following : 88\n"
     ]
    },
    {
     "name": "stderr",
     "output_type": "stream",
     "text": [
      "2022-01-31 19:56:17,997 - INFO - Out of follows for today.\n",
      "2022-01-31 19:56:17,998 - INFO - Going to follow `user_id` 47716791258.\n"
     ]
    },
    {
     "name": "stdout",
     "output_type": "stream",
     "text": [
      "\n",
      "USER_NAME: _triggered_writes, FOLLOWER: 274, FOLLOWING: 431\n",
      "New following : 88\n"
     ]
    },
    {
     "name": "stderr",
     "output_type": "stream",
     "text": [
      "2022-01-31 19:56:21,740 - INFO - Going to follow `user_id` 42396925029.\n"
     ]
    },
    {
     "name": "stdout",
     "output_type": "stream",
     "text": [
      "\n",
      "USER_NAME: backbencher___99, FOLLOWER: 1655, FOLLOWING: 2628\n",
      "\u001b[31m\n",
      "following_count > bot.max_following_to_follow, skipping!\u001b[0m\n",
      "\u001b[;1m\u001b[32mAdding '47716791258' to `c:\\Users\\Bharat Anand\\Downloads\\projects_repo\\passion_projects\\Creating-insta-bot/config/skipped.txt`.\u001b[0m\u001b[0m\n",
      "New following : 88\n"
     ]
    },
    {
     "name": "stderr",
     "output_type": "stream",
     "text": [
      "2022-01-31 19:56:24,975 - INFO - Going to follow `user_id` 45133637115.\n"
     ]
    },
    {
     "name": "stdout",
     "output_type": "stream",
     "text": [
      "\n",
      "USER_NAME: zii___7, FOLLOWER: 2403, FOLLOWING: 4033\n",
      "\u001b[31m\n",
      "following_count > bot.max_following_to_follow, skipping!\u001b[0m\n",
      "\u001b[;1m\u001b[32mAdding '42396925029' to `c:\\Users\\Bharat Anand\\Downloads\\projects_repo\\passion_projects\\Creating-insta-bot/config/skipped.txt`.\u001b[0m\u001b[0m\n",
      "New following : 88\n"
     ]
    },
    {
     "name": "stderr",
     "output_type": "stream",
     "text": [
      "2022-01-31 19:56:26,355 - INFO - Going to follow `user_id` 48575394029.\n"
     ]
    },
    {
     "name": "stdout",
     "output_type": "stream",
     "text": [
      "\n",
      "USER_NAME: sarcastic_kalyan, FOLLOWER: 5645, FOLLOWING: 2688\n",
      "\u001b[31m\n",
      "follower_count > bot.max_followers_to_follow, skipping!\u001b[0m\n",
      "\u001b[;1m\u001b[32mAdding '45133637115' to `c:\\Users\\Bharat Anand\\Downloads\\projects_repo\\passion_projects\\Creating-insta-bot/config/skipped.txt`.\u001b[0m\u001b[0m\n",
      "New following : 88\n"
     ]
    },
    {
     "name": "stderr",
     "output_type": "stream",
     "text": [
      "2022-01-31 19:56:28,557 - INFO - Going to follow `user_id` 2040749595.\n"
     ]
    },
    {
     "name": "stdout",
     "output_type": "stream",
     "text": [
      "\n",
      "USER_NAME: roshanyadav2645, FOLLOWER: 730, FOLLOWING: 3485\n",
      "\u001b[31m\n",
      "following_count > bot.max_following_to_follow, skipping!\u001b[0m\n",
      "\u001b[;1m\u001b[32mAdding '48575394029' to `c:\\Users\\Bharat Anand\\Downloads\\projects_repo\\passion_projects\\Creating-insta-bot/config/skipped.txt`.\u001b[0m\u001b[0m\n",
      "New following : 88\n"
     ]
    },
    {
     "name": "stderr",
     "output_type": "stream",
     "text": [
      "2022-01-31 19:56:32,103 - INFO - Going to follow `user_id` 47692905535.\n"
     ]
    },
    {
     "name": "stdout",
     "output_type": "stream",
     "text": [
      "\n",
      "USER_NAME: adii_pandit, FOLLOWER: 492, FOLLOWING: 163\n",
      "\u001b[31m\n",
      "info: account is PRIVATE, skipping! \u001b[0m\n",
      "\u001b[;1m\u001b[32mAdding '2040749595' to `c:\\Users\\Bharat Anand\\Downloads\\projects_repo\\passion_projects\\Creating-insta-bot/config/skipped.txt`.\u001b[0m\u001b[0m\n",
      "New following : 88\n"
     ]
    },
    {
     "name": "stderr",
     "output_type": "stream",
     "text": [
      "2022-01-31 19:56:34,688 - INFO - Out of follows for today.\n",
      "2022-01-31 19:56:34,689 - INFO - Going to follow `user_id` 47862682013.\n"
     ]
    },
    {
     "name": "stdout",
     "output_type": "stream",
     "text": [
      "\n",
      "USER_NAME: pharmacology_gyan, FOLLOWER: 295, FOLLOWING: 679\n",
      "New following : 88\n"
     ]
    },
    {
     "name": "stderr",
     "output_type": "stream",
     "text": [
      "2022-01-31 19:56:38,785 - INFO - Going to follow `user_id` 37003483447.\n"
     ]
    },
    {
     "name": "stdout",
     "output_type": "stream",
     "text": [
      "\n",
      "USER_NAME: eliezerventurarelax, FOLLOWER: 676, FOLLOWING: 1631\n",
      "\u001b[31m\n",
      "media_count < bot.min_media_count_to_follow, BOT or INACTIVE, skipping!\u001b[0m\n",
      "\u001b[;1m\u001b[32mAdding '47862682013' to `c:\\Users\\Bharat Anand\\Downloads\\projects_repo\\passion_projects\\Creating-insta-bot/config/skipped.txt`.\u001b[0m\u001b[0m\n",
      "New following : 88\n"
     ]
    },
    {
     "name": "stderr",
     "output_type": "stream",
     "text": [
      "2022-01-31 19:56:40,581 - INFO - Going to follow `user_id` 49042403017.\n"
     ]
    },
    {
     "name": "stdout",
     "output_type": "stream",
     "text": [
      "\n",
      "USER_NAME: capturing__bit, FOLLOWER: 2416, FOLLOWING: 2749\n",
      "\u001b[31m\n",
      "following_count > bot.max_following_to_follow, skipping!\u001b[0m\n",
      "\u001b[;1m\u001b[32mAdding '37003483447' to `c:\\Users\\Bharat Anand\\Downloads\\projects_repo\\passion_projects\\Creating-insta-bot/config/skipped.txt`.\u001b[0m\u001b[0m\n",
      "New following : 88\n"
     ]
    },
    {
     "name": "stderr",
     "output_type": "stream",
     "text": [
      "2022-01-31 19:56:43,498 - INFO - Going to follow `user_id` 47452617550.\n"
     ]
    },
    {
     "name": "stdout",
     "output_type": "stream",
     "text": [
      "\n",
      "USER_NAME: deepanshupandit07, FOLLOWER: 1127, FOLLOWING: 58\n",
      "\u001b[31m\n",
      "follower_count / following_count > bot.max_followers_to_following_ratio, skipping!\u001b[0m\n",
      "\u001b[;1m\u001b[32mAdding '49042403017' to `c:\\Users\\Bharat Anand\\Downloads\\projects_repo\\passion_projects\\Creating-insta-bot/config/skipped.txt`.\u001b[0m\u001b[0m\n",
      "New following : 88\n"
     ]
    },
    {
     "name": "stderr",
     "output_type": "stream",
     "text": [
      "2022-01-31 19:56:47,119 - INFO - Out of follows for today.\n",
      "2022-01-31 19:56:47,122 - INFO - Going to follow `user_id` 44729714913.\n"
     ]
    },
    {
     "name": "stdout",
     "output_type": "stream",
     "text": [
      "\n",
      "USER_NAME: messy_she, FOLLOWER: 1113, FOLLOWING: 519\n",
      "New following : 88\n"
     ]
    },
    {
     "name": "stderr",
     "output_type": "stream",
     "text": [
      "2022-01-31 19:56:51,443 - INFO - Out of follows for today.\n",
      "2022-01-31 19:56:51,444 - INFO - Going to follow `user_id` 19130066003.\n"
     ]
    },
    {
     "name": "stdout",
     "output_type": "stream",
     "text": [
      "\n",
      "USER_NAME: _sarccastic_op, FOLLOWER: 2377, FOLLOWING: 635\n",
      "New following : 88\n"
     ]
    },
    {
     "name": "stderr",
     "output_type": "stream",
     "text": [
      "2022-01-31 19:56:54,241 - INFO - Out of follows for today.\n",
      "2022-01-31 19:56:54,243 - INFO - Going to follow `user_id` 35636386431.\n"
     ]
    },
    {
     "name": "stdout",
     "output_type": "stream",
     "text": [
      "\n",
      "USER_NAME: maavika10, FOLLOWER: 340, FOLLOWING: 118\n",
      "New following : 88\n"
     ]
    },
    {
     "name": "stderr",
     "output_type": "stream",
     "text": [
      "2022-01-31 19:56:58,562 - INFO - Out of follows for today.\n",
      "2022-01-31 19:56:58,562 - INFO - Going to follow `user_id` 47668946645.\n"
     ]
    },
    {
     "name": "stdout",
     "output_type": "stream",
     "text": [
      "\n",
      "USER_NAME: thatunsuccessfulgirl, FOLLOWER: 1242, FOLLOWING: 976\n",
      "New following : 88\n"
     ]
    },
    {
     "name": "stderr",
     "output_type": "stream",
     "text": [
      "2022-01-31 19:57:00,353 - INFO - Going to follow `user_id` 48731339334.\n"
     ]
    },
    {
     "name": "stdout",
     "output_type": "stream",
     "text": [
      "\n",
      "USER_NAME: backgroundremoval243, FOLLOWER: 827, FOLLOWING: 2548\n",
      "\u001b[31m\n",
      "following_count > bot.max_following_to_follow, skipping!\u001b[0m\n",
      "\u001b[;1m\u001b[32mAdding '47668946645' to `c:\\Users\\Bharat Anand\\Downloads\\projects_repo\\passion_projects\\Creating-insta-bot/config/skipped.txt`.\u001b[0m\u001b[0m\n",
      "New following : 88\n"
     ]
    },
    {
     "name": "stderr",
     "output_type": "stream",
     "text": [
      "2022-01-31 19:57:03,111 - INFO - Going to follow `user_id` 47668575862.\n"
     ]
    },
    {
     "name": "stdout",
     "output_type": "stream",
     "text": [
      "\n",
      "USER_NAME: abcdefghijklmnopqrstuvwxyzab0, FOLLOWER: 455, FOLLOWING: 1105\n",
      "\u001b[31m\n",
      "media_count < bot.min_media_count_to_follow, BOT or INACTIVE, skipping!\u001b[0m\n",
      "\u001b[;1m\u001b[32mAdding '48731339334' to `c:\\Users\\Bharat Anand\\Downloads\\projects_repo\\passion_projects\\Creating-insta-bot/config/skipped.txt`.\u001b[0m\u001b[0m\n",
      "New following : 88\n"
     ]
    },
    {
     "name": "stderr",
     "output_type": "stream",
     "text": [
      "2022-01-31 19:57:04,682 - INFO - Out of follows for today.\n",
      "2022-01-31 19:57:04,683 - INFO - Going to follow `user_id` 47716682588.\n"
     ]
    },
    {
     "name": "stdout",
     "output_type": "stream",
     "text": [
      "\n",
      "USER_NAME: kamall.panditt, FOLLOWER: 2921, FOLLOWING: 640\n",
      "New following : 88\n"
     ]
    },
    {
     "name": "stderr",
     "output_type": "stream",
     "text": [
      "2022-01-31 19:57:08,993 - INFO - Going to follow `user_id` 2118870123.\n"
     ]
    },
    {
     "name": "stdout",
     "output_type": "stream",
     "text": [
      "\n",
      "USER_NAME: am_adult_00, FOLLOWER: 938, FOLLOWING: 3654\n",
      "\u001b[31m\n",
      "following_count > bot.max_following_to_follow, skipping!\u001b[0m\n",
      "\u001b[;1m\u001b[32mAdding '47716682588' to `c:\\Users\\Bharat Anand\\Downloads\\projects_repo\\passion_projects\\Creating-insta-bot/config/skipped.txt`.\u001b[0m\u001b[0m\n",
      "New following : 88\n"
     ]
    },
    {
     "name": "stderr",
     "output_type": "stream",
     "text": [
      "2022-01-31 19:57:11,430 - INFO - Going to follow `user_id` 16431514598.\n"
     ]
    },
    {
     "name": "stdout",
     "output_type": "stream",
     "text": [
      "\n",
      "USER_NAME: ____ridhaannnnn, FOLLOWER: 9992, FOLLOWING: 1650\n",
      "\u001b[31m\n",
      "follower_count > bot.max_followers_to_follow, skipping!\u001b[0m\n",
      "\u001b[;1m\u001b[32mAdding '2118870123' to `c:\\Users\\Bharat Anand\\Downloads\\projects_repo\\passion_projects\\Creating-insta-bot/config/skipped.txt`.\u001b[0m\u001b[0m\n",
      "New following : 88\n"
     ]
    },
    {
     "name": "stderr",
     "output_type": "stream",
     "text": [
      "2022-01-31 19:57:13,549 - INFO - Going to follow `user_id` 45533937527.\n"
     ]
    },
    {
     "name": "stdout",
     "output_type": "stream",
     "text": [
      "\n",
      "USER_NAME: gurpreet_.kaur__, FOLLOWER: 426, FOLLOWING: 184\n",
      "\u001b[31m\n",
      "info: account is PRIVATE, skipping! \u001b[0m\n",
      "\u001b[;1m\u001b[32mAdding '16431514598' to `c:\\Users\\Bharat Anand\\Downloads\\projects_repo\\passion_projects\\Creating-insta-bot/config/skipped.txt`.\u001b[0m\u001b[0m\n",
      "New following : 88\n"
     ]
    },
    {
     "name": "stderr",
     "output_type": "stream",
     "text": [
      "2022-01-31 19:57:16,470 - INFO - Going to follow `user_id` 48288590127.\n"
     ]
    },
    {
     "name": "stdout",
     "output_type": "stream",
     "text": [
      "\n",
      "USER_NAME: bc_haslee, FOLLOWER: 1220, FOLLOWING: 196\n",
      "\u001b[31m\n",
      "info: account is PRIVATE, skipping! \u001b[0m\n",
      "\u001b[;1m\u001b[32mAdding '45533937527' to `c:\\Users\\Bharat Anand\\Downloads\\projects_repo\\passion_projects\\Creating-insta-bot/config/skipped.txt`.\u001b[0m\u001b[0m\n",
      "New following : 88\n"
     ]
    },
    {
     "name": "stderr",
     "output_type": "stream",
     "text": [
      "2022-01-31 19:57:19,169 - INFO - Going to follow `user_id` 9071341111.\n"
     ]
    },
    {
     "name": "stdout",
     "output_type": "stream",
     "text": [
      "\n",
      "USER_NAME: cute_subha_sahoo, FOLLOWER: 933, FOLLOWING: 1091\n",
      "\u001b[31m\n",
      "media_count < bot.min_media_count_to_follow, BOT or INACTIVE, skipping!\u001b[0m\n",
      "\u001b[;1m\u001b[32mAdding '48288590127' to `c:\\Users\\Bharat Anand\\Downloads\\projects_repo\\passion_projects\\Creating-insta-bot/config/skipped.txt`.\u001b[0m\u001b[0m\n",
      "New following : 88\n"
     ]
    },
    {
     "name": "stderr",
     "output_type": "stream",
     "text": [
      "2022-01-31 19:57:20,662 - INFO - Out of follows for today.\n",
      "2022-01-31 19:57:20,663 - INFO - Going to follow `user_id` 32927276769.\n"
     ]
    },
    {
     "name": "stdout",
     "output_type": "stream",
     "text": [
      "\n",
      "USER_NAME: gareebb_official, FOLLOWER: 579, FOLLOWING: 1368\n",
      "New following : 88\n"
     ]
    },
    {
     "name": "stderr",
     "output_type": "stream",
     "text": [
      "2022-01-31 19:57:22,945 - INFO - Going to follow `user_id` 41619821101.\n"
     ]
    },
    {
     "name": "stdout",
     "output_type": "stream",
     "text": [
      "\n",
      "USER_NAME: browse__my_memes, FOLLOWER: 2807, FOLLOWING: 6833\n",
      "\u001b[31m\n",
      "following_count > bot.max_following_to_follow, skipping!\u001b[0m\n",
      "\u001b[;1m\u001b[32mAdding '32927276769' to `c:\\Users\\Bharat Anand\\Downloads\\projects_repo\\passion_projects\\Creating-insta-bot/config/skipped.txt`.\u001b[0m\u001b[0m\n",
      "New following : 88\n"
     ]
    },
    {
     "name": "stderr",
     "output_type": "stream",
     "text": [
      "2022-01-31 19:57:26,458 - INFO - Out of follows for today.\n",
      "2022-01-31 19:57:26,459 - INFO - Going to follow `user_id` 5455975142.\n"
     ]
    },
    {
     "name": "stdout",
     "output_type": "stream",
     "text": [
      "\n",
      "USER_NAME: couplelove_goals._, FOLLOWER: 860, FOLLOWING: 939\n",
      "New following : 88\n"
     ]
    },
    {
     "name": "stderr",
     "output_type": "stream",
     "text": [
      "2022-01-31 19:57:27,965 - INFO - Going to follow `user_id` 48292692896.\n"
     ]
    },
    {
     "name": "stdout",
     "output_type": "stream",
     "text": [
      "\n",
      "USER_NAME: adarshshukla_2000, FOLLOWER: 1206, FOLLOWING: 6891\n",
      "\u001b[31m\n",
      "following_count > bot.max_following_to_follow, skipping!\u001b[0m\n",
      "\u001b[;1m\u001b[32mAdding '5455975142' to `c:\\Users\\Bharat Anand\\Downloads\\projects_repo\\passion_projects\\Creating-insta-bot/config/skipped.txt`.\u001b[0m\u001b[0m\n",
      "New following : 88\n"
     ]
    },
    {
     "name": "stderr",
     "output_type": "stream",
     "text": [
      "2022-01-31 19:57:30,074 - INFO - Going to follow `user_id` 26662539999.\n"
     ]
    },
    {
     "name": "stdout",
     "output_type": "stream",
     "text": [
      "\n",
      "USER_NAME: shivangi__0022, FOLLOWER: 52, FOLLOWING: 20\n",
      "\u001b[31m\n",
      "info: account is PRIVATE, skipping! \u001b[0m\n",
      "\u001b[;1m\u001b[32mAdding '48292692896' to `c:\\Users\\Bharat Anand\\Downloads\\projects_repo\\passion_projects\\Creating-insta-bot/config/skipped.txt`.\u001b[0m\u001b[0m\n",
      "New following : 88\n"
     ]
    },
    {
     "name": "stderr",
     "output_type": "stream",
     "text": [
      "2022-01-31 19:57:34,435 - INFO - Going to follow `user_id` 38235721082.\n"
     ]
    },
    {
     "name": "stdout",
     "output_type": "stream",
     "text": [
      "\n",
      "USER_NAME: himu520, FOLLOWER: 154, FOLLOWING: 147\n",
      "\u001b[31m\n",
      "info: account is PRIVATE, skipping! \u001b[0m\n",
      "\u001b[;1m\u001b[32mAdding '26662539999' to `c:\\Users\\Bharat Anand\\Downloads\\projects_repo\\passion_projects\\Creating-insta-bot/config/skipped.txt`.\u001b[0m\u001b[0m\n",
      "New following : 88\n"
     ]
    },
    {
     "name": "stderr",
     "output_type": "stream",
     "text": [
      "2022-01-31 19:57:37,499 - INFO - Out of follows for today.\n",
      "2022-01-31 19:57:37,502 - INFO - Going to follow `user_id` 44960662947.\n"
     ]
    },
    {
     "name": "stdout",
     "output_type": "stream",
     "text": [
      "\n",
      "USER_NAME: thoko_mc, FOLLOWER: 4869, FOLLOWING: 604\n",
      "New following : 88\n"
     ]
    },
    {
     "name": "stderr",
     "output_type": "stream",
     "text": [
      "2022-01-31 19:57:41,848 - INFO - Going to follow `user_id` 45270415479.\n"
     ]
    },
    {
     "name": "stdout",
     "output_type": "stream",
     "text": [
      "\n",
      "USER_NAME: memeistannnn, FOLLOWER: 2217, FOLLOWING: 2889\n",
      "\u001b[31m\n",
      "following_count > bot.max_following_to_follow, skipping!\u001b[0m\n",
      "\u001b[;1m\u001b[32mAdding '44960662947' to `c:\\Users\\Bharat Anand\\Downloads\\projects_repo\\passion_projects\\Creating-insta-bot/config/skipped.txt`.\u001b[0m\u001b[0m\n",
      "New following : 88\n"
     ]
    },
    {
     "name": "stderr",
     "output_type": "stream",
     "text": [
      "2022-01-31 19:57:45,524 - INFO - Out of follows for today.\n",
      "2022-01-31 19:57:45,527 - INFO - Going to follow `user_id` 47837546829.\n"
     ]
    },
    {
     "name": "stdout",
     "output_type": "stream",
     "text": [
      "\n",
      "USER_NAME: tweetagasm, FOLLOWER: 378, FOLLOWING: 267\n",
      "New following : 88\n"
     ]
    },
    {
     "name": "stderr",
     "output_type": "stream",
     "text": [
      "2022-01-31 19:57:49,282 - INFO - Out of follows for today.\n",
      "2022-01-31 19:57:49,284 - INFO - Going to follow `user_id` 46963325890.\n"
     ]
    },
    {
     "name": "stdout",
     "output_type": "stream",
     "text": [
      "\n",
      "USER_NAME: writart_sil, FOLLOWER: 732, FOLLOWING: 525\n",
      "New following : 88\n"
     ]
    },
    {
     "name": "stderr",
     "output_type": "stream",
     "text": [
      "2022-01-31 19:57:52,858 - INFO - Going to follow `user_id` 4316059806.\n"
     ]
    },
    {
     "name": "stdout",
     "output_type": "stream",
     "text": [
      "\n",
      "USER_NAME: 18plus_memes_legendary, FOLLOWER: 2127, FOLLOWING: 7217\n",
      "\u001b[31m\n",
      "following_count > bot.max_following_to_follow, skipping!\u001b[0m\n",
      "\u001b[;1m\u001b[32mAdding '46963325890' to `c:\\Users\\Bharat Anand\\Downloads\\projects_repo\\passion_projects\\Creating-insta-bot/config/skipped.txt`.\u001b[0m\u001b[0m\n",
      "New following : 88\n"
     ]
    },
    {
     "name": "stderr",
     "output_type": "stream",
     "text": [
      "2022-01-31 19:57:56,892 - INFO - Going to follow `user_id` 37117791918.\n"
     ]
    },
    {
     "name": "stdout",
     "output_type": "stream",
     "text": [
      "\n",
      "USER_NAME: rahulmania.2007, FOLLOWER: 2597, FOLLOWING: 4186\n",
      "\u001b[31m\n",
      "following_count > bot.max_following_to_follow, skipping!\u001b[0m\n",
      "\u001b[;1m\u001b[32mAdding '4316059806' to `c:\\Users\\Bharat Anand\\Downloads\\projects_repo\\passion_projects\\Creating-insta-bot/config/skipped.txt`.\u001b[0m\u001b[0m\n",
      "New following : 88\n"
     ]
    },
    {
     "name": "stderr",
     "output_type": "stream",
     "text": [
      "2022-01-31 19:58:00,897 - INFO - Going to follow `user_id` 7480040547.\n"
     ]
    },
    {
     "name": "stdout",
     "output_type": "stream",
     "text": [
      "\n",
      "USER_NAME: stay_memer_stay_safe, FOLLOWER: 4424, FOLLOWING: 2455\n",
      "\u001b[31m\n",
      "following_count > bot.max_following_to_follow, skipping!\u001b[0m\n",
      "\u001b[;1m\u001b[32mAdding '37117791918' to `c:\\Users\\Bharat Anand\\Downloads\\projects_repo\\passion_projects\\Creating-insta-bot/config/skipped.txt`.\u001b[0m\u001b[0m\n",
      "New following : 88\n"
     ]
    },
    {
     "name": "stderr",
     "output_type": "stream",
     "text": [
      "2022-01-31 19:58:04,803 - INFO - Going to follow `user_id` 40428874951.\n"
     ]
    },
    {
     "name": "stdout",
     "output_type": "stream",
     "text": [
      "\n",
      "USER_NAME: memebylokesh, FOLLOWER: 3458, FOLLOWING: 2837\n",
      "\u001b[31m\n",
      "following_count > bot.max_following_to_follow, skipping!\u001b[0m\n",
      "\u001b[;1m\u001b[32mAdding '7480040547' to `c:\\Users\\Bharat Anand\\Downloads\\projects_repo\\passion_projects\\Creating-insta-bot/config/skipped.txt`.\u001b[0m\u001b[0m\n",
      "New following : 88\n"
     ]
    },
    {
     "name": "stderr",
     "output_type": "stream",
     "text": [
      "2022-01-31 19:58:08,046 - INFO - Going to follow `user_id` 34647923059.\n"
     ]
    },
    {
     "name": "stdout",
     "output_type": "stream",
     "text": [
      "\n",
      "USER_NAME: _mr_.memer._, FOLLOWER: 2401, FOLLOWING: 3223\n",
      "\u001b[31m\n",
      "following_count > bot.max_following_to_follow, skipping!\u001b[0m\n",
      "\u001b[;1m\u001b[32mAdding '40428874951' to `c:\\Users\\Bharat Anand\\Downloads\\projects_repo\\passion_projects\\Creating-insta-bot/config/skipped.txt`.\u001b[0m\u001b[0m\n",
      "New following : 88\n"
     ]
    },
    {
     "name": "stderr",
     "output_type": "stream",
     "text": [
      "2022-01-31 19:58:12,672 - INFO - Going to follow `user_id` 49011266668.\n"
     ]
    },
    {
     "name": "stdout",
     "output_type": "stream",
     "text": [
      "\n",
      "USER_NAME: bezubaan.quotess, FOLLOWER: 5556, FOLLOWING: 1927\n",
      "\u001b[31m\n",
      "follower_count > bot.max_followers_to_follow, skipping!\u001b[0m\n",
      "\u001b[;1m\u001b[32mAdding '34647923059' to `c:\\Users\\Bharat Anand\\Downloads\\projects_repo\\passion_projects\\Creating-insta-bot/config/skipped.txt`.\u001b[0m\u001b[0m\n",
      "New following : 88\n"
     ]
    },
    {
     "name": "stderr",
     "output_type": "stream",
     "text": [
      "2022-01-31 19:58:14,863 - INFO - Going to follow `user_id` 25244215230.\n"
     ]
    },
    {
     "name": "stdout",
     "output_type": "stream",
     "text": [
      "\n",
      "USER_NAME: xx._.khushi, FOLLOWER: 115, FOLLOWING: 146\n",
      "\u001b[31m\n",
      "info: account is PRIVATE, skipping! \u001b[0m\n",
      "\u001b[;1m\u001b[32mAdding '49011266668' to `c:\\Users\\Bharat Anand\\Downloads\\projects_repo\\passion_projects\\Creating-insta-bot/config/skipped.txt`.\u001b[0m\u001b[0m\n",
      "New following : 88\n"
     ]
    },
    {
     "name": "stderr",
     "output_type": "stream",
     "text": [
      "2022-01-31 19:58:18,557 - INFO - Going to follow `user_id` 41118381570.\n"
     ]
    },
    {
     "name": "stdout",
     "output_type": "stream",
     "text": [
      "\n",
      "USER_NAME: kinaya408, FOLLOWER: 507, FOLLOWING: 5046\n",
      "\u001b[31m\n",
      "following_count > bot.max_following_to_follow, skipping!\u001b[0m\n",
      "\u001b[;1m\u001b[32mAdding '25244215230' to `c:\\Users\\Bharat Anand\\Downloads\\projects_repo\\passion_projects\\Creating-insta-bot/config/skipped.txt`.\u001b[0m\u001b[0m\n",
      "New following : 88\n"
     ]
    },
    {
     "name": "stderr",
     "output_type": "stream",
     "text": [
      "2022-01-31 19:58:23,200 - INFO - Going to follow `user_id` 47640990449.\n"
     ]
    },
    {
     "name": "stdout",
     "output_type": "stream",
     "text": [
      "\n",
      "USER_NAME: amritagill203, FOLLOWER: 166, FOLLOWING: 137\n",
      "\u001b[31m\n",
      "info: account is PRIVATE, skipping! \u001b[0m\n",
      "\u001b[;1m\u001b[32mAdding '41118381570' to `c:\\Users\\Bharat Anand\\Downloads\\projects_repo\\passion_projects\\Creating-insta-bot/config/skipped.txt`.\u001b[0m\u001b[0m\n",
      "New following : 88\n"
     ]
    },
    {
     "name": "stderr",
     "output_type": "stream",
     "text": [
      "2022-01-31 19:58:25,537 - INFO - Out of follows for today.\n",
      "2022-01-31 19:58:25,538 - INFO - Going to follow `user_id` 7499126795.\n"
     ]
    },
    {
     "name": "stdout",
     "output_type": "stream",
     "text": [
      "\n",
      "USER_NAME: aagya_kariladka, FOLLOWER: 1054, FOLLOWING: 848\n",
      "New following : 88\n"
     ]
    },
    {
     "name": "stderr",
     "output_type": "stream",
     "text": [
      "2022-01-31 19:58:28,887 - INFO - Out of follows for today.\n",
      "2022-01-31 19:58:28,891 - INFO - Going to follow `user_id` 11186580732.\n"
     ]
    },
    {
     "name": "stdout",
     "output_type": "stream",
     "text": [
      "\n",
      "USER_NAME: abhiishek_wriites, FOLLOWER: 2904, FOLLOWING: 208\n",
      "New following : 88\n"
     ]
    },
    {
     "name": "stderr",
     "output_type": "stream",
     "text": [
      "2022-01-31 19:58:32,316 - INFO - Going to follow `user_id` 44808802573.\n"
     ]
    },
    {
     "name": "stdout",
     "output_type": "stream",
     "text": [
      "\n",
      "USER_NAME: __tania__16, FOLLOWER: 219, FOLLOWING: 792\n",
      "\u001b[31m\n",
      "info: account is PRIVATE, skipping! \u001b[0m\n",
      "\u001b[;1m\u001b[32mAdding '11186580732' to `c:\\Users\\Bharat Anand\\Downloads\\projects_repo\\passion_projects\\Creating-insta-bot/config/skipped.txt`.\u001b[0m\u001b[0m\n",
      "New following : 88\n"
     ]
    },
    {
     "name": "stderr",
     "output_type": "stream",
     "text": [
      "2022-01-31 19:58:35,574 - INFO - Out of follows for today.\n",
      "2022-01-31 19:58:35,578 - INFO - Going to follow `user_id` 46771197015.\n"
     ]
    },
    {
     "name": "stdout",
     "output_type": "stream",
     "text": [
      "\n",
      "USER_NAME: sassyytweet, FOLLOWER: 1351, FOLLOWING: 630\n",
      "New following : 88\n"
     ]
    },
    {
     "name": "stderr",
     "output_type": "stream",
     "text": [
      "2022-01-31 19:58:37,638 - INFO - Going to follow `user_id` 45496713190.\n"
     ]
    },
    {
     "name": "stdout",
     "output_type": "stream",
     "text": [
      "\n",
      "USER_NAME: wtfxabhi, FOLLOWER: 1127, FOLLOWING: 864\n",
      "\u001b[31m\n",
      "`bot.search_stop_words_in_user` found in user, skipping!\u001b[0m\n",
      "\u001b[;1m\u001b[32mAdding '46771197015' to `c:\\Users\\Bharat Anand\\Downloads\\projects_repo\\passion_projects\\Creating-insta-bot/config/skipped.txt`.\u001b[0m\u001b[0m\n",
      "New following : 88\n"
     ]
    },
    {
     "name": "stderr",
     "output_type": "stream",
     "text": [
      "2022-01-31 19:58:39,566 - INFO - Out of follows for today.\n",
      "2022-01-31 19:58:39,568 - INFO - Going to follow `user_id` 5797758684.\n"
     ]
    },
    {
     "name": "stdout",
     "output_type": "stream",
     "text": [
      "\n",
      "USER_NAME: statusbloggers, FOLLOWER: 1445, FOLLOWING: 1418\n",
      "New following : 88\n"
     ]
    },
    {
     "name": "stderr",
     "output_type": "stream",
     "text": [
      "2022-01-31 19:58:41,429 - INFO - Going to follow `user_id` 48974939098.\n"
     ]
    },
    {
     "name": "stdout",
     "output_type": "stream",
     "text": [
      "\n",
      "USER_NAME: faadi107, FOLLOWER: 0, FOLLOWING: 11\n",
      "\u001b[31m\n",
      "info: account is PRIVATE, skipping! \u001b[0m\n",
      "\u001b[;1m\u001b[32mAdding '5797758684' to `c:\\Users\\Bharat Anand\\Downloads\\projects_repo\\passion_projects\\Creating-insta-bot/config/skipped.txt`.\u001b[0m\u001b[0m\n",
      "New following : 88\n"
     ]
    },
    {
     "name": "stderr",
     "output_type": "stream",
     "text": [
      "2022-01-31 19:58:45,495 - INFO - Out of follows for today.\n",
      "2022-01-31 19:58:45,496 - INFO - Going to follow `user_id` 34983238995.\n"
     ]
    },
    {
     "name": "stdout",
     "output_type": "stream",
     "text": [
      "\n",
      "USER_NAME: sarcastic_.balak01, FOLLOWER: 469, FOLLOWING: 1353\n",
      "New following : 88\n"
     ]
    },
    {
     "name": "stderr",
     "output_type": "stream",
     "text": [
      "2022-01-31 19:58:49,483 - INFO - Going to follow `user_id` 47926220175.\n"
     ]
    },
    {
     "name": "stdout",
     "output_type": "stream",
     "text": [
      "\n",
      "USER_NAME: memer_arushi, FOLLOWER: 3735, FOLLOWING: 2188\n",
      "\u001b[31m\n",
      "following_count > bot.max_following_to_follow, skipping!\u001b[0m\n",
      "\u001b[;1m\u001b[32mAdding '34983238995' to `c:\\Users\\Bharat Anand\\Downloads\\projects_repo\\passion_projects\\Creating-insta-bot/config/skipped.txt`.\u001b[0m\u001b[0m\n",
      "New following : 88\n"
     ]
    },
    {
     "name": "stderr",
     "output_type": "stream",
     "text": [
      "2022-01-31 19:58:52,277 - INFO - Out of follows for today.\n",
      "2022-01-31 19:58:52,278 - INFO - Going to follow `user_id` 26069773586.\n"
     ]
    },
    {
     "name": "stdout",
     "output_type": "stream",
     "text": [
      "\n",
      "USER_NAME: losttalks_, FOLLOWER: 200, FOLLOWING: 193\n",
      "New following : 88\n"
     ]
    },
    {
     "name": "stderr",
     "output_type": "stream",
     "text": [
      "2022-01-31 19:58:55,244 - INFO - Going to follow `user_id` 39071416793.\n"
     ]
    },
    {
     "name": "stdout",
     "output_type": "stream",
     "text": [
      "\n",
      "USER_NAME: sakht_launda_195, FOLLOWER: 4013, FOLLOWING: 2483\n",
      "\u001b[31m\n",
      "following_count > bot.max_following_to_follow, skipping!\u001b[0m\n",
      "\u001b[;1m\u001b[32mAdding '26069773586' to `c:\\Users\\Bharat Anand\\Downloads\\projects_repo\\passion_projects\\Creating-insta-bot/config/skipped.txt`.\u001b[0m\u001b[0m\n",
      "New following : 88\n"
     ]
    },
    {
     "name": "stderr",
     "output_type": "stream",
     "text": [
      "2022-01-31 19:58:58,127 - INFO - Going to follow `user_id` 49002675227.\n"
     ]
    },
    {
     "name": "stdout",
     "output_type": "stream",
     "text": [
      "\n",
      "USER_NAME: zeus.education, FOLLOWER: 628, FOLLOWING: 7403\n",
      "\u001b[31m\n",
      "following_count > bot.max_following_to_follow, skipping!\u001b[0m\n",
      "\u001b[;1m\u001b[32mAdding '39071416793' to `c:\\Users\\Bharat Anand\\Downloads\\projects_repo\\passion_projects\\Creating-insta-bot/config/skipped.txt`.\u001b[0m\u001b[0m\n",
      "New following : 88\n"
     ]
    },
    {
     "name": "stderr",
     "output_type": "stream",
     "text": [
      "2022-01-31 19:59:02,331 - INFO - Going to follow `user_id` 16651365293.\n"
     ]
    },
    {
     "name": "stdout",
     "output_type": "stream",
     "text": [
      "\n",
      "USER_NAME: memer_ladka00, FOLLOWER: 2927, FOLLOWING: 5469\n",
      "\u001b[31m\n",
      "following_count > bot.max_following_to_follow, skipping!\u001b[0m\n",
      "\u001b[;1m\u001b[32mAdding '49002675227' to `c:\\Users\\Bharat Anand\\Downloads\\projects_repo\\passion_projects\\Creating-insta-bot/config/skipped.txt`.\u001b[0m\u001b[0m\n",
      "New following : 88\n"
     ]
    },
    {
     "name": "stderr",
     "output_type": "stream",
     "text": [
      "2022-01-31 19:59:04,756 - INFO - Going to follow `user_id` 22176483528.\n"
     ]
    },
    {
     "name": "stdout",
     "output_type": "stream",
     "text": [
      "\n",
      "USER_NAME: fact_minia, FOLLOWER: 9549, FOLLOWING: 3404\n",
      "\u001b[31m\n",
      "follower_count > bot.max_followers_to_follow, skipping!\u001b[0m\n",
      "\u001b[;1m\u001b[32mAdding '16651365293' to `c:\\Users\\Bharat Anand\\Downloads\\projects_repo\\passion_projects\\Creating-insta-bot/config/skipped.txt`.\u001b[0m\u001b[0m\n",
      "New following : 88\n"
     ]
    },
    {
     "name": "stderr",
     "output_type": "stream",
     "text": [
      "2022-01-31 19:59:08,763 - INFO - Going to follow `user_id` 45725642267.\n"
     ]
    },
    {
     "name": "stdout",
     "output_type": "stream",
     "text": [
      "\n",
      "USER_NAME: rohinipadvi.3, FOLLOWER: 1373, FOLLOWING: 341\n",
      "\u001b[31m\n",
      "media_count < bot.min_media_count_to_follow, BOT or INACTIVE, skipping!\u001b[0m\n",
      "\u001b[;1m\u001b[32mAdding '22176483528' to `c:\\Users\\Bharat Anand\\Downloads\\projects_repo\\passion_projects\\Creating-insta-bot/config/skipped.txt`.\u001b[0m\u001b[0m\n",
      "New following : 88\n"
     ]
    },
    {
     "name": "stderr",
     "output_type": "stream",
     "text": [
      "2022-01-31 19:59:12,399 - INFO - Going to follow `user_id` 44822160673.\n"
     ]
    },
    {
     "name": "stdout",
     "output_type": "stream",
     "text": [
      "\n",
      "USER_NAME: btwitsdannu, FOLLOWER: 2747, FOLLOWING: 2811\n",
      "\u001b[31m\n",
      "following_count > bot.max_following_to_follow, skipping!\u001b[0m\n",
      "\u001b[;1m\u001b[32mAdding '45725642267' to `c:\\Users\\Bharat Anand\\Downloads\\projects_repo\\passion_projects\\Creating-insta-bot/config/skipped.txt`.\u001b[0m\u001b[0m\n",
      "New following : 88\n"
     ]
    },
    {
     "name": "stderr",
     "output_type": "stream",
     "text": [
      "2022-01-31 19:59:14,028 - INFO - Going to follow `user_id` 48287563579.\n"
     ]
    },
    {
     "name": "stdout",
     "output_type": "stream",
     "text": [
      "\n",
      "USER_NAME: 69_point_, FOLLOWER: 2785, FOLLOWING: 3425\n",
      "\u001b[31m\n",
      "following_count > bot.max_following_to_follow, skipping!\u001b[0m\n",
      "\u001b[;1m\u001b[32mAdding '44822160673' to `c:\\Users\\Bharat Anand\\Downloads\\projects_repo\\passion_projects\\Creating-insta-bot/config/skipped.txt`.\u001b[0m\u001b[0m\n",
      "New following : 88\n"
     ]
    },
    {
     "name": "stderr",
     "output_type": "stream",
     "text": [
      "2022-01-31 19:59:17,029 - INFO - Out of follows for today.\n",
      "2022-01-31 19:59:17,032 - INFO - Going to follow `user_id` 48061870741.\n"
     ]
    },
    {
     "name": "stdout",
     "output_type": "stream",
     "text": [
      "\n",
      "USER_NAME: pn09_quotes, FOLLOWER: 314, FOLLOWING: 1048\n",
      "New following : 88\n"
     ]
    },
    {
     "name": "stderr",
     "output_type": "stream",
     "text": [
      "2022-01-31 19:59:21,613 - INFO - Going to follow `user_id` 38594233659.\n"
     ]
    },
    {
     "name": "stdout",
     "output_type": "stream",
     "text": [
      "\n",
      "USER_NAME: sharmaa_utkarsh4, FOLLOWER: 47, FOLLOWING: 182\n",
      "\u001b[31m\n",
      "media_count < bot.min_media_count_to_follow, BOT or INACTIVE, skipping!\u001b[0m\n",
      "\u001b[;1m\u001b[32mAdding '48061870741' to `c:\\Users\\Bharat Anand\\Downloads\\projects_repo\\passion_projects\\Creating-insta-bot/config/skipped.txt`.\u001b[0m\u001b[0m\n",
      "New following : 88\n"
     ]
    },
    {
     "name": "stderr",
     "output_type": "stream",
     "text": [
      "2022-01-31 19:59:24,626 - INFO - Out of follows for today.\n",
      "2022-01-31 19:59:24,627 - INFO - Going to follow `user_id` 42313111970.\n"
     ]
    },
    {
     "name": "stdout",
     "output_type": "stream",
     "text": [
      "\n",
      "USER_NAME: __bestmusicsin, FOLLOWER: 690, FOLLOWING: 963\n",
      "New following : 88\n"
     ]
    },
    {
     "name": "stderr",
     "output_type": "stream",
     "text": [
      "2022-01-31 19:59:28,634 - INFO - Going to follow `user_id` 47637166244.\n"
     ]
    },
    {
     "name": "stdout",
     "output_type": "stream",
     "text": [
      "\n",
      "USER_NAME: _aditi_surya_, FOLLOWER: 2330, FOLLOWING: 2080\n",
      "\u001b[31m\n",
      "following_count > bot.max_following_to_follow, skipping!\u001b[0m\n",
      "\u001b[;1m\u001b[32mAdding '42313111970' to `c:\\Users\\Bharat Anand\\Downloads\\projects_repo\\passion_projects\\Creating-insta-bot/config/skipped.txt`.\u001b[0m\u001b[0m\n",
      "New following : 88\n"
     ]
    },
    {
     "name": "stderr",
     "output_type": "stream",
     "text": [
      "2022-01-31 19:59:33,672 - INFO - Going to follow `user_id` 8503551817.\n"
     ]
    },
    {
     "name": "stdout",
     "output_type": "stream",
     "text": [
      "\n",
      "USER_NAME: oye_rishi___, FOLLOWER: 101, FOLLOWING: 51\n",
      "\u001b[31m\n",
      "media_count < bot.min_media_count_to_follow, BOT or INACTIVE, skipping!\u001b[0m\n",
      "\u001b[;1m\u001b[32mAdding '47637166244' to `c:\\Users\\Bharat Anand\\Downloads\\projects_repo\\passion_projects\\Creating-insta-bot/config/skipped.txt`.\u001b[0m\u001b[0m\n",
      "New following : 88\n"
     ]
    },
    {
     "name": "stderr",
     "output_type": "stream",
     "text": [
      "2022-01-31 19:59:35,870 - INFO - Going to follow `user_id` 47711779354.\n"
     ]
    },
    {
     "name": "stdout",
     "output_type": "stream",
     "text": [
      "\n",
      "USER_NAME: rathaudhirendra, FOLLOWER: 104, FOLLOWING: 263\n",
      "\u001b[31m\n",
      "info: account is PRIVATE, skipping! \u001b[0m\n",
      "\u001b[;1m\u001b[32mAdding '8503551817' to `c:\\Users\\Bharat Anand\\Downloads\\projects_repo\\passion_projects\\Creating-insta-bot/config/skipped.txt`.\u001b[0m\u001b[0m\n",
      "New following : 88\n"
     ]
    },
    {
     "name": "stderr",
     "output_type": "stream",
     "text": [
      "2022-01-31 19:59:38,956 - INFO - Going to follow `user_id` 45678840751.\n"
     ]
    },
    {
     "name": "stdout",
     "output_type": "stream",
     "text": [
      "\n",
      "USER_NAME: iamlover961, FOLLOWER: 2247, FOLLOWING: 3749\n",
      "\u001b[31m\n",
      "following_count > bot.max_following_to_follow, skipping!\u001b[0m\n",
      "\u001b[;1m\u001b[32mAdding '47711779354' to `c:\\Users\\Bharat Anand\\Downloads\\projects_repo\\passion_projects\\Creating-insta-bot/config/skipped.txt`.\u001b[0m\u001b[0m\n",
      "New following : 88\n"
     ]
    },
    {
     "name": "stderr",
     "output_type": "stream",
     "text": [
      "2022-01-31 19:59:42,865 - INFO - Out of follows for today.\n",
      "2022-01-31 19:59:42,868 - INFO - Going to follow `user_id` 48729331556.\n"
     ]
    },
    {
     "name": "stdout",
     "output_type": "stream",
     "text": [
      "\n",
      "USER_NAME: c.a_babu_meme, FOLLOWER: 458, FOLLOWING: 514\n",
      "New following : 88\n"
     ]
    },
    {
     "name": "stderr",
     "output_type": "stream",
     "text": [
      "2022-01-31 19:59:46,317 - INFO - Out of follows for today.\n",
      "2022-01-31 19:59:46,320 - INFO - Going to follow `user_id` 24961052048.\n"
     ]
    },
    {
     "name": "stdout",
     "output_type": "stream",
     "text": [
      "\n",
      "USER_NAME: _x_stupid_me_x_, FOLLOWER: 802, FOLLOWING: 262\n",
      "New following : 88\n"
     ]
    },
    {
     "name": "stderr",
     "output_type": "stream",
     "text": [
      "2022-01-31 19:59:50,625 - INFO - Out of follows for today.\n",
      "2022-01-31 19:59:50,626 - INFO - Going to follow `user_id` 48587147409.\n"
     ]
    },
    {
     "name": "stdout",
     "output_type": "stream",
     "text": [
      "\n",
      "USER_NAME: johnnyontest_, FOLLOWER: 1350, FOLLOWING: 626\n",
      "New following : 88\n"
     ]
    },
    {
     "name": "stderr",
     "output_type": "stream",
     "text": [
      "2022-01-31 19:59:53,936 - INFO - Out of follows for today.\n",
      "2022-01-31 19:59:53,937 - INFO - Going to follow `user_id` 46898258402.\n"
     ]
    },
    {
     "name": "stdout",
     "output_type": "stream",
     "text": [
      "\n",
      "USER_NAME: memes._.king___, FOLLOWER: 256, FOLLOWING: 135\n",
      "New following : 88\n"
     ]
    },
    {
     "name": "stderr",
     "output_type": "stream",
     "text": [
      "2022-01-31 19:59:55,630 - INFO - Going to follow `user_id` 21279054124.\n"
     ]
    },
    {
     "name": "stdout",
     "output_type": "stream",
     "text": [
      "\n",
      "USER_NAME: writes_by_milky, FOLLOWER: 239, FOLLOWING: 549\n",
      "\u001b[31m\n",
      "info: account is PRIVATE, skipping! \u001b[0m\n",
      "\u001b[;1m\u001b[32mAdding '46898258402' to `c:\\Users\\Bharat Anand\\Downloads\\projects_repo\\passion_projects\\Creating-insta-bot/config/skipped.txt`.\u001b[0m\u001b[0m\n",
      "New following : 88\n"
     ]
    },
    {
     "name": "stderr",
     "output_type": "stream",
     "text": [
      "2022-01-31 19:59:59,628 - INFO - Out of follows for today.\n",
      "2022-01-31 19:59:59,629 - INFO - Going to follow `user_id` 49354800137.\n"
     ]
    },
    {
     "name": "stdout",
     "output_type": "stream",
     "text": [
      "\n",
      "USER_NAME: _.the_nomadic_writer._, FOLLOWER: 1569, FOLLOWING: 745\n",
      "New following : 88\n"
     ]
    },
    {
     "name": "stderr",
     "output_type": "stream",
     "text": [
      "2022-01-31 20:00:02,844 - INFO - Out of follows for today.\n",
      "2022-01-31 20:00:02,847 - INFO - Going to follow `user_id` 32286968007.\n"
     ]
    },
    {
     "name": "stdout",
     "output_type": "stream",
     "text": [
      "\n",
      "USER_NAME: tastewithajit, FOLLOWER: 463, FOLLOWING: 563\n",
      "New following : 88\n"
     ]
    },
    {
     "name": "stderr",
     "output_type": "stream",
     "text": [
      "2022-01-31 20:00:05,942 - INFO - Out of follows for today.\n",
      "2022-01-31 20:00:05,943 - INFO - Going to follow `user_id` 37100178474.\n"
     ]
    },
    {
     "name": "stdout",
     "output_type": "stream",
     "text": [
      "\n",
      "USER_NAME: bakchod_raahi, FOLLOWER: 2703, FOLLOWING: 1576\n",
      "New following : 88\n"
     ]
    },
    {
     "name": "stderr",
     "output_type": "stream",
     "text": [
      "2022-01-31 20:00:10,198 - INFO - Out of follows for today.\n",
      "2022-01-31 20:00:10,202 - INFO - Going to follow `user_id` 39956664930.\n"
     ]
    },
    {
     "name": "stdout",
     "output_type": "stream",
     "text": [
      "\n",
      "USER_NAME: shinigami_itachi_uchiha, FOLLOWER: 257, FOLLOWING: 361\n",
      "New following : 88\n"
     ]
    },
    {
     "name": "stderr",
     "output_type": "stream",
     "text": [
      "2022-01-31 20:00:13,956 - INFO - Going to follow `user_id` 13089073445.\n"
     ]
    },
    {
     "name": "stdout",
     "output_type": "stream",
     "text": [
      "\n",
      "USER_NAME: deepmaan1360, FOLLOWER: 10149, FOLLOWING: 3237\n",
      "\u001b[31m\n",
      "follower_count > bot.max_followers_to_follow, skipping!\u001b[0m\n",
      "\u001b[;1m\u001b[32mAdding '39956664930' to `c:\\Users\\Bharat Anand\\Downloads\\projects_repo\\passion_projects\\Creating-insta-bot/config/skipped.txt`.\u001b[0m\u001b[0m\n",
      "New following : 88\n"
     ]
    },
    {
     "name": "stderr",
     "output_type": "stream",
     "text": [
      "2022-01-31 20:00:17,797 - INFO - Out of follows for today.\n",
      "2022-01-31 20:00:17,798 - INFO - Going to follow `user_id` 48490281376.\n"
     ]
    },
    {
     "name": "stdout",
     "output_type": "stream",
     "text": [
      "\n",
      "USER_NAME: ashishgarkal9, FOLLOWER: 570, FOLLOWING: 664\n",
      "New following : 88\n"
     ]
    },
    {
     "name": "stderr",
     "output_type": "stream",
     "text": [
      "2022-01-31 20:00:19,986 - INFO - Going to follow `user_id` 47658626650.\n"
     ]
    },
    {
     "name": "stdout",
     "output_type": "stream",
     "text": [
      "\n",
      "USER_NAME: poetry_queen_prakriti_khushi, FOLLOWER: 861, FOLLOWING: 892\n",
      "\u001b[31m\n",
      "`bot.search_stop_words_in_user` found in user, skipping!\u001b[0m\n",
      "\u001b[;1m\u001b[32mAdding '48490281376' to `c:\\Users\\Bharat Anand\\Downloads\\projects_repo\\passion_projects\\Creating-insta-bot/config/skipped.txt`.\u001b[0m\u001b[0m\n",
      "New following : 88\n"
     ]
    },
    {
     "name": "stderr",
     "output_type": "stream",
     "text": [
      "2022-01-31 20:00:23,011 - INFO - Out of follows for today.\n",
      "2022-01-31 20:00:23,014 - INFO - Going to follow `user_id` 47151685720.\n"
     ]
    },
    {
     "name": "stdout",
     "output_type": "stream",
     "text": [
      "\n",
      "USER_NAME: _ecstaticblues_, FOLLOWER: 162, FOLLOWING: 1500\n",
      "New following : 88\n"
     ]
    },
    {
     "name": "stderr",
     "output_type": "stream",
     "text": [
      "2022-01-31 20:00:27,133 - INFO - Going to follow `user_id` 32649532554.\n"
     ]
    },
    {
     "name": "stdout",
     "output_type": "stream",
     "text": [
      "\n",
      "USER_NAME: _kkirtirajputt_, FOLLOWER: 501, FOLLOWING: 494\n",
      "\u001b[31m\n",
      "info: account is PRIVATE, skipping! \u001b[0m\n",
      "\u001b[;1m\u001b[32mAdding '47151685720' to `c:\\Users\\Bharat Anand\\Downloads\\projects_repo\\passion_projects\\Creating-insta-bot/config/skipped.txt`.\u001b[0m\u001b[0m\n",
      "New following : 88\n"
     ]
    },
    {
     "name": "stderr",
     "output_type": "stream",
     "text": [
      "2022-01-31 20:00:29,586 - INFO - Out of follows for today.\n",
      "2022-01-31 20:00:29,588 - INFO - Going to follow `user_id` 45225098339.\n"
     ]
    },
    {
     "name": "stdout",
     "output_type": "stream",
     "text": [
      "\n",
      "USER_NAME: jamiebasher77, FOLLOWER: 123, FOLLOWING: 144\n",
      "New following : 88\n"
     ]
    },
    {
     "name": "stderr",
     "output_type": "stream",
     "text": [
      "2022-01-31 20:00:31,402 - INFO - Going to follow `user_id` 48853812374.\n"
     ]
    },
    {
     "name": "stdout",
     "output_type": "stream",
     "text": [
      "\n",
      "USER_NAME: the_memer_24x7, FOLLOWER: 4615, FOLLOWING: 2267\n",
      "\u001b[31m\n",
      "following_count > bot.max_following_to_follow, skipping!\u001b[0m\n",
      "\u001b[;1m\u001b[32mAdding '45225098339' to `c:\\Users\\Bharat Anand\\Downloads\\projects_repo\\passion_projects\\Creating-insta-bot/config/skipped.txt`.\u001b[0m\u001b[0m\n",
      "New following : 88\n"
     ]
    },
    {
     "name": "stderr",
     "output_type": "stream",
     "text": [
      "2022-01-31 20:00:33,731 - INFO - Out of follows for today.\n",
      "2022-01-31 20:00:33,732 - INFO - Going to follow `user_id` 45431342417.\n"
     ]
    },
    {
     "name": "stdout",
     "output_type": "stream",
     "text": [
      "\n",
      "USER_NAME: sarcastic_chora_00, FOLLOWER: 206, FOLLOWING: 278\n",
      "New following : 88\n"
     ]
    },
    {
     "name": "stderr",
     "output_type": "stream",
     "text": [
      "2022-01-31 20:00:36,822 - INFO - Going to follow `user_id` 48724429058.\n"
     ]
    },
    {
     "name": "stdout",
     "output_type": "stream",
     "text": [
      "\n",
      "USER_NAME: zarcassm, FOLLOWER: 521, FOLLOWING: 2438\n",
      "\u001b[31m\n",
      "following_count > bot.max_following_to_follow, skipping!\u001b[0m\n",
      "\u001b[;1m\u001b[32mAdding '45431342417' to `c:\\Users\\Bharat Anand\\Downloads\\projects_repo\\passion_projects\\Creating-insta-bot/config/skipped.txt`.\u001b[0m\u001b[0m\n",
      "New following : 88\n"
     ]
    },
    {
     "name": "stderr",
     "output_type": "stream",
     "text": [
      "2022-01-31 20:00:39,589 - INFO - Out of follows for today.\n",
      "2022-01-31 20:00:39,593 - INFO - Going to follow `user_id` 35161566609.\n"
     ]
    },
    {
     "name": "stdout",
     "output_type": "stream",
     "text": [
      "\n",
      "USER_NAME: toxic_b0y, FOLLOWER: 1118, FOLLOWING: 681\n",
      "New following : 88\n"
     ]
    },
    {
     "name": "stderr",
     "output_type": "stream",
     "text": [
      "2022-01-31 20:00:42,692 - INFO - Out of follows for today.\n",
      "2022-01-31 20:00:42,693 - INFO - Going to follow `user_id` 47631798124.\n"
     ]
    },
    {
     "name": "stdout",
     "output_type": "stream",
     "text": [
      "\n",
      "USER_NAME: thelazybrahmin, FOLLOWER: 568, FOLLOWING: 464\n",
      "New following : 88\n"
     ]
    },
    {
     "name": "stderr",
     "output_type": "stream",
     "text": [
      "2022-01-31 20:00:45,923 - INFO - Going to follow `user_id` 38452715676.\n"
     ]
    },
    {
     "name": "stdout",
     "output_type": "stream",
     "text": [
      "\n",
      "USER_NAME: m.e.m.e.s_h.a.i, FOLLOWER: 4260, FOLLOWING: 3470\n",
      "\u001b[31m\n",
      "following_count > bot.max_following_to_follow, skipping!\u001b[0m\n",
      "\u001b[;1m\u001b[32mAdding '47631798124' to `c:\\Users\\Bharat Anand\\Downloads\\projects_repo\\passion_projects\\Creating-insta-bot/config/skipped.txt`.\u001b[0m\u001b[0m\n",
      "New following : 88\n"
     ]
    },
    {
     "name": "stderr",
     "output_type": "stream",
     "text": [
      "2022-01-31 20:00:48,170 - INFO - Out of follows for today.\n",
      "2022-01-31 20:00:48,171 - INFO - Going to follow `user_id` 12595400754.\n"
     ]
    },
    {
     "name": "stdout",
     "output_type": "stream",
     "text": [
      "\n",
      "USER_NAME: mazak_h_bc, FOLLOWER: 2655, FOLLOWING: 1807\n",
      "New following : 88\n"
     ]
    },
    {
     "name": "stderr",
     "output_type": "stream",
     "text": [
      "2022-01-31 20:00:51,638 - INFO - Out of follows for today.\n",
      "2022-01-31 20:00:51,639 - INFO - Going to follow `user_id` 45466147423.\n"
     ]
    },
    {
     "name": "stdout",
     "output_type": "stream",
     "text": [
      "\n",
      "USER_NAME: dev.sahu.24, FOLLOWER: 2087, FOLLOWING: 328\n",
      "New following : 88\n"
     ]
    },
    {
     "name": "stderr",
     "output_type": "stream",
     "text": [
      "2022-01-31 20:00:55,809 - INFO - Going to follow `user_id` 41531806881.\n"
     ]
    },
    {
     "name": "stdout",
     "output_type": "stream",
     "text": [
      "\n",
      "USER_NAME: _c_a_p_t_u_r_e_world, FOLLOWER: 98, FOLLOWING: 211\n",
      "\u001b[31m\n",
      "media_count < bot.min_media_count_to_follow, BOT or INACTIVE, skipping!\u001b[0m\n",
      "\u001b[;1m\u001b[32mAdding '45466147423' to `c:\\Users\\Bharat Anand\\Downloads\\projects_repo\\passion_projects\\Creating-insta-bot/config/skipped.txt`.\u001b[0m\u001b[0m\n",
      "New following : 88\n"
     ]
    },
    {
     "name": "stderr",
     "output_type": "stream",
     "text": [
      "2022-01-31 20:00:59,055 - INFO - Going to follow `user_id` 6834614065.\n"
     ]
    },
    {
     "name": "stdout",
     "output_type": "stream",
     "text": [
      "\n",
      "USER_NAME: bharat_rajora1212, FOLLOWER: 14, FOLLOWING: 23\n",
      "\u001b[31m\n",
      "info: account is PRIVATE, skipping! \u001b[0m\n",
      "\u001b[;1m\u001b[32mAdding '41531806881' to `c:\\Users\\Bharat Anand\\Downloads\\projects_repo\\passion_projects\\Creating-insta-bot/config/skipped.txt`.\u001b[0m\u001b[0m\n",
      "New following : 88\n"
     ]
    },
    {
     "name": "stderr",
     "output_type": "stream",
     "text": [
      "2022-01-31 20:01:02,917 - INFO - Going to follow `user_id` 39490514362.\n"
     ]
    },
    {
     "name": "stdout",
     "output_type": "stream",
     "text": [
      "\n",
      "USER_NAME: vansh_poddar_, FOLLOWER: 211, FOLLOWING: 240\n",
      "\u001b[31m\n",
      "info: account is PRIVATE, skipping! \u001b[0m\n",
      "\u001b[;1m\u001b[32mAdding '6834614065' to `c:\\Users\\Bharat Anand\\Downloads\\projects_repo\\passion_projects\\Creating-insta-bot/config/skipped.txt`.\u001b[0m\u001b[0m\n",
      "New following : 88\n"
     ]
    },
    {
     "name": "stderr",
     "output_type": "stream",
     "text": [
      "2022-01-31 20:01:07,824 - INFO - Out of follows for today.\n",
      "2022-01-31 20:01:07,826 - INFO - Going to follow `user_id` 48818401663.\n"
     ]
    },
    {
     "name": "stdout",
     "output_type": "stream",
     "text": [
      "\n",
      "USER_NAME: the_thief_guy, FOLLOWER: 460, FOLLOWING: 117\n",
      "New following : 88\n"
     ]
    },
    {
     "name": "stderr",
     "output_type": "stream",
     "text": [
      "2022-01-31 20:01:09,747 - INFO - Going to follow `user_id` 40380035619.\n"
     ]
    },
    {
     "name": "stdout",
     "output_type": "stream",
     "text": [
      "\n",
      "USER_NAME: meme_world_234, FOLLOWER: 4080, FOLLOWING: 5490\n",
      "\u001b[31m\n",
      "following_count > bot.max_following_to_follow, skipping!\u001b[0m\n",
      "\u001b[;1m\u001b[32mAdding '48818401663' to `c:\\Users\\Bharat Anand\\Downloads\\projects_repo\\passion_projects\\Creating-insta-bot/config/skipped.txt`.\u001b[0m\u001b[0m\n",
      "New following : 88\n"
     ]
    },
    {
     "name": "stderr",
     "output_type": "stream",
     "text": [
      "2022-01-31 20:01:12,626 - INFO - Out of follows for today.\n",
      "2022-01-31 20:01:12,626 - INFO - Going to follow `user_id` 45010299157.\n"
     ]
    },
    {
     "name": "stdout",
     "output_type": "stream",
     "text": [
      "\n",
      "USER_NAME: sakt.londa706, FOLLOWER: 1273, FOLLOWING: 123\n",
      "New following : 88\n"
     ]
    },
    {
     "name": "stderr",
     "output_type": "stream",
     "text": [
      "2022-01-31 20:01:15,939 - INFO - Going to follow `user_id` 46478276545.\n"
     ]
    },
    {
     "name": "stdout",
     "output_type": "stream",
     "text": [
      "\n",
      "USER_NAME: pujan2937, FOLLOWER: 654, FOLLOWING: 1605\n",
      "\u001b[31m\n",
      "info: account is PRIVATE, skipping! \u001b[0m\n",
      "\u001b[;1m\u001b[32mAdding '45010299157' to `c:\\Users\\Bharat Anand\\Downloads\\projects_repo\\passion_projects\\Creating-insta-bot/config/skipped.txt`.\u001b[0m\u001b[0m\n",
      "New following : 88\n"
     ]
    },
    {
     "name": "stderr",
     "output_type": "stream",
     "text": [
      "2022-01-31 20:01:19,236 - INFO - Out of follows for today.\n",
      "2022-01-31 20:01:19,237 - INFO - Going to follow `user_id` 48188934663.\n"
     ]
    },
    {
     "name": "stdout",
     "output_type": "stream",
     "text": [
      "\n",
      "USER_NAME: epic_adult_zone, FOLLOWER: 703, FOLLOWING: 597\n",
      "New following : 88\n"
     ]
    },
    {
     "name": "stderr",
     "output_type": "stream",
     "text": [
      "2022-01-31 20:01:23,339 - INFO - Going to follow `user_id` 32508989224.\n"
     ]
    },
    {
     "name": "stdout",
     "output_type": "stream",
     "text": [
      "\n",
      "USER_NAME: tharky_bhabhi, FOLLOWER: 2012, FOLLOWING: 5350\n",
      "\u001b[31m\n",
      "info: account is PRIVATE, skipping! \u001b[0m\n",
      "\u001b[;1m\u001b[32mAdding '48188934663' to `c:\\Users\\Bharat Anand\\Downloads\\projects_repo\\passion_projects\\Creating-insta-bot/config/skipped.txt`.\u001b[0m\u001b[0m\n",
      "New following : 88\n"
     ]
    },
    {
     "name": "stderr",
     "output_type": "stream",
     "text": [
      "2022-01-31 20:01:26,209 - INFO - Going to follow `user_id` 45734895372.\n"
     ]
    },
    {
     "name": "stdout",
     "output_type": "stream",
     "text": [
      "\n",
      "USER_NAME: shayri____virus08, FOLLOWER: 4855, FOLLOWING: 3119\n",
      "\u001b[31m\n",
      "following_count > bot.max_following_to_follow, skipping!\u001b[0m\n",
      "\u001b[;1m\u001b[32mAdding '32508989224' to `c:\\Users\\Bharat Anand\\Downloads\\projects_repo\\passion_projects\\Creating-insta-bot/config/skipped.txt`.\u001b[0m\u001b[0m\n",
      "New following : 88\n"
     ]
    },
    {
     "name": "stderr",
     "output_type": "stream",
     "text": [
      "2022-01-31 20:01:27,974 - INFO - Out of follows for today.\n",
      "2022-01-31 20:01:27,976 - INFO - Going to follow `user_id` 41341323808.\n"
     ]
    },
    {
     "name": "stdout",
     "output_type": "stream",
     "text": [
      "\n",
      "USER_NAME: wtf_girlzz._, FOLLOWER: 1350, FOLLOWING: 867\n",
      "New following : 88\n"
     ]
    },
    {
     "name": "stderr",
     "output_type": "stream",
     "text": [
      "2022-01-31 20:01:30,437 - INFO - Going to follow `user_id` 38473798931.\n"
     ]
    },
    {
     "name": "stdout",
     "output_type": "stream",
     "text": [
      "\n",
      "USER_NAME: aarchiesays, FOLLOWER: 7304, FOLLOWING: 6119\n",
      "\u001b[31m\n",
      "follower_count > bot.max_followers_to_follow, skipping!\u001b[0m\n",
      "\u001b[;1m\u001b[32mAdding '41341323808' to `c:\\Users\\Bharat Anand\\Downloads\\projects_repo\\passion_projects\\Creating-insta-bot/config/skipped.txt`.\u001b[0m\u001b[0m\n",
      "New following : 88\n"
     ]
    },
    {
     "name": "stderr",
     "output_type": "stream",
     "text": [
      "2022-01-31 20:01:32,545 - INFO - Going to follow `user_id` 46017799416.\n"
     ]
    },
    {
     "name": "stdout",
     "output_type": "stream",
     "text": [
      "\n",
      "USER_NAME: thugh__memes, FOLLOWER: 1208, FOLLOWING: 2166\n",
      "\u001b[31m\n",
      "info: account is PRIVATE, skipping! \u001b[0m\n",
      "\u001b[;1m\u001b[32mAdding '38473798931' to `c:\\Users\\Bharat Anand\\Downloads\\projects_repo\\passion_projects\\Creating-insta-bot/config/skipped.txt`.\u001b[0m\u001b[0m\n",
      "New following : 88\n"
     ]
    },
    {
     "name": "stderr",
     "output_type": "stream",
     "text": [
      "2022-01-31 20:01:36,842 - INFO - Going to follow `user_id` 39712037832.\n"
     ]
    },
    {
     "name": "stdout",
     "output_type": "stream",
     "text": [
      "\n",
      "USER_NAME: hasleyaara, FOLLOWER: 2041, FOLLOWING: 3477\n",
      "\u001b[31m\n",
      "following_count > bot.max_following_to_follow, skipping!\u001b[0m\n",
      "\u001b[;1m\u001b[32mAdding '46017799416' to `c:\\Users\\Bharat Anand\\Downloads\\projects_repo\\passion_projects\\Creating-insta-bot/config/skipped.txt`.\u001b[0m\u001b[0m\n",
      "New following : 88\n"
     ]
    },
    {
     "name": "stderr",
     "output_type": "stream",
     "text": [
      "2022-01-31 20:01:41,258 - INFO - Out of follows for today.\n",
      "2022-01-31 20:01:41,259 - INFO - Going to follow `user_id` 34957941041.\n"
     ]
    },
    {
     "name": "stdout",
     "output_type": "stream",
     "text": [
      "\n",
      "USER_NAME: _yummy._tummy, FOLLOWER: 528, FOLLOWING: 983\n",
      "New following : 88\n"
     ]
    },
    {
     "name": "stderr",
     "output_type": "stream",
     "text": [
      "2022-01-31 20:01:46,256 - INFO - Going to follow `user_id` 12008747101.\n"
     ]
    },
    {
     "name": "stdout",
     "output_type": "stream",
     "text": [
      "\n",
      "USER_NAME: sarphira.shayar, FOLLOWER: 2583, FOLLOWING: 6435\n",
      "\u001b[31m\n",
      "following_count > bot.max_following_to_follow, skipping!\u001b[0m\n",
      "\u001b[;1m\u001b[32mAdding '34957941041' to `c:\\Users\\Bharat Anand\\Downloads\\projects_repo\\passion_projects\\Creating-insta-bot/config/skipped.txt`.\u001b[0m\u001b[0m\n",
      "New following : 88\n"
     ]
    },
    {
     "name": "stderr",
     "output_type": "stream",
     "text": [
      "2022-01-31 20:01:49,090 - INFO - Out of follows for today.\n",
      "2022-01-31 20:01:49,091 - INFO - Going to follow `user_id` 48601250324.\n"
     ]
    },
    {
     "name": "stdout",
     "output_type": "stream",
     "text": [
      "\n",
      "USER_NAME: _true_lines024, FOLLOWER: 708, FOLLOWING: 189\n",
      "New following : 88\n"
     ]
    },
    {
     "name": "stderr",
     "output_type": "stream",
     "text": [
      "2022-01-31 20:01:52,156 - INFO - Going to follow `user_id` 46697865897.\n"
     ]
    },
    {
     "name": "stdout",
     "output_type": "stream",
     "text": [
      "\n",
      "USER_NAME: sarcastic._queen.x, FOLLOWER: 6729, FOLLOWING: 689\n",
      "\u001b[31m\n",
      "follower_count > bot.max_followers_to_follow, skipping!\u001b[0m\n",
      "\u001b[;1m\u001b[32mAdding '48601250324' to `c:\\Users\\Bharat Anand\\Downloads\\projects_repo\\passion_projects\\Creating-insta-bot/config/skipped.txt`.\u001b[0m\u001b[0m\n",
      "New following : 88\n"
     ]
    },
    {
     "name": "stderr",
     "output_type": "stream",
     "text": [
      "2022-01-31 20:01:54,764 - INFO - Going to follow `user_id` 14996948815.\n"
     ]
    },
    {
     "name": "stdout",
     "output_type": "stream",
     "text": [
      "\n",
      "USER_NAME: _.p.i.n.t.u.1990, FOLLOWER: 35, FOLLOWING: 84\n",
      "\u001b[31m\n",
      "media_count < bot.min_media_count_to_follow, BOT or INACTIVE, skipping!\u001b[0m\n",
      "\u001b[;1m\u001b[32mAdding '46697865897' to `c:\\Users\\Bharat Anand\\Downloads\\projects_repo\\passion_projects\\Creating-insta-bot/config/skipped.txt`.\u001b[0m\u001b[0m\n",
      "New following : 88\n"
     ]
    },
    {
     "name": "stderr",
     "output_type": "stream",
     "text": [
      "2022-01-31 20:01:59,136 - INFO - Out of follows for today.\n",
      "2022-01-31 20:01:59,139 - INFO - Going to follow `user_id` 48751649385.\n"
     ]
    },
    {
     "name": "stdout",
     "output_type": "stream",
     "text": [
      "\n",
      "USER_NAME: memes.katta._, FOLLOWER: 4194, FOLLOWING: 740\n",
      "New following : 88\n"
     ]
    },
    {
     "name": "stderr",
     "output_type": "stream",
     "text": [
      "2022-01-31 20:02:02,592 - INFO - Out of follows for today.\n",
      "2022-01-31 20:02:02,593 - INFO - Going to follow `user_id` 48605800045.\n"
     ]
    },
    {
     "name": "stdout",
     "output_type": "stream",
     "text": [
      "\n",
      "USER_NAME: whysosakshi, FOLLOWER: 1172, FOLLOWING: 823\n",
      "New following : 88\n"
     ]
    },
    {
     "name": "stderr",
     "output_type": "stream",
     "text": [
      "2022-01-31 20:02:07,241 - INFO - Going to follow `user_id` 44543303777.\n"
     ]
    },
    {
     "name": "stdout",
     "output_type": "stream",
     "text": [
      "\n",
      "USER_NAME: whosxpriyu, FOLLOWER: 73, FOLLOWING: 83\n",
      "\u001b[31m\n",
      "info: account is PRIVATE, skipping! \u001b[0m\n",
      "\u001b[;1m\u001b[32mAdding '48605800045' to `c:\\Users\\Bharat Anand\\Downloads\\projects_repo\\passion_projects\\Creating-insta-bot/config/skipped.txt`.\u001b[0m\u001b[0m\n",
      "New following : 88\n"
     ]
    },
    {
     "name": "stderr",
     "output_type": "stream",
     "text": [
      "2022-01-31 20:02:10,654 - INFO - Out of follows for today.\n",
      "2022-01-31 20:02:10,655 - INFO - Going to follow `user_id` 48919572290.\n"
     ]
    },
    {
     "name": "stdout",
     "output_type": "stream",
     "text": [
      "\n",
      "USER_NAME: relatable_vibezz, FOLLOWER: 4831, FOLLOWING: 597\n",
      "New following : 88\n"
     ]
    },
    {
     "name": "stderr",
     "output_type": "stream",
     "text": [
      "2022-01-31 20:02:13,142 - INFO - Going to follow `user_id` 44197003897.\n"
     ]
    },
    {
     "name": "stdout",
     "output_type": "stream",
     "text": [
      "\n",
      "USER_NAME: lucif_er1890, FOLLOWER: 33, FOLLOWING: 214\n",
      "\u001b[31m\n",
      "info: account is PRIVATE, skipping! \u001b[0m\n",
      "\u001b[;1m\u001b[32mAdding '48919572290' to `c:\\Users\\Bharat Anand\\Downloads\\projects_repo\\passion_projects\\Creating-insta-bot/config/skipped.txt`.\u001b[0m\u001b[0m\n",
      "New following : 88\n"
     ]
    },
    {
     "name": "stderr",
     "output_type": "stream",
     "text": [
      "2022-01-31 20:02:16,295 - INFO - Going to follow `user_id` 48343211444.\n"
     ]
    },
    {
     "name": "stdout",
     "output_type": "stream",
     "text": [
      "\n",
      "USER_NAME: theuplifters__, FOLLOWER: 196, FOLLOWING: 207\n",
      "\u001b[31m\n",
      "info: account is PRIVATE, skipping! \u001b[0m\n",
      "\u001b[;1m\u001b[32mAdding '44197003897' to `c:\\Users\\Bharat Anand\\Downloads\\projects_repo\\passion_projects\\Creating-insta-bot/config/skipped.txt`.\u001b[0m\u001b[0m\n",
      "New following : 88\n"
     ]
    },
    {
     "name": "stderr",
     "output_type": "stream",
     "text": [
      "2022-01-31 20:02:18,053 - INFO - Out of follows for today.\n",
      "2022-01-31 20:02:18,056 - INFO - Going to follow `user_id` 39309275526.\n"
     ]
    },
    {
     "name": "stdout",
     "output_type": "stream",
     "text": [
      "\n",
      "USER_NAME: comedy.tadka46, FOLLOWER: 298, FOLLOWING: 1049\n",
      "New following : 88\n"
     ]
    },
    {
     "name": "stderr",
     "output_type": "stream",
     "text": [
      "2022-01-31 20:02:21,573 - INFO - Out of follows for today.\n",
      "2022-01-31 20:02:21,574 - INFO - Going to follow `user_id` 3618249527.\n"
     ]
    },
    {
     "name": "stdout",
     "output_type": "stream",
     "text": [
      "\n",
      "USER_NAME: tweet.india1, FOLLOWER: 410, FOLLOWING: 964\n",
      "New following : 88\n"
     ]
    },
    {
     "name": "stderr",
     "output_type": "stream",
     "text": [
      "2022-01-31 20:02:26,338 - INFO - Out of follows for today.\n",
      "2022-01-31 20:02:26,340 - INFO - Going to follow `user_id` 48730446829.\n"
     ]
    },
    {
     "name": "stdout",
     "output_type": "stream",
     "text": [
      "\n",
      "USER_NAME: shoib._.writes, FOLLOWER: 2013, FOLLOWING: 1145\n",
      "New following : 88\n"
     ]
    },
    {
     "name": "stderr",
     "output_type": "stream",
     "text": [
      "2022-01-31 20:02:28,315 - INFO - Out of follows for today.\n",
      "2022-01-31 20:02:28,317 - INFO - Going to follow `user_id` 32684752479.\n"
     ]
    },
    {
     "name": "stdout",
     "output_type": "stream",
     "text": [
      "\n",
      "USER_NAME: user_dead___11, FOLLOWER: 625, FOLLOWING: 311\n",
      "New following : 88\n"
     ]
    },
    {
     "name": "stderr",
     "output_type": "stream",
     "text": [
      "2022-01-31 20:02:31,145 - INFO - Going to follow `user_id` 45723255777.\n"
     ]
    },
    {
     "name": "stdout",
     "output_type": "stream",
     "text": [
      "\n",
      "USER_NAME: saiinaa_, FOLLOWER: 804, FOLLOWING: 328\n",
      "\u001b[31m\n",
      "media_count < bot.min_media_count_to_follow, BOT or INACTIVE, skipping!\u001b[0m\n",
      "\u001b[;1m\u001b[32mAdding '32684752479' to `c:\\Users\\Bharat Anand\\Downloads\\projects_repo\\passion_projects\\Creating-insta-bot/config/skipped.txt`.\u001b[0m\u001b[0m\n",
      "New following : 88\n"
     ]
    },
    {
     "name": "stderr",
     "output_type": "stream",
     "text": [
      "2022-01-31 20:02:33,151 - INFO - Out of follows for today.\n",
      "2022-01-31 20:02:33,152 - INFO - Going to follow `user_id` 48651376366.\n"
     ]
    },
    {
     "name": "stdout",
     "output_type": "stream",
     "text": [
      "\n",
      "USER_NAME: feelings__for__you____, FOLLOWER: 2175, FOLLOWING: 843\n",
      "New following : 88\n"
     ]
    },
    {
     "name": "stderr",
     "output_type": "stream",
     "text": [
      "2022-01-31 20:02:36,630 - INFO - Going to follow `user_id` 39465382750.\n"
     ]
    },
    {
     "name": "stdout",
     "output_type": "stream",
     "text": [
      "\n",
      "USER_NAME: h72832, FOLLOWER: 2561, FOLLOWING: 7486\n",
      "\u001b[31m\n",
      "following_count > bot.max_following_to_follow, skipping!\u001b[0m\n",
      "\u001b[;1m\u001b[32mAdding '48651376366' to `c:\\Users\\Bharat Anand\\Downloads\\projects_repo\\passion_projects\\Creating-insta-bot/config/skipped.txt`.\u001b[0m\u001b[0m\n",
      "New following : 88\n"
     ]
    },
    {
     "name": "stderr",
     "output_type": "stream",
     "text": [
      "2022-01-31 20:02:39,422 - INFO - Out of follows for today.\n",
      "2022-01-31 20:02:39,423 - INFO - Going to follow `user_id` 46692850019.\n"
     ]
    },
    {
     "name": "stdout",
     "output_type": "stream",
     "text": [
      "\n",
      "USER_NAME: writersahab8, FOLLOWER: 921, FOLLOWING: 1272\n",
      "New following : 88\n"
     ]
    },
    {
     "name": "stderr",
     "output_type": "stream",
     "text": [
      "2022-01-31 20:02:41,657 - INFO - Out of follows for today.\n",
      "2022-01-31 20:02:41,658 - INFO - Going to follow `user_id` 44369564830.\n"
     ]
    },
    {
     "name": "stdout",
     "output_type": "stream",
     "text": [
      "\n",
      "USER_NAME: life__lesson._, FOLLOWER: 634, FOLLOWING: 605\n",
      "New following : 88\n"
     ]
    },
    {
     "name": "stderr",
     "output_type": "stream",
     "text": [
      "2022-01-31 20:02:44,128 - INFO - Out of follows for today.\n",
      "2022-01-31 20:02:44,129 - INFO - Going to follow `user_id` 47712038800.\n"
     ]
    },
    {
     "name": "stdout",
     "output_type": "stream",
     "text": [
      "\n",
      "USER_NAME: daddy_bakchodi, FOLLOWER: 4577, FOLLOWING: 1388\n",
      "New following : 88\n"
     ]
    },
    {
     "name": "stderr",
     "output_type": "stream",
     "text": [
      "2022-01-31 20:02:47,387 - INFO - Out of follows for today.\n",
      "2022-01-31 20:02:47,387 - INFO - Going to follow `user_id` 37447569076.\n"
     ]
    },
    {
     "name": "stdout",
     "output_type": "stream",
     "text": [
      "\n",
      "USER_NAME: yadav__kavyaa, FOLLOWER: 555, FOLLOWING: 1210\n",
      "New following : 88\n"
     ]
    },
    {
     "name": "stderr",
     "output_type": "stream",
     "text": [
      "2022-01-31 20:02:50,321 - INFO - Going to follow `user_id` 31308974697.\n"
     ]
    },
    {
     "name": "stdout",
     "output_type": "stream",
     "text": [
      "\n",
      "USER_NAME: memersarkar, FOLLOWER: 7881, FOLLOWING: 4249\n",
      "\u001b[31m\n",
      "follower_count > bot.max_followers_to_follow, skipping!\u001b[0m\n",
      "\u001b[;1m\u001b[32mAdding '37447569076' to `c:\\Users\\Bharat Anand\\Downloads\\projects_repo\\passion_projects\\Creating-insta-bot/config/skipped.txt`.\u001b[0m\u001b[0m\n",
      "New following : 88\n"
     ]
    },
    {
     "name": "stderr",
     "output_type": "stream",
     "text": [
      "2022-01-31 20:02:54,353 - INFO - Going to follow `user_id` 45656946742.\n"
     ]
    },
    {
     "name": "stdout",
     "output_type": "stream",
     "text": [
      "\n",
      "USER_NAME: ll_rutuu_ll, FOLLOWER: 11197, FOLLOWING: 2714\n",
      "\u001b[31m\n",
      "follower_count > bot.max_followers_to_follow, skipping!\u001b[0m\n",
      "\u001b[;1m\u001b[32mAdding '31308974697' to `c:\\Users\\Bharat Anand\\Downloads\\projects_repo\\passion_projects\\Creating-insta-bot/config/skipped.txt`.\u001b[0m\u001b[0m\n",
      "New following : 88\n"
     ]
    },
    {
     "name": "stderr",
     "output_type": "stream",
     "text": [
      "2022-01-31 20:02:56,249 - INFO - Going to follow `user_id` 48965500360.\n"
     ]
    },
    {
     "name": "stdout",
     "output_type": "stream",
     "text": [
      "\n",
      "USER_NAME: the_toxic.girl, FOLLOWER: 1970, FOLLOWING: 4577\n",
      "\u001b[31m\n",
      "following_count > bot.max_following_to_follow, skipping!\u001b[0m\n",
      "\u001b[;1m\u001b[32mAdding '45656946742' to `c:\\Users\\Bharat Anand\\Downloads\\projects_repo\\passion_projects\\Creating-insta-bot/config/skipped.txt`.\u001b[0m\u001b[0m\n",
      "New following : 88\n"
     ]
    },
    {
     "name": "stderr",
     "output_type": "stream",
     "text": [
      "2022-01-31 20:03:00,328 - INFO - Going to follow `user_id` 44175123119.\n"
     ]
    },
    {
     "name": "stdout",
     "output_type": "stream",
     "text": [
      "\n",
      "USER_NAME: desi_pathshalaa, FOLLOWER: 378, FOLLOWING: 1911\n",
      "\u001b[31m\n",
      "info: account is PRIVATE, skipping! \u001b[0m\n",
      "\u001b[;1m\u001b[32mAdding '48965500360' to `c:\\Users\\Bharat Anand\\Downloads\\projects_repo\\passion_projects\\Creating-insta-bot/config/skipped.txt`.\u001b[0m\u001b[0m\n",
      "New following : 88\n"
     ]
    },
    {
     "name": "stderr",
     "output_type": "stream",
     "text": [
      "2022-01-31 20:03:01,656 - INFO - Going to follow `user_id` 47940402138.\n"
     ]
    },
    {
     "name": "stdout",
     "output_type": "stream",
     "text": [
      "\n",
      "USER_NAME: sarcasmwalii_, FOLLOWER: 4315, FOLLOWING: 194\n",
      "\u001b[31m\n",
      "follower_count / following_count > bot.max_followers_to_following_ratio, skipping!\u001b[0m\n",
      "\u001b[;1m\u001b[32mAdding '44175123119' to `c:\\Users\\Bharat Anand\\Downloads\\projects_repo\\passion_projects\\Creating-insta-bot/config/skipped.txt`.\u001b[0m\u001b[0m\n",
      "New following : 88\n"
     ]
    },
    {
     "name": "stderr",
     "output_type": "stream",
     "text": [
      "2022-01-31 20:03:03,084 - INFO - Out of follows for today.\n",
      "2022-01-31 20:03:03,085 - INFO - Going to follow `user_id` 47917282878.\n"
     ]
    },
    {
     "name": "stdout",
     "output_type": "stream",
     "text": [
      "\n",
      "USER_NAME: sadnbroken.ig, FOLLOWER: 854, FOLLOWING: 1830\n",
      "New following : 88\n"
     ]
    },
    {
     "name": "stderr",
     "output_type": "stream",
     "text": [
      "2022-01-31 20:03:07,288 - INFO - Out of follows for today.\n",
      "2022-01-31 20:03:07,292 - INFO - Going to follow `user_id` 48366699018.\n"
     ]
    },
    {
     "name": "stdout",
     "output_type": "stream",
     "text": [
      "\n",
      "USER_NAME: ageditz.z, FOLLOWER: 314, FOLLOWING: 134\n",
      "New following : 88\n"
     ]
    },
    {
     "name": "stderr",
     "output_type": "stream",
     "text": [
      "2022-01-31 20:03:09,516 - INFO - Out of follows for today.\n",
      "2022-01-31 20:03:09,517 - INFO - Going to follow `user_id` 1292164421.\n"
     ]
    },
    {
     "name": "stdout",
     "output_type": "stream",
     "text": [
      "\n",
      "USER_NAME: bakchodi_memes.___, FOLLOWER: 393, FOLLOWING: 725\n",
      "New following : 88\n"
     ]
    },
    {
     "name": "stderr",
     "output_type": "stream",
     "text": [
      "2022-01-31 20:03:13,946 - INFO - Going to follow `user_id` 21650893703.\n"
     ]
    },
    {
     "name": "stdout",
     "output_type": "stream",
     "text": [
      "\n",
      "USER_NAME: sunnymarwah2, FOLLOWER: 205, FOLLOWING: 514\n",
      "\u001b[31m\n",
      "info: account is PRIVATE, skipping! \u001b[0m\n",
      "\u001b[;1m\u001b[32mAdding '1292164421' to `c:\\Users\\Bharat Anand\\Downloads\\projects_repo\\passion_projects\\Creating-insta-bot/config/skipped.txt`.\u001b[0m\u001b[0m\n",
      "New following : 88\n"
     ]
    },
    {
     "name": "stderr",
     "output_type": "stream",
     "text": [
      "2022-01-31 20:03:15,762 - INFO - Out of follows for today.\n",
      "2022-01-31 20:03:15,763 - INFO - Going to follow `user_id` 10175885328.\n"
     ]
    },
    {
     "name": "stdout",
     "output_type": "stream",
     "text": [
      "\n",
      "USER_NAME: __a__namika__, FOLLOWER: 263, FOLLOWING: 167\n",
      "New following : 88\n"
     ]
    },
    {
     "name": "stderr",
     "output_type": "stream",
     "text": [
      "2022-01-31 20:03:18,035 - INFO - Out of follows for today.\n",
      "2022-01-31 20:03:18,038 - INFO - Going to follow `user_id` 28098050864.\n"
     ]
    },
    {
     "name": "stdout",
     "output_type": "stream",
     "text": [
      "\n",
      "USER_NAME: bhakkk_you, FOLLOWER: 4217, FOLLOWING: 1097\n",
      "New following : 88\n"
     ]
    },
    {
     "name": "stderr",
     "output_type": "stream",
     "text": [
      "2022-01-31 20:03:19,949 - INFO - Going to follow `user_id` 40919139449.\n"
     ]
    },
    {
     "name": "stdout",
     "output_type": "stream",
     "text": [
      "\n",
      "USER_NAME: kashishpuri12, FOLLOWER: 615, FOLLOWING: 7506\n",
      "\u001b[31m\n",
      "following_count > bot.max_following_to_follow, skipping!\u001b[0m\n",
      "\u001b[;1m\u001b[32mAdding '28098050864' to `c:\\Users\\Bharat Anand\\Downloads\\projects_repo\\passion_projects\\Creating-insta-bot/config/skipped.txt`.\u001b[0m\u001b[0m\n",
      "New following : 88\n"
     ]
    },
    {
     "name": "stderr",
     "output_type": "stream",
     "text": [
      "2022-01-31 20:03:23,298 - INFO - Going to follow `user_id` 45719439184.\n"
     ]
    },
    {
     "name": "stdout",
     "output_type": "stream",
     "text": [
      "\n",
      "USER_NAME: itzvisal07, FOLLOWER: 10891, FOLLOWING: 1291\n",
      "\u001b[31m\n",
      "follower_count > bot.max_followers_to_follow, skipping!\u001b[0m\n",
      "\u001b[;1m\u001b[32mAdding '40919139449' to `c:\\Users\\Bharat Anand\\Downloads\\projects_repo\\passion_projects\\Creating-insta-bot/config/skipped.txt`.\u001b[0m\u001b[0m\n",
      "New following : 88\n"
     ]
    },
    {
     "name": "stderr",
     "output_type": "stream",
     "text": [
      "2022-01-31 20:03:27,887 - INFO - Out of follows for today.\n",
      "2022-01-31 20:03:27,888 - INFO - Going to follow `user_id` 42210754011.\n"
     ]
    },
    {
     "name": "stdout",
     "output_type": "stream",
     "text": [
      "\n",
      "USER_NAME: oyee_ruk, FOLLOWER: 894, FOLLOWING: 977\n",
      "New following : 88\n"
     ]
    },
    {
     "name": "stderr",
     "output_type": "stream",
     "text": [
      "2022-01-31 20:03:31,484 - INFO - Going to follow `user_id` 47593389544.\n"
     ]
    },
    {
     "name": "stdout",
     "output_type": "stream",
     "text": [
      "\n",
      "USER_NAME: wtf_gouri18, FOLLOWER: 295, FOLLOWING: 1106\n",
      "\u001b[31m\n",
      "media_count < bot.min_media_count_to_follow, BOT or INACTIVE, skipping!\u001b[0m\n",
      "\u001b[;1m\u001b[32mAdding '42210754011' to `c:\\Users\\Bharat Anand\\Downloads\\projects_repo\\passion_projects\\Creating-insta-bot/config/skipped.txt`.\u001b[0m\u001b[0m\n",
      "New following : 88\n"
     ]
    },
    {
     "name": "stderr",
     "output_type": "stream",
     "text": [
      "2022-01-31 20:03:34,759 - INFO - Out of follows for today.\n",
      "2022-01-31 20:03:34,760 - INFO - Going to follow `user_id` 7384663750.\n"
     ]
    },
    {
     "name": "stdout",
     "output_type": "stream",
     "text": [
      "\n",
      "USER_NAME: aries_vakya, FOLLOWER: 314, FOLLOWING: 508\n",
      "New following : 88\n"
     ]
    },
    {
     "name": "stderr",
     "output_type": "stream",
     "text": [
      "2022-01-31 20:03:37,790 - INFO - Going to follow `user_id` 48819674433.\n"
     ]
    },
    {
     "name": "stdout",
     "output_type": "stream",
     "text": [
      "\n",
      "USER_NAME: devikabaid, FOLLOWER: 603, FOLLOWING: 405\n",
      "\u001b[31m\n",
      "info: account is PRIVATE, skipping! \u001b[0m\n",
      "\u001b[;1m\u001b[32mAdding '7384663750' to `c:\\Users\\Bharat Anand\\Downloads\\projects_repo\\passion_projects\\Creating-insta-bot/config/skipped.txt`.\u001b[0m\u001b[0m\n",
      "New following : 88\n"
     ]
    },
    {
     "name": "stderr",
     "output_type": "stream",
     "text": [
      "2022-01-31 20:03:41,356 - INFO - Going to follow `user_id` 46530070978.\n"
     ]
    },
    {
     "name": "stdout",
     "output_type": "stream",
     "text": [
      "\n",
      "USER_NAME: sarcastic_huu4, FOLLOWER: 369, FOLLOWING: 456\n",
      "\u001b[31m\n",
      "info: account is PRIVATE, skipping! \u001b[0m\n",
      "\u001b[;1m\u001b[32mAdding '48819674433' to `c:\\Users\\Bharat Anand\\Downloads\\projects_repo\\passion_projects\\Creating-insta-bot/config/skipped.txt`.\u001b[0m\u001b[0m\n",
      "New following : 88\n"
     ]
    },
    {
     "name": "stderr",
     "output_type": "stream",
     "text": [
      "2022-01-31 20:03:44,644 - INFO - Going to follow `user_id` 46960060705.\n"
     ]
    },
    {
     "name": "stdout",
     "output_type": "stream",
     "text": [
      "\n",
      "USER_NAME: we_are_himachli_, FOLLOWER: 1139, FOLLOWING: 2793\n",
      "\u001b[31m\n",
      "following_count > bot.max_following_to_follow, skipping!\u001b[0m\n",
      "\u001b[;1m\u001b[32mAdding '46530070978' to `c:\\Users\\Bharat Anand\\Downloads\\projects_repo\\passion_projects\\Creating-insta-bot/config/skipped.txt`.\u001b[0m\u001b[0m\n",
      "New following : 88\n"
     ]
    },
    {
     "name": "stderr",
     "output_type": "stream",
     "text": [
      "2022-01-31 20:03:46,928 - INFO - Going to follow `user_id` 46670516762.\n"
     ]
    },
    {
     "name": "stdout",
     "output_type": "stream",
     "text": [
      "\n",
      "USER_NAME: memena007, FOLLOWER: 2224, FOLLOWING: 5726\n",
      "\u001b[31m\n",
      "following_count > bot.max_following_to_follow, skipping!\u001b[0m\n",
      "\u001b[;1m\u001b[32mAdding '46960060705' to `c:\\Users\\Bharat Anand\\Downloads\\projects_repo\\passion_projects\\Creating-insta-bot/config/skipped.txt`.\u001b[0m\u001b[0m\n",
      "New following : 88\n"
     ]
    },
    {
     "name": "stderr",
     "output_type": "stream",
     "text": [
      "2022-01-31 20:03:49,251 - INFO - Going to follow `user_id` 47690183319.\n"
     ]
    },
    {
     "name": "stdout",
     "output_type": "stream",
     "text": [
      "\n",
      "USER_NAME: kuwar___singh__, FOLLOWER: 448, FOLLOWING: 1254\n",
      "\u001b[31m\n",
      "media_count < bot.min_media_count_to_follow, BOT or INACTIVE, skipping!\u001b[0m\n",
      "\u001b[;1m\u001b[32mAdding '46670516762' to `c:\\Users\\Bharat Anand\\Downloads\\projects_repo\\passion_projects\\Creating-insta-bot/config/skipped.txt`.\u001b[0m\u001b[0m\n",
      "New following : 88\n"
     ]
    },
    {
     "name": "stderr",
     "output_type": "stream",
     "text": [
      "2022-01-31 20:03:52,106 - INFO - Out of follows for today.\n",
      "2022-01-31 20:03:52,108 - INFO - Going to follow `user_id` 47684169070.\n"
     ]
    },
    {
     "name": "stdout",
     "output_type": "stream",
     "text": [
      "\n",
      "USER_NAME: radhe_writes1, FOLLOWER: 334, FOLLOWING: 534\n",
      "New following : 88\n"
     ]
    },
    {
     "name": "stderr",
     "output_type": "stream",
     "text": [
      "2022-01-31 20:03:53,757 - INFO - Out of follows for today.\n",
      "2022-01-31 20:03:53,758 - INFO - Going to follow `user_id` 44591407307.\n"
     ]
    },
    {
     "name": "stdout",
     "output_type": "stream",
     "text": [
      "\n",
      "USER_NAME: _aaryan_says, FOLLOWER: 415, FOLLOWING: 157\n",
      "New following : 88\n"
     ]
    },
    {
     "name": "stderr",
     "output_type": "stream",
     "text": [
      "2022-01-31 20:03:57,270 - INFO - Going to follow `user_id` 47192764948.\n"
     ]
    },
    {
     "name": "stdout",
     "output_type": "stream",
     "text": [
      "\n",
      "USER_NAME: baexchara1, FOLLOWER: 1957, FOLLOWING: 1547\n",
      "\u001b[31m\n",
      "media_count < bot.min_media_count_to_follow, BOT or INACTIVE, skipping!\u001b[0m\n",
      "\u001b[;1m\u001b[32mAdding '44591407307' to `c:\\Users\\Bharat Anand\\Downloads\\projects_repo\\passion_projects\\Creating-insta-bot/config/skipped.txt`.\u001b[0m\u001b[0m\n",
      "New following : 88\n"
     ]
    },
    {
     "name": "stderr",
     "output_type": "stream",
     "text": [
      "2022-01-31 20:04:01,169 - INFO - Out of follows for today.\n",
      "2022-01-31 20:04:01,170 - INFO - Going to follow `user_id` 9764749149.\n"
     ]
    },
    {
     "name": "stdout",
     "output_type": "stream",
     "text": [
      "\n",
      "USER_NAME: btwitsavii, FOLLOWER: 572, FOLLOWING: 834\n",
      "New following : 88\n"
     ]
    },
    {
     "name": "stderr",
     "output_type": "stream",
     "text": [
      "2022-01-31 20:04:03,603 - INFO - Going to follow `user_id` 38714152498.\n"
     ]
    },
    {
     "name": "stdout",
     "output_type": "stream",
     "text": [
      "\n",
      "USER_NAME: _vanshika_yadav_07, FOLLOWER: 1079, FOLLOWING: 393\n",
      "\u001b[31m\n",
      "info: account is PRIVATE, skipping! \u001b[0m\n",
      "\u001b[;1m\u001b[32mAdding '9764749149' to `c:\\Users\\Bharat Anand\\Downloads\\projects_repo\\passion_projects\\Creating-insta-bot/config/skipped.txt`.\u001b[0m\u001b[0m\n",
      "New following : 88\n"
     ]
    },
    {
     "name": "stderr",
     "output_type": "stream",
     "text": [
      "2022-01-31 20:04:06,550 - INFO - Out of follows for today.\n",
      "2022-01-31 20:04:06,551 - INFO - Going to follow `user_id` 27496425506.\n"
     ]
    },
    {
     "name": "stdout",
     "output_type": "stream",
     "text": [
      "\n",
      "USER_NAME: mis.sanju087, FOLLOWER: 4665, FOLLOWING: 716\n",
      "New following : 88\n"
     ]
    },
    {
     "name": "stderr",
     "output_type": "stream",
     "text": [
      "2022-01-31 20:04:10,590 - INFO - Out of follows for today.\n",
      "2022-01-31 20:04:10,590 - INFO - Going to follow `user_id` 14749928848.\n"
     ]
    },
    {
     "name": "stdout",
     "output_type": "stream",
     "text": [
      "\n",
      "USER_NAME: life_of_students001, FOLLOWER: 1822, FOLLOWING: 1421\n",
      "New following : 88\n"
     ]
    },
    {
     "name": "stderr",
     "output_type": "stream",
     "text": [
      "2022-01-31 20:04:14,030 - INFO - Going to follow `user_id` 27303158599.\n"
     ]
    },
    {
     "name": "stdout",
     "output_type": "stream",
     "text": [
      "\n",
      "USER_NAME: ig.hellbound.bgmi, FOLLOWER: 7921, FOLLOWING: 4547\n",
      "\u001b[31m\n",
      "follower_count > bot.max_followers_to_follow, skipping!\u001b[0m\n",
      "\u001b[;1m\u001b[32mAdding '14749928848' to `c:\\Users\\Bharat Anand\\Downloads\\projects_repo\\passion_projects\\Creating-insta-bot/config/skipped.txt`.\u001b[0m\u001b[0m\n",
      "New following : 88\n"
     ]
    },
    {
     "name": "stderr",
     "output_type": "stream",
     "text": [
      "2022-01-31 20:04:18,148 - INFO - Out of follows for today.\n",
      "2022-01-31 20:04:18,150 - INFO - Going to follow `user_id` 30370556795.\n"
     ]
    },
    {
     "name": "stdout",
     "output_type": "stream",
     "text": [
      "\n",
      "USER_NAME: m__r.___ankit10000, FOLLOWER: 1012, FOLLOWING: 1020\n",
      "New following : 88\n"
     ]
    },
    {
     "name": "stderr",
     "output_type": "stream",
     "text": [
      "2022-01-31 20:04:23,113 - INFO - Going to follow `user_id` 39954026509.\n"
     ]
    },
    {
     "name": "stdout",
     "output_type": "stream",
     "text": [
      "\n",
      "USER_NAME: ambi.xharma, FOLLOWER: 2504, FOLLOWING: 578\n",
      "\u001b[31m\n",
      "media_count < bot.min_media_count_to_follow, BOT or INACTIVE, skipping!\u001b[0m\n",
      "\u001b[;1m\u001b[32mAdding '30370556795' to `c:\\Users\\Bharat Anand\\Downloads\\projects_repo\\passion_projects\\Creating-insta-bot/config/skipped.txt`.\u001b[0m\u001b[0m\n",
      "New following : 88\n"
     ]
    },
    {
     "name": "stderr",
     "output_type": "stream",
     "text": [
      "2022-01-31 20:04:25,117 - INFO - Out of follows for today.\n",
      "2022-01-31 20:04:25,119 - INFO - Going to follow `user_id` 5910816701.\n"
     ]
    },
    {
     "name": "stdout",
     "output_type": "stream",
     "text": [
      "\n",
      "USER_NAME: _fakinghumour_, FOLLOWER: 1391, FOLLOWING: 860\n",
      "New following : 88\n"
     ]
    },
    {
     "ename": "KeyError",
     "evalue": "'follower_count'",
     "output_type": "error",
     "traceback": [
      "\u001b[1;31m---------------------------------------------------------------------------\u001b[0m",
      "\u001b[1;31mKeyError\u001b[0m                                  Traceback (most recent call last)",
      "\u001b[1;32mC:\\Users\\BHARAT~1\\AppData\\Local\\Temp/ipykernel_8048/3298286115.py\u001b[0m in \u001b[0;36m<module>\u001b[1;34m\u001b[0m\n\u001b[0;32m      1\u001b[0m \u001b[1;32mfor\u001b[0m \u001b[0mi\u001b[0m \u001b[1;32min\u001b[0m \u001b[0mtobe_followed\u001b[0m\u001b[1;33m:\u001b[0m\u001b[1;33m\u001b[0m\u001b[1;33m\u001b[0m\u001b[0m\n\u001b[1;32m----> 2\u001b[1;33m     \u001b[0mbot\u001b[0m\u001b[1;33m.\u001b[0m\u001b[0mfollow\u001b[0m\u001b[1;33m(\u001b[0m\u001b[0mi\u001b[0m\u001b[1;33m)\u001b[0m\u001b[1;33m\u001b[0m\u001b[1;33m\u001b[0m\u001b[0m\n\u001b[0m\u001b[0;32m      3\u001b[0m \u001b[1;33m\u001b[0m\u001b[0m\n\u001b[0;32m      4\u001b[0m     \u001b[1;32mwith\u001b[0m \u001b[0mopen\u001b[0m\u001b[1;33m(\u001b[0m\u001b[1;34m'config/followed.txt'\u001b[0m\u001b[1;33m)\u001b[0m \u001b[1;32mas\u001b[0m \u001b[0mf\u001b[0m\u001b[1;33m:\u001b[0m\u001b[1;33m\u001b[0m\u001b[1;33m\u001b[0m\u001b[0m\n\u001b[0;32m      5\u001b[0m         \u001b[0mnew_foll\u001b[0m \u001b[1;33m=\u001b[0m \u001b[0mf\u001b[0m\u001b[1;33m.\u001b[0m\u001b[0mreadlines\u001b[0m\u001b[1;33m(\u001b[0m\u001b[1;33m)\u001b[0m\u001b[1;33m\u001b[0m\u001b[1;33m\u001b[0m\u001b[0m\n",
      "\u001b[1;32m~\\AppData\\Local\\Programs\\Python\\Python310\\lib\\site-packages\\instabot\\bot\\bot.py\u001b[0m in \u001b[0;36mfollow\u001b[1;34m(self, user_id, check_user)\u001b[0m\n\u001b[0;32m    829\u001b[0m     \u001b[1;31m# follow\u001b[0m\u001b[1;33m\u001b[0m\u001b[1;33m\u001b[0m\u001b[0m\n\u001b[0;32m    830\u001b[0m     \u001b[1;32mdef\u001b[0m \u001b[0mfollow\u001b[0m\u001b[1;33m(\u001b[0m\u001b[0mself\u001b[0m\u001b[1;33m,\u001b[0m \u001b[0muser_id\u001b[0m\u001b[1;33m,\u001b[0m \u001b[0mcheck_user\u001b[0m\u001b[1;33m=\u001b[0m\u001b[1;32mTrue\u001b[0m\u001b[1;33m)\u001b[0m\u001b[1;33m:\u001b[0m\u001b[1;33m\u001b[0m\u001b[1;33m\u001b[0m\u001b[0m\n\u001b[1;32m--> 831\u001b[1;33m         \u001b[1;32mreturn\u001b[0m \u001b[0mfollow\u001b[0m\u001b[1;33m(\u001b[0m\u001b[0mself\u001b[0m\u001b[1;33m,\u001b[0m \u001b[0muser_id\u001b[0m\u001b[1;33m,\u001b[0m \u001b[0mcheck_user\u001b[0m\u001b[1;33m)\u001b[0m\u001b[1;33m\u001b[0m\u001b[1;33m\u001b[0m\u001b[0m\n\u001b[0m\u001b[0;32m    832\u001b[0m \u001b[1;33m\u001b[0m\u001b[0m\n\u001b[0;32m    833\u001b[0m     \u001b[1;32mdef\u001b[0m \u001b[0mfollow_users\u001b[0m\u001b[1;33m(\u001b[0m\u001b[0mself\u001b[0m\u001b[1;33m,\u001b[0m \u001b[0muser_ids\u001b[0m\u001b[1;33m,\u001b[0m \u001b[0mnfollows\u001b[0m\u001b[1;33m=\u001b[0m\u001b[1;32mNone\u001b[0m\u001b[1;33m)\u001b[0m\u001b[1;33m:\u001b[0m\u001b[1;33m\u001b[0m\u001b[1;33m\u001b[0m\u001b[0m\n",
      "\u001b[1;32m~\\AppData\\Local\\Programs\\Python\\Python310\\lib\\site-packages\\instabot\\bot\\bot_follow.py\u001b[0m in \u001b[0;36mfollow\u001b[1;34m(self, user_id, check_user)\u001b[0m\n\u001b[0;32m     11\u001b[0m         \u001b[0mmsg\u001b[0m \u001b[1;33m=\u001b[0m \u001b[1;34m\" ===> Going to follow `user_id`: {}.\"\u001b[0m\u001b[1;33m.\u001b[0m\u001b[0mformat\u001b[0m\u001b[1;33m(\u001b[0m\u001b[0muser_id\u001b[0m\u001b[1;33m)\u001b[0m\u001b[1;33m\u001b[0m\u001b[1;33m\u001b[0m\u001b[0m\n\u001b[0;32m     12\u001b[0m         \u001b[0mself\u001b[0m\u001b[1;33m.\u001b[0m\u001b[0mconsole_print\u001b[0m\u001b[1;33m(\u001b[0m\u001b[0mmsg\u001b[0m\u001b[1;33m)\u001b[0m\u001b[1;33m\u001b[0m\u001b[1;33m\u001b[0m\u001b[0m\n\u001b[1;32m---> 13\u001b[1;33m     \u001b[1;32mif\u001b[0m \u001b[0mcheck_user\u001b[0m \u001b[1;32mand\u001b[0m \u001b[1;32mnot\u001b[0m \u001b[0mself\u001b[0m\u001b[1;33m.\u001b[0m\u001b[0mcheck_user\u001b[0m\u001b[1;33m(\u001b[0m\u001b[0muser_id\u001b[0m\u001b[1;33m)\u001b[0m\u001b[1;33m:\u001b[0m\u001b[1;33m\u001b[0m\u001b[1;33m\u001b[0m\u001b[0m\n\u001b[0m\u001b[0;32m     14\u001b[0m         \u001b[1;32mreturn\u001b[0m \u001b[1;32mFalse\u001b[0m\u001b[1;33m\u001b[0m\u001b[1;33m\u001b[0m\u001b[0m\n\u001b[0;32m     15\u001b[0m     \u001b[1;32mif\u001b[0m \u001b[1;32mnot\u001b[0m \u001b[0mself\u001b[0m\u001b[1;33m.\u001b[0m\u001b[0mreached_limit\u001b[0m\u001b[1;33m(\u001b[0m\u001b[1;34m\"follows\"\u001b[0m\u001b[1;33m)\u001b[0m\u001b[1;33m:\u001b[0m\u001b[1;33m\u001b[0m\u001b[1;33m\u001b[0m\u001b[0m\n",
      "\u001b[1;32m~\\AppData\\Local\\Programs\\Python\\Python310\\lib\\site-packages\\instabot\\bot\\bot.py\u001b[0m in \u001b[0;36mcheck_user\u001b[1;34m(self, user, unfollowing)\u001b[0m\n\u001b[0;32m    961\u001b[0m \u001b[1;33m\u001b[0m\u001b[0m\n\u001b[0;32m    962\u001b[0m     \u001b[1;32mdef\u001b[0m \u001b[0mcheck_user\u001b[0m\u001b[1;33m(\u001b[0m\u001b[0mself\u001b[0m\u001b[1;33m,\u001b[0m \u001b[0muser\u001b[0m\u001b[1;33m,\u001b[0m \u001b[0munfollowing\u001b[0m\u001b[1;33m=\u001b[0m\u001b[1;32mFalse\u001b[0m\u001b[1;33m)\u001b[0m\u001b[1;33m:\u001b[0m\u001b[1;33m\u001b[0m\u001b[1;33m\u001b[0m\u001b[0m\n\u001b[1;32m--> 963\u001b[1;33m         \u001b[1;32mreturn\u001b[0m \u001b[0mcheck_user\u001b[0m\u001b[1;33m(\u001b[0m\u001b[0mself\u001b[0m\u001b[1;33m,\u001b[0m \u001b[0muser\u001b[0m\u001b[1;33m,\u001b[0m \u001b[0munfollowing\u001b[0m\u001b[1;33m)\u001b[0m\u001b[1;33m\u001b[0m\u001b[1;33m\u001b[0m\u001b[0m\n\u001b[0m\u001b[0;32m    964\u001b[0m \u001b[1;33m\u001b[0m\u001b[0m\n\u001b[0;32m    965\u001b[0m     \u001b[1;32mdef\u001b[0m \u001b[0mcheck_not_bot\u001b[0m\u001b[1;33m(\u001b[0m\u001b[0mself\u001b[0m\u001b[1;33m,\u001b[0m \u001b[0muser\u001b[0m\u001b[1;33m)\u001b[0m\u001b[1;33m:\u001b[0m\u001b[1;33m\u001b[0m\u001b[1;33m\u001b[0m\u001b[0m\n",
      "\u001b[1;32m~\\AppData\\Local\\Programs\\Python\\Python310\\lib\\site-packages\\instabot\\bot\\bot_filter.py\u001b[0m in \u001b[0;36mcheck_user\u001b[1;34m(self, user_id, unfollowing)\u001b[0m\n\u001b[0;32m    152\u001b[0m \u001b[1;33m\u001b[0m\u001b[0m\n\u001b[0;32m    153\u001b[0m     \u001b[0mmsg\u001b[0m \u001b[1;33m=\u001b[0m \u001b[1;34m\"USER_NAME: {username}, FOLLOWER: {followers}, FOLLOWING: {following}\"\u001b[0m\u001b[1;33m\u001b[0m\u001b[1;33m\u001b[0m\u001b[0m\n\u001b[1;32m--> 154\u001b[1;33m     \u001b[0mfollower_count\u001b[0m \u001b[1;33m=\u001b[0m \u001b[0muser_info\u001b[0m\u001b[1;33m[\u001b[0m\u001b[1;34m\"follower_count\"\u001b[0m\u001b[1;33m]\u001b[0m\u001b[1;33m\u001b[0m\u001b[1;33m\u001b[0m\u001b[0m\n\u001b[0m\u001b[0;32m    155\u001b[0m     \u001b[0mfollowing_count\u001b[0m \u001b[1;33m=\u001b[0m \u001b[0muser_info\u001b[0m\u001b[1;33m[\u001b[0m\u001b[1;34m\"following_count\"\u001b[0m\u001b[1;33m]\u001b[0m\u001b[1;33m\u001b[0m\u001b[1;33m\u001b[0m\u001b[0m\n\u001b[0;32m    156\u001b[0m     self.console_print(\n",
      "\u001b[1;31mKeyError\u001b[0m: 'follower_count'"
     ]
    }
   ],
   "source": [
    "for i in tobe_followed:\n",
    "    bot.follow(i)\n",
    "\n",
    "    with open('config/followed.txt') as f:\n",
    "        new_foll = f.readlines()\n",
    "        \n",
    "    print('New following : ' + str(len(new_foll)))\n",
    "    if len(new_foll) == 90:\n",
    "        textfile = open(\"config/skipped.txt\").read()\n",
    "        new_skip_list = textfile.splitlines()\n",
    "        textfile = open(\"config/skipped.txt\", \"w\")\n",
    "        skip_list = skip_list + new_skip_list\n",
    "        for element in skip_list:\n",
    "            textfile.write(element + \"\\n\")\n",
    "        textfile.close()\n",
    "\n",
    "   \n",
    "        with open('skip_list.pkl', 'wb') as f:\n",
    "            pickle.dump(skip_list, f)\n",
    "            \n",
    "        clear_output()\n",
    "        break"
   ]
  },
  {
   "cell_type": "code",
   "execution_count": 1,
   "metadata": {},
   "outputs": [
    {
     "name": "stderr",
     "output_type": "stream",
     "text": [
      "2021-05-18 15:54:38,723 - INFO - Instabot version: 0.117.0 Started\n",
      "2021-05-18 15:54:38,729 - INFO - Not yet logged in starting: PRE-LOGIN FLOW!\n",
      "2021-05-18 15:54:43,138 - INFO - Logged-in successfully as 'irrational__human'!\n",
      "2021-05-18 15:54:43,138 - INFO - LOGIN FLOW! Just logged-in: True\n"
     ]
    },
    {
     "data": {
      "text/plain": [
       "True"
      ]
     },
     "execution_count": 1,
     "metadata": {},
     "output_type": "execute_result"
    }
   ],
   "source": [
    "from instabot import Bot\n",
    "from time import sleep\n",
    "import random\n",
    "from IPython.display import clear_output\n",
    "import time\n",
    "\n",
    "bot = Bot(filter_users=True, filter_private_users=True)\n",
    "\n",
    "bot.login(username = \"irrational__human\", password = \"01729417185274\")"
   ]
  },
  {
   "cell_type": "code",
   "execution_count": 2,
   "metadata": {},
   "outputs": [
    {
     "name": "stderr",
     "output_type": "stream",
     "text": [
      "Getting followings of 35766768950: 100%|████████████████████████████████████████▉| 1066/1067 [00:00<00:00, 1215.07it/s]\n",
      "Getting followers of 44659126711: 100%|████████████████████████████████████████████▊| 760/763 [00:04<00:00, 153.90it/s]\n"
     ]
    }
   ],
   "source": [
    "my_following = bot.get_user_following('irrational__human')\n",
    "\n",
    "accounts = [];\n",
    "# accounts.append(\"fakeparalta\"); #automate this part!\n",
    "accounts.append(\"darkremedi\")\n",
    "\n",
    "net_follower = []\n",
    "for acc in accounts:\n",
    "    followers = bot.get_user_followers(acc)\n",
    "    net_follower = net_follower + followers"
   ]
  },
  {
   "cell_type": "code",
   "execution_count": 3,
   "metadata": {},
   "outputs": [],
   "source": [
    "def unique(list1):\n",
    " \n",
    "    # intilize a null list\n",
    "    unique_list = []\n",
    "     \n",
    "    # traverse for all elements\n",
    "    for x in list1:\n",
    "        # check if exists in unique_list or not\n",
    "        if x not in unique_list:\n",
    "            unique_list.append(x)\n",
    "    return unique_list"
   ]
  },
  {
   "cell_type": "code",
   "execution_count": 4,
   "metadata": {},
   "outputs": [
    {
     "data": {
      "text/plain": [
       "165"
      ]
     },
     "execution_count": 4,
     "metadata": {},
     "output_type": "execute_result"
    }
   ],
   "source": [
    "net_follower = unique(net_follower)\n",
    "\n",
    "tobe_followed = [x for x in net_follower if x not in my_following]\n",
    "\n",
    "len(tobe_followed)"
   ]
  },
  {
   "cell_type": "code",
   "execution_count": null,
   "metadata": {},
   "outputs": [
    {
     "name": "stderr",
     "output_type": "stream",
     "text": [
      "2021-05-18 16:09:55,214 - INFO - Going to follow `user_id` 3984619879.\n"
     ]
    },
    {
     "name": "stdout",
     "output_type": "stream",
     "text": [
      "\n",
      "USER_NAME: bad.memes.exe, FOLLOWER: 1134, FOLLOWING: 584\n"
     ]
    }
   ],
   "source": [
    "old_skipped = 0\n",
    "\n",
    "for i in tobe_followed:\n",
    "    clear_output()\n",
    "    bot.follow(i)\n",
    "    \n",
    "    with open('config/skipped.txt') as f:\n",
    "        new_skpped = f.readlines()\n",
    "    \n",
    "    if len(new_skpped)==old_skipped:\n",
    "        x = random.randint(0,5000)/100\n",
    "        print('sleeping for ' + str(x)+' sec.')\n",
    "        time.sleep(x)\n",
    "    else:\n",
    "        old_skipped = len(new_skpped)"
   ]
  },
  {
   "cell_type": "code",
   "execution_count": 6,
   "metadata": {},
   "outputs": [],
   "source": []
  },
  {
   "cell_type": "code",
   "execution_count": 9,
   "metadata": {},
   "outputs": [
    {
     "name": "stdout",
     "output_type": "stream",
     "text": [
      "150\n"
     ]
    }
   ],
   "source": [
    "username_list = []\n",
    "for follower in tobe_followed[:150]:\n",
    "    user_name = bot.get_username_from_user_id(follower)\n",
    "    username_list.append(user_name)\n",
    "    clear_output()\n",
    "    print(len(username_list))\n",
    "    \n"
   ]
  },
  {
   "cell_type": "code",
   "execution_count": 10,
   "metadata": {},
   "outputs": [],
   "source": [
    "import pandas as pd\n",
    "df = pd.DataFrame(username_list)\n",
    "df.to_csv('selenium/usernames.csv', index=False)"
   ]
  },
  {
   "cell_type": "code",
   "execution_count": null,
   "metadata": {},
   "outputs": [],
   "source": []
  }
 ],
 "metadata": {
  "interpreter": {
   "hash": "3cadfaa112bfd83484753e9a17d1b212ce26140c498b1ce9407d469c58ae1b77"
  },
  "kernelspec": {
   "display_name": "Python 3.10.0 64-bit",
   "name": "python3"
  },
  "language_info": {
   "codemirror_mode": {
    "name": "ipython",
    "version": 3
   },
   "file_extension": ".py",
   "mimetype": "text/x-python",
   "name": "python",
   "nbconvert_exporter": "python",
   "pygments_lexer": "ipython3",
   "version": "3.10.0"
  },
  "toc": {
   "base_numbering": 1,
   "nav_menu": {},
   "number_sections": true,
   "sideBar": true,
   "skip_h1_title": false,
   "title_cell": "Table of Contents",
   "title_sidebar": "Contents",
   "toc_cell": false,
   "toc_position": {},
   "toc_section_display": true,
   "toc_window_display": false
  }
 },
 "nbformat": 4,
 "nbformat_minor": 2
}
