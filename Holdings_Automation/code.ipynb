{
 "cells": [
  {
   "cell_type": "code",
   "execution_count": 1,
   "metadata": {},
   "outputs": [],
   "source": [
    "import pandas as pd\n",
    "import numpy as np\n",
    "import yfinance as yf\n",
    "from IPython.display import clear_output\n",
    "import plotly.graph_objects as go\n",
    "import plotly.io as pio"
   ]
  },
  {
   "cell_type": "code",
   "execution_count": 8,
   "metadata": {},
   "outputs": [],
   "source": [
    "\n",
    "portfolio_per = pd.read_csv('input/portfolio_per.csv')\n",
    "eq = pd.read_excel('input/holdings-RR5003.xlsx', engine=\"openpyxl\",sheet_name='Equity')\n",
    "mf = pd.read_excel('input/holdings-RR5003.xlsx', engine=\"openpyxl\",sheet_name='Mutual Funds')\n",
    "cash_investments = pd.read_csv('input/cash_investments.csv')"
   ]
  },
  {
   "cell_type": "code",
   "execution_count": 9,
   "metadata": {},
   "outputs": [],
   "source": [
    "def fun1(x): \n",
    "    print(x)   \n",
    "    data = yf.download(tickers=x, period='10d', interval='1d').reset_index()\n",
    "    try:\n",
    "        a = data['Close'].iloc[-1]\n",
    "    except:\n",
    "        a = np.nan\n",
    "    try:\n",
    "        b = data['Close'].iloc[-1] - data['Close'].iloc[-2]\n",
    "    except:\n",
    "        b = np.nan\n",
    "    try:\n",
    "        c = (data['Close'].iloc[-1] - data['Close'].iloc[-2])*100 / data['Close'].iloc[-2]\n",
    "    except:\n",
    "        c = np.nan\n",
    "    return a, b, c\n",
    "def data_manipulation(eq, type_df):\n",
    "    eq = eq.iloc[21:,1:]\n",
    "    new_header = eq.iloc[0] #grab the first row for the header\n",
    "    eq = eq[1:] #take the data less the header row\n",
    "    eq.columns = new_header #set the header row as the df header\n",
    "\n",
    "    if type_df == 'eq':\n",
    "        eq = eq.drop(['ISIN', 'Sector','Quantity Discrepant',\n",
    "            'Quantity Long Term', 'Quantity Pledged (Margin)',\n",
    "            'Quantity Pledged (Loan)', 'Previous Closing Price',\n",
    "            'Unrealized P&L', 'Unrealized P&L Pct.'], axis=1)\n",
    "        eq = pd.merge(eq,pd.read_csv('input/equity_ticker.csv'), how='left', on='Symbol')\n",
    "    else:\n",
    "        eq = eq.drop(['ISIN','Instrument Type', 'Quantity Discrepant', 'Quantity Pledged (Margin)',\n",
    "            'Quantity Pledged (Loan)', 'Previous Closing Price',\n",
    "            'Unrealized P&L', 'Unrealized P&L Pct.'], axis=1)\n",
    "        eq = pd.merge(eq,pd.read_csv('input/mf_ticker.csv'), how='left', on='Symbol')\n",
    "\n",
    "    a = eq.apply(lambda x: fun1(x['ticker']), axis=1)\n",
    "    eq = pd.concat([eq,pd.DataFrame(a.tolist(), columns=['closing_price', 'Today(P&L)', 'Today(P&L%)'])], axis = 1)\n",
    "\n",
    "    eq['Today(P&L)'] = eq['Today(P&L)'] * eq['Quantity Available']\n",
    "\n",
    "    eq['invested'] = eq['Average Price'] * eq['Quantity Available']\n",
    "    eq['current_value'] = eq['closing_price'] * eq['Quantity Available']\n",
    "    eq['p&l'] = eq['current_value'] - eq['invested']\n",
    "    eq['p_tage'] = eq['p&l']*100/ eq['invested']\n",
    "    clear_output()\n",
    "    return eq"
   ]
  },
  {
   "cell_type": "code",
   "execution_count": 10,
   "metadata": {},
   "outputs": [],
   "source": [
    "eq = data_manipulation(eq, 'eq')"
   ]
  },
  {
   "cell_type": "code",
   "execution_count": 11,
   "metadata": {},
   "outputs": [],
   "source": [
    "mf = data_manipulation(mf, 'mf')"
   ]
  },
  {
   "cell_type": "code",
   "execution_count": 12,
   "metadata": {},
   "outputs": [
    {
     "name": "stderr",
     "output_type": "stream",
     "text": [
      "C:\\Users\\Bharat Anand\\AppData\\Local\\Programs\\Python\\Python310\\lib\\site-packages\\pandas\\core\\indexing.py:1732: SettingWithCopyWarning: \n",
      "A value is trying to be set on a copy of a slice from a DataFrame\n",
      "\n",
      "See the caveats in the documentation: https://pandas.pydata.org/pandas-docs/stable/user_guide/indexing.html#returning-a-view-versus-a-copy\n",
      "  self._setitem_single_block(indexer, value, name)\n",
      "C:\\Users\\BHARAT~1\\AppData\\Local\\Temp/ipykernel_2148/2166634911.py:6: FutureWarning: Indexing with multiple keys (implicitly converted to a tuple of keys) will be deprecated, use a list instead.\n",
      "  temp = temp.groupby(['inv_type', 'risk_type'])['invested', 'current_value', 'Today(P&L)', 'p&l'].agg('sum').reset_index()\n"
     ]
    }
   ],
   "source": [
    "\n",
    "\n",
    "\n",
    "\n",
    "investments = pd.concat([mf, eq])\n",
    "temp = investments.copy()\n",
    "temp = pd.concat([temp, cash_investments]).reset_index(drop = True)\n",
    "export = temp.copy()\n",
    "temp['inv_type'].iloc[temp['inv_type'].isin(['index', 'stock'])] = 'equity'\n",
    "temp = temp.groupby(['inv_type', 'risk_type'])['invested', 'current_value', 'Today(P&L)', 'p&l'].agg('sum').reset_index()\n",
    "temp['per_increase_today'] = temp['Today(P&L)']*100 / temp['current_value']\n",
    "temp['net_p&l(%)'] = temp['p&l']*100 / temp['invested']\n",
    "curr_val = pd.merge(portfolio_per, temp, on=['inv_type', 'risk_type'], how='outer')\n",
    "curr_val['current_asset_allocated(%)'] = (curr_val['current_value'] *100/ (curr_val['current_value'].sum()))\n",
    "\n",
    "\n",
    "\n",
    "from openpyxl import load_workbook\n",
    "path = \"final.xlsx\"\n",
    "book = load_workbook(path)\n",
    "book.remove(book['agg_sheet'])\n",
    "book.remove(book['equity'])\n",
    "book.remove(book['mf'])\n",
    "book.remove(book['cash_investments'])\n",
    "writer = pd.ExcelWriter(path, engine = 'openpyxl')\n",
    "writer.book = book\n",
    "curr_val.to_excel(writer, sheet_name = 'agg_sheet', index=False)\n",
    "eq.to_excel(writer, sheet_name = 'equity', index=False)\n",
    "mf.to_excel(writer, sheet_name = 'mf', index=False)\n",
    "cash_investments.to_excel(writer, sheet_name = 'cash_investments', index=False)\n",
    "writer.save()\n",
    "writer.close()\n",
    "writer.handles = None"
   ]
  },
  {
   "cell_type": "code",
   "execution_count": null,
   "metadata": {},
   "outputs": [],
   "source": []
  }
 ],
 "metadata": {
  "interpreter": {
   "hash": "3cadfaa112bfd83484753e9a17d1b212ce26140c498b1ce9407d469c58ae1b77"
  },
  "kernelspec": {
   "display_name": "Python 3.10.0 64-bit",
   "name": "python3"
  },
  "language_info": {
   "codemirror_mode": {
    "name": "ipython",
    "version": 3
   },
   "file_extension": ".py",
   "mimetype": "text/x-python",
   "name": "python",
   "nbconvert_exporter": "python",
   "pygments_lexer": "ipython3",
   "version": "3.10.0"
  },
  "orig_nbformat": 4
 },
 "nbformat": 4,
 "nbformat_minor": 2
}
