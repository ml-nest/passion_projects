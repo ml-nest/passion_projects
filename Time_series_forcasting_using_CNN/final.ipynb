{
  "nbformat": 4,
  "nbformat_minor": 0,
  "metadata": {
    "colab": {
      "name": "TIme series forcasting using CNN.ipynb",
      "provenance": [],
      "toc_visible": true,
      "include_colab_link": true
    },
    "kernelspec": {
      "display_name": "Python 3",
      "language": "python",
      "name": "python3"
    },
    "language_info": {
      "codemirror_mode": {
        "name": "ipython",
        "version": 3
      },
      "file_extension": ".py",
      "mimetype": "text/x-python",
      "name": "python",
      "nbconvert_exporter": "python",
      "pygments_lexer": "ipython3",
      "version": "3.7.1"
    },
    "toc": {
      "base_numbering": 1,
      "nav_menu": {},
      "number_sections": true,
      "sideBar": true,
      "skip_h1_title": false,
      "title_cell": "Table of Contents",
      "title_sidebar": "Contents",
      "toc_cell": false,
      "toc_position": {},
      "toc_section_display": true,
      "toc_window_display": false
    }
  },
  "cells": [
    {
      "cell_type": "markdown",
      "metadata": {
        "id": "view-in-github",
        "colab_type": "text"
      },
      "source": [
        "<a href=\"https://colab.research.google.com/github/ml-nest/passion_projects/blob/main/Time_series_forcasting_using_CNN/final.ipynb\" target=\"_parent\"><img src=\"https://colab.research.google.com/assets/colab-badge.svg\" alt=\"Open In Colab\"/></a>"
      ]
    },
    {
      "cell_type": "code",
      "metadata": {
        "id": "ghnrjr-2Ir9n"
      },
      "source": [
        "# This notebook prsents how to create a timeseries forcasting model using CNN"
      ],
      "execution_count": null,
      "outputs": []
    },
    {
      "cell_type": "code",
      "metadata": {
        "id": "Xni_etkQ8eUu"
      },
      "source": [
        "def create_dataset(X, y, time_steps_x, time_steps_y):\n",
        "    \"\"\"\n",
        "    Creating windowed dataset for feeding into the neural network\n",
        "\n",
        "    Arguments :\n",
        "\n",
        "    df : dataframe which has to be converted to 3D array from 2D array\n",
        "    window_size : timeperiod during which the model must be trained on a rolling basis\n",
        "\n",
        "    Returns:\n",
        "\n",
        "    np.array(arr) : an array of arrays where every array is a window (3D array)\n",
        "\n",
        "    \"\"\"\n",
        "    Xs, ys = [], []\n",
        "    for i in range(len(X) - time_steps_x - time_steps_y +1):\n",
        "        Xs.append(X.iloc[i:(i + time_steps_x)].values)\n",
        "        \n",
        "    for i in range(time_steps_x, len(X) - time_steps_y + 1):\n",
        "        ys.append(y.iloc[i:i + time_steps_y].values)\n",
        "    return np.array(Xs), np.array(ys)"
      ],
      "execution_count": 6,
      "outputs": []
    },
    {
      "cell_type": "markdown",
      "metadata": {
        "id": "PsmteDJqJCZU"
      },
      "source": [
        "- Univariate CNN Models\n",
        "- Multivariate CNN Models\n",
        "- Multi-Step CNN Models\n",
        "- Multivariate Multi-Step CNN Models"
      ]
    },
    {
      "cell_type": "code",
      "metadata": {
        "id": "yTpiP_IxD0Ie"
      },
      "source": [
        "import numpy as np\n",
        "import pandas as pd\n",
        "from numpy import array\n",
        "from keras.models import Sequential\n",
        "from keras.layers import Dense\n",
        "from keras.layers import Flatten\n",
        "from keras.layers.convolutional import Conv1D\n",
        "from keras.layers.convolutional import MaxPooling1D"
      ],
      "execution_count": 35,
      "outputs": []
    },
    {
      "cell_type": "code",
      "metadata": {
        "colab": {
          "base_uri": "https://localhost:8080/",
          "height": 318
        },
        "id": "diDbI2WQFJzB",
        "outputId": "c5335b73-5c0f-4314-e37c-e3b137d92313"
      },
      "source": [
        "# Creating a dummy dataframe\n",
        "df = pd.DataFrame({'A':[10, 20, 30, 40, 50, 60, 70, 80, 90],\n",
        "                   'B':[15, 25, 35, 45, 55, 65, 75, 85, 95]})\n",
        "df['C'] = df['A']+df['B']\n",
        "display(df)"
      ],
      "execution_count": 49,
      "outputs": [
        {
          "output_type": "display_data",
          "data": {
            "text/html": [
              "<div>\n",
              "<style scoped>\n",
              "    .dataframe tbody tr th:only-of-type {\n",
              "        vertical-align: middle;\n",
              "    }\n",
              "\n",
              "    .dataframe tbody tr th {\n",
              "        vertical-align: top;\n",
              "    }\n",
              "\n",
              "    .dataframe thead th {\n",
              "        text-align: right;\n",
              "    }\n",
              "</style>\n",
              "<table border=\"1\" class=\"dataframe\">\n",
              "  <thead>\n",
              "    <tr style=\"text-align: right;\">\n",
              "      <th></th>\n",
              "      <th>A</th>\n",
              "      <th>B</th>\n",
              "      <th>C</th>\n",
              "    </tr>\n",
              "  </thead>\n",
              "  <tbody>\n",
              "    <tr>\n",
              "      <th>0</th>\n",
              "      <td>10</td>\n",
              "      <td>15</td>\n",
              "      <td>25</td>\n",
              "    </tr>\n",
              "    <tr>\n",
              "      <th>1</th>\n",
              "      <td>20</td>\n",
              "      <td>25</td>\n",
              "      <td>45</td>\n",
              "    </tr>\n",
              "    <tr>\n",
              "      <th>2</th>\n",
              "      <td>30</td>\n",
              "      <td>35</td>\n",
              "      <td>65</td>\n",
              "    </tr>\n",
              "    <tr>\n",
              "      <th>3</th>\n",
              "      <td>40</td>\n",
              "      <td>45</td>\n",
              "      <td>85</td>\n",
              "    </tr>\n",
              "    <tr>\n",
              "      <th>4</th>\n",
              "      <td>50</td>\n",
              "      <td>55</td>\n",
              "      <td>105</td>\n",
              "    </tr>\n",
              "    <tr>\n",
              "      <th>5</th>\n",
              "      <td>60</td>\n",
              "      <td>65</td>\n",
              "      <td>125</td>\n",
              "    </tr>\n",
              "    <tr>\n",
              "      <th>6</th>\n",
              "      <td>70</td>\n",
              "      <td>75</td>\n",
              "      <td>145</td>\n",
              "    </tr>\n",
              "    <tr>\n",
              "      <th>7</th>\n",
              "      <td>80</td>\n",
              "      <td>85</td>\n",
              "      <td>165</td>\n",
              "    </tr>\n",
              "    <tr>\n",
              "      <th>8</th>\n",
              "      <td>90</td>\n",
              "      <td>95</td>\n",
              "      <td>185</td>\n",
              "    </tr>\n",
              "  </tbody>\n",
              "</table>\n",
              "</div>"
            ],
            "text/plain": [
              "    A   B    C\n",
              "0  10  15   25\n",
              "1  20  25   45\n",
              "2  30  35   65\n",
              "3  40  45   85\n",
              "4  50  55  105\n",
              "5  60  65  125\n",
              "6  70  75  145\n",
              "7  80  85  165\n",
              "8  90  95  185"
            ]
          },
          "metadata": {
            "tags": []
          }
        }
      ]
    },
    {
      "cell_type": "markdown",
      "metadata": {
        "id": "KrzHBvEr8eUw"
      },
      "source": [
        "# Univariate CNN Models\n",
        "Univariate time series are datasets comprised of a single series of observations with a temporal ordering and a model is required to learn from the series of past observations to predict the next value in the sequence."
      ]
    },
    {
      "cell_type": "code",
      "metadata": {
        "colab": {
          "base_uri": "https://localhost:8080/"
        },
        "id": "WSyaIMSg8eUy",
        "outputId": "782ff96e-cd3b-4d5e-b21f-2898afe4865d"
      },
      "source": [
        "# choose a number of time steps\n",
        "x_steps = 3\n",
        "y_steps = 1\n",
        "n_features = 1\n",
        "\n",
        "# split into samples\n",
        "X, y = create_dataset(df[['A']], df[['A']], x_steps, y_steps)\n",
        "\n",
        "# define model\n",
        "model = Sequential()\n",
        "model.add(Conv1D(filters=64, kernel_size=2, activation='relu', input_shape=(x_steps, n_features)))\n",
        "model.add(MaxPooling1D(pool_size=2))\n",
        "model.add(Flatten())\n",
        "model.add(Dense(50, activation='relu'))\n",
        "model.add(Dense(1))\n",
        "model.compile(optimizer='adam', loss='mse')\n",
        "\n",
        "# fit model\n",
        "model.fit(X, y, epochs=1000, verbose=0)\n",
        "\n",
        "# demonstrate prediction\n",
        "x_input = array([100, 110, 120])\n",
        "x_input = x_input.reshape((1, x_steps, n_features))\n",
        "yhat = model.predict(x_input, verbose=0)\n",
        "print(yhat)"
      ],
      "execution_count": 47,
      "outputs": [
        {
          "output_type": "stream",
          "text": [
            "[[137.17075]]\n"
          ],
          "name": "stdout"
        }
      ]
    },
    {
      "cell_type": "markdown",
      "metadata": {
        "id": "ZrAPQVn1IYpW"
      },
      "source": [
        "# Multivariate CNN Models\n",
        "There is more than one observation in one timestep\n",
        "There are of 2 main types:\n",
        "- Multiple Input Series\n",
        "- Multiple Parallel Series"
      ]
    },
    {
      "cell_type": "markdown",
      "metadata": {
        "id": "u-s7Qdb8I_M5"
      },
      "source": [
        "## Multiple Input Series\n",
        "Two parallel input series and an output series which is dependent on the input series"
      ]
    },
    {
      "cell_type": "code",
      "metadata": {
        "colab": {
          "base_uri": "https://localhost:8080/"
        },
        "id": "JzRjanAO8eUz",
        "outputId": "731b38f6-389e-4836-8b08-ce96f465ade7"
      },
      "source": [
        "# multivariate cnn example\n",
        "from numpy import array\n",
        "from numpy import hstack\n",
        "from keras.models import Sequential\n",
        "from keras.layers import Dense\n",
        "from keras.layers import Flatten\n",
        "from keras.layers.convolutional import Conv1D\n",
        "from keras.layers.convolutional import MaxPooling1D\n",
        " \n",
        "# split a multivariate sequence into samples\n",
        "def split_sequences(sequences, n_steps):\n",
        "\tX, y = list(), list()\n",
        "\tfor i in range(len(sequences)):\n",
        "\t\t# find the end of this pattern\n",
        "\t\tend_ix = i + n_steps\n",
        "\t\t# check if we are beyond the dataset\n",
        "\t\tif end_ix > len(sequences):\n",
        "\t\t\tbreak\n",
        "\t\t# gather input and output parts of the pattern\n",
        "\t\tseq_x, seq_y = sequences[i:end_ix, :-1], sequences[end_ix-1, -1]\n",
        "\t\tX.append(seq_x)\n",
        "\t\ty.append(seq_y)\n",
        "\treturn array(X), array(y)\n",
        " \n",
        "# define input sequence\n",
        "in_seq1 = array([10, 20, 30, 40, 50, 60, 70, 80, 90])\n",
        "in_seq2 = array([15, 25, 35, 45, 55, 65, 75, 85, 95])\n",
        "out_seq = array([in_seq1[i]+in_seq2[i] for i in range(len(in_seq1))])\n",
        "# convert to [rows, columns] structure\n",
        "in_seq1 = in_seq1.reshape((len(in_seq1), 1))\n",
        "in_seq2 = in_seq2.reshape((len(in_seq2), 1))\n",
        "out_seq = out_seq.reshape((len(out_seq), 1))\n",
        "# horizontally stack columns\n",
        "dataset = hstack((in_seq1, in_seq2, out_seq))\n",
        "# choose a number of time steps\n",
        "n_steps = 3\n",
        "# convert into input/output\n",
        "X, y = split_sequences(dataset, n_steps)\n",
        "# the dataset knows the number of features, e.g. 2\n",
        "n_features = X.shape[2]\n",
        "# define model\n",
        "model = Sequential()\n",
        "model.add(Conv1D(filters=64, kernel_size=2, activation='relu', input_shape=(n_steps, n_features)))\n",
        "model.add(MaxPooling1D(pool_size=2))\n",
        "model.add(Flatten())\n",
        "model.add(Dense(50, activation='relu'))\n",
        "model.add(Dense(1))\n",
        "model.compile(optimizer='adam', loss='mse')\n",
        "# fit model\n",
        "model.fit(X, y, epochs=1000, verbose=0)\n",
        "# demonstrate prediction\n",
        "x_input = array([[80, 85], [90, 95], [100, 105]])\n",
        "x_input = x_input.reshape((1, n_steps, n_features))\n",
        "yhat = model.predict(x_input, verbose=0)\n",
        "print(yhat)"
      ],
      "execution_count": 52,
      "outputs": [
        {
          "output_type": "stream",
          "text": [
            "[[208.06677]]\n"
          ],
          "name": "stdout"
        }
      ]
    },
    {
      "cell_type": "markdown",
      "metadata": {
        "id": "4y-qiyld8eU0"
      },
      "source": [
        "### Alternative\n",
        "This can also be done by using 2 CNN's for different series, and then combining them before fitting to the output. This gives us the flexibility to model both features differently in the CNN"
      ]
    },
    {
      "cell_type": "code",
      "metadata": {
        "colab": {
          "base_uri": "https://localhost:8080/"
        },
        "id": "eD7B2Tg48eU0",
        "outputId": "bc19baf0-5fc7-49b3-d42b-c47e75436b1b"
      },
      "source": [
        "# multivariate multi-headed 1d cnn example\n",
        "from numpy import array\n",
        "from numpy import hstack\n",
        "from keras.models import Model\n",
        "from keras.layers import Input\n",
        "from keras.layers import Dense\n",
        "from keras.layers import Flatten\n",
        "from keras.layers.convolutional import Conv1D\n",
        "from keras.layers.convolutional import MaxPooling1D\n",
        "from keras.layers.merge import concatenate\n",
        " \n",
        "# split a multivariate sequence into samples\n",
        "def split_sequences(sequences, n_steps):\n",
        "\tX, y = list(), list()\n",
        "\tfor i in range(len(sequences)):\n",
        "\t\t# find the end of this pattern\n",
        "\t\tend_ix = i + n_steps\n",
        "\t\t# check if we are beyond the dataset\n",
        "\t\tif end_ix > len(sequences):\n",
        "\t\t\tbreak\n",
        "\t\t# gather input and output parts of the pattern\n",
        "\t\tseq_x, seq_y = sequences[i:end_ix, :-1], sequences[end_ix-1, -1]\n",
        "\t\tX.append(seq_x)\n",
        "\t\ty.append(seq_y)\n",
        "\treturn array(X), array(y)\n",
        " \n",
        "# define input sequence\n",
        "in_seq1 = array([10, 20, 30, 40, 50, 60, 70, 80, 90])\n",
        "in_seq2 = array([15, 25, 35, 45, 55, 65, 75, 85, 95])\n",
        "out_seq = array([in_seq1[i]+in_seq2[i] for i in range(len(in_seq1))])\n",
        "# convert to [rows, columns] structure\n",
        "in_seq1 = in_seq1.reshape((len(in_seq1), 1))\n",
        "in_seq2 = in_seq2.reshape((len(in_seq2), 1))\n",
        "out_seq = out_seq.reshape((len(out_seq), 1))\n",
        "# horizontally stack columns\n",
        "dataset = hstack((in_seq1, in_seq2, out_seq))\n",
        "# choose a number of time steps\n",
        "n_steps = 3\n",
        "# convert into input/output\n",
        "X, y = split_sequences(dataset, n_steps)\n",
        "# one time series per head\n",
        "n_features = 1\n",
        "# separate input data\n",
        "X1 = X[:, :, 0].reshape(X.shape[0], X.shape[1], n_features)\n",
        "X2 = X[:, :, 1].reshape(X.shape[0], X.shape[1], n_features)\n",
        "# first input model\n",
        "visible1 = Input(shape=(n_steps, n_features))\n",
        "cnn1 = Conv1D(filters=64, kernel_size=2, activation='relu')(visible1)\n",
        "cnn1 = MaxPooling1D(pool_size=2)(cnn1)\n",
        "cnn1 = Flatten()(cnn1)\n",
        "# second input model\n",
        "visible2 = Input(shape=(n_steps, n_features))\n",
        "cnn2 = Conv1D(filters=64, kernel_size=2, activation='relu')(visible2)\n",
        "cnn2 = MaxPooling1D(pool_size=2)(cnn2)\n",
        "cnn2 = Flatten()(cnn2)\n",
        "# merge input models\n",
        "merge = concatenate([cnn1, cnn2])\n",
        "dense = Dense(50, activation='relu')(merge)\n",
        "output = Dense(1)(dense)\n",
        "model = Model(inputs=[visible1, visible2], outputs=output)\n",
        "model.compile(optimizer='adam', loss='mse')\n",
        "# fit model\n",
        "model.fit([X1, X2], y, epochs=1000, verbose=0)\n",
        "# demonstrate prediction\n",
        "x_input = array([[80, 85], [90, 95], [100, 105]])\n",
        "x1 = x_input[:, 0].reshape((1, n_steps, n_features))\n",
        "x2 = x_input[:, 1].reshape((1, n_steps, n_features))\n",
        "yhat = model.predict([x1, x2], verbose=0)\n",
        "print(yhat)"
      ],
      "execution_count": 53,
      "outputs": [
        {
          "output_type": "stream",
          "text": [
            "[[206.15535]]\n"
          ],
          "name": "stdout"
        }
      ]
    },
    {
      "cell_type": "markdown",
      "metadata": {
        "id": "3m9i7bf48eU3"
      },
      "source": [
        "## Multiple Parallel Series\n",
        "Multiple timeseries and the value must be predicted for each. All time series are independent of each other. Basically, these are 3 univariate timeseries combined"
      ]
    },
    {
      "cell_type": "code",
      "metadata": {
        "colab": {
          "base_uri": "https://localhost:8080/"
        },
        "id": "QxjO9xsg8eU5",
        "outputId": "547a3e4b-183a-4573-d745-7ad9e3bdf52f"
      },
      "source": [
        "# choose a number of time steps\n",
        "x_steps = 3\n",
        "y_steps = 1\n",
        "n_features = 3\n",
        "\n",
        "# split into samples\n",
        "X, y = create_dataset(df[['A', 'B', 'C']], df[['A', 'B', 'C']], x_steps, y_steps)\n",
        "y = y.reshape((6,3))\n",
        "\n",
        "# define model\n",
        "model = Sequential()\n",
        "model.add(Conv1D(filters=64, kernel_size=2, activation='relu', input_shape=(x_steps, n_features)))\n",
        "model.add(MaxPooling1D(pool_size=2))\n",
        "model.add(Flatten())\n",
        "model.add(Dense(50, activation='relu'))\n",
        "model.add(Dense(n_features))\n",
        "model.compile(optimizer='adam', loss='mse')\n",
        "\n",
        "# fit model\n",
        "model.fit(X, y, epochs=3000, verbose=0)\n",
        "\n",
        "# demonstrate prediction\n",
        "x_input = array([[70,75,145], [80,85,165], [90,95,185]])\n",
        "x_input = x_input.reshape((1, n_steps, n_features))\n",
        "yhat = model.predict(x_input, verbose=0)\n",
        "print(yhat)"
      ],
      "execution_count": 67,
      "outputs": [
        {
          "output_type": "stream",
          "text": [
            "[[101.0409   106.581345 207.41727 ]]\n"
          ],
          "name": "stdout"
        }
      ]
    },
    {
      "cell_type": "markdown",
      "metadata": {
        "id": "AHdqC23MS12s"
      },
      "source": [
        "### Alternative\n",
        "We can create 3 output layers and give out results in 3 different columns"
      ]
    },
    {
      "cell_type": "code",
      "metadata": {
        "id": "t45BDxTuS8Mq",
        "outputId": "ff82739b-e8c1-4ecc-ffb4-b21e4fb2b649",
        "colab": {
          "base_uri": "https://localhost:8080/"
        }
      },
      "source": [
        "# choose a number of time steps\n",
        "x_steps = 3\n",
        "y_steps = 1\n",
        "n_features = 3\n",
        "\n",
        "# split into samples\n",
        "X, y = create_dataset(df[['A', 'B', 'C']], df[['A', 'B', 'C']], x_steps, y_steps)\n",
        "y = y.reshape((6,3))\n",
        "\n",
        "# separate output\n",
        "y1 = y[:, 0].reshape((y.shape[0], 1))\n",
        "y2 = y[:, 1].reshape((y.shape[0], 1))\n",
        "y3 = y[:, 2].reshape((y.shape[0], 1))\n",
        "\n",
        "# define model\n",
        "visible = Input(shape=(n_steps, n_features))\n",
        "cnn = Conv1D(filters=64, kernel_size=2, activation='relu')(visible)\n",
        "cnn = MaxPooling1D(pool_size=2)(cnn)\n",
        "cnn = Flatten()(cnn)\n",
        "cnn = Dense(50, activation='relu')(cnn)\n",
        "# define output 1\n",
        "output1 = Dense(1)(cnn)\n",
        "# define output 2\n",
        "output2 = Dense(1)(cnn)\n",
        "# define output 3\n",
        "output3 = Dense(1)(cnn)\n",
        "# tie together\n",
        "model = Model(inputs=visible, outputs=[output1, output2, output3])\n",
        "model.compile(optimizer='adam', loss='mse')\n",
        "\n",
        "# fit model\n",
        "model.fit(X, [y1,y2,y3], epochs=2000, verbose=0)\n",
        "\n",
        "# demonstrate prediction\n",
        "x_input = array([[70,75,145], [80,85,165], [90,95,185]])\n",
        "x_input = x_input.reshape((1, n_steps, n_features))\n",
        "yhat = model.predict(x_input, verbose=0)\n",
        "print(yhat)"
      ],
      "execution_count": 68,
      "outputs": [
        {
          "output_type": "stream",
          "text": [
            "[array([[100.92896]], dtype=float32), array([[106.23021]], dtype=float32), array([[207.41907]], dtype=float32)]\n"
          ],
          "name": "stdout"
        }
      ]
    },
    {
      "cell_type": "markdown",
      "metadata": {
        "id": "LFBaB5CNUBVD"
      },
      "source": [
        "# Multi-Step CNN Models\n",
        "Here, we predict more than just one row worth of output"
      ]
    },
    {
      "cell_type": "code",
      "metadata": {
        "id": "8jlGjwJQUDG_",
        "outputId": "aa5ca43a-98f8-444f-c1b3-47084481105b",
        "colab": {
          "base_uri": "https://localhost:8080/"
        }
      },
      "source": [
        "# choose a number of time steps\n",
        "x_steps = 3\n",
        "y_steps = 2\n",
        "n_features = 1\n",
        "\n",
        "# split into samples\n",
        "X, y = create_dataset(df[['A']], df[['A']], x_steps, y_steps)\n",
        "\n",
        "# define model\n",
        "model = Sequential()\n",
        "model.add(Conv1D(filters=64, kernel_size=2, activation='relu', input_shape=(x_steps, n_features)))\n",
        "model.add(MaxPooling1D(pool_size=2))\n",
        "model.add(Flatten())\n",
        "model.add(Dense(50, activation='relu'))\n",
        "model.add(Dense(y_steps))\n",
        "model.compile(optimizer='adam', loss='mse')\n",
        "# fit model\n",
        "model.fit(X, y, epochs=2000, verbose=0)\n",
        "# demonstrate prediction\n",
        "x_input = array([70, 80, 90])\n",
        "x_input = x_input.reshape((1, x_steps, n_features))\n",
        "yhat = model.predict(x_input, verbose=0)\n",
        "print(yhat)"
      ],
      "execution_count": 73,
      "outputs": [
        {
          "output_type": "stream",
          "text": [
            "[[103.057175 114.98883 ]]\n"
          ],
          "name": "stdout"
        }
      ]
    },
    {
      "cell_type": "markdown",
      "metadata": {
        "id": "7BTGHUsSVW7Y"
      },
      "source": [
        "# Multivariate Multi-Step CNN Models\n",
        "This is of 2 types:\n",
        "- Multiple Input Multi-Step Output\n",
        "- Multiple Parallel Input and Multi-Step Output"
      ]
    },
    {
      "cell_type": "markdown",
      "metadata": {
        "id": "pt9wz4ZLWlXf"
      },
      "source": [
        "## Multiple Input Multi-Step Output"
      ]
    },
    {
      "cell_type": "code",
      "metadata": {
        "id": "XB_4tCNiVh9k",
        "outputId": "4f2c187a-21ed-49d6-adce-0e74cf3f2307",
        "colab": {
          "base_uri": "https://localhost:8080/"
        }
      },
      "source": [
        "# multivariate multi-step 1d cnn example\n",
        "from numpy import array\n",
        "from numpy import hstack\n",
        "from keras.models import Sequential\n",
        "from keras.layers import Dense\n",
        "from keras.layers import Flatten\n",
        "from keras.layers.convolutional import Conv1D\n",
        "from keras.layers.convolutional import MaxPooling1D\n",
        " \n",
        "# split a multivariate sequence into samples\n",
        "def split_sequences(sequences, n_steps_in, n_steps_out):\n",
        "\tX, y = list(), list()\n",
        "\tfor i in range(len(sequences)):\n",
        "\t\t# find the end of this pattern\n",
        "\t\tend_ix = i + n_steps_in\n",
        "\t\tout_end_ix = end_ix + n_steps_out-1\n",
        "\t\t# check if we are beyond the dataset\n",
        "\t\tif out_end_ix > len(sequences):\n",
        "\t\t\tbreak\n",
        "\t\t# gather input and output parts of the pattern\n",
        "\t\tseq_x, seq_y = sequences[i:end_ix, :-1], sequences[end_ix-1:out_end_ix, -1]\n",
        "\t\tX.append(seq_x)\n",
        "\t\ty.append(seq_y)\n",
        "\treturn array(X), array(y)\n",
        " \n",
        "# define input sequence\n",
        "in_seq1 = array([10, 20, 30, 40, 50, 60, 70, 80, 90])\n",
        "in_seq2 = array([15, 25, 35, 45, 55, 65, 75, 85, 95])\n",
        "out_seq = array([in_seq1[i]+in_seq2[i] for i in range(len(in_seq1))])\n",
        "# convert to [rows, columns] structure\n",
        "in_seq1 = in_seq1.reshape((len(in_seq1), 1))\n",
        "in_seq2 = in_seq2.reshape((len(in_seq2), 1))\n",
        "out_seq = out_seq.reshape((len(out_seq), 1))\n",
        "# horizontally stack columns\n",
        "dataset = hstack((in_seq1, in_seq2, out_seq))\n",
        "# choose a number of time steps\n",
        "n_steps_in, n_steps_out = 3, 2\n",
        "# convert into input/output\n",
        "X, y = split_sequences(dataset, n_steps_in, n_steps_out)\n",
        "# the dataset knows the number of features, e.g. 2\n",
        "n_features = X.shape[2]\n",
        "# define model\n",
        "model = Sequential()\n",
        "model.add(Conv1D(filters=64, kernel_size=2, activation='relu', input_shape=(n_steps_in, n_features)))\n",
        "model.add(MaxPooling1D(pool_size=2))\n",
        "model.add(Flatten())\n",
        "model.add(Dense(50, activation='relu'))\n",
        "model.add(Dense(n_steps_out))\n",
        "model.compile(optimizer='adam', loss='mse')\n",
        "# fit model\n",
        "model.fit(X, y, epochs=2000, verbose=0)\n",
        "# demonstrate prediction\n",
        "x_input = array([[70, 75], [80, 85], [90, 95]])\n",
        "x_input = x_input.reshape((1, n_steps_in, n_features))\n",
        "yhat = model.predict(x_input, verbose=0)\n",
        "print(yhat)"
      ],
      "execution_count": 74,
      "outputs": [
        {
          "output_type": "stream",
          "text": [
            "[[185.55699 206.42003]]\n"
          ],
          "name": "stdout"
        }
      ]
    },
    {
      "cell_type": "markdown",
      "metadata": {
        "id": "kn_Z8a_PWziX"
      },
      "source": [
        "## Multiple Parallel Input and Multi-Step Output"
      ]
    },
    {
      "cell_type": "code",
      "metadata": {
        "id": "vModNBX9W121",
        "outputId": "4ba81d74-65df-411c-c8bb-b2212afd28ed",
        "colab": {
          "base_uri": "https://localhost:8080/"
        }
      },
      "source": [
        "# choose a number of time steps\n",
        "x_steps = 3\n",
        "y_steps = 2\n",
        "n_features = 3\n",
        "\n",
        "# split into samples\n",
        "X, y = create_dataset(df[['A', 'B', 'C']], df[['A', 'B', 'C']], x_steps, y_steps)\n",
        "y = y.reshape((y.shape[0], n_features*y_steps))\n",
        "\n",
        "# define model\n",
        "model = Sequential()\n",
        "model.add(Conv1D(filters=64, kernel_size=2, activation='relu', input_shape=(x_steps, n_features)))\n",
        "model.add(MaxPooling1D(pool_size=2))\n",
        "model.add(Flatten())\n",
        "model.add(Dense(50, activation='relu'))\n",
        "model.add(Dense(n_features*y_steps))\n",
        "model.compile(optimizer='adam', loss='mse')\n",
        "\n",
        "# fit model\n",
        "model.fit(X, y, epochs=7000, verbose=0)\n",
        "\n",
        "# demonstrate prediction\n",
        "x_input = array([[70,75,145], [80,85,165], [90,95,185]])\n",
        "x_input = x_input.reshape((1, n_steps, n_features))\n",
        "yhat = model.predict(x_input, verbose=0)\n",
        "print(yhat)"
      ],
      "execution_count": 86,
      "outputs": [
        {
          "output_type": "stream",
          "text": [
            "[[100.04027 105.0688  205.11673 110.0944  115.0468  225.21722]]\n"
          ],
          "name": "stdout"
        }
      ]
    },
    {
      "cell_type": "code",
      "metadata": {
        "id": "WCR9ElgWZivF",
        "outputId": "56e786ac-0e49-4227-aa5a-da706e202b26",
        "colab": {
          "base_uri": "https://localhost:8080/"
        }
      },
      "source": [
        "yhat.reshape((2,3))"
      ],
      "execution_count": 90,
      "outputs": [
        {
          "output_type": "execute_result",
          "data": {
            "text/plain": [
              "array([[100.04027, 105.0688 , 205.11673],\n",
              "       [110.0944 , 115.0468 , 225.21722]], dtype=float32)"
            ]
          },
          "metadata": {
            "tags": []
          },
          "execution_count": 90
        }
      ]
    }
  ]
}